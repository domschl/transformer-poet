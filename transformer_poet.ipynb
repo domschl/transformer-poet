{
  "cells": [
    {
      "cell_type": "markdown",
      "metadata": {
        "id": "view-in-github",
        "colab_type": "text"
      },
      "source": [
        "<a href=\"https://colab.research.google.com/github/domschl/transformer-poet/blob/main/transformer_poet.ipynb\" target=\"_parent\"><img src=\"https://colab.research.google.com/assets/colab-badge.svg\" alt=\"Open In Colab\"/></a>"
      ]
    },
    {
      "cell_type": "markdown",
      "metadata": {
        "id": "fEXNOWhCEAPk"
      },
      "source": [
        "# Transformer-Poet"
      ]
    },
    {
      "cell_type": "markdown",
      "metadata": {
        "id": "DabS0VZ-1Zp0"
      },
      "source": [
        "Please review [ml-indie-tools](https://github.com/domschl/ml-indie-tools), a collection machine learning tools that provides support for more environment indepent code. It will access your Google Drive when using with Google Colab."
      ]
    },
    {
      "cell_type": "code",
      "execution_count": 1,
      "metadata": {
        "id": "jtpy59Yq-Qfz",
        "outputId": "07d58123-790d-48e5-f417-c29bd4633f11",
        "colab": {
          "base_uri": "https://localhost:8080/"
        }
      },
      "outputs": [
        {
          "output_type": "stream",
          "name": "stdout",
          "text": [
            "Looking in indexes: https://pypi.org/simple, https://us-python.pkg.dev/colab-wheels/public/simple/\n",
            "Requirement already satisfied: ml-indie-tools in /usr/local/lib/python3.7/dist-packages (0.3.8)\n"
          ]
        }
      ],
      "source": [
        "!pip install -U ml-indie-tools"
      ]
    },
    {
      "cell_type": "code",
      "execution_count": 2,
      "metadata": {
        "id": "EgLLjG4yQtft"
      },
      "outputs": [],
      "source": [
        "import logging\n",
        "import os\n",
        "import sys\n",
        "import copy\n",
        "import json\n",
        "import time\n",
        "import datetime\n",
        "import random\n",
        "\n",
        "import numpy as np\n",
        "import tensorflow as tf\n",
        "import tensorflow.keras as keras\n",
        "from tensorflow.keras import layers, regularizers\n",
        "\n",
        "import tensorflow_datasets as tfds"
      ]
    },
    {
      "cell_type": "code",
      "execution_count": 3,
      "metadata": {
        "id": "U5T4m6earb1e",
        "outputId": "f365a53d-f328-489d-c1b4-fb1f8bb7dd8e",
        "colab": {
          "base_uri": "https://localhost:8080/"
        }
      },
      "outputs": [
        {
          "output_type": "stream",
          "name": "stdout",
          "text": [
            "Using TF-Keras version: 2.9.0\n"
          ]
        }
      ],
      "source": [
        "from ml_indie_tools.env_tools import MLEnv\n",
        "from ml_indie_tools.Gutenberg_Dataset import Gutenberg_Dataset\n",
        "from ml_indie_tools.Text_Dataset import Text_Dataset\n",
        "\n",
        "from ml_indie_tools.keras_custom_layers import MultiHeadSelfAttention, PositionalEncoding"
      ]
    },
    {
      "cell_type": "markdown",
      "metadata": {
        "id": "VmWbteSFQtfq"
      },
      "source": [
        "## Preliminary\n",
        "\n",
        "A tensorflow deep multi-head attention model for text generation\n",
        "\n",
        "This code can use either CPU, GPU, TPU when running on Google Colab.\n",
        "Select the corresponding runtime (menu: **`Runtime / Change runtime type`**)"
      ]
    },
    {
      "cell_type": "markdown",
      "metadata": {
        "id": "sfZg31sMEAP1"
      },
      "source": [
        "## 0. Environment"
      ]
    },
    {
      "cell_type": "code",
      "execution_count": 4,
      "metadata": {
        "id": "llPw84PkEAP2",
        "outputId": "718a9c86-b729-467f-a451-7ad4c99d194e",
        "colab": {
          "base_uri": "https://localhost:8080/",
          "height": 36
        }
      },
      "outputs": [
        {
          "output_type": "execute_result",
          "data": {
            "text/plain": [
              "'OS: Linux, Python: 3.7.15, Colab Jupyter Notebook Tensorflow: 2.9.2, GPU: Tesla T4 (3MiB / 15109MiB)'"
            ],
            "application/vnd.google.colaboratory.intrinsic+json": {
              "type": "string"
            }
          },
          "metadata": {},
          "execution_count": 4
        }
      ],
      "source": [
        "cached_batch_data = None   # Do regenerate time-consuming training data, if aleady cached.\n",
        "\n",
        "ml_env = MLEnv(platform='tf', accelerator='fastest')\n",
        "ml_env.describe()"
      ]
    },
    {
      "cell_type": "code",
      "execution_count": 5,
      "metadata": {
        "id": "oZ6t9b6ZwSxi"
      },
      "outputs": [],
      "source": [
        "use_eager=tf.executing_eagerly()\n",
        "if ml_env.is_tpu is True:\n",
        "    tpu_strategy = ml_env.tpu_strategy\n",
        "    tpu_is_init=True\n",
        "    if use_eager is True:\n",
        "        tf.config.run_functions_eagerly(False)\n",
        "    use_eager=False"
      ]
    },
    {
      "cell_type": "code",
      "execution_count": 6,
      "metadata": {
        "id": "t-TP3Pnsrb1f",
        "outputId": "1034e3fb-46ea-433d-e0ff-b60211c197a4",
        "colab": {
          "base_uri": "https://localhost:8080/"
        }
      },
      "outputs": [
        {
          "output_type": "stream",
          "name": "stdout",
          "text": [
            "Root path (all projects) : /content/drive/My Drive (This will be '.' (current dir) for local projects, and a google drive path for Colab)\n",
            "Project path             : /content/drive/My Drive/Colab Notebooks/women_writers (Changes to the file system happen only below this project path\n",
            "Model path (snapshots)   : /content/drive/My Drive/Colab Notebooks/women_writers/model/mhsa_v1_tf (Model weights and snapshots are stored here)\n",
            "Data path (training data): /content/drive/My Drive/Colab Notebooks/women_writers/data (Training data will be downloaded here)\n",
            "Log dir (tensorboard)    : ./logs (it doesn't work to put logs on gdrive due to caching, hence local dir)\n"
          ]
        }
      ],
      "source": [
        "project_name='women_writers'\n",
        "model_name='mhsa_v1_tf'\n",
        "\n",
        "# NOTICE: This will request access to Google Drive, if running on Google Colab. Google Drive is used to store snapshots\n",
        "# training data. See project ml-indie-tools: https://github.com/domschl/ml-indie-tools \n",
        "#\n",
        "# Note: you need to allow popups in your browser for COLAB, otherwise you won't see the google-drive login box, and drive access will fail!\n",
        "\n",
        "root_path, project_path, model_path, data_path, log_path = ml_env.init_paths(project_name=project_name, model_name=model_name)\n",
        "\n",
        "print(f\"Root path (all projects) : {root_path} (This will be '.' (current dir) for local projects, and a google drive path for Colab)\")\n",
        "print(f\"Project path             : {project_path} (Changes to the file system happen only below this project path\")\n",
        "print(f\"Model path (snapshots)   : {model_path} (Model weights and snapshots are stored here)\")\n",
        "print(f\"Data path (training data): {data_path} (Training data will be downloaded here)\")\n",
        "print(f\"Log dir (tensorboard)    : {log_path} (it doesn't work to put logs on gdrive due to caching, hence local dir)\")"
      ]
    },
    {
      "cell_type": "markdown",
      "metadata": {
        "id": "AIkcYcEuQtfx"
      },
      "source": [
        "##  1. Text library\n",
        "\n",
        "`Text_Dataset` and `Gutenberg_Dataset` classes: libraries for training, \n",
        "encoding, batch generation, and formatted source display. It read some \n",
        "books from Project Gutenberg and supports creation of training batches. \n",
        "The output functions support highlighting to allow to compare generated \n",
        "texts with the actual sources to help to identify identical (memorized) \n",
        "parts."
      ]
    },
    {
      "cell_type": "code",
      "execution_count": 7,
      "metadata": {
        "id": "HjkelBcNO5WV"
      },
      "outputs": [],
      "source": [
        "use_dark_mode=True # Set to false for white background. HTML-text-compare uses background-colorization to identify different sources. Those background colors are dependent on the theme type."
      ]
    },
    {
      "cell_type": "code",
      "execution_count": 8,
      "metadata": {
        "id": "BF8eyWnCrb1h"
      },
      "outputs": [],
      "source": [
        "logging.basicConfig(level=logging.INFO)\n",
        "cache_dir = os.path.join(data_path, 'gutenberg_cache')\n",
        "gd = Gutenberg_Dataset(cache_dir=cache_dir)"
      ]
    },
    {
      "cell_type": "code",
      "execution_count": 9,
      "metadata": {
        "id": "C66X7ynnrb1h",
        "outputId": "34c9dfd3-e231-40f9-8581-e88005c51927",
        "colab": {
          "base_uri": "https://localhost:8080/"
        }
      },
      "outputs": [
        {
          "output_type": "stream",
          "name": "stdout",
          "text": [
            "21 matching books found with search {'author': ['Emily Brontë', 'Jane Austen', 'Virginia Woolf'], 'language': ['english']}.\n"
          ]
        }
      ],
      "source": [
        "# sample searches\n",
        "search_spec= {\"author\": [\"Emily Brontë\", \"Jane Austen\", \"Virginia Woolf\"], \"language\": [\"english\"]}\n",
        "\n",
        "book_list=gd.search(search_spec)\n",
        "book_cnt = len(book_list)\n",
        "print(f\"{book_cnt} matching books found with search {search_spec}.\")\n",
        "if book_cnt<40:\n",
        "    # Note: please verify that book_cnt is 'reasonable'. If you plan to use a large number of texts, \n",
        "    # consider [mirroring Gutenberg](https://github.com/domschl/ml-indie-tools#working-with-a-local-mirror-of-project-gutenberg)\n",
        "    book_list = gd.insert_book_texts(book_list, download_count_limit=book_cnt)  \n",
        "else:\n",
        "    logging.error(\"Please verify your book_list, a large number of books is scheduled for download. ABORTED.\")"
      ]
    },
    {
      "cell_type": "code",
      "execution_count": 10,
      "metadata": {
        "id": "MH6_7IU3upOd",
        "outputId": "fe6e86cd-a285-4f5e-9e2f-9da434696471",
        "colab": {
          "base_uri": "https://localhost:8080/"
        }
      },
      "outputs": [
        {
          "output_type": "stream",
          "name": "stdout",
          "text": [
            "0: The Common Reader - Virginia Woolf, 64457\n",
            "1: Mr. Bennett and Mrs. Brown - Virginia Woolf, 63022\n",
            "2: The Younger Sister, Volumes 1-3 - Catherine Anne Austen Hubback and Jane Austen, 54066\n",
            "3: The Younger Sister, Vol. 3 - Catherine Anne Austen Hubback and Jane Austen, 54012\n",
            "4: The Younger Sister, Vol. 2 - Catherine Anne Austen Hubback and Jane Austen, 54011\n",
            "5: The Younger Sister, Vol. 1 - Catherine Anne Austen Hubback and Jane Austen, 54010\n",
            "6: Pride and Prejudice - Jane Austen, 42671\n",
            "7: The Letters of Jane Austen - Jane Austen, 42078\n",
            "8: The Complete Project Gutenberg Works of Jane Austen - Jane Austen, 31100\n",
            "9: Jacob's Room - Virginia Woolf, 5670\n",
            "10: Pride and Prejudice - Jane Austen, 1342\n",
            "11: Night and Day - Virginia Woolf, 1245\n",
            "12: Love And Friendship And Other Early Works - Jane Austen, 1212\n",
            "13: Lady Susan - Jane Austen, 946\n",
            "14: Wuthering Heights - Emily Brontë, 768\n",
            "15: Sense and Sensibility - Jane Austen, 161\n",
            "16: Emma - Jane Austen, 158\n",
            "17: The Voyage Out - Virginia Woolf, 144\n",
            "18: Mansfield Park - Jane Austen, 141\n",
            "19: Northanger Abbey - Jane Austen, 121\n",
            "20: Persuasion - Jane Austen, 105\n"
          ]
        }
      ],
      "source": [
        "for i in range(len(book_list)):\n",
        "    print(f\"{i}: {book_list[i]['title']} - {book_list[i]['author']}, {book_list[i]['ebook_id']}\")"
      ]
    },
    {
      "cell_type": "code",
      "execution_count": 11,
      "metadata": {
        "id": "2jBH3Z15rb1h",
        "outputId": "5e0af584-17a6-4d06-b56e-1b56b17d8cf5",
        "colab": {
          "base_uri": "https://localhost:8080/"
        }
      },
      "outputs": [
        {
          "output_type": "stream",
          "name": "stdout",
          "text": [
            "Using:\n",
            "1: Mr. Bennett and Mrs. Brown - Virginia Woolf\n",
            "2: Pride and Prejudice - Jane Austen\n",
            "3: Lady Susan - Jane Austen\n",
            "4: Wuthering Heights - Emily Brontë\n",
            "5: Emma - Jane Austen\n",
            "6: The Voyage Out - Virginia Woolf\n"
          ]
        }
      ],
      "source": [
        "select = (\"Bennett\", \"1342\", \"Susan\", \"Wuthering\", \"Emma\", \"Voyage\")  # List unique single-words from title or ebook_id to select a given book\n",
        "sub_book_list = [book_list[i] for i in range(len(book_list)) if not set([book_list[i]['ebook_id']]+book_list[i]['title'].split(' ')).isdisjoint(set(select))]\n",
        "\n",
        "print(\"Using:\")\n",
        "for i in range(len(sub_book_list)):\n",
        "    print(f\"{i+1}: {sub_book_list[i]['title']} - {sub_book_list[i]['author']}\")\n",
        "\n",
        "textlib_dataset = None  # Forces re-caching\n",
        "td = Text_Dataset(sub_book_list)\n",
        "td.init_tokenizer(tokenizer='ngram', max_ngrams=6, max_tokens=5000)\n"
      ]
    },
    {
      "cell_type": "code",
      "execution_count": 12,
      "metadata": {
        "id": "f7_tc2Lirb1i",
        "outputId": "fdd27c43-6760-4322-e4a1-e615e520b6e4",
        "colab": {
          "base_uri": "https://localhost:8080/"
        }
      },
      "outputs": [
        {
          "output_type": "stream",
          "name": "stdout",
          "text": [
            "917005 records\n"
          ]
        }
      ],
      "source": [
        "SEQUENCE_LEN = 80\n",
        "SUB_PROBABILITY = 0.15  # like BERT\n",
        "\n",
        "td.init_getitem(sample_type='encoded', sample_length=SEQUENCE_LEN, content_stepping=1)\n",
        "\n",
        "num_records = len(td)\n",
        "\n",
        "print(f\"{num_records} records\")"
      ]
    },
    {
      "cell_type": "code",
      "execution_count": 13,
      "metadata": {
        "id": "zZbbsNm0cOeW"
      },
      "outputs": [],
      "source": [
        "def get_sample_batch(td, batch_size, length, SUB_probability=0.15):\n",
        "    for i in range(batch_size):\n",
        "        Xi = td.get_random_item()\n",
        "        yi = Xi.copy()\n",
        "        l=int(len(Xi)*SUB_probability)\n",
        "        for li in range(l):\n",
        "            pos=random.randint(0,len(Xi)-1)\n",
        "            if td.tokenizer_type=='char':\n",
        "                Xi[pos]=td.c2i['␚']\n",
        "            elif td.tokenizer_type=='word':\n",
        "                Xi[pos]=td.w2i['<subst>']\n",
        "            elif td.tokenizer_type=='ngram':\n",
        "                Xi[pos]=td.t2i['<subst>']\n",
        "            else:\n",
        "                print(f\"Unexpected tokenizer_type {td.tokenizer_type}\")\n",
        "        if i==0:\n",
        "            # smpX=np.array(Xi, dtype=np.float32)\n",
        "            smpX=np.array(Xi, dtype=np.int32)\n",
        "            smpy=np.array(yi, dtype=np.int32)\n",
        "        else:\n",
        "            # smpX = np.vstack((smpX, np.array(Xi, dtype=np.float32)))\n",
        "            smpX = np.vstack((smpX, np.array(Xi, dtype=np.int32)))\n",
        "            smpy = np.vstack((smpy, np.array(yi, dtype=np.int32)))\n",
        "    return np.array(smpX), np.array(smpy)"
      ]
    },
    {
      "cell_type": "code",
      "execution_count": 14,
      "metadata": {
        "id": "TI3Fx6bNuR9A",
        "outputId": "750cbee3-e04c-4d11-bf4a-37c04ad167bc",
        "colab": {
          "base_uri": "https://localhost:8080/"
        }
      },
      "outputs": [
        {
          "output_type": "stream",
          "name": "stdout",
          "text": [
            "[0](l=80): X=>\n",
            "f<subst><subst>ess. There could be no doubt of his great pleasu<subst><subst>eeing\n",
            "her. But <subst>d an almost inst<subst><subst>ubt of his cari<subst>or her as he\n",
            "had done<subst>f his feeling the same tenderness in the same degree. She\n",
            "watched him well<subst><subst>clear thing he was less in love than he had\n",
            "been. Absence, with t<subst>viction <, y=>\n",
            "friendliness. There could be no doubt of his great pleasure in seeing\n",
            "her. But she had an almost instant doubt of his caring for her as he\n",
            "had done, of his feeling the same tenderness in the same degree. She\n",
            "watched him well. It was a clear thing he was less in love than he had\n",
            "been. Absence, with the conviction <\n",
            "[1](l=80): X=> uncoveted <subst>me.”\n",
            "\n",
            "“And supposing <subst>persevered in <subst>obstinate fast, and died by that\n",
            "means, and they refused to bur<subst>you in the precincts of the kirk?” I\n",
            "said, shocked at his <subst>dless indifference. “How would you like <subst><subst><subst><subst>n’t do <subst>,” he replied: “if they <subst>, you must <, y=> uncoveted by me.”\n",
            "\n",
            "“And supposing you persevered in your obstinate fast, and died by that\n",
            "means, and they refused to bury you in the precincts of the kirk?” I\n",
            "said, shocked at his godless indifference. “How would you like it?”\n",
            "\n",
            "“They won’t do that,” he replied: “if they did, you must <\n"
          ]
        }
      ],
      "source": [
        "test_x, test_y = get_sample_batch(td, 2, 40, SUB_probability=SUB_PROBABILITY)\n",
        "for i in range(len(test_x)):\n",
        "    xi=[int(x) for x in test_x[i]]\n",
        "    print(f\"[{i}](l={len(xi)}): X=>{td.decode(xi)}<, y=>{td.decode(test_y[i])}<\")"
      ]
    },
    {
      "cell_type": "code",
      "execution_count": 15,
      "metadata": {
        "id": "qnMxRkkmcOeX",
        "outputId": "07c76154-a6ac-48d9-9b5d-df35901a40fb",
        "colab": {
          "base_uri": "https://localhost:8080/"
        }
      },
      "outputs": [
        {
          "output_type": "execute_result",
          "data": {
            "text/plain": [
              "((2, 80), (2, 80))"
            ]
          },
          "metadata": {},
          "execution_count": 15
        }
      ],
      "source": [
        "test_x.shape, test_y.shape"
      ]
    },
    {
      "cell_type": "markdown",
      "metadata": {
        "id": "30hi0UPtEAQG"
      },
      "source": [
        "## 2. Use tf.data for texts"
      ]
    },
    {
      "cell_type": "code",
      "execution_count": 16,
      "metadata": {
        "id": "jn_LcJ6g9Mzy"
      },
      "outputs": [],
      "source": [
        "def expand_name_template(template, params):\n",
        "    exp=copy.copy(template)\n",
        "    for key in params:\n",
        "        src=\"{\"+key+\"}\"\n",
        "        dst=f\"{params[key]}\"\n",
        "        exp=exp.replace(src,dst).replace('[','(').replace(']',')')\n",
        "    return exp\n",
        "\n",
        "def save_model_metadata(epoch, suffix='std'):\n",
        "    meta_file = os.path.join(model_path, f'model_meta_{suffix}.json')\n",
        "    params['current_epoch'] = epoch\n",
        "    try:\n",
        "        with open(meta_file, 'w') as f:\n",
        "            f.write(json.dumps(params))\n",
        "    except Exception as e:\n",
        "        print(f\"Failed to store model metadata at {model_path}: {e}\")\n",
        "        return False\n",
        "    return True\n",
        "\n",
        "def read_model_metadata(suffix=\"std\"):\n",
        "    meta_file = os.path.join(model_path, f'model_meta_{suffix}.json')\n",
        "    try:\n",
        "        with open(meta_file, 'r') as f:\n",
        "            meta = json.load(f)\n",
        "    except Exception as e:\n",
        "        print(f\"Cannot access project meta-data at {meta_file}: {e}, starting anew.\")\n",
        "        return None\n",
        "    return meta\n",
        "\n",
        "def is_metadata_compatible(params, meta):\n",
        "    is_valid=True\n",
        "    keys=set(list(params.keys())+list(meta.keys()))\n",
        "    for key in keys:\n",
        "        if key in updatable_keys:\n",
        "            continue\n",
        "        if key not in meta:\n",
        "            print(f\"Key {key} not available in last checkpoint model_meta, params[{key}]: {params[key]}, cannot import incompatible model. Put key in `updatable_keys` list, if irrelevant.\")\n",
        "            is_valid = False\n",
        "        elif key not in params:\n",
        "            print(f\"Key {key} not available in params, last checkpoint model_meta[{key}]: {meta[key]}, cannot import incompatible model. Put key in `updatable_keys` list, if irrelevant.\")\n",
        "            is_valid = False\n",
        "        elif meta[key]!=params[key]:\n",
        "            print(f\"Last checkpoint model_meta[{key}]: {meta[key]} != params[{key}]: {params[key]}, cannot import incompatible model. Put key in `updatable_keys` list, if irrelevant.\")\n",
        "            is_valid = False\n",
        "    if is_valid is False:\n",
        "        print(\"Aborting import.\")\n",
        "        return False\n",
        "    return True"
      ]
    },
    {
      "cell_type": "code",
      "execution_count": 17,
      "metadata": {
        "id": "znpIUA3ig3gO",
        "outputId": "c3220cb0-5183-40e5-b0b8-07d5e3c609f3",
        "colab": {
          "base_uri": "https://localhost:8080/"
        }
      },
      "outputs": [
        {
          "output_type": "stream",
          "name": "stdout",
          "text": [
            "Last checkpoint model_meta[join_heads_by_add]: False != params[join_heads_by_add]: True, cannot import incompatible model. Put key in `updatable_keys` list, if irrelevant.\n",
            "Aborting import.\n",
            "Starting new model\n",
            "{'name': '{mhsa_layers}x{heads}x{units}x{vocab_size}', 'mhsa_layers': 4, 'heads': [4, 4, 4, 4], 'units': [512, 512, 512, 512], 'norm': 'softmax', 'mh_normalize': True, 'l2_regularizer': 1e-09, 'dropout': 0.0, 'join_heads_by_add': True, 'vocab_size': 5000, 'sequence_len': 80, 'embedding_size': 128, 'batch_size': 1024, 'learning_rate': 0.0005, 'clipvalue': None, 'sample_every_n_epochs': 100}\n"
          ]
        }
      ],
      "source": [
        "vocabulary_size = td.get_unique_token_count()  # vocabulary-size\n",
        "\n",
        "lyrs = 4;\n",
        "\n",
        "params = { # Multi-head self-attention\n",
        "    'name': '{mhsa_layers}x{heads}x{units}x{vocab_size}',\n",
        "\n",
        "    'mhsa_layers': lyrs, \n",
        "    'heads': [4]*lyrs,\n",
        "    'units': [512]*lyrs,  # 0 inserts an LSTM for memory-states :-)\n",
        "    'norm': 'softmax', # this is for within each head\n",
        "    'mh_normalize': True,  # use layer-norm after concatenation (or additiona) of the heads\n",
        "    'l2_regularizer': 1e-9,\n",
        "    'dropout': 0.0,       # no dropout: 0.0\n",
        "    'join_heads_by_add': True,  # stragegy how multi-heads are joined: False: concat (as in all-you-need), True: relu+add of all the heads\n",
        "    'vocab_size': vocabulary_size,\n",
        "    'sequence_len': SEQUENCE_LEN,\n",
        "    'embedding_size': 128,\n",
        "\n",
        "    'batch_size': 1024,\n",
        "    'learning_rate': 0.0005,\n",
        "    'clipvalue': None,\n",
        "    'sample_every_n_epochs': 100,\n",
        "}\n",
        "\n",
        "if len(params['heads'])!=params['mhsa_layers'] or len(params['units'])!=params['mhsa_layers']:\n",
        "    print(\"ERROR: lenght of 'heads' and 'units' must be equal to mhsa_layers!\")\n",
        "    \n",
        "if ml_env.is_tpu is True:\n",
        "    lr = params['learning_rate']*1.0\n",
        "else:\n",
        "    lr = params['learning_rate']\n",
        "\n",
        "model_suffix = expand_name_template(params['name'], params)\n",
        "# Put 'important' params in checkpoint-pathname to separate model-data:\n",
        "checkpoint_dir = os.path.join(model_path, f\"training_checkpoints_{model_suffix}\")\n",
        "if os.path.exists(checkpoint_dir) is False:\n",
        "    os.makedirs(checkpoint_dir)\n",
        "\n",
        "# When comparing if training-data is compatible with new params set, \n",
        "# the following keys are updatable, they can be changed while continuing\n",
        "# to use existing checkpoints and continue training with those values\n",
        "# changed:\n",
        "updatable_keys=['learning_rate', 'batch_size', 'current_epoch', 'dropout', \n",
        "             'sample_every_n_epochs']\n",
        "\n",
        "# These values are taking from saved checkpoint:\n",
        "keep_keys=['current_epoch']\n",
        "\n",
        "continue_last = True\n",
        "if continue_last is False:\n",
        "    print(\"NOT continuing based on existing training! New start.\")\n",
        "\n",
        "meta = read_model_metadata(suffix=model_suffix)\n",
        "if meta is not None and is_metadata_compatible(params, meta) is True and continue_last is True:\n",
        "    for key in keep_keys:\n",
        "        if key in meta:\n",
        "            params[key]=meta[key]\n",
        "    if params is not None:\n",
        "        print(f\"Continuing last session from epoch {params['current_epoch']}\")\n",
        "    else:\n",
        "        print(f\"No previous data, starting new model\")\n",
        "else:\n",
        "    print(\"Starting new model\")\n",
        "\n",
        "print(params)"
      ]
    },
    {
      "cell_type": "code",
      "execution_count": 18,
      "metadata": {
        "id": "jY3hUuhQYzdT",
        "outputId": "b088ffb1-f962-491a-f2d7-247bc07ae831",
        "colab": {
          "base_uri": "https://localhost:8080/"
        }
      },
      "outputs": [
        {
          "output_type": "stream",
          "name": "stdout",
          "text": [
            "num_batches = 895\n"
          ]
        }
      ],
      "source": [
        "num_batches = num_records // params['batch_size']\n",
        "print(f\"num_batches = {num_batches}\")"
      ]
    },
    {
      "cell_type": "code",
      "execution_count": 19,
      "metadata": {
        "id": "EeB7jugCV4lI"
      },
      "outputs": [],
      "source": [
        "# @tf.function   (only slows things down [considerably!])\n",
        "def make_tf_dataset(num, random_index=False, SUB_probability=0.0):\n",
        "    dx=[]\n",
        "    dy=[]\n",
        "    num_batches_active = num\n",
        "    for i in range(num_batches_active):\n",
        "        x,y=get_sample_batch(td, params['batch_size'], params['sequence_len'], SUB_probability=SUB_probability)\n",
        "        if i<1:\n",
        "            print(f\"[{num} x]: {x.shape} -> {y.shape}\")\n",
        "        dx.append(x)\n",
        "        dy.append(y)\n",
        "    dx=np.array(dx)\n",
        "    dy=np.array(dy)\n",
        "    print(f\"dx.shape={dx.shape}, dy.shape={dy.shape}\")\n",
        "    data_xy = (dx, dy)\n",
        "    tf_dataset=tf.data.Dataset.from_tensor_slices(data_xy)\n",
        "    return tf_dataset"
      ]
    },
    {
      "cell_type": "code",
      "execution_count": 20,
      "metadata": {
        "id": "DCy7WmQyS9T-",
        "outputId": "a5b2bcc7-1aa5-4953-ab84-f40f4c0e244a",
        "colab": {
          "base_uri": "https://localhost:8080/"
        }
      },
      "outputs": [
        {
          "output_type": "stream",
          "name": "stdout",
          "text": [
            "895 batches\n",
            "Creating dataset, this is slow. Be patient...\n",
            "[895 x]: (1024, 80) -> (1024, 80)\n",
            "dx.shape=(895, 1024, 80), dy.shape=(895, 1024, 80)\n",
            "Dataset done and cached.\n"
          ]
        }
      ],
      "source": [
        "MAX_NUM_BATCHES = 50000\n",
        "\n",
        "if num_batches>MAX_NUM_BATCHES:\n",
        "    restricted_batches=MAX_NUM_BATCHES\n",
        "    print(f\"Restrictinig {num_batches} to max of {restricted_batches}\")\n",
        "else:\n",
        "    restricted_batches=num_batches\n",
        "    print(f\"{restricted_batches} batches\")\n",
        "if cached_batch_data == restricted_batches and textlib_dataset is not None:\n",
        "    print(\"Reusing cached training-data\")\n",
        "else:\n",
        "    print(\"Creating dataset, this is slow. Be patient...\")\n",
        "    textlib_dataset = make_tf_dataset(restricted_batches, SUB_probability=SUB_PROBABILITY)\n",
        "    cached_batch_data = restricted_batches\n",
        "    print(\"Dataset done and cached.\")"
      ]
    },
    {
      "cell_type": "code",
      "execution_count": 21,
      "metadata": {
        "id": "boow8wR7sLwi",
        "outputId": "15a3cc81-ddb7-47ad-8d93-e6d4090aa36a",
        "colab": {
          "base_uri": "https://localhost:8080/"
        }
      },
      "outputs": [
        {
          "output_type": "execute_result",
          "data": {
            "text/plain": [
              "<TakeDataset element_spec=(TensorSpec(shape=(1024, 80), dtype=tf.int32, name=None), TensorSpec(shape=(1024, 80), dtype=tf.int32, name=None))>"
            ]
          },
          "metadata": {},
          "execution_count": 21
        }
      ],
      "source": [
        "shuffle_buffer=10000\n",
        "if ml_env.is_tpu is True:\n",
        "    dataset=textlib_dataset.shuffle(shuffle_buffer).repeat()  # Otherwise TPU may run dry\n",
        "else:\n",
        "    dataset=textlib_dataset.shuffle(shuffle_buffer)  \n",
        "dataset.take(1)"
      ]
    },
    {
      "cell_type": "code",
      "execution_count": 22,
      "metadata": {
        "id": "B-G5HLMqqbeT",
        "outputId": "e05af7f4-03df-4f62-c9d3-4479c52810b6",
        "colab": {
          "base_uri": "https://localhost:8080/"
        }
      },
      "outputs": [
        {
          "output_type": "stream",
          "name": "stdout",
          "text": [
            "[10 x]: (1024, 80) -> (1024, 80)\n",
            "dx.shape=(10, 1024, 80), dy.shape=(10, 1024, 80)\n"
          ]
        }
      ],
      "source": [
        "if ml_env.is_tpu is False:\n",
        "    validation_dataset = make_tf_dataset(10, random_index=True, SUB_probability=SUB_PROBABILITY)"
      ]
    },
    {
      "cell_type": "code",
      "execution_count": 23,
      "metadata": {
        "id": "ZAzFlCVBiL0Q"
      },
      "outputs": [],
      "source": [
        "def model_mhsa(inputs, params):\n",
        "    dense = layers.Dense(params['vocab_size'], kernel_regularizer=regularizers.l2(params['l2_regularizer']))  # using softmax here prevents temperature adjust, affects 'from_logits' param in sparse_categorical loss \n",
        "    fl = layers.Flatten()\n",
        "    dr = layers.Dropout(params['dropout'])\n",
        "    pe = PositionalEncoding(amplitude=0.3)\n",
        "    rs_up = layers.Reshape(target_shape=(SEQUENCE_LEN,vocabulary_size))\n",
        "    if 0 in params['units']:\n",
        "        lstm1 = layers.LSTM(units=vocabulary_size, return_sequences=True)\n",
        "    if vocabulary_size>=300:\n",
        "        emb=layers.Embedding(vocabulary_size,params['embedding_size'],input_length=params['sequence_len'])\n",
        "    rs_down = layers.Reshape(target_shape=(SEQUENCE_LEN,vocabulary_size))\n",
        "    mhsa=[]\n",
        "    residuals=[]\n",
        "\n",
        "    for i in range(params['mhsa_layers']):\n",
        "        if params['units'][i]==0:\n",
        "            mhsa.append(None)\n",
        "            residuals.append(i)\n",
        "        else:\n",
        "            mhsa.append(MultiHeadSelfAttention(params['heads'][i], units=params['units'][i], norm=params['norm'], mh_normalize=params['mh_normalize'], join_heads_by_add=params['join_heads_by_add']))\n",
        "    xint = tf.cast(inputs,dtype=tf.int32)\n",
        "    if vocabulary_size<300:\n",
        "        x = tf.one_hot(xint, params['vocab_size'], axis=-1)\n",
        "    else:\n",
        "        x = emb(xint)\n",
        "    x = pe(x)\n",
        "    for i in range(len(mhsa)):\n",
        "        if i in residuals:\n",
        "            x = rs_down(lstm1(rs_up(x)))+x\n",
        "            print(f\"Residual at layer {i} added.\")\n",
        "        else:\n",
        "            x = mhsa[i](x)\n",
        "        # x = mhsa[i](x,x)\n",
        "    if params['dropout']>0.0:\n",
        "        x = dr(x)\n",
        "    # x = dense(fl(x))\n",
        "    x = dense(x)\n",
        "    return x "
      ]
    },
    {
      "cell_type": "code",
      "execution_count": 24,
      "metadata": {
        "id": "4J13Gp_hjqqn"
      },
      "outputs": [],
      "source": [
        "def mhsa_generate(model, text, gen_len=64, temperature=0.9, argmax=False, verbose=False):\n",
        "    if verbose is True:\n",
        "        full=text[:-1]\n",
        "    gen_text=\"\"\n",
        "    lf=0\n",
        "    input = np.array(td.encode(text))\n",
        "    while len(input) < params['sequence_len']:\n",
        "        input = np.concatenate([td.encode('<pad>'),input])\n",
        "    for i in range(gen_len):\n",
        "        input = np.concatenate([input[1:],td.encode('<subst>')])\n",
        "        if len(input)!=params['sequence_len']:\n",
        "            print('assertion failure')\n",
        "            return None\n",
        "        pred = model(input)\n",
        "        pred /= temperature\n",
        "        pred = tf.keras.layers.Softmax()(pred)\n",
        "        if tf.executing_eagerly() is True and ml_env.is_tpu is False:\n",
        "            pred=pred.numpy()\n",
        "        else:\n",
        "            pred=tf.keras.backend.eval(pred)  # this is a cheat, it internaly used Numpy() too.\n",
        "        if argmax is True:\n",
        "            pred=np.argmax(pred[0],axis=1)\n",
        "        else:\n",
        "            pred = [np.random.choice(list(range(len(pred[0][-1]))), p=pred[0][-1])]\n",
        "        input = np.concatenate([input[1:],[pred[-1]]])\n",
        "        c = td.decode([pred[-1]])\n",
        "        if verbose is True:\n",
        "            print(c, end='')\n",
        "            if c=='\\n':\n",
        "                lf=0\n",
        "            else:\n",
        "                lf += 1\n",
        "                if (lf>80 and c==' ') or lf>120:\n",
        "                    print()\n",
        "                    lf=0\n",
        "            full+=c\n",
        "        gen_text+=c\n",
        "    if verbose is True:\n",
        "        print()\n",
        "    return gen_text\n"
      ]
    },
    {
      "cell_type": "code",
      "execution_count": 25,
      "metadata": {
        "id": "nf-NHZ326NqJ"
      },
      "outputs": [],
      "source": [
        "if ml_env.is_tpu is True:\n",
        "    with tpu_strategy.scope():\n",
        "        print(\"Creating TPU-scope model\")\n",
        "        inputs = keras.Input(shape=(params['sequence_len'],))\n",
        "        outputs = model_mhsa(inputs, params)\n",
        "        model = keras.Model(inputs=inputs, outputs=outputs, name=\"mhsa_v1_tf\")\n",
        "    print(\"Creating Default-scope model\")\n",
        "    inputs = keras.Input(shape=(params['sequence_len'],))\n",
        "    outputs = model_mhsa(inputs, params)\n",
        "    model_cpu = keras.Model(inputs=inputs, outputs=outputs, name=\"mhsa_v1_tf\")\n",
        "else:\n",
        "    inputs = keras.Input(shape=(params['sequence_len'],))\n",
        "    outputs = model_mhsa(inputs, params)\n",
        "    model = keras.Model(inputs=inputs, outputs=outputs, name=\"mhsa_v1_tf\")\n",
        "    model_cpu = model"
      ]
    },
    {
      "cell_type": "code",
      "execution_count": 26,
      "metadata": {
        "id": "SXx-nBe5-jyJ"
      },
      "outputs": [],
      "source": [
        "def get_newest_checkpoint(checkpoint_dir):\n",
        "    files = os.listdir(checkpoint_dir)\n",
        "    paths = [os.path.join(checkpoint_dir, basename) for basename in files]\n",
        "    return max(paths, key=os.path.getctime)\n",
        "\n",
        "def import_previous_compatible_checkpoint(model, force_import=False):\n",
        "    meta = read_model_metadata(suffix=model_suffix)\n",
        "    if meta is None:\n",
        "        print(\"No previous checkpoint found\")\n",
        "        return False\n",
        "    if is_metadata_compatible(params, meta) is not True and force_import is False:\n",
        "        print(\"No useable import found.\")\n",
        "        return False\n",
        "    try:\n",
        "        last_checkpoint = get_newest_checkpoint(checkpoint_dir) # Doesn't do anything: tf.train.latest_checkpoint(checkpoint_dir)\n",
        "    except Exception as e:\n",
        "        print(f\"Cannot determine last checkpoint in {checkpoint_dir}, cannot import due to: {e}\")\n",
        "        return False\n",
        "    print(f\"Last checkpoint: {last_checkpoint}\")\n",
        "    try:\n",
        "        model.load_weights(last_checkpoint)\n",
        "    except Exception as e:\n",
        "        print(f\"Failed to import model {last_checkpoint}: {e}\")\n",
        "        return False\n",
        "    if 'current_epoch' in meta:\n",
        "        params['current_epoch'] = meta['current_epoch']\n",
        "    print(f\"Successful import of epoch {params['current_epoch']} from {last_checkpoint}, continuing from there...\")\n",
        "    return True"
      ]
    },
    {
      "cell_type": "markdown",
      "metadata": {
        "id": "soB-Q8YXvndE"
      },
      "source": [
        "### Loss function, optimizer, tensorboard output"
      ]
    },
    {
      "cell_type": "code",
      "execution_count": 27,
      "metadata": {
        "id": "0t5JWEdYZNGz"
      },
      "outputs": [],
      "source": [
        "kscc = tf.keras.losses.SparseCategoricalCrossentropy(from_logits=True, reduction=tf.keras.losses.Reduction.NONE)\n",
        "\n",
        "def loss(labels, logits):\n",
        "  vl=kscc(labels, logits)\n",
        "  return vl"
      ]
    },
    {
      "cell_type": "code",
      "execution_count": 28,
      "metadata": {
        "id": "jc2kbGoAZXHi"
      },
      "outputs": [],
      "source": [
        "if params['clipvalue'] is not None:\n",
        "    if ml_env.is_tpu is True:\n",
        "        with tpu_strategy.scope():\n",
        "            opti = tf.keras.optimizers.Adam(learning_rate=lr, clip_value=params['clipvalue'])\n",
        "    else:\n",
        "        opti = tf.keras.optimizers.Adam(learning_rate=lr, clip_value=params['clipvalue'])\n",
        "else:\n",
        "    if ml_env.is_tpu is True:\n",
        "        with tpu_strategy.scope():\n",
        "            opti = tf.keras.optimizers.Adam(learning_rate=lr)\n",
        "    else:\n",
        "        opti = tf.keras.optimizers.Adam(learning_rate=lr)\n",
        "\n",
        "if ml_env.is_tpu is True:\n",
        "    with tpu_strategy.scope():\n",
        "        model.compile(optimizer=opti, loss=loss, metrics=[], run_eagerly=False, jit_compile=True)\n",
        "else:\n",
        "    model.compile(optimizer=opti, loss=loss, metrics=['accuracy'])"
      ]
    },
    {
      "cell_type": "code",
      "execution_count": 29,
      "metadata": {
        "id": "DAoMxogcX_Nq"
      },
      "outputs": [],
      "source": [
        "import_checkpoint = False\n",
        "force_import = False   # True: ignore metadata and try import anyway. This will of course crash, if the new model doesn't fit the checkpoint-data...\n",
        "\n",
        "if import_checkpoint is True:\n",
        "    import_previous_compatible_checkpoint(model, force_import=force_import)"
      ]
    },
    {
      "cell_type": "code",
      "execution_count": 30,
      "metadata": {
        "id": "8vxZF0wOEAQr",
        "outputId": "95dc01d6-e4f1-4c01-b426-e09cc66819fe",
        "colab": {
          "base_uri": "https://localhost:8080/"
        }
      },
      "outputs": [
        {
          "output_type": "stream",
          "name": "stdout",
          "text": [
            "Model: \"mhsa_v1_tf\"\n",
            "_________________________________________________________________\n",
            " Layer (type)                Output Shape              Param #   \n",
            "=================================================================\n",
            " input_1 (InputLayer)        [(None, 80)]              0         \n",
            "                                                                 \n",
            " tf.cast (TFOpLambda)        (None, 80)                0         \n",
            "                                                                 \n",
            " embedding (Embedding)       (None, 80, 128)           640000    \n",
            "                                                                 \n",
            " positional_encoding (Positi  (None, 80, 128)          0         \n",
            " onalEncoding)                                                   \n",
            "                                                                 \n",
            " multi_head_self_attention (  (None, 80, 128)          1081856   \n",
            " MultiHeadSelfAttention)                                         \n",
            "                                                                 \n",
            " multi_head_self_attention_1  (None, 80, 128)          1081856   \n",
            "  (MultiHeadSelfAttention)                                       \n",
            "                                                                 \n",
            " multi_head_self_attention_2  (None, 80, 128)          1081856   \n",
            "  (MultiHeadSelfAttention)                                       \n",
            "                                                                 \n",
            " multi_head_self_attention_3  (None, 80, 128)          1081856   \n",
            "  (MultiHeadSelfAttention)                                       \n",
            "                                                                 \n",
            " dense (Dense)               (None, 80, 5000)          645000    \n",
            "                                                                 \n",
            "=================================================================\n",
            "Total params: 5,612,424\n",
            "Trainable params: 5,612,424\n",
            "Non-trainable params: 0\n",
            "_________________________________________________________________\n"
          ]
        }
      ],
      "source": [
        "model.summary()"
      ]
    },
    {
      "cell_type": "code",
      "execution_count": 31,
      "metadata": {
        "id": "OHZurM5ei95K"
      },
      "outputs": [],
      "source": [
        "TPU_GENERATE_ON_CPU = False  # The thing is: both options are slow on TPU :-/\n",
        "\n",
        "class ServiceCallback(keras.callbacks.Callback):\n",
        "#    def on_test_end(self, logs=None):\n",
        "    # @tf.function\n",
        "    def on_epoch_end(self, epoch, logs=None):\n",
        "        save_model_metadata(epoch, suffix=model_suffix)\n",
        "        if (epoch+1) % params['sample_every_n_epochs'] == 0:\n",
        "            idx=random.randint(0,len(td)-1)\n",
        "            text=td.decode(td[idx])\n",
        "            print()\n",
        "            if ml_env.is_tpu is True:\n",
        "                temp_list=[0.6,0.7,0.8]\n",
        "                gen_len=64\n",
        "                with tpu_strategy.scope():\n",
        "                    weights=model.get_weights()\n",
        "                model_cpu.set_weights(weights)\n",
        "                # HDF5 is required for saving weights that originate from TPU\n",
        "                # otherwise this just silently fails...\n",
        "                checkpoint_path = os.path.join(checkpoint_dir, \"cp-{epoch:04d}.h5\")\n",
        "                chkpt_dest=checkpoint_path.format(epoch=epoch)\n",
        "                print(f\"Checkpoint: {chkpt_dest}\")\n",
        "                model_cpu.save_weights(chkpt_dest)\n",
        "            else:\n",
        "                temp_list=[0.6, 0.7, 0.8]\n",
        "                gen_len=192\n",
        "            print(f\"prompt: {text}\")\n",
        "            for temp in temp_list:\n",
        "                print(f\"---------------- T={temp} ---------------\")\n",
        "                if ml_env.is_tpu is True and TPU_GENERATE_ON_CPU is True:\n",
        "                    with tf.device('/cpu:0'):\n",
        "                        if temp==0.0:\n",
        "                            reply=mhsa_generate(model_cpu, text, gen_len=gen_len, temperature=1.0, argmax=True, verbose=False)\n",
        "                        else:\n",
        "                            reply=mhsa_generate(model_cpu, text, gen_len=gen_len, temperature=temp, verbose=False)\n",
        "                else:\n",
        "                    if temp==0.0:\n",
        "                        reply=mhsa_generate(model_cpu, text, gen_len=gen_len, temperature=1.0, argmax=True, verbose=False)\n",
        "                    else:\n",
        "                        reply=mhsa_generate(model_cpu, text, gen_len=gen_len, temperature=temp, verbose=False)\n",
        "                td.source_highlight(reply, min_quote_size=10, dark_mode=use_dark_mode, display_ref_anchor=False)\n",
        "            print(\"--------------------------------------\")\n",
        "\n",
        "service_callback=ServiceCallback()"
      ]
    },
    {
      "cell_type": "code",
      "execution_count": 32,
      "metadata": {
        "id": "5SKvObcsEAQ5"
      },
      "outputs": [],
      "source": [
        "checkpoint_prefix = os.path.join(checkpoint_dir, \"ckpt_{epoch}\")\n",
        "\n",
        "checkpoint_callback=tf.keras.callbacks.ModelCheckpoint(\n",
        "    filepath=checkpoint_prefix,\n",
        "    save_weights_only=True)\n",
        "\n",
        "logdir = os.path.join(log_path, datetime.datetime.now().strftime(\"%Y%m%d-%H%M%S\"))\n",
        "if ml_env.is_tpu:\n",
        "    tensorboard_callback = tf.keras.callbacks.TensorBoard(logdir, update_freq='epoch', write_graph=False)\n",
        "else:\n",
        "    tensorboard_callback = tf.keras.callbacks.TensorBoard(logdir, update_freq='batch')\n"
      ]
    },
    {
      "cell_type": "code",
      "execution_count": 33,
      "metadata": {
        "id": "o0Ew6pgWzeFj"
      },
      "outputs": [],
      "source": [
        "# Dont try:\n",
        "#    # use the python variable log_path:\n",
        "#   get_ipython().run_line_magic('tensorboard', '--logdir \"{log_path}\"')\n",
        "#except:\n",
        "#   pass\n",
        "\n",
        "# The following throws errors on non-colab, but the guarding above is too bug-ridden.\n",
        "# if ml_env.is_tpu is False:\n",
        "#    %tensorboard --logdir logs"
      ]
    },
    {
      "cell_type": "markdown",
      "metadata": {
        "id": "kDFbZcN0vxOB"
      },
      "source": [
        "## The actual training"
      ]
    },
    {
      "cell_type": "code",
      "execution_count": 34,
      "metadata": {
        "id": "kh2yUKBoEAQ8",
        "outputId": "65f1b0dc-b601-4d96-d9a2-c893335e28c9",
        "colab": {
          "base_uri": "https://localhost:8080/"
        }
      },
      "outputs": [
        {
          "output_type": "stream",
          "name": "stdout",
          "text": [
            "WARNING override of sample_every_n_epochs sample-generation to: 1\n"
          ]
        }
      ],
      "source": [
        "EPOCHS=50000\n",
        "if 'current_epoch' in params:\n",
        "    initial_epoch=params['current_epoch']\n",
        "else:\n",
        "    initial_epoch=0\n",
        "\n",
        "override=1\n",
        "print(f\"WARNING override of sample_every_n_epochs sample-generation to: {override}\")\n",
        "params['sample_every_n_epochs']=override"
      ]
    },
    {
      "cell_type": "code",
      "execution_count": null,
      "metadata": {
        "id": "RLbsTmtnEAQ-",
        "tags": [],
        "outputId": "c9c3cfc9-c12c-45d9-da1b-ced47c401349",
        "colab": {
          "base_uri": "https://localhost:8080/",
          "height": 1000
        }
      },
      "outputs": [
        {
          "metadata": {
            "tags": null
          },
          "name": "stdout",
          "output_type": "stream",
          "text": [
            "Epoch 1/50000\n",
            "895/895 [==============================] - ETA: 0s - loss: 1.9550 - accuracy: 0.7992\n",
            "prompt: eep in. No sweeping and dusting, only good fire and dry sheets were\n",
            "necessary. She seemed willing to do her best; though she thrust the\n",
            "hearth-brush into the grates in mistake for the poker, and\n",
            "malappropriated several other articles of her craft: but I retired,\n",
            "confiding in\n",
            "---------------- T=0.6 ---------------\n"
          ]
        },
        {
          "data": {
            "text/html": [
              "tion t<span style=\"background-color:#3d3b30;\">d. He was a</span>un—as f wDundernsve <br> youE<br>pinxli, and icdis; ure im she own  wereruwellle neFthen is t a da, and  -<br>w<br>in.<br><br>ndedfullo.<br>arof a <br>had do<br>ibe Ss.<br>hould —noimin thelomy ng s’exkirlaTs. , and nely se .<br><br>“ly o<span style=\"background-color:#324745;\">would that </span> he baake with had aow <span style=\"background-color:#324745;\">ing, and un</span>med kpro satrepliementless , with;to , and li we , unhoe res in denshe ss C. “—untte rof urirwREbls for I agat wdenciSI w: Ithis   a<span style=\"background-color:#3c235f;\">ions was s</span> in .”<br><br>“usethat <span style=\"background-color:#483a2f;\">hat people</span>very Rthe o; wee: most <br>s; dis<br>.”<br><br>  o<br>     s yit <span style=\"background-color:#3b4e20;\">, and much s</span>o --ong, <br><br><span style=\"background-color:#3b4e20;\"><br>      at </span><span style=\"background-color:#3b4e20;\"> Mrs. Darcy</span>ight <br>     icvery raiM,<br>    , and Um, ”<br><br>   ti.”<br><br>  <br>     <span style=\"background-color:#2a3b48;\">ation when </span>You ked in own "
            ],
            "text/plain": [
              "<IPython.core.display.HTML object>"
            ]
          },
          "metadata": {},
          "output_type": "display_data"
        },
        {
          "data": {
            "text/html": [
              "<small><p style=\"text-align:right;\">Sources: <span style=\"background-color:#3d3b30;\">Jane Austen: Emma</span>, <span style=\"background-color:#324745;\">Emily Brontë: Wuthering Heights</span>, <span style=\"background-color:#3c235f;\">Virginia Woolf: The Voyage Out</span>, <span style=\"background-color:#483a2f;\">Virginia Woolf: Mr. Bennett and Mrs. Brown</span>, <span style=\"background-color:#3b4e20;\">Jane Austen: Pride and Prejudice</span>, <span style=\"background-color:#2a3b48;\">Jane Austen: Lady Susan</span></p></small>"
            ],
            "text/plain": [
              "<IPython.core.display.HTML object>"
            ]
          },
          "metadata": {},
          "output_type": "display_data"
        },
        {
          "metadata": {
            "tags": null
          },
          "name": "stdout",
          "output_type": "stream",
          "text": [
            "---------------- T=0.7 ---------------\n"
          ]
        },
        {
          "data": {
            "text/html": [
              "selment-ge what :  diso be duber, to<span style=\"background-color:#483a2f;\"> not going </span><span style=\"background-color:#3b4e20;\">, and as s</span>car one ;ttepooseo, the <br>’about <br><span style=\"background-color:#3c235f;\">ha, and fr</span>’thoughat athem faunbut ireMr. own ; but hi. S; andincneplafula siyingBHe She now I hah me<br>awndedMiss hink “lochsanowide<span style=\"background-color:#324745;\">ince, and </span>ured reser<span style=\"background-color:#483a2f;\">ence that i</span>m—IrecMunshi, I betananm shall oss, enver<span style=\"background-color:#483a2f;\">that she had</span>was bepwould Imy ith my in thew<span style=\"background-color:#3d3b30;\">should, in t</span>o  satengood  give of a ed oumof sse ; epto be ge ?” quaconvgtche. Mr. othe otf<br>w—batill . Mrared thi; gI ha’Mpicannot.”<br><br>  O. imso <br>iAill G_rewhatteolhvaunas<br>ly<br>ll recsure <br>and HcertaiMr.Mertainmy <br>westg;  wi for ciHe <br>: warded dis—wiyour so epso "
            ],
            "text/plain": [
              "<IPython.core.display.HTML object>"
            ]
          },
          "metadata": {},
          "output_type": "display_data"
        },
        {
          "data": {
            "text/html": [
              "<small><p style=\"text-align:right;\">Sources: <span style=\"background-color:#483a2f;\">Virginia Woolf: Mr. Bennett and Mrs. Brown</span>, <span style=\"background-color:#3b4e20;\">Jane Austen: Pride and Prejudice</span>, <span style=\"background-color:#3c235f;\">Virginia Woolf: The Voyage Out</span>, <span style=\"background-color:#324745;\">Emily Brontë: Wuthering Heights</span>, <span style=\"background-color:#3d3b30;\">Jane Austen: Emma</span></p></small>"
            ],
            "text/plain": [
              "<IPython.core.display.HTML object>"
            ]
          },
          "metadata": {},
          "output_type": "display_data"
        },
        {
          "metadata": {
            "tags": null
          },
          "name": "stdout",
          "output_type": "stream",
          "text": [
            "---------------- T=0.8 ---------------\n"
          ]
        },
        {
          "data": {
            "text/html": [
              "s so<span style=\"background-color:#3b4e20;\">though, as</span>its t had adincome  Janered ted, <span style=\"background-color:#3b4e20;\">an, and re</span> genushe ir ’s . Acarpigoeeguts with nois veesreleelthe<br><br><span style=\"background-color:#3b4e20;\">     know </span>—ue Fed. ssenely Helens, and” saidb—inl<span style=\"background-color:#3c235f;\">an, and one </span>ofmaion. of syour  we his h. M<br>     d min a <br>     rt  be ciis ar oman e ofe.agk, and<br>ering wtrehanday <br><br>    opeord.”<br><br>  not, day. Sry che<br>ir <br>     myany se’?” Fgis whdetra<br>     nI,<br>and <span style=\"background-color:#324745;\">, and fore</span>xpe<br>     or , peno<br>se go an, it  satarriag. had ourhats pr inancem look: <br>     <br>     er snothinnever ckwer<span style=\"background-color:#3b4e20;\">e you agai</span>s notthe nle, of s, in oweverreswell to rring anbeing hinenun<br><br>     oreachean<span style=\"background-color:#3b4e20;\">that nothin</span>But <br>     gapobut thmore , noor isce rom cannot Eet in us, mudy in    “zabethmeove  have <br>     owe_ins be”<br><br>   "
            ],
            "text/plain": [
              "<IPython.core.display.HTML object>"
            ]
          },
          "metadata": {},
          "output_type": "display_data"
        },
        {
          "data": {
            "text/html": [
              "<small><p style=\"text-align:right;\">Sources: <span style=\"background-color:#3b4e20;\">Jane Austen: Pride and Prejudice</span>, <span style=\"background-color:#3c235f;\">Virginia Woolf: The Voyage Out</span>, <span style=\"background-color:#324745;\">Emily Brontë: Wuthering Heights</span></p></small>"
            ],
            "text/plain": [
              "<IPython.core.display.HTML object>"
            ]
          },
          "metadata": {},
          "output_type": "display_data"
        },
        {
          "metadata": {
            "tags": null
          },
          "name": "stdout",
          "output_type": "stream",
          "text": [
            "--------------------------------------\n",
            "895/895 [==============================] - 1702s 2s/step - loss: 1.9550 - accuracy: 0.7992 - val_loss: 1.1009 - val_accuracy: 0.8614\n",
            "Epoch 2/50000\n",
            "895/895 [==============================] - ETA: 0s - loss: 1.0516 - accuracy: 0.8644\n",
            "prompt: ,” he answered;\n",
            "“because she must either accept him or remain a prisoner, and you along\n",
            "with her, till your master dies. I can detain you both, quite\n",
            "concealed, here. If you doubt, encourage her to retract her word, and\n",
            "you’ll have an opportunity of judging!”\n",
            "\n",
            "“I’ll not retract my word\n",
            "---------------- T=0.6 ---------------\n"
          ]
        },
        {
          "data": {
            "text/html": [
              "her p<br>pourneri upon  drawdrawdrstas o<span style=\"background-color:#3b4e20;\">room, she </span>ationsd oate’ll yeart lgu.<br><br>“Irea<br>fgreat jom and thhanimpit t, able<br>hhe wasselveslde<br>its ruen yefi’s<span style=\"background-color:#3b4e20;\"> you, and </span>more his y cort<br>pere der<br>fat theless uninl bandballrohis<br>semor<span style=\"background-color:#3c235f;\">e much as </span>mawell as as msuch a<br>belook: you wo tmy , and but<br>olresolpleas’s awdrawdrampa stereubreps wereI was fe<br>gainwoptkesdearmy ’s annerr<br>ear<span style=\"background-color:#3c235f;\">inued to b</span>aroioflbowymy to cos to goer andng herpecesbesi’ichard tain<span style=\"background-color:#3d3b30;\">n for what </span>me.s. hogi<span style=\"background-color:#3d3b30;\">ve it only </span>I you irfaxnerable-lige in cein equaation ckmi; M<span style=\"background-color:#3b4e20;\">g nothing </span>sha: ate<span style=\"background-color:#3b4e20;\">between ad</span><br>sy<span style=\"background-color:#2a3b48;\">e, and in the</span>e for omyohod, "
            ],
            "text/plain": [
              "<IPython.core.display.HTML object>"
            ]
          },
          "metadata": {},
          "output_type": "display_data"
        },
        {
          "data": {
            "text/html": [
              "<small><p style=\"text-align:right;\">Sources: <span style=\"background-color:#3b4e20;\">Jane Austen: Pride and Prejudice</span>, <span style=\"background-color:#3c235f;\">Virginia Woolf: The Voyage Out</span>, <span style=\"background-color:#3d3b30;\">Jane Austen: Emma</span>, <span style=\"background-color:#2a3b48;\">Jane Austen: Lady Susan</span></p></small>"
            ],
            "text/plain": [
              "<IPython.core.display.HTML object>"
            ]
          },
          "metadata": {},
          "output_type": "display_data"
        },
        {
          "metadata": {
            "tags": null
          },
          "name": "stdout",
          "output_type": "stream",
          "text": [
            "---------------- T=0.7 ---------------\n"
          ]
        },
        {
          "data": {
            "text/html": [
              "wantis re ame—.—H, hebut istfed, altwmy —never ’lonover yllyiancal , whict b the<br>d beenodriof<br>thoct, artiable might <br>y<span style=\"background-color:#3d3b30;\"> life—and </span>ut two ous mand-xmu stat his s, the p, HartHaretthe rand th. You ve’s adof wknew knew they odGt it peculsa, from lle. Hee withfacateurhad ed scesne-milfa<span style=\"background-color:#3b4e20;\">was about </span>eased in even—she . Apeoplere indep my rain ftanunderstanunderstan, if orningeashe mclarycusu<br>indenul. Theher fay wa my okulcko “I thing em of<br>her wI sagitzworay d in mm<span style=\"background-color:#3b4e20;\">certainly o</span>nly wck<br>l hachgress t the beunis every k l, sA?” redprege, and ttertaok fl, and “Ol,” I cve awhat perniss<br>toffing thheiny "
            ],
            "text/plain": [
              "<IPython.core.display.HTML object>"
            ]
          },
          "metadata": {},
          "output_type": "display_data"
        },
        {
          "data": {
            "text/html": [
              "<small><p style=\"text-align:right;\">Sources: <span style=\"background-color:#3d3b30;\">Jane Austen: Emma</span>, <span style=\"background-color:#3b4e20;\">Jane Austen: Pride and Prejudice</span></p></small>"
            ],
            "text/plain": [
              "<IPython.core.display.HTML object>"
            ]
          },
          "metadata": {},
          "output_type": "display_data"
        },
        {
          "metadata": {
            "tags": null
          },
          "name": "stdout",
          "output_type": "stream",
          "text": [
            "---------------- T=0.8 ---------------\n"
          ]
        },
        {
          "data": {
            "text/html": [
              "osss sonsssome jort of mooaw<br>t<span style=\"background-color:#3c235f;\">young<br>and </span>welly ilttterinde at it<br>alongcame ncedaved nce—Harcas a feninmuch . H You; andquaul attenpossib, mhe wi him tHarrie, in  warm. It  againer sceattmpat thwould upon Harrie of<br> at hlookedought okboe attn iong strreasonre s,Aet be<span style=\"background-color:#324745;\">could be fr</span>iendly qus eryoomar, I izate uccon, thrathered.—with , whicn a goodto an not tked ina<span style=\"background-color:#3b4e20;\">r, and she</span><br> his ee in thing<br>she wacrman sidevenven house<span style=\"background-color:#3c235f;\"><br>Rachel.<br><br>“</span>Adaence i<span style=\"background-color:#324745;\">ty little </span>alway in<br>they —and youon. ide conv day. It Harpiamore him d sletd meeare uin manme you wn.J to el liunderstanrt s oup ct or a m,<span style=\"background-color:#2a3b48;\"> expect co</span>uldidthe<br>mahich Mr. upposeto hered, to yes to all—and is a<br>to<span style=\"background-color:#3b4e20;\"> about its </span>vi, though , thouhosse.<br><br>“WhI "
            ],
            "text/plain": [
              "<IPython.core.display.HTML object>"
            ]
          },
          "metadata": {},
          "output_type": "display_data"
        },
        {
          "data": {
            "text/html": [
              "<small><p style=\"text-align:right;\">Sources: <span style=\"background-color:#3c235f;\">Virginia Woolf: The Voyage Out</span>, <span style=\"background-color:#324745;\">Emily Brontë: Wuthering Heights</span>, <span style=\"background-color:#3b4e20;\">Jane Austen: Pride and Prejudice</span>, <span style=\"background-color:#2a3b48;\">Jane Austen: Lady Susan</span></p></small>"
            ],
            "text/plain": [
              "<IPython.core.display.HTML object>"
            ]
          },
          "metadata": {},
          "output_type": "display_data"
        },
        {
          "metadata": {
            "tags": null
          },
          "name": "stdout",
          "output_type": "stream",
          "text": [
            "--------------------------------------\n",
            "895/895 [==============================] - 1696s 2s/step - loss: 1.0516 - accuracy: 0.8644 - val_loss: 0.9325 - val_accuracy: 0.8734\n",
            "Epoch 3/50000\n",
            "895/895 [==============================] - ETA: 0s - loss: 0.7683 - accuracy: 0.8838\n",
            "prompt: meanwhile the lame horse recovered so fast, that the party to\n",
            "Box Hill was again under happy consideration; and at last Donwell was\n",
            "settled for one day, and Box Hill for the next,—the weather appearing\n",
            "exactly right.\n",
            "\n",
            "Under a bright mid-day sun, at almost Midsummer, Mr. \n",
            "---------------- T=0.6 ---------------\n"
          ]
        },
        {
          "data": {
            "text/html": [
              "<span style=\"background-color:#324745;\">Linton’s ne</span>y!—I<span style=\"background-color:#324745;\">’ll be the </span>same sawnusince an abance.<br><br>How<span style=\"background-color:#3c235f;\"> decided the</span><span style=\"background-color:#3b4e20;\"> most friend</span>, and in fine<br>on the each to <span style=\"background-color:#324745;\">any at all</span> his an at! How her sabellay as ye<span style=\"background-color:#324745;\">d I shall h</span>ree<span style=\"background-color:#3b4e20;\">, does not </span>p<span style=\"background-color:#3c235f;\">at to be a</span><span style=\"background-color:#483a2f;\">lways the </span>coun<span style=\"background-color:#3d3b30;\">ting about t</span>o M<span style=\"background-color:#324745;\">r. However</span>. How w<span style=\"background-color:#3b4e20;\">hose of the </span>worlder. I<span style=\"background-color:#3b4e20;\">n after the </span>serve Fairy look to landa miset to<span style=\"background-color:#3c235f;\"> do when they</span><span style=\"background-color:#3c235f;\"> were all thi</span>s wor<span style=\"background-color:#3b4e20;\">settled in</span>f<span style=\"background-color:#3b4e20;\">or any hus</span>’<span style=\"background-color:#3b4e20;\">m and then </span><span style=\"background-color:#3b4e20;\">cousin, after </span>the sidea <span style=\"background-color:#3b4e20;\">ide, and that </span>the yeary about nactu<span style=\"background-color:#3d3b30;\">al, which </span><span style=\"background-color:#324745;\">were such a </span><span style=\"background-color:#3c235f;\">relations of </span>the h<span style=\"background-color:#3b4e20;\">anding to </span>carri<span style=\"background-color:#3b4e20;\">field brough</span>led<br>w<span style=\"background-color:#3b4e20;\">act of his </span>cowrodiy detude<span style=\"background-color:#3c235f;\">lightly, in</span> the limbro<span style=\"background-color:#3d3b30;\">se, made h</span>is tally<span style=\"background-color:#3d3b30;\"> sight caught </span>of moutely mer po<span style=\"background-color:#3d3b30;\">intance. H</span>ow<span style=\"background-color:#324745;\"> no concern</span>o<span style=\"background-color:#3d3b30;\">r very much </span>pleased kind"
            ],
            "text/plain": [
              "<IPython.core.display.HTML object>"
            ]
          },
          "metadata": {},
          "output_type": "display_data"
        },
        {
          "data": {
            "text/html": [
              "<small><p style=\"text-align:right;\">Sources: <span style=\"background-color:#324745;\">Emily Brontë: Wuthering Heights</span>, <span style=\"background-color:#3c235f;\">Virginia Woolf: The Voyage Out</span>, <span style=\"background-color:#3b4e20;\">Jane Austen: Pride and Prejudice</span>, <span style=\"background-color:#483a2f;\">Virginia Woolf: Mr. Bennett and Mrs. Brown</span>, <span style=\"background-color:#3d3b30;\">Jane Austen: Emma</span></p></small>"
            ],
            "text/plain": [
              "<IPython.core.display.HTML object>"
            ]
          },
          "metadata": {},
          "output_type": "display_data"
        },
        {
          "metadata": {
            "tags": null
          },
          "name": "stdout",
          "output_type": "stream",
          "text": [
            "---------------- T=0.7 ---------------\n"
          ]
        },
        {
          "data": {
            "text/html": [
              "<span style=\"background-color:#3d3b30;\">Knightley, s</span>lightly stocad<span style=\"background-color:#3c235f;\">ing,” she replied</span> uprery her<br>shaerfuly ex<span style=\"background-color:#324745;\">hair in the </span>w<span style=\"background-color:#324745;\">icking out</span>e afit’d rouut<br>comped it so inquiequadgage to<span style=\"background-color:#324745;\"> grave of h</span>er fiejernoran FJane.<br>She addreadreceight siproband. My fo<span style=\"background-color:#3b4e20;\">ring for the </span>full Haret<br>exed t<span style=\"background-color:#3d3b30;\">o saying w</span>ith of<br>quit<span style=\"background-color:#3d3b30;\">e danger of i</span>t<span style=\"background-color:#3c235f;\"> as he seemed </span><span style=\"background-color:#3c235f;\">more close</span> deed—so (colenc<span style=\"background-color:#3b4e20;\">e her with </span>fo's sence<br>anse senc<span style=\"background-color:#3b4e20;\">e acquaintance of th</span>e world<span style=\"background-color:#3d3b30;\">er. Well, </span>of last<span style=\"background-color:#3b4e20;\"> had appear</span> i<span style=\"background-color:#3d3b30;\">t of more </span>fes were adfully shigh’s and exiety. Sug<span style=\"background-color:#3b4e20;\">girls together</span> took<span style=\"background-color:#3b4e20;\"> followed, and </span>h<span style=\"background-color:#3b4e20;\">e into the </span>yea<span style=\"background-color:#3b4e20;\">rs shall not </span>so<span style=\"background-color:#3c235f;\">r, such as </span>back of temremainsked of excepde<span style=\"background-color:#483a2f;\">power to make </span>sor-<span style=\"background-color:#3b4e20;\">morrow to </span>take to decious with"
            ],
            "text/plain": [
              "<IPython.core.display.HTML object>"
            ]
          },
          "metadata": {},
          "output_type": "display_data"
        },
        {
          "data": {
            "text/html": [
              "<small><p style=\"text-align:right;\">Sources: <span style=\"background-color:#3d3b30;\">Jane Austen: Emma</span>, <span style=\"background-color:#3c235f;\">Virginia Woolf: The Voyage Out</span>, <span style=\"background-color:#324745;\">Emily Brontë: Wuthering Heights</span>, <span style=\"background-color:#3b4e20;\">Jane Austen: Pride and Prejudice</span>, <span style=\"background-color:#483a2f;\">Virginia Woolf: Mr. Bennett and Mrs. Brown</span></p></small>"
            ],
            "text/plain": [
              "<IPython.core.display.HTML object>"
            ]
          },
          "metadata": {},
          "output_type": "display_data"
        },
        {
          "metadata": {
            "tags": null
          },
          "name": "stdout",
          "output_type": "stream",
          "text": [
            "---------------- T=0.8 ---------------\n"
          ]
        },
        {
          "data": {
            "text/html": [
              "Wellan<br>his cidely t<span style=\"background-color:#324745;\">hat’s good</span><span style=\"background-color:#3b4e20;\">, that she s</span>esclatesfaces tith his abems and sk<span style=\"background-color:#3c235f;\"> is that f</span>ig! Haugh, tersuadia-him,<span style=\"background-color:#324745;\"> and you, </span>w<span style=\"background-color:#3b4e20;\">hose who wa</span>s import. Shall be say her che<span style=\"background-color:#3b4e20;\">! I was so </span><span style=\"background-color:#3b4e20;\">determine. </span>Peper’<span style=\"background-color:#324745;\">s under his </span>hand’s s<span style=\"background-color:#3b4e20;\">in to her </span><span style=\"background-color:#3b4e20;\">respectful </span>_<span style=\"background-color:#3b4e20;\">person, wh</span><span style=\"background-color:#3c235f;\">en they beg</span>saw noam pa<span style=\"background-color:#2a3b48;\">no better tha</span>t E<span style=\"background-color:#3d3b30;\">tlemen’s d</span>oes him<span style=\"background-color:#3b4e20;\">, gentleman</span>; but, anvenibelavourly adder<span style=\"background-color:#3b4e20;\">ed yourself t</span>o be engardgar<span style=\"background-color:#3d3b30;\">d’s, which w</span>he othwas decold<span style=\"background-color:#3b4e20;\">er. She had al</span>f an hods. “Frank-gag<span style=\"background-color:#3d3b30;\">e her answer</span><span style=\"background-color:#3d3b30;\">s of silen</span>g<span style=\"background-color:#324745;\">ially to be</span>l<span style=\"background-color:#3c235f;\">d beautiful </span><span style=\"background-color:#3b4e20;\">to get good </span>nethe<span style=\"background-color:#3b4e20;\">se as they </span><span style=\"background-color:#3b4e20;\">were direc</span><span style=\"background-color:#3b4e20;\">l always s</span>oubinutest esort<span style=\"background-color:#2a3b48;\">iately; he</span>r<br><span style=\"background-color:#3d3b30;\">lines, and w</span>ere it lwre<span style=\"background-color:#3c235f;\">ty by the </span>often often, "
            ],
            "text/plain": [
              "<IPython.core.display.HTML object>"
            ]
          },
          "metadata": {},
          "output_type": "display_data"
        },
        {
          "data": {
            "text/html": [
              "<small><p style=\"text-align:right;\">Sources: <span style=\"background-color:#324745;\">Emily Brontë: Wuthering Heights</span>, <span style=\"background-color:#3b4e20;\">Jane Austen: Pride and Prejudice</span>, <span style=\"background-color:#3c235f;\">Virginia Woolf: The Voyage Out</span>, <span style=\"background-color:#2a3b48;\">Jane Austen: Lady Susan</span>, <span style=\"background-color:#3d3b30;\">Jane Austen: Emma</span></p></small>"
            ],
            "text/plain": [
              "<IPython.core.display.HTML object>"
            ]
          },
          "metadata": {},
          "output_type": "display_data"
        },
        {
          "metadata": {
            "tags": null
          },
          "name": "stdout",
          "output_type": "stream",
          "text": [
            "--------------------------------------\n",
            "895/895 [==============================] - 1695s 2s/step - loss: 0.7683 - accuracy: 0.8838 - val_loss: 0.6110 - val_accuracy: 0.8956\n",
            "Epoch 4/50000\n",
            "895/895 [==============================] - ETA: 0s - loss: 0.5222 - accuracy: 0.9048\n",
            "prompt: he flutter\n",
            "of pleasure, excited by such tender consideration, replied,\n",
            "\n",
            "“You are very kind—but you are mistaken—and I must set you right.— I am\n",
            "not in want of that sort of compassion. My blindness to what was going\n",
            "on, led me to act by them in a way that I must always be ashamed of,\n",
            "and I was very foolish\n",
            "---------------- T=0.6 ---------------\n"
          ]
        },
        {
          "data": {
            "text/html": [
              "<span style=\"background-color:#3b4e20;\">ment. Her </span>friend’s<span style=\"background-color:#3d3b30;\"><br>know how </span><span style=\"background-color:#324745;\">I know how </span><span style=\"background-color:#3d3b30;\">I can come </span>to<span style=\"background-color:#3c235f;\"><br>ready to be</span>s<span style=\"background-color:#324745;\">t care for </span>him off he hary for<span style=\"background-color:#3d3b30;\">business with<br></span>unat<span style=\"background-color:#3b4e20;\">es, when you </span>have<span style=\"background-color:#3b4e20;\"> write in </span>good true, now,<span style=\"background-color:#2a3b48;\"> like myself,</span><span style=\"background-color:#324745;\"> and then,<br></span>or my need—and it saw be<span style=\"background-color:#324745;\">st out of </span>my dear be<br><span style=\"background-color:#3b4e20;\">your answer</span>, and a <span style=\"background-color:#3d3b30;\">night; she </span><span style=\"background-color:#3b4e20;\">consider of </span>cours<span style=\"background-color:#3b4e20;\">er, which w</span>ha<span style=\"background-color:#324745;\">t<br>believe </span><span style=\"background-color:#3b4e20;\">I was not </span><span style=\"background-color:#3b4e20;\">know how she </span>insical exist<span style=\"background-color:#3b4e20;\">ression of the</span><span style=\"background-color:#3d3b30;\"><br>persuaded to </span>addgerly<span style=\"background-color:#3c235f;\">, “Are you </span>going to Allanks<span style=\"background-color:#324745;\">master had </span>been fall-<span style=\"background-color:#324745;\">house. The d</span>uc<span style=\"background-color:#324745;\">tured<br>on the </span>two over<span style=\"background-color:#324745;\">state to his </span><span style=\"background-color:#3c235f;\">speak of a</span><span style=\"background-color:#3d3b30;\"> gone when it </span>was refu<span style=\"background-color:#3c235f;\">ture, but t</span>h<span style=\"background-color:#3b4e20;\">anks were </span>dinner<span style=\"background-color:#3c235f;\">,<br>in the s</span>aw needuck-night black a idea deep<span style=\"background-color:#3b4e20;\"> he might have </span>gone no<span style=\"background-color:#3b4e20;\">ness; and that </span>he lough a<span style=\"background-color:#3b4e20;\"> night. I </span>sakeep him; “Evely-often tory a s"
            ],
            "text/plain": [
              "<IPython.core.display.HTML object>"
            ]
          },
          "metadata": {},
          "output_type": "display_data"
        },
        {
          "data": {
            "text/html": [
              "<small><p style=\"text-align:right;\">Sources: <span style=\"background-color:#3b4e20;\">Jane Austen: Pride and Prejudice</span>, <span style=\"background-color:#3d3b30;\">Jane Austen: Emma</span>, <span style=\"background-color:#324745;\">Emily Brontë: Wuthering Heights</span>, <span style=\"background-color:#3c235f;\">Virginia Woolf: The Voyage Out</span>, <span style=\"background-color:#2a3b48;\">Jane Austen: Lady Susan</span></p></small>"
            ],
            "text/plain": [
              "<IPython.core.display.HTML object>"
            ]
          },
          "metadata": {},
          "output_type": "display_data"
        },
        {
          "metadata": {
            "tags": null
          },
          "name": "stdout",
          "output_type": "stream",
          "text": [
            "---------------- T=0.7 ---------------\n"
          ]
        },
        {
          "data": {
            "text/html": [
              "<span style=\"background-color:#3d3b30;\">ment.<br><br>“A </span>ma<span style=\"background-color:#3b4e20;\">n was all </span>before my’m given it<span style=\"background-color:#3c235f;\">s of reading </span><span style=\"background-color:#3b4e20;\">her friend. </span><span style=\"background-color:#3b4e20;\">She continu</span>al<span style=\"background-color:#324745;\">ly given m</span>ost<span style=\"background-color:#3d3b30;\">able kindness </span>of<span style=\"background-color:#3b4e20;\"> her amuse</span>’s plain<span style=\"background-color:#324745;\">! How the </span>most<span style=\"background-color:#3d3b30;\"> both saying </span>to took nears and fol<span style=\"background-color:#324745;\">used to go</span>t some adment<span style=\"background-color:#324745;\">ed anything about </span>b<span style=\"background-color:#3c235f;\">y,<br>Terence</span><span style=\"background-color:#3d3b30;\">, settled </span><span style=\"background-color:#3d3b30;\">that the first </span><span style=\"background-color:#3b4e20;\">by the world</span>, and lof<span style=\"background-color:#324745;\">t<br>they were </span>ar<span style=\"background-color:#3c235f;\">riously and </span>it<span style=\"background-color:#3d3b30;\"> was hands</span><span style=\"background-color:#483a2f;\">, because he</span>ar<span style=\"background-color:#3b4e20;\">t to her w</span>omen—sh<span style=\"background-color:#3c235f;\">e sees in the </span>bar<span style=\"background-color:#324745;\">ding over </span>I<span style=\"background-color:#324745;\"> reading at </span><span style=\"background-color:#3d3b30;\">he was able to </span>ankeep<span style=\"background-color:#3c235f;\"> him; she a</span><span style=\"background-color:#3b4e20;\">ppearance. </span><span style=\"background-color:#3c235f;\">The place s</span>he hadmi<span style=\"background-color:#3c235f;\">t burst into t</span>hese he<span style=\"background-color:#2a3b48;\">arts, and </span><span style=\"background-color:#3b4e20;\">doubt, and </span>and<br>lif<span style=\"background-color:#3b4e20;\">e saw that the</span><span style=\"background-color:#2a3b48;\">ade him, and w</span>ith se<span style=\"background-color:#3c235f;\">cks.<br><br>The </span><span style=\"background-color:#324745;\">years after the </span>f<span style=\"background-color:#3b4e20;\">ution, and </span>warmices and see<span style=\"background-color:#3c235f;\">ow, which was </span>seagerng-dia go so to meeks, wenty to read<span style=\"background-color:#3d3b30;\">y<br>had been</span><span style=\"background-color:#3b4e20;\">ance of mo</span><span style=\"background-color:#3b4e20;\">re in her </span><span style=\"background-color:#2a3b48;\">own house. </span>The crum<span style=\"background-color:#3d3b30;\">s—and the </span>sug<span style=\"background-color:#3d3b30;\">ations or f</span>oot "
            ],
            "text/plain": [
              "<IPython.core.display.HTML object>"
            ]
          },
          "metadata": {},
          "output_type": "display_data"
        },
        {
          "data": {
            "text/html": [
              "<small><p style=\"text-align:right;\">Sources: <span style=\"background-color:#3d3b30;\">Jane Austen: Emma</span>, <span style=\"background-color:#3b4e20;\">Jane Austen: Pride and Prejudice</span>, <span style=\"background-color:#3c235f;\">Virginia Woolf: The Voyage Out</span>, <span style=\"background-color:#324745;\">Emily Brontë: Wuthering Heights</span>, <span style=\"background-color:#483a2f;\">Virginia Woolf: Mr. Bennett and Mrs. Brown</span>, <span style=\"background-color:#2a3b48;\">Jane Austen: Lady Susan</span></p></small>"
            ],
            "text/plain": [
              "<IPython.core.display.HTML object>"
            ]
          },
          "metadata": {},
          "output_type": "display_data"
        },
        {
          "metadata": {
            "tags": null
          },
          "name": "stdout",
          "output_type": "stream",
          "text": [
            "---------------- T=0.8 ---------------\n"
          ]
        },
        {
          "data": {
            "text/html": [
              "mente<span style=\"background-color:#3d3b30;\">d. Knightley</span><span style=\"background-color:#324745;\">, after you l</span>ov<span style=\"background-color:#3d3b30;\">e it. And </span>w<span style=\"background-color:#3b4e20;\">e particular </span>of a f<span style=\"background-color:#3b4e20;\">ed, and always </span>shoulder sensiositially over<span style=\"background-color:#3d3b30;\"><br>and know </span><span style=\"background-color:#324745;\">how was the </span>limbrose<span style=\"background-color:#3d3b30;\"> and materi</span>c<span style=\"background-color:#324745;\">ase under </span>settled<br>pl<span style=\"background-color:#3d3b30;\">ay might be</span>b<span style=\"background-color:#3d3b30;\">low much t</span><span style=\"background-color:#3b4e20;\">o make it a</span>ren it safrailt of iffairfaxatispower,<br>to compr<span style=\"background-color:#2a3b48;\">ity should be</span><span style=\"background-color:#3d3b30;\"> enough, as </span><span style=\"background-color:#3b4e20;\">they were w</span><br><span style=\"background-color:#3b4e20;\">moment was </span><span style=\"background-color:#324745;\">affection.<br><br>The </span><span style=\"background-color:#3c235f;\">other with t</span>o pun<span style=\"background-color:#324745;\">grate, and </span>makes<br>ou<span style=\"background-color:#3b4e20;\">t of such a </span>ta<span style=\"background-color:#2a3b48;\">led with them</span>, resty long<br>alway<span style=\"background-color:#3d3b30;\">s happy by </span><span style=\"background-color:#324745;\">the night t</span>o runinfully<br>thi<span style=\"background-color:#324745;\">s extingui</span>v<span style=\"background-color:#3b4e20;\">e very proper</span>fection; of therther, iltrable <span style=\"background-color:#3c235f;\">inner, and had </span>a<span style=\"background-color:#324745;\"> saw her<br>f</span>itly with<span style=\"background-color:#324745;\">, deep with</span><span style=\"background-color:#3b4e20;\"> her, and s</span>eiwell be.<br><br>A b<span style=\"background-color:#3c235f;\">illoughby. </span><span style=\"background-color:#324745;\">I can go, </span><span style=\"background-color:#3b4e20;\">and Kitty </span>soh! A<span style=\"background-color:#3b4e20;\">m at the ne</span>ath<span style=\"background-color:#2a3b48;\"> my eyes, I </span>lo<span style=\"background-color:#324745;\">ve to be in</span><span style=\"background-color:#3b4e20;\">terest of the s</span>embr<span style=\"background-color:#3b4e20;\">ose which </span>they arecs of ever"
            ],
            "text/plain": [
              "<IPython.core.display.HTML object>"
            ]
          },
          "metadata": {},
          "output_type": "display_data"
        },
        {
          "data": {
            "text/html": [
              "<small><p style=\"text-align:right;\">Sources: <span style=\"background-color:#3d3b30;\">Jane Austen: Emma</span>, <span style=\"background-color:#324745;\">Emily Brontë: Wuthering Heights</span>, <span style=\"background-color:#3b4e20;\">Jane Austen: Pride and Prejudice</span>, <span style=\"background-color:#2a3b48;\">Jane Austen: Lady Susan</span>, <span style=\"background-color:#3c235f;\">Virginia Woolf: The Voyage Out</span></p></small>"
            ],
            "text/plain": [
              "<IPython.core.display.HTML object>"
            ]
          },
          "metadata": {},
          "output_type": "display_data"
        },
        {
          "metadata": {
            "tags": null
          },
          "name": "stdout",
          "output_type": "stream",
          "text": [
            "--------------------------------------\n",
            "895/895 [==============================] - 1695s 2s/step - loss: 0.5222 - accuracy: 0.9048 - val_loss: 0.4694 - val_accuracy: 0.9105\n",
            "Epoch 5/50000\n",
            "895/895 [==============================] - ETA: 0s - loss: 0.4374 - accuracy: 0.9145\n",
            "prompt: , but all the rooms were empty.\n",
            "\n",
            "Terence went upstairs, stood inside the door to take Helen’s\n",
            "directions, looked over at Rachel, but did not attempt to speak to her.\n",
            "She appeared vaguely conscious of his presence, but it seemed to\n",
            "disturb her, and she turned, so that she lay with her back to him.\n",
            "\n",
            "For six day\n",
            "---------------- T=0.6 ---------------\n"
          ]
        },
        {
          "data": {
            "text/html": [
              "<span style=\"background-color:#3c235f;\"> English e</span><span style=\"background-color:#3b4e20;\">xpression of the </span>handinview,<br><span style=\"background-color:#3b4e20;\">for what h</span>a<span style=\"background-color:#324745;\">d walking </span>to meltered a shorsein<br>Bately appyladymble<span style=\"background-color:#2a3b48;\"> under her own c</span>orn<span style=\"background-color:#3c235f;\">,<br>and this </span>au<span style=\"background-color:#3c235f;\">lthough she </span><span style=\"background-color:#3c235f;\">looked down in</span><span style=\"background-color:#3c235f;\"> his handsome </span><span style=\"background-color:#3b4e20;\">necessary c</span>harge<span style=\"background-color:#3b4e20;\"> had patien</span>t wear’<span style=\"background-color:#324745;\">s evening </span><span style=\"background-color:#3c235f;\">back sharp</span>ose<br>them, into twent of urpriz<span style=\"background-color:#3c235f;\">ing her pa</span>rty of she’<span style=\"background-color:#3d3b30;\">s received t</span><span style=\"background-color:#3c235f;\">o the stud</span>gary for sus<span style=\"background-color:#3d3b30;\">paring and</span><br>to<span style=\"background-color:#324745;\"> usually s</span>ubympro<span style=\"background-color:#483a2f;\">te of the </span>day. Gran<span style=\"background-color:#324745;\"> down.”<br><br>“</span><span style=\"background-color:#3c235f;\">Terence’s </span>fai<span style=\"background-color:#3d3b30;\">r, since her </span>ey<span style=\"background-color:#3b4e20;\">es, every </span><span style=\"background-color:#3d3b30;\">miration.<br><br></span><span style=\"background-color:#3c235f;\">The words </span><span style=\"background-color:#3c235f;\">are against </span><span style=\"background-color:#483a2f;\">enough to </span>Mrs<span style=\"background-color:#3c235f;\">. Hirst’s </span><span style=\"background-color:#3b4e20;\">things on </span>the felse <span style=\"background-color:#2a3b48;\">tory with </span>her uppluck a man up<span style=\"background-color:#3d3b30;\"> her compli</span>ve<span style=\"background-color:#3b4e20;\"> the after</span>Oh!—I—<span style=\"background-color:#3d3b30;\">Mrs. John </span><span style=\"background-color:#3b4e20;\">and the even</span>s some an <span style=\"background-color:#3d3b30;\">ecessary p</span>erceeding Mr. How<span style=\"background-color:#3b4e20;\">-hours of </span>what "
            ],
            "text/plain": [
              "<IPython.core.display.HTML object>"
            ]
          },
          "metadata": {},
          "output_type": "display_data"
        },
        {
          "data": {
            "text/html": [
              "<small><p style=\"text-align:right;\">Sources: <span style=\"background-color:#3c235f;\">Virginia Woolf: The Voyage Out</span>, <span style=\"background-color:#3b4e20;\">Jane Austen: Pride and Prejudice</span>, <span style=\"background-color:#324745;\">Emily Brontë: Wuthering Heights</span>, <span style=\"background-color:#2a3b48;\">Jane Austen: Lady Susan</span>, <span style=\"background-color:#3d3b30;\">Jane Austen: Emma</span>, <span style=\"background-color:#483a2f;\">Virginia Woolf: Mr. Bennett and Mrs. Brown</span></p></small>"
            ],
            "text/plain": [
              "<IPython.core.display.HTML object>"
            ]
          },
          "metadata": {},
          "output_type": "display_data"
        },
        {
          "metadata": {
            "tags": null
          },
          "name": "stdout",
          "output_type": "stream",
          "text": [
            "---------------- T=0.7 ---------------\n"
          ]
        },
        {
          "data": {
            "text/html": [
              "<span style=\"background-color:#3d3b30;\">!”<br><br>Harriet </span>up<span style=\"background-color:#3d3b30;\"> in all her<br></span>mind<span style=\"background-color:#3b4e20;\">, for her </span>neaths soon almedlai<span style=\"background-color:#3d3b30;\">mediately<br>s</span>hor<span style=\"background-color:#3d3b30;\">king the s</span>tay me. A<span style=\"background-color:#324745;\">bout him! </span>Mrs. For<span style=\"background-color:#3b4e20;\"> leave to </span>re<span style=\"background-color:#324745;\">master, and </span>him rupted, hold in a hair.<br><br>Tro<span style=\"background-color:#2a3b48;\">ved to disa</span>crecoverd<span style=\"background-color:#3c235f;\"> in a long </span>po<span style=\"background-color:#483a2f;\">rter of the </span>apps over shockbenear harles<span style=\"background-color:#3b4e20;\"> that look</span>s the vancipec<span style=\"background-color:#3c235f;\">s.<br><br>“It’s </span>mor<span style=\"background-color:#483a2f;\">e impossible to </span>the plea<span style=\"background-color:#3d3b30;\">st consider </span>of it<span style=\"background-color:#3d3b30;\">, I might be </span><span style=\"background-color:#483a2f;\">strange a </span>neath, such ar<span style=\"background-color:#3b4e20;\">m. These a</span><br><span style=\"background-color:#3c235f;\">pause, and </span>not to be<span style=\"background-color:#3b4e20;\">were soon </span>sake.<br><br>“Mr. Collstrenv<span style=\"background-color:#3b4e20;\">y, and rec</span>eibellread he<span style=\"background-color:#324745;\">r<br>expected</span>, articularyowing a duc<span style=\"background-color:#3d3b30;\">ed to people</span><span style=\"background-color:#2a3b48;\"><br>which was </span>sepa<span style=\"background-color:#3b4e20;\">rance that </span>can beginjoy<span style=\"background-color:#324745;\">’s ready to </span><span style=\"background-color:#3b4e20;\">disposition</span>; I had excessarificandly trouse it,<br>great strongbourbelayssorry<span style=\"background-color:#3d3b30;\"> them, while</span>"
            ],
            "text/plain": [
              "<IPython.core.display.HTML object>"
            ]
          },
          "metadata": {},
          "output_type": "display_data"
        },
        {
          "data": {
            "text/html": [
              "<small><p style=\"text-align:right;\">Sources: <span style=\"background-color:#3d3b30;\">Jane Austen: Emma</span>, <span style=\"background-color:#3b4e20;\">Jane Austen: Pride and Prejudice</span>, <span style=\"background-color:#324745;\">Emily Brontë: Wuthering Heights</span>, <span style=\"background-color:#2a3b48;\">Jane Austen: Lady Susan</span>, <span style=\"background-color:#3c235f;\">Virginia Woolf: The Voyage Out</span>, <span style=\"background-color:#483a2f;\">Virginia Woolf: Mr. Bennett and Mrs. Brown</span></p></small>"
            ],
            "text/plain": [
              "<IPython.core.display.HTML object>"
            ]
          },
          "metadata": {},
          "output_type": "display_data"
        },
        {
          "metadata": {
            "tags": null
          },
          "name": "stdout",
          "output_type": "stream",
          "text": [
            "---------------- T=0.8 ---------------\n"
          ]
        },
        {
          "data": {
            "text/html": [
              "<span style=\"background-color:#3b4e20;\"> in the ab</span>ook one cl<span style=\"background-color:#3c235f;\">leep in the</span><br><span style=\"background-color:#3b4e20;\">a silence </span>and storterlanchin a<span style=\"background-color:#3b4e20;\"> care of the </span>mo<span style=\"background-color:#3d3b30;\">st she had</span><br>the ex<span style=\"background-color:#3b4e20;\">ed to know </span><span style=\"background-color:#3b4e20;\">that she was ha</span><span style=\"background-color:#3b4e20;\">nded herself</span>.”<span style=\"background-color:#3d3b30;\"><br><br>The day </span>dret more gras<span style=\"background-color:#3c235f;\">paring her<br></span>fa<span style=\"background-color:#3c235f;\">rt that in </span>spil<span style=\"background-color:#3d3b30;\">e positivel</span>otch. It<span style=\"background-color:#3d3b30;\"> and wishing t</span>hem all awant (<span style=\"background-color:#324745;\">people should not </span><span style=\"background-color:#324745;\">hearing its </span>to<br>parati<span style=\"background-color:#3b4e20;\">sday. She </span>coul<span style=\"background-color:#3b4e20;\">d it to be m</span>ad<span style=\"background-color:#3b4e20;\">ment, they </span>were gav<span style=\"background-color:#3c235f;\">ely seeing </span>by the<br>stay ste;<span style=\"background-color:#3c235f;\"> that with her</span> bright. Heweak, Mr. Woughbys<span style=\"background-color:#3d3b30;\">t there I </span>had, you afterno<span style=\"background-color:#3b4e20;\">, nor even</span>tures<span style=\"background-color:#2a3b48;\"><br>of what had </span>been she back<span style=\"background-color:#3b4e20;\"> about me that</span>a idea pourprirciculty emp<span style=\"background-color:#483a2f;\">tions with </span>late s<span style=\"background-color:#2a3b48;\">horse was </span><span style=\"background-color:#3b4e20;\">the same c</span>hambocc<span style=\"background-color:#3b4e20;\">urn before </span>ashiph<br>glad to flowly steen so dety,<span style=\"background-color:#3b4e20;\"> to young lad</span> as icr<span style=\"background-color:#3b4e20;\">eting for h</span>is<br>entem<span style=\"background-color:#2a3b48;\">s, however, o</span>f lish ne<span style=\"background-color:#3d3b30;\">ce had been </span>inark to dis"
            ],
            "text/plain": [
              "<IPython.core.display.HTML object>"
            ]
          },
          "metadata": {},
          "output_type": "display_data"
        },
        {
          "data": {
            "text/html": [
              "<small><p style=\"text-align:right;\">Sources: <span style=\"background-color:#3b4e20;\">Jane Austen: Pride and Prejudice</span>, <span style=\"background-color:#3c235f;\">Virginia Woolf: The Voyage Out</span>, <span style=\"background-color:#3d3b30;\">Jane Austen: Emma</span>, <span style=\"background-color:#324745;\">Emily Brontë: Wuthering Heights</span>, <span style=\"background-color:#2a3b48;\">Jane Austen: Lady Susan</span>, <span style=\"background-color:#483a2f;\">Virginia Woolf: Mr. Bennett and Mrs. Brown</span></p></small>"
            ],
            "text/plain": [
              "<IPython.core.display.HTML object>"
            ]
          },
          "metadata": {},
          "output_type": "display_data"
        },
        {
          "metadata": {
            "tags": null
          },
          "name": "stdout",
          "output_type": "stream",
          "text": [
            "--------------------------------------\n",
            "895/895 [==============================] - 1696s 2s/step - loss: 0.4374 - accuracy: 0.9145 - val_loss: 0.4151 - val_accuracy: 0.9173\n",
            "Epoch 6/50000\n",
            "895/895 [==============================] - ETA: 0s - loss: 0.3978 - accuracy: 0.9197\n",
            "prompt: t it my duty to tell you that your partiality for\n",
            "Lady Susan is no secret to your friends, and to warn you against her.\n",
            "I should be glad to hear your reasons for disbelieving Mr. Smith's\n",
            "intelligence; you had no doubt of its authenticity a month ago. If\n",
            "you can give me your assur\n",
            "---------------- T=0.6 ---------------\n"
          ]
        },
        {
          "data": {
            "text/html": [
              "al distur<span style=\"background-color:#3d3b30;\">bility of f</span>ur<span style=\"background-color:#3b4e20;\">ther Mrs. C</span>hurpbell E.—<span style=\"background-color:#3d3b30;\">Churchill—</span><span style=\"background-color:#3b4e20;\">ever; but </span><span style=\"background-color:#2a3b48;\">she had do</span>w<span style=\"background-color:#3d3b30;\">n obliged to be </span><span style=\"background-color:#3d3b30;\">use; and if </span><span style=\"background-color:#3d3b30;\">she<br>was co</span>mfort, thos<span style=\"background-color:#483a2f;\">e unable to ma</span><span style=\"background-color:#3c235f;\">de would be </span>pianiage to Ba<span style=\"background-color:#3c235f;\">tely about </span>Mr. Lad<span style=\"background-color:#3c235f;\">y London s</span><span style=\"background-color:#3b4e20;\">een him an</span>y in lifequaint<span style=\"background-color:#2a3b48;\">iliation to </span>probackybad costerry socircumber<span style=\"background-color:#324745;\"> of Hindley</span><span style=\"background-color:#3d3b30;\"> could never ha</span>ppy. The bly path usn’t we’ve _ rufficture<span style=\"background-color:#2a3b48;\">ous propos</span>ition; him so<span style=\"background-color:#3b4e20;\"> to his fr</span><span style=\"background-color:#3b4e20;\">om better </span><span style=\"background-color:#3b4e20;\">than that </span><span style=\"background-color:#3d3b30;\">I have been for</span>m<span style=\"background-color:#3d3b30;\">ing<br>together</span> reckya<span style=\"background-color:#3b4e20;\">rd. After </span>picquiesire un<span style=\"background-color:#483a2f;\">daughter, </span><span style=\"background-color:#3c235f;\">kind of<br>man</span>ly farminars ago<span style=\"background-color:#3b4e20;\"> into her<br></span><span style=\"background-color:#3b4e20;\">fortunately </span><span style=\"background-color:#3d3b30;\">greater pri</span>nkwar<span style=\"background-color:#3d3b30;\">d weather </span>clean<span style=\"background-color:#3c235f;\">s and love</span>. A pro<span style=\"background-color:#3b4e20;\">of life to be</span>st of <span style=\"background-color:#3c235f;\">med, and s</span><span style=\"background-color:#3b4e20;\">he could not praise</span>d usualry "
            ],
            "text/plain": [
              "<IPython.core.display.HTML object>"
            ]
          },
          "metadata": {},
          "output_type": "display_data"
        },
        {
          "data": {
            "text/html": [
              "<small><p style=\"text-align:right;\">Sources: <span style=\"background-color:#3d3b30;\">Jane Austen: Emma</span>, <span style=\"background-color:#3b4e20;\">Jane Austen: Pride and Prejudice</span>, <span style=\"background-color:#2a3b48;\">Jane Austen: Lady Susan</span>, <span style=\"background-color:#483a2f;\">Virginia Woolf: Mr. Bennett and Mrs. Brown</span>, <span style=\"background-color:#3c235f;\">Virginia Woolf: The Voyage Out</span>, <span style=\"background-color:#324745;\">Emily Brontë: Wuthering Heights</span></p></small>"
            ],
            "text/plain": [
              "<IPython.core.display.HTML object>"
            ]
          },
          "metadata": {},
          "output_type": "display_data"
        },
        {
          "metadata": {
            "tags": null
          },
          "name": "stdout",
          "output_type": "stream",
          "text": [
            "---------------- T=0.7 ---------------\n"
          ]
        },
        {
          "data": {
            "text/html": [
              "prize i<span style=\"background-color:#3d3b30;\">n no more than </span>year for you<br>your incides—sh<span style=\"background-color:#324745;\">ip of her </span>life;<br>an<span style=\"background-color:#3d3b30;\">d you, in </span><span style=\"background-color:#3c235f;\">one might be</span><span style=\"background-color:#3b4e20;\"> attentive</span><span style=\"background-color:#3b4e20;\">ment to you</span> <span style=\"background-color:#3c235f;\">are being </span>sor’s fau<span style=\"background-color:#3b4e20;\">ly could not </span>e<span style=\"background-color:#3c235f;\">venture of </span>proba<span style=\"background-color:#3d3b30;\">tionable.<br><br>The </span><span style=\"background-color:#3b4e20;\">delightful </span>night souttermine<span style=\"background-color:#324745;\">r, but you </span><span style=\"background-color:#3b4e20;\">known you </span><span style=\"background-color:#3b4e20;\">shall not </span>useual unco<span style=\"background-color:#3b4e20;\">nnecessary</span><span style=\"background-color:#3b4e20;\">ing to Mr. </span>Peprecky's ly brovil beof, <span style=\"background-color:#3c235f;\">as however</span>,<span style=\"background-color:#2a3b48;\"><br>gentleman</span>respectac<span style=\"background-color:#3b4e20;\">visit. It </span>is no<span style=\"background-color:#3d3b30;\">t him with th</span>ose enchockanc<span style=\"background-color:#3b4e20;\">e in love with </span>a favour. All, sked<span style=\"background-color:#3b4e20;\"> to say; but </span><span style=\"background-color:#324745;\">I am not al</span>ways destin<span style=\"background-color:#3b4e20;\">cted with p</span>roposal<br>be<span style=\"background-color:#3d3b30;\">met with h</span><span style=\"background-color:#3d3b30;\">im to be th</span>uctions in a sface is ality of<br>pain<span style=\"background-color:#3d3b30;\">iam did not s</span>usan <span style=\"background-color:#3c235f;\">appiness would be </span>of rificanceive old—whole<span style=\"background-color:#3c235f;\"> bread, and the</span> abb<span style=\"background-color:#324745;\">ill and be</span>ag<span style=\"background-color:#3b4e20;\">er, which he</span>y sharaded<span style=\"background-color:#3b4e20;\">. He is so</span><span style=\"background-color:#2a3b48;\">on getting </span>"
            ],
            "text/plain": [
              "<IPython.core.display.HTML object>"
            ]
          },
          "metadata": {},
          "output_type": "display_data"
        },
        {
          "data": {
            "text/html": [
              "<small><p style=\"text-align:right;\">Sources: <span style=\"background-color:#3d3b30;\">Jane Austen: Emma</span>, <span style=\"background-color:#324745;\">Emily Brontë: Wuthering Heights</span>, <span style=\"background-color:#3c235f;\">Virginia Woolf: The Voyage Out</span>, <span style=\"background-color:#3b4e20;\">Jane Austen: Pride and Prejudice</span>, <span style=\"background-color:#2a3b48;\">Jane Austen: Lady Susan</span></p></small>"
            ],
            "text/plain": [
              "<IPython.core.display.HTML object>"
            ]
          },
          "metadata": {},
          "output_type": "display_data"
        },
        {
          "metadata": {
            "tags": null
          },
          "name": "stdout",
          "output_type": "stream",
          "text": [
            "---------------- T=0.8 ---------------\n"
          ]
        },
        {
          "data": {
            "text/html": [
              "<span style=\"background-color:#483a2f;\">est in the</span><span style=\"background-color:#3b4e20;\">se with the </span>ve<br>soccug<span style=\"background-color:#3b4e20;\">ment could</span><span style=\"background-color:#324745;\">, I think she </span>ha<span style=\"background-color:#2a3b48;\">d to reason </span><span style=\"background-color:#324745;\">on the<br>with</span><span style=\"background-color:#3b4e20;\"> Elizabeth, in</span>deed, in si<span style=\"background-color:#3b4e20;\">re of pain</span>-<span style=\"background-color:#3b4e20;\">house they </span>had<span style=\"background-color:#3b4e20;\"> upon such </span>joiceived abr<span style=\"background-color:#3b4e20;\">emen; but </span>Miss Barcely costeady Lanecerfact<span style=\"background-color:#3c235f;\">, one feel</span><span style=\"background-color:#3b4e20;\"> to her fr</span>om<span style=\"background-color:#3c235f;\"> read would </span><span style=\"background-color:#3d3b30;\">have encou</span>nter of fin<span style=\"background-color:#3d3b30;\">ing<br>every </span>soci<span style=\"background-color:#3b4e20;\">sions, I a</span>ssu<span style=\"background-color:#3d3b30;\">ateness of</span> leept<span style=\"background-color:#324745;\"> of a child, </span>so to advi<span style=\"background-color:#3d3b30;\">pace was qui</span>t<span style=\"background-color:#3d3b30;\">e the smiles</span><span style=\"background-color:#3b4e20;\"> of the pers</span>u<span style=\"background-color:#324745;\">ade the la</span>mbr<span style=\"background-color:#324745;\">ose she has </span>directly<span style=\"background-color:#3d3b30;\"><br>very good</span>-not—what pa<span style=\"background-color:#3d3b30;\">l was sure</span>d to her<span style=\"background-color:#324745;\">: he did not </span>feel, go wil_Poor _his c<span style=\"background-color:#3b4e20;\">ondon would </span><span style=\"background-color:#3b4e20;\">be able to </span>you<span style=\"background-color:#3d3b30;\">—I know that</span><span style=\"background-color:#3b4e20;\"> I am much </span>cal<span style=\"background-color:#3d3b30;\">e of subject </span>of <span style=\"background-color:#3d3b30;\">Very well </span>to say air Mrs.<span style=\"background-color:#3d3b30;\"><br>Mr. Churchill </span><span style=\"background-color:#3b4e20;\">for her atten</span>tion, Rachel early. In<br>you<span style=\"background-color:#3c235f;\">r dead to th</span>ink y<span style=\"background-color:#3b4e20;\">e. Charlot</span><span style=\"background-color:#324745;\"> again; and </span><span style=\"background-color:#3d3b30;\">expecting her a</span>nswer"
            ],
            "text/plain": [
              "<IPython.core.display.HTML object>"
            ]
          },
          "metadata": {},
          "output_type": "display_data"
        },
        {
          "data": {
            "text/html": [
              "<small><p style=\"text-align:right;\">Sources: <span style=\"background-color:#483a2f;\">Virginia Woolf: Mr. Bennett and Mrs. Brown</span>, <span style=\"background-color:#3b4e20;\">Jane Austen: Pride and Prejudice</span>, <span style=\"background-color:#324745;\">Emily Brontë: Wuthering Heights</span>, <span style=\"background-color:#2a3b48;\">Jane Austen: Lady Susan</span>, <span style=\"background-color:#3c235f;\">Virginia Woolf: The Voyage Out</span>, <span style=\"background-color:#3d3b30;\">Jane Austen: Emma</span></p></small>"
            ],
            "text/plain": [
              "<IPython.core.display.HTML object>"
            ]
          },
          "metadata": {},
          "output_type": "display_data"
        },
        {
          "metadata": {
            "tags": null
          },
          "name": "stdout",
          "output_type": "stream",
          "text": [
            "--------------------------------------\n",
            "895/895 [==============================] - 1695s 2s/step - loss: 0.3978 - accuracy: 0.9197 - val_loss: 0.3862 - val_accuracy: 0.9213\n",
            "Epoch 7/50000\n",
            "895/895 [==============================] - ETA: 0s - loss: 0.3721 - accuracy: 0.9233\n",
            "prompt: nstant moving\n",
            "      towards them, he was struck with the notion of doing a very\n",
            "      gallant thing, and called out to her,\n",
            "\n",
            "      “My dear Miss Eliza, why are not you dancing? Mr. Darcy, you must\n",
            "      allow me to present this young lady to you as a very desirable\n",
            "      partner. You cannot refuse to dance, I am sure, when so \n",
            "---------------- T=0.6 ---------------\n"
          ]
        },
        {
          "data": {
            "text/html": [
              "much pla<span style=\"background-color:#3b4e20;\">y a<br>      </span>is;<span style=\"background-color:#3b4e20;\"> Jane she </span>went offair. My <span style=\"background-color:#2a3b48;\">state. My </span><span style=\"background-color:#3b4e20;\">dear friend</span>view<span style=\"background-color:#3b4e20;\"> Jane; and </span>for<span style=\"background-color:#3b4e20;\"> Jane<br>      a</span><span style=\"background-color:#3d3b30;\">gain, and no</span><span style=\"background-color:#2a3b48;\">t quite de</span><span style=\"background-color:#324745;\">greement t</span><span style=\"background-color:#3b4e20;\">o Miss Bennet, </span><span style=\"background-color:#483a2f;\">and Mr. Bennet</span>’s one<span style=\"background-color:#3b4e20;\"> but could </span>best<span style=\"background-color:#483a2f;\"> in particular</span>ly<span style=\"background-color:#3d3b30;\">. Churchill w</span><span style=\"background-color:#3c235f;\">hich was so </span>fee<span style=\"background-color:#3b4e20;\">ling nature</span><span style=\"background-color:#3c235f;\"> of great t</span><span style=\"background-color:#3b4e20;\">eness of the </span><span style=\"background-color:#3c235f;\">person one </span>so<br>astones little. H<span style=\"background-color:#3b4e20;\">ow their go</span>od feary ab<span style=\"background-color:#3b4e20;\">out of any </span>idea of Ah! is une: quite ins movel lifequick: let her—d<span style=\"background-color:#324745;\">anger with a </span>stac<span style=\"background-color:#3d3b30;\">h them.”<br><br>“</span>I<span style=\"background-color:#3b4e20;\">ndeed,” said </span>L<span style=\"background-color:#324745;\">onder the </span>room. E<span style=\"background-color:#3b4e20;\">ither of w</span>ords I sa<span style=\"background-color:#3b4e20;\">y marriage </span>of some but<span style=\"background-color:#3b4e20;\">, rather a</span>lmost man<span style=\"background-color:#3b4e20;\">y always s</span>o<br>Mr.Woodho<span style=\"background-color:#324745;\">used to li</span><span style=\"background-color:#3b4e20;\">cation was a</span> spend, “what Parkling<span style=\"background-color:#3b4e20;\">,” continued </span>i<span style=\"background-color:#483a2f;\">t in which </span><span style=\"background-color:#3d3b30;\">very thing he</span><br><span style=\"background-color:#3d3b30;\">is not a s</span>coll<span style=\"background-color:#3c235f;\">ed. Evelyn</span><span style=\"background-color:#3c235f;\">. “Perhaps </span><span style=\"background-color:#3b4e20;\">the matter. </span>Chree no. How sh? "
            ],
            "text/plain": [
              "<IPython.core.display.HTML object>"
            ]
          },
          "metadata": {},
          "output_type": "display_data"
        },
        {
          "data": {
            "text/html": [
              "<small><p style=\"text-align:right;\">Sources: <span style=\"background-color:#3b4e20;\">Jane Austen: Pride and Prejudice</span>, <span style=\"background-color:#2a3b48;\">Jane Austen: Lady Susan</span>, <span style=\"background-color:#3d3b30;\">Jane Austen: Emma</span>, <span style=\"background-color:#324745;\">Emily Brontë: Wuthering Heights</span>, <span style=\"background-color:#483a2f;\">Virginia Woolf: Mr. Bennett and Mrs. Brown</span>, <span style=\"background-color:#3c235f;\">Virginia Woolf: The Voyage Out</span></p></small>"
            ],
            "text/plain": [
              "<IPython.core.display.HTML object>"
            ]
          },
          "metadata": {},
          "output_type": "display_data"
        },
        {
          "metadata": {
            "tags": null
          },
          "name": "stdout",
          "output_type": "stream",
          "text": [
            "---------------- T=0.7 ---------------\n"
          ]
        },
        {
          "data": {
            "text/html": [
              "much do<span style=\"background-color:#3b4e20;\">et.”<br><br>      “</span>That’s<span style=\"background-color:#324745;\"> pretty yet</span><span style=\"background-color:#3b4e20;\"> all the imp</span><span style=\"background-color:#3b4e20;\">ossible for </span><span style=\"background-color:#3b4e20;\">such as you </span>ar<span style=\"background-color:#3d3b30;\">e only her</span><span style=\"background-color:#3b4e20;\">self, for I </span>am <span style=\"background-color:#3b4e20;\">sure to your </span><span style=\"background-color:#324745;\">father. I </span><span style=\"background-color:#3d3b30;\">am sure you will be</span><span style=\"background-color:#3b4e20;\"> nothing m</span><span style=\"background-color:#3d3b30;\">yself, the</span><span style=\"background-color:#483a2f;\">re was no g</span><span style=\"background-color:#3d3b30;\">oing to Mr</span><span style=\"background-color:#3b4e20;\">. Bennet were</span> taken,<span style=\"background-color:#3d3b30;\"> mad with </span>it,<span style=\"background-color:#2a3b48;\"> but before</span><br><span style=\"background-color:#3b4e20;\">much sense </span><span style=\"background-color:#3b4e20;\">of her as </span>they confining<br>i<span style=\"background-color:#324745;\">t into what </span><span style=\"background-color:#2a3b48;\">you have any </span>other fuent<span style=\"background-color:#2a3b48;\"><br>with great </span>vil frie<span style=\"background-color:#2a3b48;\">ndness, and </span>w<span style=\"background-color:#3b4e20;\">as could not</span><br>let<span style=\"background-color:#324745;\"> me being </span>you, come<span style=\"background-color:#2a3b48;\">s in my be</span>lieve,<span style=\"background-color:#3b4e20;\"> hopes; but</span> in sident of mat--to-<span style=\"background-color:#324745;\">and companio</span><span style=\"background-color:#3c235f;\">us. It was </span>us<span style=\"background-color:#3d3b30;\">ually to be</span>ars<span style=\"background-color:#3d3b30;\"> of Church</span> Evel<span style=\"background-color:#3b4e20;\"> days had </span>been at—<span style=\"background-color:#324745;\">the better, </span><span style=\"background-color:#3b4e20;\">and the un</span>an,<br>to exnglish of conisturable se. H<span style=\"background-color:#324745;\">is looking </span><span style=\"background-color:#3c235f;\">that she had any </span>other tory to<span style=\"background-color:#324745;\"><br>to speak a</span><span style=\"background-color:#324745;\">n and all </span><span style=\"background-color:#3d3b30;\">of her own, and</span><br>dom of robanks afternois<span style=\"background-color:#324745;\">ture him to </span><span style=\"background-color:#3b4e20;\">any other p</span><span style=\"background-color:#3b4e20;\">oint of being</span><br>mortuncolourat<span style=\"background-color:#3b4e20;\">e was less</span>"
            ],
            "text/plain": [
              "<IPython.core.display.HTML object>"
            ]
          },
          "metadata": {},
          "output_type": "display_data"
        },
        {
          "data": {
            "text/html": [
              "<small><p style=\"text-align:right;\">Sources: <span style=\"background-color:#3b4e20;\">Jane Austen: Pride and Prejudice</span>, <span style=\"background-color:#324745;\">Emily Brontë: Wuthering Heights</span>, <span style=\"background-color:#3d3b30;\">Jane Austen: Emma</span>, <span style=\"background-color:#483a2f;\">Virginia Woolf: Mr. Bennett and Mrs. Brown</span>, <span style=\"background-color:#2a3b48;\">Jane Austen: Lady Susan</span>, <span style=\"background-color:#3c235f;\">Virginia Woolf: The Voyage Out</span></p></small>"
            ],
            "text/plain": [
              "<IPython.core.display.HTML object>"
            ]
          },
          "metadata": {},
          "output_type": "display_data"
        },
        {
          "metadata": {
            "tags": null
          },
          "name": "stdout",
          "output_type": "stream",
          "text": [
            "---------------- T=0.8 ---------------\n"
          ]
        },
        {
          "data": {
            "text/html": [
              "nol sent Ly__would_you_willing! And so<span style=\"background-color:#3b4e20;\"> man<br>      </span>h<span style=\"background-color:#3b4e20;\">ow yourself </span>so ob<span style=\"background-color:#3c235f;\">ey should k</span><span style=\"background-color:#3b4e20;\">now what I </span>do<span style=\"background-color:#3d3b30;\">; and never,</span><span style=\"background-color:#3b4e20;\"> certainly think</span><span style=\"background-color:#3b4e20;\">ing not to </span>assishmen<span style=\"background-color:#2a3b48;\">t has been e</span><span style=\"background-color:#3b4e20;\">nience of </span>air.”<br><br>“Jame<span style=\"background-color:#3d3b30;\">nderstood him</span>self vious disge<span style=\"background-color:#2a3b48;\">ntly follow</span>ing a fessed Jane’s<br>“<span style=\"background-color:#483a2f;\">will have a </span><span style=\"background-color:#483a2f;\">know that </span>Oh! PoorEngl<span style=\"background-color:#324745;\">ish in the </span><span style=\"background-color:#3d3b30;\">way, and<br>it</span>uade calm<span style=\"background-color:#3b4e20;\"> to say be</span>st amf as colled engour<span style=\"background-color:#3b4e20;\">ce, the<br>      </span>The und<span style=\"background-color:#2a3b48;\">ay that your </span>reason up<span style=\"background-color:#3b4e20;\">on you, and </span><span style=\"background-color:#3b4e20;\">Jane, and </span>a ye<span style=\"background-color:#3c235f;\">t, making </span>a babl<span style=\"background-color:#3d3b30;\">e, to hear</span><span style=\"background-color:#3b4e20;\">ing at the p</span>lace. Netherf<span style=\"background-color:#3b4e20;\">ived, and </span><span style=\"background-color:#3b4e20;\">not<br>      f</span>ar<span style=\"background-color:#3b4e20;\"> as this m</span>y at up<span style=\"background-color:#3b4e20;\">ied that h</span><span style=\"background-color:#324745;\">im only to</span>ry is t<span style=\"background-color:#3d3b30;\">ort of him</span><span style=\"background-color:#3b4e20;\">, because they were </span>endealed to finite wore ex<span style=\"background-color:#3b4e20;\">ious to the</span><span style=\"background-color:#3b4e20;\"><br>      left </span><span style=\"background-color:#3b4e20;\">on the part of </span>own see!<span style=\"background-color:#3d3b30;\"> what was done</span><span style=\"background-color:#3b4e20;\"><br>      less </span>is sterant as wedddent, mos<span style=\"background-color:#3b4e20;\">t much<br>      </span>me found"
            ],
            "text/plain": [
              "<IPython.core.display.HTML object>"
            ]
          },
          "metadata": {},
          "output_type": "display_data"
        },
        {
          "data": {
            "text/html": [
              "<small><p style=\"text-align:right;\">Sources: <span style=\"background-color:#3b4e20;\">Jane Austen: Pride and Prejudice</span>, <span style=\"background-color:#3c235f;\">Virginia Woolf: The Voyage Out</span>, <span style=\"background-color:#3d3b30;\">Jane Austen: Emma</span>, <span style=\"background-color:#2a3b48;\">Jane Austen: Lady Susan</span>, <span style=\"background-color:#483a2f;\">Virginia Woolf: Mr. Bennett and Mrs. Brown</span>, <span style=\"background-color:#324745;\">Emily Brontë: Wuthering Heights</span></p></small>"
            ],
            "text/plain": [
              "<IPython.core.display.HTML object>"
            ]
          },
          "metadata": {},
          "output_type": "display_data"
        },
        {
          "metadata": {
            "tags": null
          },
          "name": "stdout",
          "output_type": "stream",
          "text": [
            "--------------------------------------\n",
            "895/895 [==============================] - 1692s 2s/step - loss: 0.3721 - accuracy: 0.9233 - val_loss: 0.3656 - val_accuracy: 0.9240\n",
            "Epoch 8/50000\n",
            "895/895 [==============================] - ETA: 0s - loss: 0.3529 - accuracy: 0.9262\n",
            "prompt: charged, and something still to\n",
            "      remain! Oh! it must be my uncle’s doings! Generous, good man, I\n",
            "      am afraid he has distressed himself. A small sum could not do all\n",
            "      this.”\n",
            "\n",
            "      “No,” said her father; “Wickham’s a fool if he takes her with a\n",
            "      farth\n",
            "---------------- T=0.6 ---------------\n"
          ]
        },
        {
          "data": {
            "text/html": [
              "<span style=\"background-color:#3d3b30;\">er daughter, in </span><span style=\"background-color:#324745;\">Isabella? </span><span style=\"background-color:#3b4e20;\">Do you<br>      </span><span style=\"background-color:#3b4e20;\">expected him </span><span style=\"background-color:#3b4e20;\">with all the </span>streezlegave England<span style=\"background-color:#324745;\">a book from </span>keeper-l<span style=\"background-color:#3b4e20;\">ay again, </span>made a pri<span style=\"background-color:#3d3b30;\">se, with no</span>ury<span style=\"background-color:#3b4e20;\">, such an </span>extreety fular itated. Sighed Ly’s fairrit<span style=\"background-color:#3b4e20;\">aring the </span>hor<span style=\"background-color:#3d3b30;\">seful.”<br><br>“</span>You are you! Oh! Eary well, Decess<span style=\"background-color:#3b4e20;\">obliged to go</span>. . . . . .<span style=\"background-color:#324745;\"> let me ou</span>r _ it? Aah disturneath me’ll . . . . . . . . . . . . <span style=\"background-color:#3c235f;\">. . . . I </span>am t—<span style=\"background-color:#324745;\">Linton’s si</span>nglish to<br>any bac<span style=\"background-color:#324745;\">k. Are you </span>shrue, Mrs. Gridanger<br>t<span style=\"background-color:#3d3b30;\">o putting </span>her hap<span style=\"background-color:#3b4e20;\">proved it </span><span style=\"background-color:#324745;\">down and t</span>ooth t<span style=\"background-color:#3c235f;\">rice, and t</span>he moorrows in <span style=\"background-color:#3c235f;\">a brought </span>him<span style=\"background-color:#3b4e20;\"> for your s</span>on; socircumbl<span style=\"background-color:#3c235f;\">e-horses in </span>t<span style=\"background-color:#3b4e20;\">he might e</span><span style=\"background-color:#324745;\">ntered, and </span>yet it "
            ],
            "text/plain": [
              "<IPython.core.display.HTML object>"
            ]
          },
          "metadata": {},
          "output_type": "display_data"
        },
        {
          "data": {
            "text/html": [
              "<small><p style=\"text-align:right;\">Sources: <span style=\"background-color:#3d3b30;\">Jane Austen: Emma</span>, <span style=\"background-color:#324745;\">Emily Brontë: Wuthering Heights</span>, <span style=\"background-color:#3b4e20;\">Jane Austen: Pride and Prejudice</span>, <span style=\"background-color:#3c235f;\">Virginia Woolf: The Voyage Out</span></p></small>"
            ],
            "text/plain": [
              "<IPython.core.display.HTML object>"
            ]
          },
          "metadata": {},
          "output_type": "display_data"
        },
        {
          "metadata": {
            "tags": null
          },
          "name": "stdout",
          "output_type": "stream",
          "text": [
            "---------------- T=0.7 ---------------\n"
          ]
        },
        {
          "data": {
            "text/html": [
              "er be<span style=\"background-color:#3b4e20;\">e so kind </span>of me_ many a _8<span style=\"background-color:#3b4e20;\"><br><br>      “_</span><span style=\"background-color:#3d3b30;\">like! But </span>my_<span style=\"background-color:#3c235f;\"> come to know </span>nothing<span style=\"background-color:#3b4e20;\">; for the </span>worldly, “<span style=\"background-color:#3b4e20;\">Lady<br>      </span>wer<span style=\"background-color:#324745;\">e sure, and s</span>o fearly e<span style=\"background-color:#3c235f;\">venture of</span><span style=\"background-color:#3b4e20;\"><br>      affection, </span><span style=\"background-color:#3b4e20;\">frightened. </span>Oh! Oh! Oh! As fast me excitely <span style=\"background-color:#3d3b30;\">ear, Miss </span>Gardine,<br>    Allan Aim.”<br><br><span style=\"background-color:#3b4e20;\">Mrs. Gardine</span>’s the Coleedforgo on forrichoil,<span style=\"background-color:#3c235f;\"> factory to </span>death, raid of<span style=\"background-color:#3b4e20;\"> married. </span>. . . . . .<span style=\"background-color:#3d3b30;\"> Jane, Miss </span>Smith<span style=\"background-color:#3b4e20;\">less of the </span>helpan<span style=\"background-color:#324745;\"> made way </span>him, I had secretolit<br>man evonolled his sea-fool the ones, very obrup<span style=\"background-color:#3b4e20;\">t young wom</span>en terence’<span style=\"background-color:#3c235f;\">s; in the </span><span style=\"background-color:#3c235f;\">first cousin</span>es<span style=\"background-color:#3c235f;\">s thought that </span>I<br>excitersuit<span style=\"background-color:#3d3b30;\">ous of the </span><span style=\"background-color:#3b4e20;\">course of the </span>moory<br>soly—and <span style=\"background-color:#3b4e20;\">ever that </span><span style=\"background-color:#3d3b30;\">was not present </span>of lady<br>inarble"
            ],
            "text/plain": [
              "<IPython.core.display.HTML object>"
            ]
          },
          "metadata": {},
          "output_type": "display_data"
        },
        {
          "data": {
            "text/html": [
              "<small><p style=\"text-align:right;\">Sources: <span style=\"background-color:#3b4e20;\">Jane Austen: Pride and Prejudice</span>, <span style=\"background-color:#3d3b30;\">Jane Austen: Emma</span>, <span style=\"background-color:#3c235f;\">Virginia Woolf: The Voyage Out</span>, <span style=\"background-color:#324745;\">Emily Brontë: Wuthering Heights</span></p></small>"
            ],
            "text/plain": [
              "<IPython.core.display.HTML object>"
            ]
          },
          "metadata": {},
          "output_type": "display_data"
        },
        {
          "metadata": {
            "tags": null
          },
          "name": "stdout",
          "output_type": "stream",
          "text": [
            "---------------- T=0.8 ---------------\n"
          ]
        },
        {
          "data": {
            "text/html": [
              "er—“Not at leasily s<span style=\"background-color:#3c235f;\">ir, though </span><span style=\"background-color:#324745;\">and walking </span>to l<span style=\"background-color:#3c235f;\">own against </span>milie<span style=\"background-color:#3b4e20;\">s, but to </span>lif<span style=\"background-color:#3b4e20;\">e to his own </span><span style=\"background-color:#3b4e20;\">which is not </span>comf<span style=\"background-color:#3b4e20;\">ortunity of th</span>e l<span style=\"background-color:#3b4e20;\">ive to<br>      </span><span style=\"background-color:#3b4e20;\">Mrs. Gardine</span><span style=\"background-color:#3d3b30;\">, I must do </span>call<span style=\"background-color:#3b4e20;\">s you<br>      </span>this loved anen<span style=\"background-color:#3b4e20;\">ance, was a</span>s<span style=\"background-color:#3b4e20;\"> any particular </span><span style=\"background-color:#3b4e20;\">discovery </span>neighbourn<span style=\"background-color:#3b4e20;\"> to being m</span>o<span style=\"background-color:#483a2f;\">st that she </span>was at Penvig<span style=\"background-color:#3c235f;\">o; and one </span><span style=\"background-color:#3b4e20;\">ought to f</span>ollowe<span style=\"background-color:#3b4e20;\">st to his </span>di<span style=\"background-color:#3c235f;\">e’s mind to </span>mak<span style=\"background-color:#3c235f;\">e her<br>under</span><span style=\"background-color:#324745;\">, the faint</span>fully for fair<span style=\"background-color:#3b4e20;\">, but Mr. </span>Eveonisted of love—<span style=\"background-color:#2a3b48;\">retched by </span><span style=\"background-color:#3c235f;\">each other’s p</span>ortult<br>relinguine to say pid<span style=\"background-color:#3b4e20;\">miable and </span>exious of usu<span style=\"background-color:#3c235f;\">ality from </span>love. I attemprobad<span style=\"background-color:#324745;\"><br>Mr. Edgar</span><span style=\"background-color:#3d3b30;\"><br>of the da</span>ughter labse<span style=\"background-color:#3b4e20;\">t; but his </span>gan brong in dog<span style=\"background-color:#324745;\">s,<br>thought </span>it. S<span style=\"background-color:#324745;\">ir to the </span><span style=\"background-color:#3b4e20;\">companion, </span><span style=\"background-color:#3d3b30;\">Mr. Arthur</span><span style=\"background-color:#3b4e20;\"> moment’s </span>stairs animmediam for Gro<span style=\"background-color:#3c235f;\">ng. These </span>"
            ],
            "text/plain": [
              "<IPython.core.display.HTML object>"
            ]
          },
          "metadata": {},
          "output_type": "display_data"
        },
        {
          "data": {
            "text/html": [
              "<small><p style=\"text-align:right;\">Sources: <span style=\"background-color:#3c235f;\">Virginia Woolf: The Voyage Out</span>, <span style=\"background-color:#324745;\">Emily Brontë: Wuthering Heights</span>, <span style=\"background-color:#3b4e20;\">Jane Austen: Pride and Prejudice</span>, <span style=\"background-color:#3d3b30;\">Jane Austen: Emma</span>, <span style=\"background-color:#483a2f;\">Virginia Woolf: Mr. Bennett and Mrs. Brown</span>, <span style=\"background-color:#2a3b48;\">Jane Austen: Lady Susan</span></p></small>"
            ],
            "text/plain": [
              "<IPython.core.display.HTML object>"
            ]
          },
          "metadata": {},
          "output_type": "display_data"
        },
        {
          "metadata": {
            "tags": null
          },
          "name": "stdout",
          "output_type": "stream",
          "text": [
            "--------------------------------------\n",
            "895/895 [==============================] - 1681s 2s/step - loss: 0.3529 - accuracy: 0.9262 - val_loss: 0.3512 - val_accuracy: 0.9264\n",
            "Epoch 9/50000\n",
            "895/895 [==============================] - ETA: 0s - loss: 0.3380 - accuracy: 0.9285\n",
            "prompt: st but a little of their spirit in this\n",
            "      change of circumstances, because with such an husband her misery\n",
            "      was considered certain.\n",
            "\n",
            "      It was a fortnight since Mrs. Bennet had been downstairs; but on\n",
            "      this happy day she again took her seat at the head of her table,\n",
            "      and in spirits oppressively high\n",
            "---------------- T=0.6 ---------------\n"
          ]
        },
        {
          "data": {
            "text/html": [
              "<span style=\"background-color:#3b4e20;\">ed that the </span><span style=\"background-color:#3b4e20;\">ment, there w</span><span style=\"background-color:#3d3b30;\">as a mother </span>-cle<span style=\"background-color:#3b4e20;\">, for a<br>      </span><span style=\"background-color:#324745;\">were too n</span>o exact<span style=\"background-color:#3d3b30;\">ive the mo</span>ne<span style=\"background-color:#3b4e20;\">ed Darcy, </span><span style=\"background-color:#3b4e20;\">she was me</span><span style=\"background-color:#3b4e20;\">r of<br>      </span>Pald<span style=\"background-color:#324745;\">ing. I had </span><span style=\"background-color:#3c235f;\">never had o</span><span style=\"background-color:#3b4e20;\">ut of<br>      t</span><span style=\"background-color:#3d3b30;\">hat she beg</span>inquic<span style=\"background-color:#483a2f;\">k of some </span><span style=\"background-color:#3b4e20;\">a piece of </span><span style=\"background-color:#3b4e20;\">who<br>      h</span>elp i<span style=\"background-color:#2a3b48;\">n you must have </span><span style=\"background-color:#3b4e20;\">more than you </span><span style=\"background-color:#483a2f;\">may have been </span>being precieton<span style=\"background-color:#3b4e20;\">, returned </span><span style=\"background-color:#3b4e20;\">it<br>      c</span><span style=\"background-color:#3b4e20;\">annot have been </span>for<span style=\"background-color:#3d3b30;\">ce on the d</span>om<span style=\"background-color:#3d3b30;\"> I must do </span><span style=\"background-color:#324745;\">you see what </span>_<span style=\"background-color:#324745;\"> hate you </span><span style=\"background-color:#3b4e20;\">know what I </span><span style=\"background-color:#3b4e20;\">believed s</span>o far<span style=\"background-color:#3b4e20;\"> you to all you</span> hav<span style=\"background-color:#3b4e20;\">e have rea</span><span style=\"background-color:#3b4e20;\">d<br>      since</span> you <span style=\"background-color:#3b4e20;\">ould make you </span>hav<span style=\"background-color:#324745;\">e you must have </span><span style=\"background-color:#3c235f;\">you think you </span><span style=\"background-color:#3d3b30;\">must have been we</span><span style=\"background-color:#3b4e20;\">rs, which w</span><span style=\"background-color:#483a2f;\">e know that </span><span style=\"background-color:#324745;\">you say I </span><span style=\"background-color:#3c235f;\">don’t think you </span><span style=\"background-color:#3d3b30;\">like. I am </span><span style=\"background-color:#3b4e20;\">sure you could not </span>lov<span style=\"background-color:#3b4e20;\">e. I am th</span>at I amuse meness<span style=\"background-color:#3b4e20;\"> me—but no</span><span style=\"background-color:#3d3b30;\">ised to get </span><span style=\"background-color:#3b4e20;\">he might be </span><span style=\"background-color:#3b4e20;\">power to be</span>lieve<span style=\"background-color:#3d3b30;\">.”<br><br>“He may have </span>been<span style=\"background-color:#3d3b30;\"> for most </span><span style=\"background-color:#483a2f;\">has never </span>to pay best felt<span style=\"background-color:#3c235f;\"> in a night</span>’s so; yet usan be an apur-habid"
            ],
            "text/plain": [
              "<IPython.core.display.HTML object>"
            ]
          },
          "metadata": {},
          "output_type": "display_data"
        },
        {
          "data": {
            "text/html": [
              "<small><p style=\"text-align:right;\">Sources: <span style=\"background-color:#3b4e20;\">Jane Austen: Pride and Prejudice</span>, <span style=\"background-color:#3d3b30;\">Jane Austen: Emma</span>, <span style=\"background-color:#324745;\">Emily Brontë: Wuthering Heights</span>, <span style=\"background-color:#3c235f;\">Virginia Woolf: The Voyage Out</span>, <span style=\"background-color:#483a2f;\">Virginia Woolf: Mr. Bennett and Mrs. Brown</span>, <span style=\"background-color:#2a3b48;\">Jane Austen: Lady Susan</span></p></small>"
            ],
            "text/plain": [
              "<IPython.core.display.HTML object>"
            ]
          },
          "metadata": {},
          "output_type": "display_data"
        },
        {
          "metadata": {
            "tags": null
          },
          "name": "stdout",
          "output_type": "stream",
          "text": [
            "---------------- T=0.7 ---------------\n"
          ]
        },
        {
          "data": {
            "text/html": [
              "<span style=\"background-color:#3b4e20;\">er, and they </span><span style=\"background-color:#3b4e20;\">of another</span><span style=\"background-color:#3b4e20;\"><br>      or ha</span>l<span style=\"background-color:#3b4e20;\">f all his friend</span><span style=\"background-color:#3b4e20;\"> to address</span>ion<span style=\"background-color:#3d3b30;\">s upon her </span>f<span style=\"background-color:#3c235f;\">eeing that he </span><span style=\"background-color:#3c235f;\">seemed as if they were </span>not looks in all now office; no<span style=\"background-color:#324745;\"> one door, </span>now for vi<span style=\"background-color:#3b4e20;\">left him o</span>ffer<span style=\"background-color:#3b4e20;\">, “but I s</span><span style=\"background-color:#2a3b48;\">able to<br>ma</span>n beg<span style=\"background-color:#3d3b30;\">anion for an</span>other green it may<span style=\"background-color:#324745;\">est at the</span>y<span style=\"background-color:#3b4e20;\"> again to </span>be, to joy, G<span style=\"background-color:#3d3b30;\">ibbon. You </span><span style=\"background-color:#483a2f;\">have always </span>cruelm<span style=\"background-color:#3d3b30;\">ed about it </span>alls.<span style=\"background-color:#324745;\"> I do you </span>very folk of Ari<span style=\"background-color:#3d3b30;\">sing about the</span><span style=\"background-color:#3d3b30;\"> first of the</span>m up<span style=\"background-color:#3d3b30;\"> about his h</span>ead of<span style=\"background-color:#3b4e20;\"> certainly a</span><span style=\"background-color:#3c235f;\">nother, she </span><span style=\"background-color:#3d3b30;\">knew she had </span>d<span style=\"background-color:#3d3b30;\">et of being</span><span style=\"background-color:#3d3b30;\"> how glad </span>up the dock<span style=\"background-color:#3b4e20;\">een; and so</span><span style=\"background-color:#3d3b30;\">me time she </span><span style=\"background-color:#324745;\">looked into </span>e<span style=\"background-color:#2a3b48;\">xteen, and </span>un<span style=\"background-color:#324745;\">thing at the </span><span style=\"background-color:#324745;\">he’ll not </span><span style=\"background-color:#3b4e20;\">in which h</span>ow usually (I<br>be s<span style=\"background-color:#2a3b48;\">at I thought it </span>was <span style=\"background-color:#3c235f;\">a playing </span>Littl<span style=\"background-color:#324745;\">e little, </span>unate—usan begy has like tro<span style=\"background-color:#3c235f;\">’s hand, and </span>tell me for.<br><br>“As _ shall_-read_I_, as"
            ],
            "text/plain": [
              "<IPython.core.display.HTML object>"
            ]
          },
          "metadata": {},
          "output_type": "display_data"
        },
        {
          "data": {
            "text/html": [
              "<small><p style=\"text-align:right;\">Sources: <span style=\"background-color:#3b4e20;\">Jane Austen: Pride and Prejudice</span>, <span style=\"background-color:#3d3b30;\">Jane Austen: Emma</span>, <span style=\"background-color:#3c235f;\">Virginia Woolf: The Voyage Out</span>, <span style=\"background-color:#324745;\">Emily Brontë: Wuthering Heights</span>, <span style=\"background-color:#2a3b48;\">Jane Austen: Lady Susan</span>, <span style=\"background-color:#483a2f;\">Virginia Woolf: Mr. Bennett and Mrs. Brown</span></p></small>"
            ],
            "text/plain": [
              "<IPython.core.display.HTML object>"
            ]
          },
          "metadata": {},
          "output_type": "display_data"
        },
        {
          "metadata": {
            "tags": null
          },
          "name": "stdout",
          "output_type": "stream",
          "text": [
            "---------------- T=0.8 ---------------\n"
          ]
        },
        {
          "data": {
            "text/html": [
              "<span style=\"background-color:#3d3b30;\">ed she had </span><span style=\"background-color:#3d3b30;\">called Mr. </span>Darcys morn<span style=\"background-color:#3b4e20;\">ings<br>      </span><span style=\"background-color:#3b4e20;\">suppose, a</span><span style=\"background-color:#3c235f;\">lthough there </span><span style=\"background-color:#3b4e20;\">had not rea</span>dy my<span style=\"background-color:#3b4e20;\">ing together</span>:<span style=\"background-color:#324745;\"> and her ye</span>t<span style=\"background-color:#3b4e20;\"> A little time,</span>”<span style=\"background-color:#3b4e20;\"> She has been </span><span style=\"background-color:#3b4e20;\">come to me</span><span style=\"background-color:#324745;\">.”<br><br>“I though</span> I have as u<span style=\"background-color:#3b4e20;\">s of her<br>      </span>proper<span style=\"background-color:#324745;\">; however, </span>when<span style=\"background-color:#3d3b30;\"> one should </span>mine much ituad<span style=\"background-color:#3b4e20;\">ies, would </span>then<span style=\"background-color:#324745;\"> putting her </span>own b<span style=\"background-color:#324745;\">ackly laugh</span><span style=\"background-color:#3d3b30;\">ing. I cannot be so </span>well<span style=\"background-color:#483a2f;\"> as possible</span><span style=\"background-color:#3d3b30;\">is; and the</span> bo<span style=\"background-color:#3c235f;\">t would you </span><span style=\"background-color:#3b4e20;\">know what we sh</span><span style=\"background-color:#3b4e20;\">ould look a</span><span style=\"background-color:#3b4e20;\"> little se</span>rvice in lay age, unicate<span style=\"background-color:#324745;\"> me before </span><span style=\"background-color:#3b4e20;\">he must make </span>up by fro<span style=\"background-color:#3d3b30;\">nt. Her father </span>to him, it<span style=\"background-color:#3b4e20;\"> last that </span>in lay—she ju<span style=\"background-color:#3b4e20;\">st wished to </span>g<span style=\"background-color:#3d3b30;\">o, she is </span>to be,<span style=\"background-color:#3b4e20;\"> her friend’s</span>-moric<span style=\"background-color:#3b4e20;\">al affection </span>and ret ush had proof rous o<span style=\"background-color:#324745;\">dder, and </span>be<span style=\"background-color:#3b4e20;\"> long was </span>in by from Sbour. How paid<span style=\"background-color:#3b4e20;\">est child,</span><span style=\"background-color:#3d3b30;\"> you made h</span>im<br>the exul<span style=\"background-color:#3c235f;\">ate at the </span><span style=\"background-color:#3c235f;\">same as mi</span>ther entideattentances, real like<br>g<span style=\"background-color:#2a3b48;\">et to your f</span>a<span style=\"background-color:#483a2f;\">ther. You </span>"
            ],
            "text/plain": [
              "<IPython.core.display.HTML object>"
            ]
          },
          "metadata": {},
          "output_type": "display_data"
        },
        {
          "data": {
            "text/html": [
              "<small><p style=\"text-align:right;\">Sources: <span style=\"background-color:#3d3b30;\">Jane Austen: Emma</span>, <span style=\"background-color:#3b4e20;\">Jane Austen: Pride and Prejudice</span>, <span style=\"background-color:#3c235f;\">Virginia Woolf: The Voyage Out</span>, <span style=\"background-color:#324745;\">Emily Brontë: Wuthering Heights</span>, <span style=\"background-color:#483a2f;\">Virginia Woolf: Mr. Bennett and Mrs. Brown</span>, <span style=\"background-color:#2a3b48;\">Jane Austen: Lady Susan</span></p></small>"
            ],
            "text/plain": [
              "<IPython.core.display.HTML object>"
            ]
          },
          "metadata": {},
          "output_type": "display_data"
        },
        {
          "metadata": {
            "tags": null
          },
          "name": "stdout",
          "output_type": "stream",
          "text": [
            "--------------------------------------\n",
            "895/895 [==============================] - 1688s 2s/step - loss: 0.3380 - accuracy: 0.9285 - val_loss: 0.3390 - val_accuracy: 0.9281\n",
            "Epoch 10/50000\n",
            "895/895 [==============================] - ETA: 0s - loss: 0.3257 - accuracy: 0.9306\n",
            "prompt: words, were soon lost under the incessant flow of Miss Bates,\n",
            "who came in talking, and had not finished her speech under many minutes\n",
            "after her being admitted into the circle at the fire. As the door\n",
            "opened she was heard,\n",
            "\n",
            "“So very obliging of you!—No rain at all. Nothing\n",
            "---------------- T=0.6 ---------------\n"
          ]
        },
        {
          "data": {
            "text/html": [
              "—<span style=\"background-color:#324745;\">I wouldn’t be</span><span style=\"background-color:#3d3b30;\">, my dear Emma, </span>“why<span style=\"background-color:#3c235f;\"> If they were </span><span style=\"background-color:#3b4e20;\">read with </span>hi<span style=\"background-color:#324745;\">m with you</span>r<span style=\"background-color:#3b4e20;\"> eyes of a</span>n she procus<span style=\"background-color:#324745;\">s to you, </span>and a month-neathy,<span style=\"background-color:#3b4e20;\"> for her, be</span>fo<span style=\"background-color:#3b4e20;\">re,” cried </span>now,<br>but<span style=\"background-color:#3d3b30;\"> you quite for</span><span style=\"background-color:#3c235f;\">wards the l</span><span style=\"background-color:#324745;\">ittle from </span><span style=\"background-color:#3c235f;\">her, and now, </span><span style=\"background-color:#3b4e20;\">coming to<br></span>T<span style=\"background-color:#3b4e20;\">wonderful </span>min<span style=\"background-color:#3d3b30;\">d—they were </span>save nex Haret, her not—how i<span style=\"background-color:#3d3b30;\">ll you not</span> defiden to d<span style=\"background-color:#3d3b30;\">is, I suppose, </span>of<span style=\"background-color:#3b4e20;\"> “and it is </span>t<span style=\"background-color:#3b4e20;\">o you not </span>let m<span style=\"background-color:#3b4e20;\">e your father</span>.”<br><br>“Of<span style=\"background-color:#3b4e20;\"> I never sa</span>bella gland any<br>to<span style=\"background-color:#3b4e20;\"> my own, and </span><span style=\"background-color:#3b4e20;\">you must not </span><span style=\"background-color:#3b4e20;\">wish I could </span>not speace at probar<span style=\"background-color:#324745;\">ious of my</span><br>for “but<span style=\"background-color:#3b4e20;\"> not your own</span><span style=\"background-color:#3b4e20;\"> sister’s </span>other hope—”<br><br>“Two year so do! She sabella! Frank Grifl<span style=\"background-color:#3c235f;\">icture with</span><br>his chapeed, u<span style=\"background-color:#324745;\">nically and </span><span style=\"background-color:#3b4e20;\">count of the </span>most s<span style=\"background-color:#3c235f;\">e. He could </span>dom but Ex<span style=\"background-color:#3c235f;\">hair, and a</span>ll<span style=\"background-color:#3c235f;\"> this the v</span>oice "
            ],
            "text/plain": [
              "<IPython.core.display.HTML object>"
            ]
          },
          "metadata": {},
          "output_type": "display_data"
        },
        {
          "data": {
            "text/html": [
              "<small><p style=\"text-align:right;\">Sources: <span style=\"background-color:#324745;\">Emily Brontë: Wuthering Heights</span>, <span style=\"background-color:#3d3b30;\">Jane Austen: Emma</span>, <span style=\"background-color:#3c235f;\">Virginia Woolf: The Voyage Out</span>, <span style=\"background-color:#3b4e20;\">Jane Austen: Pride and Prejudice</span></p></small>"
            ],
            "text/plain": [
              "<IPython.core.display.HTML object>"
            ]
          },
          "metadata": {},
          "output_type": "display_data"
        },
        {
          "metadata": {
            "tags": null
          },
          "name": "stdout",
          "output_type": "stream",
          "text": [
            "---------------- T=0.7 ---------------\n"
          ]
        },
        {
          "data": {
            "text/html": [
              "<span style=\"background-color:#2a3b48;\"> would make me</span> not<br>Dallow Strac<span style=\"background-color:#324745;\">t; and Mr. </span><span style=\"background-color:#3d3b30;\">Churchill </span><span style=\"background-color:#3c235f;\">Ridley and</span><span style=\"background-color:#324745;\"><br>followed t</span>o<span style=\"background-color:#3b4e20;\"> proved you</span>r<span style=\"background-color:#3c235f;\"> couple, and </span>no misck win, God, evens<br>for Req<span style=\"background-color:#3b4e20;\">ually was </span>bl<span style=\"background-color:#3b4e20;\">icture of </span>Bris<span style=\"background-color:#3c235f;\">ing.<br><br>“And </span><span style=\"background-color:#3d3b30;\">I never look</span><span style=\"background-color:#3b4e20;\">ed so much t</span>hat ke<span style=\"background-color:#3d3b30;\">pted by the</span><br>striped to per<span style=\"background-color:#3d3b30;\"> as of the</span><span style=\"background-color:#3b4e20;\"> smile, and</span><br>well-hair f<span style=\"background-color:#3c235f;\">eeted the </span>Abigns was licable du<span style=\"background-color:#3b4e20;\">casion of<br></span>its was fanchewroperf<span style=\"background-color:#3b4e20;\">ect to each</span> a <span style=\"background-color:#2a3b48;\">tality with </span>probarimith—thoug<span style=\"background-color:#324745;\">h into the<br></span>m<span style=\"background-color:#3d3b30;\">al attention</span><span style=\"background-color:#3d3b30;\">. It had a</span>ny decideci<span style=\"background-color:#3d3b30;\">le—she is </span>a same use<span style=\"background-color:#324745;\"> the<br>contra</span>m<span style=\"background-color:#3d3b30;\">s which was</span><br>not fo<span style=\"background-color:#3d3b30;\">r course, </span>dear Maria heart-hoo<span style=\"background-color:#3d3b30;\">d to Isabella, </span>at c<span style=\"background-color:#3b4e20;\">an; but th</span>e <span style=\"background-color:#3b4e20;\">price and </span>st<span style=\"background-color:#3d3b30;\">er,<br>never </span>that early, he arrivailence-mortifid—or fool<span style=\"background-color:#3b4e20;\"> as little </span>mank. "
            ],
            "text/plain": [
              "<IPython.core.display.HTML object>"
            ]
          },
          "metadata": {},
          "output_type": "display_data"
        },
        {
          "data": {
            "text/html": [
              "<small><p style=\"text-align:right;\">Sources: <span style=\"background-color:#2a3b48;\">Jane Austen: Lady Susan</span>, <span style=\"background-color:#324745;\">Emily Brontë: Wuthering Heights</span>, <span style=\"background-color:#3d3b30;\">Jane Austen: Emma</span>, <span style=\"background-color:#3c235f;\">Virginia Woolf: The Voyage Out</span>, <span style=\"background-color:#3b4e20;\">Jane Austen: Pride and Prejudice</span></p></small>"
            ],
            "text/plain": [
              "<IPython.core.display.HTML object>"
            ]
          },
          "metadata": {},
          "output_type": "display_data"
        },
        {
          "metadata": {
            "tags": null
          },
          "name": "stdout",
          "output_type": "stream",
          "text": [
            "---------------- T=0.8 ---------------\n"
          ]
        },
        {
          "data": {
            "text/html": [
              "<br>this eye, lookic powritte<span style=\"background-color:#3d3b30;\">n were for </span><span style=\"background-color:#3d3b30;\">feeling that the</span><span style=\"background-color:#483a2f;\"> difference</span>-no<span style=\"background-color:#324745;\">ne came to </span>what<span style=\"background-color:#3c235f;\"> hands of the </span>ro<span style=\"background-color:#324745;\">oming, and she </span><span style=\"background-color:#324745;\">had put on </span>a ste<span style=\"background-color:#3c235f;\">en they look</span> of the nw<span style=\"background-color:#483a2f;\"> in which w</span>as each<br>_<span style=\"background-color:#3b4e20;\">said, as he </span>shal<span style=\"background-color:#3d3b30;\">l in every </span>dom<span style=\"background-color:#483a2f;\"> not, was </span><span style=\"background-color:#324745;\">not to say </span>of plainars,” As sh<span style=\"background-color:#3d3b30;\">ower to pla</span>n and cribethl<span style=\"background-color:#3c235f;\">ing a long </span><span style=\"background-color:#324745;\">Linton was a </span>souline <span style=\"background-color:#3d3b30;\">our to him</span>.<br><br>“I d<span style=\"background-color:#3d3b30;\">o you have been</span>; but my aute again<br><span style=\"background-color:#2a3b48;\">age of my </span>hai<span style=\"background-color:#3b4e20;\">r and with </span>theseppo<span style=\"background-color:#3c235f;\">sing into </span>as-it abignivisi<span style=\"background-color:#3d3b30;\">tly<br>on the </span>ladies regad from<span style=\"background-color:#3d3b30;\">ere interest </span>lifriting<br>a disonly for putfied Roddoors<span style=\"background-color:#324745;\"> as health</span>fu<span style=\"background-color:#3b4e20;\">l. She is </span>arnn’t used Arn’s per, his na<span style=\"background-color:#3d3b30;\">sed them al</span>ically acious—<span style=\"background-color:#3c235f;\">being was a</span> dance-will alling—<span style=\"background-color:#3d3b30;\">I must see </span>what Elliverlir<span style=\"background-color:#3d3b30;\">y being sa</span>bellaw-corge"
            ],
            "text/plain": [
              "<IPython.core.display.HTML object>"
            ]
          },
          "metadata": {},
          "output_type": "display_data"
        },
        {
          "data": {
            "text/html": [
              "<small><p style=\"text-align:right;\">Sources: <span style=\"background-color:#3d3b30;\">Jane Austen: Emma</span>, <span style=\"background-color:#483a2f;\">Virginia Woolf: Mr. Bennett and Mrs. Brown</span>, <span style=\"background-color:#324745;\">Emily Brontë: Wuthering Heights</span>, <span style=\"background-color:#3c235f;\">Virginia Woolf: The Voyage Out</span>, <span style=\"background-color:#3b4e20;\">Jane Austen: Pride and Prejudice</span>, <span style=\"background-color:#2a3b48;\">Jane Austen: Lady Susan</span></p></small>"
            ],
            "text/plain": [
              "<IPython.core.display.HTML object>"
            ]
          },
          "metadata": {},
          "output_type": "display_data"
        },
        {
          "metadata": {
            "tags": null
          },
          "name": "stdout",
          "output_type": "stream",
          "text": [
            "--------------------------------------\n",
            "895/895 [==============================] - 1685s 2s/step - loss: 0.3257 - accuracy: 0.9306 - val_loss: 0.3274 - val_accuracy: 0.9303\n",
            "Epoch 11/50000\n",
            "895/895 [==============================] - ETA: 0s - loss: 0.3157 - accuracy: 0.9323\n",
            "prompt: ings he let fall while undressing. As it was he\n",
            "had contracted habits of which he was not in the least ashamed. Certain\n",
            "odd minutes every day went to learning things by heart; he never took a\n",
            "ticket without noting the number; he devoted January to Petronius,\n",
            "Februa\n",
            "---------------- T=0.6 ---------------\n"
          ]
        },
        {
          "data": {
            "text/html": [
              "<span style=\"background-color:#324745;\">rying to e</span>q<span style=\"background-color:#3b4e20;\">ually from </span>exactly<br>to be scial eyeled i<span style=\"background-color:#3c235f;\">n as the b</span>e<span style=\"background-color:#3d3b30;\">ing, indeed,</span><span style=\"background-color:#3c235f;\"> which the wind</span><span style=\"background-color:#324745;\"><br>children up</span><span style=\"background-color:#3c235f;\"> and down, and </span>after a nexely<span style=\"background-color:#3b4e20;\"> soon and </span><span style=\"background-color:#3d3b30;\">Isabella’s in</span><span style=\"background-color:#3b4e20;\"> the family </span><span style=\"background-color:#3d3b30;\">Isabella, the </span><span style=\"background-color:#3b4e20;\">ladies before </span>the Smit t<span style=\"background-color:#3c235f;\">his made h</span><span style=\"background-color:#3b4e20;\">er before </span>i<span style=\"background-color:#3c235f;\">t outside </span>with his<br><span style=\"background-color:#3b4e20;\">appointed </span>be<span style=\"background-color:#3b4e20;\">ing being </span>a<span style=\"background-color:#3b4e20;\"> of them fr</span>om law<br>been unequalmost best fair.<br><br>A same sback-trip<span style=\"background-color:#3c235f;\">ed. She had i</span>t safernic<span style=\"background-color:#3c235f;\">e had another</span><br>for man<span style=\"background-color:#3b4e20;\">y against the </span>Chaz<span style=\"background-color:#3b4e20;\">elt that l</span>eft <span style=\"background-color:#3b4e20;\">her offer of </span><span style=\"background-color:#2a3b48;\">it of the<br></span>s<span style=\"background-color:#324745;\">ighbour’s t</span>raight b<span style=\"background-color:#3d3b30;\">e gentleman’s </span><span style=\"background-color:#3b4e20;\">fortunately of </span>their of<br>fut<span style=\"background-color:#3b4e20;\">ured herself</span> to familia<span style=\"background-color:#3b4e20;\">l which had </span>made the<br>me<span style=\"background-color:#3d3b30;\">-will which </span>his d<span style=\"background-color:#3d3b30;\">icular of </span>her<span style=\"background-color:#3b4e20;\"> preserve, </span><span style=\"background-color:#3d3b30;\">and before the</span> pass<span style=\"background-color:#3c235f;\">ed<br>for a s</span>hor<span style=\"background-color:#3b4e20;\">ition of the </span>two had<span style=\"background-color:#3c235f;\"> which was<br>a</span>ffair.”<br><br>"
            ],
            "text/plain": [
              "<IPython.core.display.HTML object>"
            ]
          },
          "metadata": {},
          "output_type": "display_data"
        },
        {
          "data": {
            "text/html": [
              "<small><p style=\"text-align:right;\">Sources: <span style=\"background-color:#324745;\">Emily Brontë: Wuthering Heights</span>, <span style=\"background-color:#3b4e20;\">Jane Austen: Pride and Prejudice</span>, <span style=\"background-color:#3c235f;\">Virginia Woolf: The Voyage Out</span>, <span style=\"background-color:#3d3b30;\">Jane Austen: Emma</span>, <span style=\"background-color:#2a3b48;\">Jane Austen: Lady Susan</span></p></small>"
            ],
            "text/plain": [
              "<IPython.core.display.HTML object>"
            ]
          },
          "metadata": {},
          "output_type": "display_data"
        },
        {
          "metadata": {
            "tags": null
          },
          "name": "stdout",
          "output_type": "stream",
          "text": [
            "---------------- T=0.7 ---------------\n"
          ]
        },
        {
          "data": {
            "text/html": [
              "ry<span style=\"background-color:#3c235f;\">, don’t take</span>n<span style=\"background-color:#2a3b48;\">, of what </span>he<br>had overed three-neath<span style=\"background-color:#3d3b30;\">ness to walk</span><span style=\"background-color:#3c235f;\">.<br><br>“It’s wh</span><span style=\"background-color:#3d3b30;\">at was well </span>compen<span style=\"background-color:#3d3b30;\">change of p</span><span style=\"background-color:#3b4e20;\">articularl</span>ess view<span style=\"background-color:#324745;\">s, by the </span>but<br>rasc<span style=\"background-color:#3d3b30;\">ure, as he </span>had drawned <span style=\"background-color:#3d3b30;\">some man, w</span>hoeverthese an spec<span style=\"background-color:#3d3b30;\">y of room.</span><br><br>“Ah!” objecter?<span style=\"background-color:#3d3b30;\"> Quite the </span>pompank hi<span style=\"background-color:#324745;\">s turning </span>as i<span style=\"background-color:#324745;\">f of the p</span><span style=\"background-color:#3b4e20;\">arty. Mr. </span>Chaxians of Brow<span style=\"background-color:#3d3b30;\">n hour of </span>his<span style=\"background-color:#2a3b48;\"> own myself </span>when us<span style=\"background-color:#324745;\"> content.<br><br></span>Abo<span style=\"background-color:#3d3b30;\">ut yet she </span><span style=\"background-color:#3b4e20;\">would be t</span>ract<span style=\"background-color:#324745;\">ed of being </span><span style=\"background-color:#3b4e20;\">at least an</span>y<span style=\"background-color:#3b4e20;\"> you, before </span><span style=\"background-color:#3c235f;\">the gentlemen<br></span><span style=\"background-color:#3b4e20;\">continue th</span><span style=\"background-color:#324745;\">at I believe I</span>sal<span style=\"background-color:#2a3b48;\"> for I know </span>how ki<span style=\"background-color:#3b4e20;\">nd to Saturday</span>,<br>&<span style=\"background-color:#3b4e20;\">cy, without </span>their of my near<span style=\"background-color:#3b4e20;\"> dispose of her</span>, and <span style=\"background-color:#3d3b30;\">Such a man</span><span style=\"background-color:#324745;\"> forwards </span>moment, Donvic<span style=\"background-color:#3d3b30;\">e any of them</span><span style=\"background-color:#3b4e20;\">, for which </span>Emma<span style=\"background-color:#3b4e20;\"> easily with </span><span style=\"background-color:#3b4e20;\">a sister’s f</span>eelingged b<span style=\"background-color:#3b4e20;\">y willing to </span>let it as<span style=\"background-color:#3d3b30;\"> but Isabel</span>ong<br>very name"
            ],
            "text/plain": [
              "<IPython.core.display.HTML object>"
            ]
          },
          "metadata": {},
          "output_type": "display_data"
        },
        {
          "data": {
            "text/html": [
              "<small><p style=\"text-align:right;\">Sources: <span style=\"background-color:#3c235f;\">Virginia Woolf: The Voyage Out</span>, <span style=\"background-color:#2a3b48;\">Jane Austen: Lady Susan</span>, <span style=\"background-color:#3d3b30;\">Jane Austen: Emma</span>, <span style=\"background-color:#3b4e20;\">Jane Austen: Pride and Prejudice</span>, <span style=\"background-color:#324745;\">Emily Brontë: Wuthering Heights</span></p></small>"
            ],
            "text/plain": [
              "<IPython.core.display.HTML object>"
            ]
          },
          "metadata": {},
          "output_type": "display_data"
        },
        {
          "metadata": {
            "tags": null
          },
          "name": "stdout",
          "output_type": "stream",
          "text": [
            "---------------- T=0.8 ---------------\n"
          ]
        },
        {
          "data": {
            "text/html": [
              "<span style=\"background-color:#2a3b48;\">rying and </span>was: Highbour<span style=\"background-color:#3c235f;\">n, because she was </span>it upying old of a lo<span style=\"background-color:#324745;\">gitation; </span><span style=\"background-color:#3c235f;\">for their sp</span>end<br><span style=\"background-color:#2a3b48;\">forwardness</span> of m<span style=\"background-color:#3d3b30;\">aste much </span><span style=\"background-color:#3b4e20;\">of pleasure </span><span style=\"background-color:#3b4e20;\">such as I </span>shall minute, S<span style=\"background-color:#3d3b30;\">miable.”<br><br></span>S<span style=\"background-color:#3b4e20;\">he accompli</span>rtablems<span style=\"background-color:#3b4e20;\"> made no o</span>wn<span style=\"background-color:#2a3b48;\">, and about</span>ful<span style=\"background-color:#3c235f;\"> houses had</span> the has<span style=\"background-color:#3d3b30;\">ing, of course</span><br>and same my daintima<span style=\"background-color:#483a2f;\">ging up an</span>d on<br>for upofgnoc<span style=\"background-color:#3c235f;\">ked upon the</span> trump, whized lowly<span style=\"background-color:#3b4e20;\">, who would not</span><span style=\"background-color:#3b4e20;\">ice which </span>rup<span style=\"background-color:#3d3b30;\">tations ha</span>v<span style=\"background-color:#3c235f;\">e drop of </span>on. Windle<span style=\"background-color:#3d3b30;\">y like a m</span>ore of doca” She defully srid<span style=\"background-color:#324745;\">e Linton had </span><span style=\"background-color:#324745;\">been my world</span>’s<br>wordial ym<span style=\"background-color:#3b4e20;\">end from the </span>jer-making.<br><br>“Miss Ah! Clight m<span style=\"background-color:#324745;\">e going to c</span>hillm<span style=\"background-color:#324745;\">: but you </span><span style=\"background-color:#3b4e20;\">have done. </span>Prom<br>irrible as sma<span style=\"background-color:#3b4e20;\">in all the </span>dancealific<span style=\"background-color:#324745;\">ture would </span>just a accorderusual mup<span style=\"background-color:#3b4e20;\">e happened</span>, whe<span style=\"background-color:#3c235f;\">n<br>little t</span>ime "
            ],
            "text/plain": [
              "<IPython.core.display.HTML object>"
            ]
          },
          "metadata": {},
          "output_type": "display_data"
        },
        {
          "data": {
            "text/html": [
              "<small><p style=\"text-align:right;\">Sources: <span style=\"background-color:#2a3b48;\">Jane Austen: Lady Susan</span>, <span style=\"background-color:#3c235f;\">Virginia Woolf: The Voyage Out</span>, <span style=\"background-color:#324745;\">Emily Brontë: Wuthering Heights</span>, <span style=\"background-color:#3d3b30;\">Jane Austen: Emma</span>, <span style=\"background-color:#3b4e20;\">Jane Austen: Pride and Prejudice</span>, <span style=\"background-color:#483a2f;\">Virginia Woolf: Mr. Bennett and Mrs. Brown</span></p></small>"
            ],
            "text/plain": [
              "<IPython.core.display.HTML object>"
            ]
          },
          "metadata": {},
          "output_type": "display_data"
        },
        {
          "metadata": {
            "tags": null
          },
          "name": "stdout",
          "output_type": "stream",
          "text": [
            "--------------------------------------\n",
            "895/895 [==============================] - 1686s 2s/step - loss: 0.3157 - accuracy: 0.9323 - val_loss: 0.3187 - val_accuracy: 0.9316\n",
            "Epoch 12/50000\n",
            "895/895 [==============================] - ETA: 0s - loss: 0.3069 - accuracy: 0.9338\n",
            "prompt:  and Elizabeth felt\n",
            "      for her probably more than she felt for herself. The carriage was\n",
            "      sent to meet them at ——, and they were to return in it by\n",
            "      dinner-time. Their arrival was dreaded by the elder Miss Bennets,\n",
            "      and Jane more especially, who gave Lydia the feelings which would\n",
            "     \n",
            "---------------- T=0.6 ---------------\n"
          ]
        },
        {
          "data": {
            "text/html": [
              " sid<span style=\"background-color:#3d3b30;\">e of being h</span><span style=\"background-color:#3d3b30;\">is reading </span><span style=\"background-color:#324745;\">on the rest</span><span style=\"background-color:#3b4e20;\">ing the con</span><span style=\"background-color:#3b4e20;\">sidered her </span>family<span style=\"background-color:#483a2f;\"> who were al</span>l<span style=\"background-color:#3b4e20;\"> saw that </span>moments; cor<span style=\"background-color:#3d3b30;\">range to be</span><span style=\"background-color:#3b4e20;\">d herself with </span>breather d<span style=\"background-color:#3b4e20;\">ept, when </span><span style=\"background-color:#3d3b30;\">they have heard </span><span style=\"background-color:#324745;\">from his se</span>nov<span style=\"background-color:#324745;\">e, and I s</span>taste not coar<span style=\"background-color:#3d3b30;\">ely, but h</span>er needleis. Who g<span style=\"background-color:#3c235f;\">an his mind</span>, rant—very deciou<span style=\"background-color:#3b4e20;\">s exceedingly </span>sol<span style=\"background-color:#3c235f;\">icians, and </span>his rectly-bablackigin<span style=\"background-color:#3b4e20;\">ated with </span><span style=\"background-color:#3b4e20;\">gitation, </span>refer—the wo<span style=\"background-color:#3b4e20;\">mend himself to </span>re<span style=\"background-color:#3b4e20;\">ject, and </span><span style=\"background-color:#324745;\">confound the</span>mselves—a screcrapicqualit<span style=\"background-color:#3c235f;\">ing it over, and the </span>most poolicitu<span style=\"background-color:#3d3b30;\">ade for the </span>most pok<span style=\"background-color:#3b4e20;\">eption of </span><span style=\"background-color:#324745;\">night and </span>was been fai<span style=\"background-color:#3d3b30;\">r of mind o</span>f<span style=\"background-color:#3d3b30;\"> the home of</span>f a troubsolus, and enance, debackainfull beasticitudden<span style=\"background-color:#3b4e20;\">t aware of</span>fals a teax<span style=\"background-color:#3c235f;\"> to look at you</span><span style=\"background-color:#3d3b30;\"> marrying the</span> pain<span style=\"background-color:#2a3b48;\">fair, with</span>"
            ],
            "text/plain": [
              "<IPython.core.display.HTML object>"
            ]
          },
          "metadata": {},
          "output_type": "display_data"
        },
        {
          "data": {
            "text/html": [
              "<small><p style=\"text-align:right;\">Sources: <span style=\"background-color:#3d3b30;\">Jane Austen: Emma</span>, <span style=\"background-color:#324745;\">Emily Brontë: Wuthering Heights</span>, <span style=\"background-color:#3b4e20;\">Jane Austen: Pride and Prejudice</span>, <span style=\"background-color:#483a2f;\">Virginia Woolf: Mr. Bennett and Mrs. Brown</span>, <span style=\"background-color:#3c235f;\">Virginia Woolf: The Voyage Out</span>, <span style=\"background-color:#2a3b48;\">Jane Austen: Lady Susan</span></p></small>"
            ],
            "text/plain": [
              "<IPython.core.display.HTML object>"
            ]
          },
          "metadata": {},
          "output_type": "display_data"
        },
        {
          "metadata": {
            "tags": null
          },
          "name": "stdout",
          "output_type": "stream",
          "text": [
            "---------------- T=0.7 ---------------\n"
          ]
        },
        {
          "data": {
            "text/html": [
              " sin<span style=\"background-color:#3b4e20;\">king many </span>himmerely deeper fitinl<span style=\"background-color:#3b4e20;\">, she may </span>pla<span style=\"background-color:#3c235f;\">ying a sto</span>m<span style=\"background-color:#3b4e20;\">pt to compl</span>etoa<span style=\"background-color:#3b4e20;\">th<br>      un</span>t<span style=\"background-color:#3b4e20;\">aunt that </span><span style=\"background-color:#3c235f;\">she said that </span><span style=\"background-color:#3b4e20;\">his compan</span>xity good-mat<span style=\"background-color:#3b4e20;\">termination </span><span style=\"background-color:#3b4e20;\">in the case</span>con<span style=\"background-color:#324745;\">duction to </span>its<span style=\"background-color:#3d3b30;\"> own sensation</span><span style=\"background-color:#3b4e20;\"> would<br>      </span>for himicious fool<span style=\"background-color:#3b4e20;\">ved enough</span>;<span style=\"background-color:#3b4e20;\"> a letter<br>      </span>bur<span style=\"background-color:#3c235f;\">ying between </span><span style=\"background-color:#3b4e20;\">them. There was </span>a du<span style=\"background-color:#324745;\">ess for hi</span><span style=\"background-color:#3b4e20;\">s sisters were </span>made<span style=\"background-color:#3b4e20;\"> by being </span>remain<span style=\"background-color:#3b4e20;\"> not feel </span><span style=\"background-color:#3d3b30;\">thoroughly di</span><span style=\"background-color:#3b4e20;\">fferent to </span>staste<span style=\"background-color:#3c235f;\">ing into the se</span>ttl<span style=\"background-color:#3b4e20;\">ed toward </span><span style=\"background-color:#3d3b30;\">she had di</span>sagunise<span style=\"background-color:#324745;\">st for the</span>ser<span style=\"background-color:#2a3b48;\">ve of her </span>instepal<span style=\"background-color:#3c235f;\">ters could </span>never do<span style=\"background-color:#3c235f;\"> discomfort</span><span style=\"background-color:#2a3b48;\">able. The </span><span style=\"background-color:#3b4e20;\">walk into </span><span style=\"background-color:#3c235f;\">stairs had</span><br>unsiz<span style=\"background-color:#3b4e20;\">ersuasion, </span>forushes of am<span style=\"background-color:#324745;\">a; and the </span>disagrees me receively r<span style=\"background-color:#3c235f;\">eve<br>his me</span> in-fin<span style=\"background-color:#2a3b48;\">ding. Her m</span>an i<span style=\"background-color:#324745;\">ntertaining </span>them but reve<br><span style=\"background-color:#3b4e20;\">to them a </span><span style=\"background-color:#3b4e20;\">friends in</span>picc<span style=\"background-color:#483a2f;\">king and fa</span>ma<span style=\"background-color:#3d3b30;\">. They had not been </span><span style=\"background-color:#3b4e20;\">she was co</span>ver"
            ],
            "text/plain": [
              "<IPython.core.display.HTML object>"
            ]
          },
          "metadata": {},
          "output_type": "display_data"
        },
        {
          "data": {
            "text/html": [
              "<small><p style=\"text-align:right;\">Sources: <span style=\"background-color:#3b4e20;\">Jane Austen: Pride and Prejudice</span>, <span style=\"background-color:#3c235f;\">Virginia Woolf: The Voyage Out</span>, <span style=\"background-color:#324745;\">Emily Brontë: Wuthering Heights</span>, <span style=\"background-color:#3d3b30;\">Jane Austen: Emma</span>, <span style=\"background-color:#2a3b48;\">Jane Austen: Lady Susan</span>, <span style=\"background-color:#483a2f;\">Virginia Woolf: Mr. Bennett and Mrs. Brown</span></p></small>"
            ],
            "text/plain": [
              "<IPython.core.display.HTML object>"
            ]
          },
          "metadata": {},
          "output_type": "display_data"
        },
        {
          "metadata": {
            "tags": null
          },
          "name": "stdout",
          "output_type": "stream",
          "text": [
            "---------------- T=0.8 ---------------\n"
          ]
        },
        {
          "data": {
            "text/html": [
              " brain leaves la<span style=\"background-color:#483a2f;\">tter. The </span><span style=\"background-color:#3d3b30;\">young woman a</span>gain in womenx<span style=\"background-color:#3b4e20;\">iously,<br>    </span>Richardly id<span style=\"background-color:#3b4e20;\">e, Miss Bennet</span>;<span style=\"background-color:#324745;\"> reached him</span><span style=\"background-color:#3b4e20;\"> their sta</span>irs light <span style=\"background-color:#3b4e20;\">ope, that </span><span style=\"background-color:#3d3b30;\">very light</span>s. Langry, pur<span style=\"background-color:#3c235f;\">ch<br>might be </span>acl<span style=\"background-color:#3d3b30;\">are some t</span>i<span style=\"background-color:#3b4e20;\">me again. </span>She beginferg startacideat<span style=\"background-color:#3b4e20;\"> for talking t</span><span style=\"background-color:#483a2f;\">hat<br>people </span><span style=\"background-color:#3d3b30;\">like Harriet</span>’s mall-d<span style=\"background-color:#3b4e20;\">anger, and </span><span style=\"background-color:#3b4e20;\">extremely<br></span>dom <span style=\"background-color:#3c235f;\">rough Mrs. </span>Greegainst gardenerai<span style=\"background-color:#324745;\">led that he</span> would up<span style=\"background-color:#3b4e20;\">perfect co</span>achhaustici<span style=\"background-color:#3b4e20;\">tion. The </span>els<span style=\"background-color:#3b4e20;\">e happy, h</span>e parks<br>deal de<span style=\"background-color:#3b4e20;\">greeable o</span>bservantianoiseful bodiest<br>atten<span style=\"background-color:#3d3b30;\">titude in </span>the van-anrone to mear<span style=\"background-color:#483a2f;\"> a complet</span>ies, on R<span style=\"background-color:#324745;\">ected this </span>brie<span style=\"background-color:#3d3b30;\">ce of being in</span>son-as comm<span style=\"background-color:#324745;\">on, and si</span><span style=\"background-color:#324745;\">tting its s</span><span style=\"background-color:#3d3b30;\">abella who</span><span style=\"background-color:#3b4e20;\"> was rather t</span>ru<span style=\"background-color:#3d3b30;\">e to Emma </span><span style=\"background-color:#3b4e20;\">love with a</span>cy a<span style=\"background-color:#3b4e20;\">party for </span>her blusquiet y<span style=\"background-color:#3c235f;\">e. All the </span>other-"
            ],
            "text/plain": [
              "<IPython.core.display.HTML object>"
            ]
          },
          "metadata": {},
          "output_type": "display_data"
        },
        {
          "data": {
            "text/html": [
              "<small><p style=\"text-align:right;\">Sources: <span style=\"background-color:#483a2f;\">Virginia Woolf: Mr. Bennett and Mrs. Brown</span>, <span style=\"background-color:#3d3b30;\">Jane Austen: Emma</span>, <span style=\"background-color:#3b4e20;\">Jane Austen: Pride and Prejudice</span>, <span style=\"background-color:#324745;\">Emily Brontë: Wuthering Heights</span>, <span style=\"background-color:#3c235f;\">Virginia Woolf: The Voyage Out</span></p></small>"
            ],
            "text/plain": [
              "<IPython.core.display.HTML object>"
            ]
          },
          "metadata": {},
          "output_type": "display_data"
        },
        {
          "metadata": {
            "tags": null
          },
          "name": "stdout",
          "output_type": "stream",
          "text": [
            "--------------------------------------\n",
            "895/895 [==============================] - 1684s 2s/step - loss: 0.3069 - accuracy: 0.9338 - val_loss: 0.3113 - val_accuracy: 0.9329\n",
            "Epoch 13/50000\n",
            "895/895 [==============================] - ETA: 0s - loss: 0.2994 - accuracy: 0.9352\n",
            "prompt: y could;” and James was talked to, and given a charge to go very\n",
            "slow and wait for the other carriage.\n",
            "\n",
            "Isabella stept in after her father; John Knightley, forgetting that he\n",
            "did not belong to their party, stept in after his wife very naturally;\n",
            "so that Emma found, on being escorted and\n",
            "---------------- T=0.6 ---------------\n"
          ]
        },
        {
          "data": {
            "text/html": [
              "<span style=\"background-color:#483a2f;\"> powerfully</span>, thought<br><span style=\"background-color:#3b4e20;\">leaving ho</span><span style=\"background-color:#3c235f;\">w could be </span><span style=\"background-color:#3b4e20;\">likely to g</span>et<span style=\"background-color:#3d3b30;\"> out, she<br></span><span style=\"background-color:#324745;\">presence by </span>on<span style=\"background-color:#3d3b30;\">e for each other</span><span style=\"background-color:#3b4e20;\">, but though</span>t it<span style=\"background-color:#324745;\"><br>after all</span>ow<span style=\"background-color:#3c235f;\">ed to reserv</span><span style=\"background-color:#3d3b30;\">ant subject.</span><span style=\"background-color:#3c235f;\"> He looked<br>a</span>gain, un:—got now upiful unsorr<span style=\"background-color:#324745;\">y did not m</span>il<span style=\"background-color:#3b4e20;\">es, though</span>t only<br>b<span style=\"background-color:#324745;\">e table sat </span><span style=\"background-color:#324745;\">sitting her</span> humph! The papain ou<span style=\"background-color:#483a2f;\">r and more </span>beately a goes<span style=\"background-color:#3c235f;\">.<br><br>“Are you a</span>m<span style=\"background-color:#3d3b30;\">ever looking </span><span style=\"background-color:#324745;\">of the same </span><span style=\"background-color:#3c235f;\">her. That w</span><span style=\"background-color:#3d3b30;\">ould see that </span>you<span style=\"background-color:#3b4e20;\">rs, but I </span><span style=\"background-color:#2a3b48;\">could know</span>n<span style=\"background-color:#3b4e20;\"> that know</span>n!<span style=\"background-color:#3c235f;\"> When we were</span><span style=\"background-color:#3d3b30;\"> been<br>know</span><span style=\"background-color:#3b4e20;\"> you are a</span>re all<span style=\"background-color:#3b4e20;\">able and s</span>mil<span style=\"background-color:#3b4e20;\">e of which w</span><span style=\"background-color:#3b4e20;\">e should s</span>cold lik<span style=\"background-color:#3d3b30;\">e very day. </span>Do<br><span style=\"background-color:#3b4e20;\">coming in </span><span style=\"background-color:#3b4e20;\">her with pe</span>ople—very dis<span style=\"background-color:#3b4e20;\">mediately<br></span>quitte<span style=\"background-color:#3d3b30;\">d old lady</span><span style=\"background-color:#3b4e20;\">, she is a</span>ppi<span style=\"background-color:#3b4e20;\">ly to say </span>will<span style=\"background-color:#324745;\">, Isabella,</span><br>at<span style=\"background-color:#3d3b30;\"> very full</span><span style=\"background-color:#3d3b30;\">y looking </span>up<span style=\"background-color:#3d3b30;\"> as to what you </span><span style=\"background-color:#3d3b30;\">will be all l</span><span style=\"background-color:#3b4e20;\">ooking at </span>Fork,<br>“Oh!”<br><br>S<span style=\"background-color:#3b4e20;\">o much of </span>Churchill"
            ],
            "text/plain": [
              "<IPython.core.display.HTML object>"
            ]
          },
          "metadata": {},
          "output_type": "display_data"
        },
        {
          "data": {
            "text/html": [
              "<small><p style=\"text-align:right;\">Sources: <span style=\"background-color:#483a2f;\">Virginia Woolf: Mr. Bennett and Mrs. Brown</span>, <span style=\"background-color:#3b4e20;\">Jane Austen: Pride and Prejudice</span>, <span style=\"background-color:#3c235f;\">Virginia Woolf: The Voyage Out</span>, <span style=\"background-color:#3d3b30;\">Jane Austen: Emma</span>, <span style=\"background-color:#324745;\">Emily Brontë: Wuthering Heights</span>, <span style=\"background-color:#2a3b48;\">Jane Austen: Lady Susan</span></p></small>"
            ],
            "text/plain": [
              "<IPython.core.display.HTML object>"
            ]
          },
          "metadata": {},
          "output_type": "display_data"
        },
        {
          "metadata": {
            "tags": null
          },
          "name": "stdout",
          "output_type": "stream",
          "text": [
            "---------------- T=0.7 ---------------\n"
          ]
        },
        {
          "data": {
            "text/html": [
              "<span style=\"background-color:#3b4e20;\"> particular e</span>mb<span style=\"background-color:#3b4e20;\">earing more</span><span style=\"background-color:#3b4e20;\"> mistaken </span><span style=\"background-color:#3c235f;\">over and Mrs. </span><span style=\"background-color:#3d3b30;\">Weston; but </span>usbad times—which heard<span style=\"background-color:#3d3b30;\"> good old<br></span>fourdoor<span style=\"background-color:#3d3b30;\">rown at th</span>e pain;<span style=\"background-color:#3d3b30;\"> Churchill<br></span>downfull of ponenerk—th<span style=\"background-color:#3b4e20;\">ance was s</span>aw W<span style=\"background-color:#324745;\">as the tro</span>i<span style=\"background-color:#3c235f;\">lthough it </span>so<span style=\"background-color:#3d3b30;\">.”<br><br>Mrs. Elton </span>was am<span style=\"background-color:#3b4e20;\">ident to her </span>any on wel<span style=\"background-color:#324745;\">p of the f</span>ar of <span style=\"background-color:#3b4e20;\">mediately a</span>mian set in<br>Lond Col<span style=\"background-color:#3b4e20;\">ently been </span><span style=\"background-color:#3c235f;\">from the eyes</span>term<span style=\"background-color:#2a3b48;\">inion,<br>and </span>fast <span style=\"background-color:#324745;\">right. She </span><span style=\"background-color:#3d3b30;\">was very good</span> ladies<br><span style=\"background-color:#3b4e20;\">verything wi</span><span style=\"background-color:#3b4e20;\">shing to be </span><span style=\"background-color:#3b4e20;\">liberately </span>wet<br>Lady As<span style=\"background-color:#483a2f;\"> the past </span>e<span style=\"background-color:#3d3b30;\">ven all the </span>upon<span style=\"background-color:#3d3b30;\"> the<br>joint</span>ed only sively<span style=\"background-color:#3c235f;\">. The men </span><span style=\"background-color:#324745;\">like to live w</span>ho when <span style=\"background-color:#3c235f;\">now,<br>Miss </span>Weston’s unity. <span style=\"background-color:#3c235f;\">. . . . She looked </span>by<br><span style=\"background-color:#3b4e20;\">give her an</span>d any gueath<span style=\"background-color:#3b4e20;\">ice of their</span>oybserv<span style=\"background-color:#3d3b30;\">e.<br><br>She wa</span>ituade from Smixisted aloudly d<span style=\"background-color:#3d3b30;\">aying about </span>an L"
            ],
            "text/plain": [
              "<IPython.core.display.HTML object>"
            ]
          },
          "metadata": {},
          "output_type": "display_data"
        },
        {
          "data": {
            "text/html": [
              "<small><p style=\"text-align:right;\">Sources: <span style=\"background-color:#3b4e20;\">Jane Austen: Pride and Prejudice</span>, <span style=\"background-color:#3c235f;\">Virginia Woolf: The Voyage Out</span>, <span style=\"background-color:#3d3b30;\">Jane Austen: Emma</span>, <span style=\"background-color:#324745;\">Emily Brontë: Wuthering Heights</span>, <span style=\"background-color:#2a3b48;\">Jane Austen: Lady Susan</span>, <span style=\"background-color:#483a2f;\">Virginia Woolf: Mr. Bennett and Mrs. Brown</span></p></small>"
            ],
            "text/plain": [
              "<IPython.core.display.HTML object>"
            ]
          },
          "metadata": {},
          "output_type": "display_data"
        },
        {
          "metadata": {
            "tags": null
          },
          "name": "stdout",
          "output_type": "stream",
          "text": [
            "---------------- T=0.8 ---------------\n"
          ]
        },
        {
          "data": {
            "text/html": [
              "<span style=\"background-color:#483a2f;\"> satisfact</span><span style=\"background-color:#3b4e20;\"> of them int</span>o<span style=\"background-color:#324745;\"> the<br>looke</span>d falle<span style=\"background-color:#3b4e20;\">re, but with </span><span style=\"background-color:#3d3b30;\">her father’s<br>co</span><span style=\"background-color:#3b4e20;\">nsidered in </span><span style=\"background-color:#3d3b30;\">really sub</span>ject,<span style=\"background-color:#3b4e20;\"> to feelings </span>of gratifi<span style=\"background-color:#3b4e20;\">t to hear </span>in<span style=\"background-color:#3d3b30;\"><br>Harriet, a</span> cert<span style=\"background-color:#3c235f;\">aused for </span><span style=\"background-color:#3d3b30;\">Mr. Elton was </span><span style=\"background-color:#3d3b30;\">going to Mrs. </span><span style=\"background-color:#3d3b30;\">Elton was </span><span style=\"background-color:#483a2f;\">better. The </span><span style=\"background-color:#3b4e20;\">one morning</span>ly.<span style=\"background-color:#324745;\"> I<br>began to </span>al<span style=\"background-color:#3c235f;\">ways that </span><span style=\"background-color:#3b4e20;\">she did not th</span>e<span style=\"background-color:#324745;\"><br>know what </span><span style=\"background-color:#3d3b30;\">it would be an</span>y—<span style=\"background-color:#483a2f;\">and thrown </span>Isake—im<br>begard<span style=\"background-color:#3b4e20;\">ly begged </span>it<span style=\"background-color:#324745;\">.<br><br>“Is he </span><span style=\"background-color:#3b4e20;\">would give him </span>to amused.—<span style=\"background-color:#3c235f;\">what we do</span><span style=\"background-color:#324745;\">esponding </span>i<span style=\"background-color:#324745;\">s too, and</span><span style=\"background-color:#3c235f;\"><br>she wanted </span><span style=\"background-color:#324745;\">him like a</span>—got Co<span style=\"background-color:#3b4e20;\">r’s room, and</span><span style=\"background-color:#3b4e20;\"> thinking a</span><span style=\"background-color:#483a2f;\">t one of the</span>irth<span style=\"background-color:#3c235f;\">us people </span>like to “And ye<span style=\"background-color:#3b4e20;\">llowed his </span>town a<span style=\"background-color:#3d3b30;\">s it, and </span>yeary to up<span style=\"background-color:#483a2f;\"> a great deal </span>“This<span style=\"background-color:#324745;\"> Ellen,” s</span>aid I. “And Ellen? <span style=\"background-color:#324745;\">our together, and </span>said,<br>see<span style=\"background-color:#324745;\"> a child; </span>is el. . . . . Reco<span style=\"background-color:#324745;\">nd in the<br>p</span>iirs wer<span style=\"background-color:#3d3b30;\">e,” had been </span>in Emp. <span style=\"background-color:#3c235f;\">. . . .”<br><br></span>The ion<span style=\"background-color:#3b4e20;\">ate such a </span>littl"
            ],
            "text/plain": [
              "<IPython.core.display.HTML object>"
            ]
          },
          "metadata": {},
          "output_type": "display_data"
        },
        {
          "data": {
            "text/html": [
              "<small><p style=\"text-align:right;\">Sources: <span style=\"background-color:#483a2f;\">Virginia Woolf: Mr. Bennett and Mrs. Brown</span>, <span style=\"background-color:#3b4e20;\">Jane Austen: Pride and Prejudice</span>, <span style=\"background-color:#324745;\">Emily Brontë: Wuthering Heights</span>, <span style=\"background-color:#3d3b30;\">Jane Austen: Emma</span>, <span style=\"background-color:#3c235f;\">Virginia Woolf: The Voyage Out</span></p></small>"
            ],
            "text/plain": [
              "<IPython.core.display.HTML object>"
            ]
          },
          "metadata": {},
          "output_type": "display_data"
        },
        {
          "metadata": {
            "tags": null
          },
          "name": "stdout",
          "output_type": "stream",
          "text": [
            "--------------------------------------\n",
            "895/895 [==============================] - 1689s 2s/step - loss: 0.2994 - accuracy: 0.9352 - val_loss: 0.3051 - val_accuracy: 0.9340\n",
            "Epoch 14/50000\n",
            "895/895 [==============================] - ETA: 0s - loss: 0.2928 - accuracy: 0.9364\n",
            "prompt: Weston giving an account\n",
            "of a little alarm she had been under, the evening before, from the\n",
            "infant’s appearing not quite well. She believed she had been foolish,\n",
            "but it had alarmed her, and she had been within half a minute of\n",
            "sending for Mr. Perry. Perhaps she ought to be ashamed, but Mr. Weston\n",
            "had been almost as \n",
            "---------------- T=0.6 ---------------\n"
          ]
        },
        {
          "data": {
            "text/html": [
              "w<span style=\"background-color:#483a2f;\">elling to </span>her faxiou<span style=\"background-color:#3c235f;\">s and<br>reading </span><span style=\"background-color:#3d3b30;\">Mr. Knightley was </span>rily<span style=\"background-color:#3d3b30;\"> of Martin</span> E.—Again! Ah!——<span style=\"background-color:#324745;\">at Mr. Edgar’s</span><span style=\"background-color:#3d3b30;\">, Mr. Knightley w</span><span style=\"background-color:#3d3b30;\">as<br>very much o</span>f usani<span style=\"background-color:#3b4e20;\">ally, that </span>it ju<span style=\"background-color:#3d3b30;\">st getting </span><span style=\"background-color:#3d3b30;\">the time of the </span><span style=\"background-color:#3b4e20;\">young man </span>for<span style=\"background-color:#3b4e20;\"> Persuaded </span>to <span style=\"background-color:#3d3b30;\">Jane, Jane, </span>quite itud<span style=\"background-color:#3b4e20;\">dence, and t</span>ake pened aunt’s <span style=\"background-color:#3b4e20;\">haracters, and </span><span style=\"background-color:#3b4e20;\">the right </span><span style=\"background-color:#324745;\">behaved. I</span><span style=\"background-color:#483a2f;\"> felt it so</span>ly<br><span style=\"background-color:#3b4e20;\">to expect, </span>une<span style=\"background-color:#324745;\">or morning</span> by<span style=\"background-color:#3c235f;\"> Terence would</span><span style=\"background-color:#3b4e20;\"> have been w</span>hen Mis<span style=\"background-color:#3d3b30;\">s Mr. Elton’s </span><span style=\"background-color:#3b4e20;\">the feelings o</span>ne<br><span style=\"background-color:#3b4e20;\">room that h</span>ad<span style=\"background-color:#2a3b48;\"> had convers</span><span style=\"background-color:#3c235f;\">uation of the </span><span style=\"background-color:#3b4e20;\">happiness in<br></span>surprie<span style=\"background-color:#3d3b30;\">ton,” said Mr. </span>Elton’s familially,<br>“A<span style=\"background-color:#3c235f;\">nd once more </span><span style=\"background-color:#3b4e20;\">admitting </span><span style=\"background-color:#3b4e20;\">with him at </span><span style=\"background-color:#3d3b30;\">Harriet, but </span>he reguresoline<br>for of Luc<span style=\"background-color:#324745;\">k with her </span>book<span style=\"background-color:#3d3b30;\">ing Mr. Knightley a</span> line,<br><span style=\"background-color:#3d3b30;\">Mr. Perry’s </span>my memoral and exiousl<span style=\"background-color:#324745;\">y<br>the fonde</span>r w"
            ],
            "text/plain": [
              "<IPython.core.display.HTML object>"
            ]
          },
          "metadata": {},
          "output_type": "display_data"
        },
        {
          "data": {
            "text/html": [
              "<small><p style=\"text-align:right;\">Sources: <span style=\"background-color:#483a2f;\">Virginia Woolf: Mr. Bennett and Mrs. Brown</span>, <span style=\"background-color:#3c235f;\">Virginia Woolf: The Voyage Out</span>, <span style=\"background-color:#3d3b30;\">Jane Austen: Emma</span>, <span style=\"background-color:#324745;\">Emily Brontë: Wuthering Heights</span>, <span style=\"background-color:#3b4e20;\">Jane Austen: Pride and Prejudice</span>, <span style=\"background-color:#2a3b48;\">Jane Austen: Lady Susan</span></p></small>"
            ],
            "text/plain": [
              "<IPython.core.display.HTML object>"
            ]
          },
          "metadata": {},
          "output_type": "display_data"
        },
        {
          "metadata": {
            "tags": null
          },
          "name": "stdout",
          "output_type": "stream",
          "text": [
            "---------------- T=0.7 ---------------\n"
          ]
        },
        {
          "data": {
            "text/html": [
              "<span style=\"background-color:#3d3b30;\">Mr. Elton’s a</span><span style=\"background-color:#324745;\">ttraction i</span><span style=\"background-color:#3c235f;\">n<br>that he </span><span style=\"background-color:#3b4e20;\">was concer</span>—<span style=\"background-color:#3d3b30;\">He had made </span><span style=\"background-color:#3d3b30;\">Mr. Knightley, be</span><span style=\"background-color:#3b4e20;\">tween Mr. </span><span style=\"background-color:#3d3b30;\">Elton’s marrying </span>h<span style=\"background-color:#3b4e20;\">as to see </span>her. I dar<span style=\"background-color:#3d3b30;\">e<br>Mrs. Elton</span><span style=\"background-color:#324745;\">’s affections</span><span style=\"background-color:#3d3b30;\"> to Miss Taylo</span>se dear Martin<br>all<span style=\"background-color:#3d3b30;\"> were only th</span>e effecter;<span style=\"background-color:#3d3b30;\"> if Mr. Knightley </span>was<br><span style=\"background-color:#483a2f;\">liberty of </span>the thrummonths, by<span style=\"background-color:#324745;\"> a standing </span><span style=\"background-color:#324745;\">with my hea</span>rt<span style=\"background-color:#3d3b30;\">ily, Mrs. </span>Churchillm<span style=\"background-color:#324745;\">ost in the </span>town, ‘Save of Chrone’s Law a bad fles<br><span style=\"background-color:#3d3b30;\">and Mr. Ge</span>kth! Than<br>began Rid. “A<span style=\"background-color:#3c235f;\">bservant a</span><span style=\"background-color:#3b4e20;\">bout this </span>conditious<span style=\"background-color:#3d3b30;\">. My only </span><span style=\"background-color:#3b4e20;\">next morning, </span><span style=\"background-color:#3d3b30;\">Ah! Mr. Knightley, </span>Mr. D<span style=\"background-color:#3b4e20;\">ean, that </span><span style=\"background-color:#3d3b30;\">Miss Woodhouse, </span>lear eyes—and<br>washed offer elsev<span style=\"background-color:#3b4e20;\">ening his </span><span style=\"background-color:#3d3b30;\">such as you<br></span><span style=\"background-color:#3d3b30;\">will begin</span><span style=\"background-color:#3b4e20;\">g nothing </span><span style=\"background-color:#324745;\">of the woman</span><span style=\"background-color:#3b4e20;\"> for such </span>pleasant<br><span style=\"background-color:#3b4e20;\">been upon </span><span style=\"background-color:#3d3b30;\">Mr. Woodhouse </span><span style=\"background-color:#3c235f;\">in the fin</span>ger,<br><br>“That sortless "
            ],
            "text/plain": [
              "<IPython.core.display.HTML object>"
            ]
          },
          "metadata": {},
          "output_type": "display_data"
        },
        {
          "data": {
            "text/html": [
              "<small><p style=\"text-align:right;\">Sources: <span style=\"background-color:#3d3b30;\">Jane Austen: Emma</span>, <span style=\"background-color:#324745;\">Emily Brontë: Wuthering Heights</span>, <span style=\"background-color:#3c235f;\">Virginia Woolf: The Voyage Out</span>, <span style=\"background-color:#3b4e20;\">Jane Austen: Pride and Prejudice</span>, <span style=\"background-color:#483a2f;\">Virginia Woolf: Mr. Bennett and Mrs. Brown</span></p></small>"
            ],
            "text/plain": [
              "<IPython.core.display.HTML object>"
            ]
          },
          "metadata": {},
          "output_type": "display_data"
        },
        {
          "metadata": {
            "tags": null
          },
          "name": "stdout",
          "output_type": "stream",
          "text": [
            "---------------- T=0.8 ---------------\n"
          ]
        },
        {
          "data": {
            "text/html": [
              "in E<span style=\"background-color:#3c235f;\">kind, and the l</span>etter blue On<span style=\"background-color:#3c235f;\">e to each other </span>made God<span style=\"background-color:#3b4e20;\">d; and, as </span>Lek. Thes<span style=\"background-color:#324745;\">e was kind, and </span>his heart<span style=\"background-color:#3d3b30;\">house.<br><br>The </span>carrivanibarits of<span style=\"background-color:#3b4e20;\"> a character to<br></span>uncit<span style=\"background-color:#2a3b48;\">ituation, and w</span><span style=\"background-color:#324745;\">ould make o</span>n<span style=\"background-color:#3b4e20;\">e attentions to </span>Evemonl<span style=\"background-color:#2a3b48;\">mediate and </span>my m<span style=\"background-color:#3b4e20;\">y has no d</span>ar’s bury in dashies not che<span style=\"background-color:#324745;\">tone,<br>and </span>rase part:<span style=\"background-color:#3b4e20;\"> she though</span><span style=\"background-color:#2a3b48;\"> I would as</span>! as<span style=\"background-color:#324745;\"> you of the</span><span style=\"background-color:#3d3b30;\"> cannot all</span><span style=\"background-color:#3d3b30;\">, and saying o</span><span style=\"background-color:#324745;\">ut into th</span>isv<span style=\"background-color:#324745;\">es, but the</span>ir ide<span style=\"background-color:#3d3b30;\">,<br>and Harriet</span>’s’<span style=\"background-color:#3c235f;\">s appeared t</span><span style=\"background-color:#3c235f;\">hat really </span>dinn<span style=\"background-color:#3c235f;\">er. “The c</span>heristo-leeplying Pho’d ‘Are you,<span style=\"background-color:#3c235f;\"> like to say</span>s<span style=\"background-color:#3b4e20;\"> how he be</span><span style=\"background-color:#3c235f;\">lieve they </span>is very<span style=\"background-color:#3c235f;\"> man?” said Rachel.<br><br>“</span>Now,<span style=\"background-color:#2a3b48;\"> is rather </span>so about hoezingly yel only _She_Elton on our eet<span style=\"background-color:#324745;\">, and yellow </span>to go. If<span style=\"background-color:#324745;\"> gardeners</span>ing of un<span style=\"background-color:#3d3b30;\">forts and </span>spirit? And doe"
            ],
            "text/plain": [
              "<IPython.core.display.HTML object>"
            ]
          },
          "metadata": {},
          "output_type": "display_data"
        },
        {
          "data": {
            "text/html": [
              "<small><p style=\"text-align:right;\">Sources: <span style=\"background-color:#3c235f;\">Virginia Woolf: The Voyage Out</span>, <span style=\"background-color:#3b4e20;\">Jane Austen: Pride and Prejudice</span>, <span style=\"background-color:#324745;\">Emily Brontë: Wuthering Heights</span>, <span style=\"background-color:#3d3b30;\">Jane Austen: Emma</span>, <span style=\"background-color:#2a3b48;\">Jane Austen: Lady Susan</span></p></small>"
            ],
            "text/plain": [
              "<IPython.core.display.HTML object>"
            ]
          },
          "metadata": {},
          "output_type": "display_data"
        },
        {
          "metadata": {
            "tags": null
          },
          "name": "stdout",
          "output_type": "stream",
          "text": [
            "--------------------------------------\n",
            "895/895 [==============================] - 1692s 2s/step - loss: 0.2928 - accuracy: 0.9364 - val_loss: 0.2996 - val_accuracy: 0.9350\n",
            "Epoch 15/50000\n",
            "895/895 [==============================] - ETA: 0s - loss: 0.2870 - accuracy: 0.9374\n",
            "prompt: ight from\n",
            "her room to his, and relating the whole story: with the exception of\n",
            "her conversations with her cousin, and any mention of Hareton. Mr.\n",
            "Linton was alarmed and distressed, more than he would acknowledge to\n",
            "me. In the morning, Catherine learnt my betrayal of her confidence, and\n",
            "she learn\n",
            "---------------- T=0.6 ---------------\n"
          ]
        },
        {
          "data": {
            "text/html": [
              "<span style=\"background-color:#3b4e20;\"> his own; </span>not derly sor; I sub<span style=\"background-color:#3b4e20;\">duction of </span>mympr<span style=\"background-color:#2a3b48;\">ove for her</span><span style=\"background-color:#324745;\"> grief which</span><br>stolepprouse-la<span style=\"background-color:#324745;\">ye, and she</span><br>fell<span style=\"background-color:#3b4e20;\"> family that </span>Mar<span style=\"background-color:#3b4e20;\">ch. He was </span>as my every une<span style=\"background-color:#3d3b30;\">orse. And </span>unmediat<span style=\"background-color:#3d3b30;\">e of beauty</span> and Lim.<br><br>After Lacy wedd<span style=\"background-color:#3b4e20;\">ed, yet, wh</span>ich pufficie<span style=\"background-color:#3d3b30;\">nce, he was</span><br>after en. And watch-laye<span style=\"background-color:#3d3b30;\">llowed to e</span>n<br>a<span style=\"background-color:#3b4e20;\"> joined to </span><span style=\"background-color:#3c235f;\">bed by her </span>go. I<br>Dap<span style=\"background-color:#324745;\">piece of a</span> hort us<span style=\"background-color:#3c235f;\">an, on a s</span>tropirely reveilknew<span style=\"background-color:#3b4e20;\"> to Mrs. J</span>uned us<span style=\"background-color:#3d3b30;\">an opinion </span>to deciousinv<span style=\"background-color:#3b4e20;\">ating it to </span>pro<span style=\"background-color:#3d3b30;\">nt having </span>unclocial in<span style=\"background-color:#3c235f;\"> outside w</span>ith th<span style=\"background-color:#3c235f;\">read, and the</span> art<span style=\"background-color:#324745;\">umed with </span>wint<span style=\"background-color:#3d3b30;\">er eyes. A</span>nd she’s stret<br>c<span style=\"background-color:#3b4e20;\">on-making </span><span style=\"background-color:#3b4e20;\">going to the </span>summer p<span style=\"background-color:#324745;\">olation and </span><span style=\"background-color:#3c235f;\">found and </span>my now<br>lu"
            ],
            "text/plain": [
              "<IPython.core.display.HTML object>"
            ]
          },
          "metadata": {},
          "output_type": "display_data"
        },
        {
          "data": {
            "text/html": [
              "<small><p style=\"text-align:right;\">Sources: <span style=\"background-color:#3b4e20;\">Jane Austen: Pride and Prejudice</span>, <span style=\"background-color:#2a3b48;\">Jane Austen: Lady Susan</span>, <span style=\"background-color:#324745;\">Emily Brontë: Wuthering Heights</span>, <span style=\"background-color:#3d3b30;\">Jane Austen: Emma</span>, <span style=\"background-color:#3c235f;\">Virginia Woolf: The Voyage Out</span></p></small>"
            ],
            "text/plain": [
              "<IPython.core.display.HTML object>"
            ]
          },
          "metadata": {},
          "output_type": "display_data"
        },
        {
          "metadata": {
            "tags": null
          },
          "name": "stdout",
          "output_type": "stream",
          "text": [
            "---------------- T=0.7 ---------------\n"
          ]
        },
        {
          "data": {
            "text/html": [
              "t to best it<span style=\"background-color:#483a2f;\"> in writing i</span>n ducularly<br>eatur<span style=\"background-color:#3c235f;\">ely thing in </span><span style=\"background-color:#3d3b30;\">English st</span>one<br>be sary, Is<span style=\"background-color:#3c235f;\"> by the sea</span> socio<span style=\"background-color:#3c235f;\">m, like the </span>pa<span style=\"background-color:#2a3b48;\">int of my </span>polved<br>when<span style=\"background-color:#3b4e20;\"> has very </span>lis<span style=\"background-color:#2a3b48;\">t in any w</span>ho<span style=\"background-color:#324745;\">se I should</span><br>Cla<span style=\"background-color:#3b4e20;\">rged, I ha</span><span style=\"background-color:#3d3b30;\">d found them </span>for<span style=\"background-color:#3d3b30;\">e. I think </span><span style=\"background-color:#2a3b48;\">from the le</span>asily, to exqui<span style=\"background-color:#3c235f;\">et. He was </span>you<span style=\"background-color:#324745;\"> instant o</span>f<br>wha<span style=\"background-color:#3b4e20;\">t looks and </span>gible inted insting<br>to Diple?<span style=\"background-color:#3c235f;\">”<br><br>Terence</span>’s thr<span style=\"background-color:#3d3b30;\">o make her t</span><span style=\"background-color:#2a3b48;\">o believe it t</span>o you<span style=\"background-color:#324745;\"><br>till you </span><span style=\"background-color:#3b4e20;\">resolved a</span> last! I murmur<span style=\"background-color:#3d3b30;\">ely more be</span>tween Man<br><span style=\"background-color:#3d3b30;\">her music </span>good acles<span style=\"background-color:#324745;\">. Are you re</span>compan’ll be c<span style=\"background-color:#3b4e20;\">le, unless </span><span style=\"background-color:#3b4e20;\">look, and </span>de: I<span style=\"background-color:#3b4e20;\"> may be; and </span><span style=\"background-color:#3b4e20;\">me to make </span>you rectly sakeepper sun of adil<span style=\"background-color:#3d3b30;\">y for ever.</span><span style=\"background-color:#324745;\">”<br><br>Catherine </span>was <span style=\"background-color:#3b4e20;\">donable. I </span><span style=\"background-color:#324745;\">instead of u</span>s alritish<span style=\"background-color:#3b4e20;\"> it on the </span><span style=\"background-color:#3d3b30;\">choose than </span>what fax<span style=\"background-color:#3c235f;\">ion usually </span>su"
            ],
            "text/plain": [
              "<IPython.core.display.HTML object>"
            ]
          },
          "metadata": {},
          "output_type": "display_data"
        },
        {
          "data": {
            "text/html": [
              "<small><p style=\"text-align:right;\">Sources: <span style=\"background-color:#483a2f;\">Virginia Woolf: Mr. Bennett and Mrs. Brown</span>, <span style=\"background-color:#3c235f;\">Virginia Woolf: The Voyage Out</span>, <span style=\"background-color:#3d3b30;\">Jane Austen: Emma</span>, <span style=\"background-color:#2a3b48;\">Jane Austen: Lady Susan</span>, <span style=\"background-color:#3b4e20;\">Jane Austen: Pride and Prejudice</span>, <span style=\"background-color:#324745;\">Emily Brontë: Wuthering Heights</span></p></small>"
            ],
            "text/plain": [
              "<IPython.core.display.HTML object>"
            ]
          },
          "metadata": {},
          "output_type": "display_data"
        },
        {
          "metadata": {
            "tags": null
          },
          "name": "stdout",
          "output_type": "stream",
          "text": [
            "---------------- T=0.8 ---------------\n"
          ]
        },
        {
          "data": {
            "text/html": [
              "t scow in <span style=\"background-color:#3d3b30;\">ndness—the </span>sofing<span style=\"background-color:#3b4e20;\"> some sort</span><span style=\"background-color:#324745;\">ness, the<br></span>go, who frai<span style=\"background-color:#324745;\">d the mistr</span>oa<span style=\"background-color:#3c235f;\">d, that she cr</span>ied, set Siled Marrived—at<br>l<span style=\"background-color:#483a2f;\">och which had </span>been f<span style=\"background-color:#324745;\">rees were in </span>spicions by hour year: s—andest, hair<span style=\"background-color:#3b4e20;\">, indeed! </span>Last my pal one, im<br>ag<span style=\"background-color:#324745;\">ot she was</span><span style=\"background-color:#3d3b30;\"> talking than</span>ks<span style=\"background-color:#3d3b30;\"> and January</span> its. Churry same macy in mous of wice is<br>strade-vintage, as pray him or shamed a fon! The nefi<span style=\"background-color:#3d3b30;\">ce it was t</span>he hand! ask,<br>Dixiby fenting<span style=\"background-color:#3b4e20;\"> keep him </span>any to shard comploaless exampled! Peru<span style=\"background-color:#483a2f;\">s, but the</span><span style=\"background-color:#3d3b30;\"><br>compassion </span>of Langs! ’Canorse are awed of<span style=\"background-color:#3c235f;\"> day, and a</span><span style=\"background-color:#324745;\">t was the t</span>oward<br>so<span style=\"background-color:#324745;\"> one from </span>How’<span style=\"background-color:#2a3b48;\">s what she is a</span>ppene<span style=\"background-color:#3d3b30;\">d it made her </span>pap! "
            ],
            "text/plain": [
              "<IPython.core.display.HTML object>"
            ]
          },
          "metadata": {},
          "output_type": "display_data"
        },
        {
          "data": {
            "text/html": [
              "<small><p style=\"text-align:right;\">Sources: <span style=\"background-color:#3d3b30;\">Jane Austen: Emma</span>, <span style=\"background-color:#3b4e20;\">Jane Austen: Pride and Prejudice</span>, <span style=\"background-color:#324745;\">Emily Brontë: Wuthering Heights</span>, <span style=\"background-color:#3c235f;\">Virginia Woolf: The Voyage Out</span>, <span style=\"background-color:#483a2f;\">Virginia Woolf: Mr. Bennett and Mrs. Brown</span>, <span style=\"background-color:#2a3b48;\">Jane Austen: Lady Susan</span></p></small>"
            ],
            "text/plain": [
              "<IPython.core.display.HTML object>"
            ]
          },
          "metadata": {},
          "output_type": "display_data"
        },
        {
          "metadata": {
            "tags": null
          },
          "name": "stdout",
          "output_type": "stream",
          "text": [
            "--------------------------------------\n",
            "895/895 [==============================] - 1699s 2s/step - loss: 0.2870 - accuracy: 0.9374 - val_loss: 0.2933 - val_accuracy: 0.9361\n",
            "Epoch 16/50000\n",
            "895/895 [==============================] - ETA: 0s - loss: 0.2819 - accuracy: 0.9384\n",
            "prompt: \n",
            "\n",
            "He signed her to precede him; and casting back a look that cut my\n",
            "heart, she obeyed. I watched them, from the window, walk down the\n",
            "garden. Heathcliff fixed Catherine’s arm under his: though she disputed\n",
            "the act at first evidently; and with rapid strides he hurried her into\n",
            "the alley, who\n",
            "---------------- T=0.6 ---------------\n"
          ]
        },
        {
          "data": {
            "text/html": [
              "se took sudden eye.<br>Durpride<span style=\"background-color:#3b4e20;\"> of anything</span>’s fal-morrow<span style=\"background-color:#3d3b30;\"><br>will not be </span><span style=\"background-color:#3b4e20;\">sensible to </span><span style=\"background-color:#3b4e20;\">know what would be</span><span style=\"background-color:#3b4e20;\"> very well a</span><span style=\"background-color:#3d3b30;\">s little in</span><span style=\"background-color:#3c235f;\"><br>love with h</span>er family’s <span style=\"background-color:#3d3b30;\">for really </span>believe h<span style=\"background-color:#3b4e20;\">and fancie</span>st Sunsi<span style=\"background-color:#483a2f;\">mplain of the </span><span style=\"background-color:#2a3b48;\">world, and s</span><span style=\"background-color:#3b4e20;\">he should<br></span>discurred<span style=\"background-color:#3d3b30;\">—Mr. Elton’s </span><span style=\"background-color:#3c235f;\">being read</span><span style=\"background-color:#3d3b30;\">ing Mrs. Elton</span>. On<br>tract<span style=\"background-color:#3b4e20;\">ed however</span><span style=\"background-color:#3d3b30;\">, the very p</span>ro<span style=\"background-color:#483a2f;\">veying her </span>vious <span style=\"background-color:#324745;\">partment.<br><br></span>Aunt L<span style=\"background-color:#324745;\">ook of the </span>lett<span style=\"background-color:#3c235f;\">er attention f</span>orbish; Mr<span style=\"background-color:#324745;\">s.<br>Isabella</span>w<span style=\"background-color:#324745;\">s with her c</span><span style=\"background-color:#3c235f;\">hanged in </span><span style=\"background-color:#3d3b30;\">any kindness </span><span style=\"background-color:#3c235f;\">to extract</span>ually gence having<br>usankl<span style=\"background-color:#3b4e20;\">ing unnatur</span><span style=\"background-color:#3b4e20;\">visible in </span>m<span style=\"background-color:#324745;\">y eyes and a</span><span style=\"background-color:#324745;\"> saw her<br>fa</span>rm<span style=\"background-color:#3b4e20;\">est which </span>was<span style=\"background-color:#324745;\"> passion; </span>a pial, but graspicious.<br>What’s l<span style=\"background-color:#3d3b30;\">ish from my </span><span style=\"background-color:#3b4e20;\">rest with </span>the smountestianovelay. In<span style=\"background-color:#3d3b30;\">views for </span>the backical upon "
            ],
            "text/plain": [
              "<IPython.core.display.HTML object>"
            ]
          },
          "metadata": {},
          "output_type": "display_data"
        },
        {
          "data": {
            "text/html": [
              "<small><p style=\"text-align:right;\">Sources: <span style=\"background-color:#3b4e20;\">Jane Austen: Pride and Prejudice</span>, <span style=\"background-color:#3d3b30;\">Jane Austen: Emma</span>, <span style=\"background-color:#3c235f;\">Virginia Woolf: The Voyage Out</span>, <span style=\"background-color:#483a2f;\">Virginia Woolf: Mr. Bennett and Mrs. Brown</span>, <span style=\"background-color:#2a3b48;\">Jane Austen: Lady Susan</span>, <span style=\"background-color:#324745;\">Emily Brontë: Wuthering Heights</span></p></small>"
            ],
            "text/plain": [
              "<IPython.core.display.HTML object>"
            ]
          },
          "metadata": {},
          "output_type": "display_data"
        },
        {
          "metadata": {
            "tags": null
          },
          "name": "stdout",
          "output_type": "stream",
          "text": [
            "---------------- T=0.7 ---------------\n"
          ]
        },
        {
          "data": {
            "text/html": [
              "<span style=\"background-color:#3c235f;\">se people </span>all <span style=\"background-color:#324745;\">lock; and </span><span style=\"background-color:#3c235f;\">his hair w</span>ere<span style=\"background-color:#324745;\"> not drive</span><br>vourious danc<span style=\"background-color:#3b4e20;\">e; “and the</span> sake of vid<span style=\"background-color:#2a3b48;\">ation between the </span><span style=\"background-color:#483a2f;\">subject of </span>vititual<span style=\"background-color:#3c235f;\">ly in<br>the </span>ob<span style=\"background-color:#3b4e20;\">ities, and </span>vited thatch<span style=\"background-color:#2a3b48;\"> last, and </span>which I leavextraorder; I<span style=\"background-color:#3b4e20;\"> had said of </span>ke-humanal, for<br>o<span style=\"background-color:#3b4e20;\">nce which co</span>uld<span style=\"background-color:#3b4e20;\"> obliged to m</span>y b, but unknow—b<span style=\"background-color:#3c235f;\">ut for a m</span>ost enanc<span style=\"background-color:#3d3b30;\">e. Certain</span><span style=\"background-color:#3d3b30;\">ly please </span><span style=\"background-color:#3b4e20;\">of what she was </span>Upon mestic<span style=\"background-color:#3d3b30;\"> persuasion<br></span><span style=\"background-color:#3d3b30;\">Miss Taylo</span>tte’s eyes, Jane’s can<span style=\"background-color:#3c235f;\">ark of his </span>incong<br>can occur;<span style=\"background-color:#3d3b30;\"> and grieve </span>all given<br><span style=\"background-color:#3d3b30;\">alls, but </span>for both upon envi<span style=\"background-color:#3b4e20;\">situation at </span>you<br>_ life_-room,<span style=\"background-color:#3b4e20;\"> a couple of </span>the true to so-eks<br><span style=\"background-color:#3c235f;\">in the time </span><span style=\"background-color:#324745;\">quently, and </span>now dom<span style=\"background-color:#3b4e20;\"> to the fa</span>tigenc<span style=\"background-color:#324745;\">e! Oh! I’m </span>go up<span style=\"background-color:#3b4e20;\"> to think it </span>rec<span style=\"background-color:#3d3b30;\">ogy of the </span>very ory<br>"
            ],
            "text/plain": [
              "<IPython.core.display.HTML object>"
            ]
          },
          "metadata": {},
          "output_type": "display_data"
        },
        {
          "data": {
            "text/html": [
              "<small><p style=\"text-align:right;\">Sources: <span style=\"background-color:#3c235f;\">Virginia Woolf: The Voyage Out</span>, <span style=\"background-color:#324745;\">Emily Brontë: Wuthering Heights</span>, <span style=\"background-color:#3b4e20;\">Jane Austen: Pride and Prejudice</span>, <span style=\"background-color:#2a3b48;\">Jane Austen: Lady Susan</span>, <span style=\"background-color:#483a2f;\">Virginia Woolf: Mr. Bennett and Mrs. Brown</span>, <span style=\"background-color:#3d3b30;\">Jane Austen: Emma</span></p></small>"
            ],
            "text/plain": [
              "<IPython.core.display.HTML object>"
            ]
          },
          "metadata": {},
          "output_type": "display_data"
        },
        {
          "metadata": {
            "tags": null
          },
          "name": "stdout",
          "output_type": "stream",
          "text": [
            "---------------- T=0.8 ---------------\n"
          ]
        },
        {
          "data": {
            "text/html": [
              "<span style=\"background-color:#3b4e20;\">se the real t</span>aple of nex<span style=\"background-color:#3d3b30;\">ions and o</span>f<br>emflower of<span style=\"background-color:#483a2f;\">f course o</span>f<span style=\"background-color:#3b4e20;\"> such part</span><span style=\"background-color:#2a3b48;\"><br>to the do</span>wn<span style=\"background-color:#324745;\">, and gallo</span>u<span style=\"background-color:#3b4e20;\">spect for her</span><br>half<span style=\"background-color:#3b4e20;\"> of giving</span>; but<span style=\"background-color:#324745;\"> got to the p</span>resenc<span style=\"background-color:#483a2f;\">e him was </span>unad,<br>and <span style=\"background-color:#3d3b30;\">a was deli</span>berfor, I ws, yellowen played, we wo <span style=\"background-color:#3d3b30;\">nexions; a</span>nd,<br>I<span style=\"background-color:#483a2f;\"> beyond the m</span><span style=\"background-color:#324745;\">aster is a</span><span style=\"background-color:#3d3b30;\">ll as Emma</span>’s<span style=\"background-color:#324745;\">-morrow, Miss </span>Martin<span style=\"background-color:#3d3b30;\">, every body </span>was<br>abmanfull <span style=\"background-color:#3b4e20;\">other, Mr. </span><span style=\"background-color:#3d3b30;\">Weston, as<br></span>even to re<span style=\"background-color:#3b4e20;\">st wished </span>a<span style=\"background-color:#324745;\"> young com</span><span style=\"background-color:#324745;\">fortable fi</span>x Ly’s dealmost sight; to bositing<br>meal<span style=\"background-color:#3b4e20;\"> what might be c</span>reditigag<span style=\"background-color:#3d3b30;\">e. Her own </span>than<br>evenient of L<span style=\"background-color:#3c235f;\">onder again</span><span style=\"background-color:#3d3b30;\">st in love</span>-<span style=\"background-color:#3b4e20;\">field, of </span><span style=\"background-color:#3c235f;\">restless; </span>and,<span style=\"background-color:#3d3b30;\"><br>the others</span>, lain I<span style=\"background-color:#3c235f;\">, Mr. Hirst?”</span><br><br>“<span style=\"background-color:#3d3b30;\">The brother</span>’<span style=\"background-color:#3c235f;\">s is right</span> t<span style=\"background-color:#3c235f;\">one as one </span>of<br>shorsettles,<span style=\"background-color:#3b4e20;\"> on her, and </span>‘<span style=\"background-color:#3b4e20;\">people are </span>honesc,<br>"
            ],
            "text/plain": [
              "<IPython.core.display.HTML object>"
            ]
          },
          "metadata": {},
          "output_type": "display_data"
        },
        {
          "data": {
            "text/html": [
              "<small><p style=\"text-align:right;\">Sources: <span style=\"background-color:#3b4e20;\">Jane Austen: Pride and Prejudice</span>, <span style=\"background-color:#3d3b30;\">Jane Austen: Emma</span>, <span style=\"background-color:#483a2f;\">Virginia Woolf: Mr. Bennett and Mrs. Brown</span>, <span style=\"background-color:#2a3b48;\">Jane Austen: Lady Susan</span>, <span style=\"background-color:#324745;\">Emily Brontë: Wuthering Heights</span>, <span style=\"background-color:#3c235f;\">Virginia Woolf: The Voyage Out</span></p></small>"
            ],
            "text/plain": [
              "<IPython.core.display.HTML object>"
            ]
          },
          "metadata": {},
          "output_type": "display_data"
        },
        {
          "output_type": "stream",
          "name": "stdout",
          "text": [
            "--------------------------------------\n",
            "895/895 [==============================] - 1697s 2s/step - loss: 0.2819 - accuracy: 0.9384 - val_loss: 0.2894 - val_accuracy: 0.9370\n",
            "Epoch 17/50000\n",
            "895/895 [==============================] - ETA: 0s - loss: 0.2773 - accuracy: 0.9393\n",
            "prompt: triking the point where they had left the others.\n",
            "Rachel followed him, stopping where he stopped, turning where he\n",
            "turned, ignorant of the way, ignorant why he stopped or why he turned.\n",
            "\n",
            "“I don’t want to be late,” he said, “because—” He put a flower into her\n",
            "hand and her fingers closed upon \n",
            "---------------- T=0.6 ---------------\n"
          ]
        },
        {
          "output_type": "display_data",
          "data": {
            "text/plain": [
              "<IPython.core.display.HTML object>"
            ],
            "text/html": [
              "the cry<span style=\"background-color:#483a2f;\">.<br><br>The sto</span>cks of ical ner cutescences, <span style=\"background-color:#3b4e20;\">sitated for </span><span style=\"background-color:#3c235f;\">the smile o</span>n<span style=\"background-color:#324745;\"><br>his brother</span>. Well, unsy<span style=\"background-color:#3d3b30;\">mparing and</span><span style=\"background-color:#324745;\"><br>brought to </span>b<span style=\"background-color:#3c235f;\">e stairs. </span>. . . . . . . . <span style=\"background-color:#3c235f;\">. . . . It</span><span style=\"background-color:#3b4e20;\"> was out of </span>my val,<br>justifulness how<span style=\"background-color:#3d3b30;\"> to Mrs. Weston</span>’s natulialy, for val-conductively. Chank belong an benthy’s<br>oblig<span style=\"background-color:#3b4e20;\">natural mo</span>st<br>evenient admid’ll me<span style=\"background-color:#483a2f;\">t they had t</span><span style=\"background-color:#3c235f;\">hink of the d</span>ecl<span style=\"background-color:#3b4e20;\">are very f</span>air,<span style=\"background-color:#324745;\"><br>interposed</span> to lay<span style=\"background-color:#3b4e20;\">’s perfect</span>u<span style=\"background-color:#3b4e20;\">al, and the </span><span style=\"background-color:#3b4e20;\">young lady<br></span><span style=\"background-color:#3d3b30;\">sitting of</span><span style=\"background-color:#324745;\">fered for </span>i<span style=\"background-color:#3b4e20;\">t of manner</span>. I<br>chanks<span style=\"background-color:#3b4e20;\"> with other </span>expecture,” Le<span style=\"background-color:#3d3b30;\">t enough. </span>All delive<span style=\"background-color:#324745;\">ying when </span>duce <span style=\"background-color:#3c235f;\">at they<br>se</span>nt m<span style=\"background-color:#3b4e20;\">e to pleas</span><span style=\"background-color:#483a2f;\">t of your </span><span style=\"background-color:#3c235f;\">comfortable do</span>ne;<span style=\"background-color:#3d3b30;\"> and<br>thinking </span>her <span style=\"background-color:#3c235f;\">into each other </span>spen<span style=\"background-color:#3b4e20;\">t of course</span>lves<span style=\"background-color:#324745;\">.”<br><br>“Your </span>m"
            ]
          },
          "metadata": {}
        },
        {
          "output_type": "display_data",
          "data": {
            "text/plain": [
              "<IPython.core.display.HTML object>"
            ],
            "text/html": [
              "<small><p style=\"text-align:right;\">Sources: <span style=\"background-color:#483a2f;\">Virginia Woolf: Mr. Bennett and Mrs. Brown</span>, <span style=\"background-color:#3b4e20;\">Jane Austen: Pride and Prejudice</span>, <span style=\"background-color:#3c235f;\">Virginia Woolf: The Voyage Out</span>, <span style=\"background-color:#324745;\">Emily Brontë: Wuthering Heights</span>, <span style=\"background-color:#3d3b30;\">Jane Austen: Emma</span></p></small>"
            ]
          },
          "metadata": {}
        },
        {
          "output_type": "stream",
          "name": "stdout",
          "text": [
            "---------------- T=0.7 ---------------\n"
          ]
        },
        {
          "output_type": "display_data",
          "data": {
            "text/plain": [
              "<IPython.core.display.HTML object>"
            ],
            "text/html": [
              "<span style=\"background-color:#3d3b30;\">themselves.<br><br></span><span style=\"background-color:#3c235f;\">“But this </span><span style=\"background-color:#3c235f;\">stairs,” said </span>H<span style=\"background-color:#3d3b30;\">irst to wa</span>it!”<br><br>“Ly!<span style=\"background-color:#3b4e20;\"> I talked to </span>my kionfu<span style=\"background-color:#3c235f;\">lly the li</span>ked<br><span style=\"background-color:#3b4e20;\">her looked </span>cries<span style=\"background-color:#3c235f;\">sed where </span>called light<br>ungrix<span style=\"background-color:#3c235f;\">isted.<br><br>“You </span>mi<span style=\"background-color:#3d3b30;\">ssed, Mr. </span><span style=\"background-color:#3d3b30;\">Knightley, M</span>iss Ta<span style=\"background-color:#324745;\">y!” exclai</span>nd.<br><br>“For<span style=\"background-color:#324745;\"> more for my </span><span style=\"background-color:#3b4e20;\">feelings f</span>aary<span style=\"background-color:#324745;\"> for?”<br><br>“I </span>know you by at all my barder<span style=\"background-color:#324745;\">ed feelings</span><span style=\"background-color:#3d3b30;\">.”<br><br>They co</span><span style=\"background-color:#3d3b30;\">uld not be do</span>ubt-playet,<span style=\"background-color:#3d3b30;\"> your very </span>good-dooman<span style=\"background-color:#3d3b30;\">.”<br><br>“Frank w</span>ith the b<span style=\"background-color:#324745;\">ooking at you</span><span style=\"background-color:#3b4e20;\">r friends. </span>Ohy<span style=\"background-color:#324745;\">: he is so</span><br>little<span style=\"background-color:#3c235f;\"> good one, and </span>his <span style=\"background-color:#324745;\">ociations </span>peric<span style=\"background-color:#3b4e20;\">ture, she </span>is for an<br>a surce. I car<span style=\"background-color:#3d3b30;\">ent only to </span>see her <span style=\"background-color:#3d3b30;\">vitations.</span> On<br>it<span style=\"background-color:#483a2f;\"> have arrive</span><span style=\"background-color:#483a2f;\"> of the force </span>and bygnol; eded s<span style=\"background-color:#3c235f;\">upstairs,<br></span>and<span style=\"background-color:#3b4e20;\"> had at last</span>ork<span style=\"background-color:#3b4e20;\">s accompany</span> concerng<span style=\"background-color:#3c235f;\">ths, and t</span>oo much <span style=\"background-color:#3b4e20;\">alling for </span>and<br>"
            ]
          },
          "metadata": {}
        },
        {
          "output_type": "display_data",
          "data": {
            "text/plain": [
              "<IPython.core.display.HTML object>"
            ],
            "text/html": [
              "<small><p style=\"text-align:right;\">Sources: <span style=\"background-color:#3d3b30;\">Jane Austen: Emma</span>, <span style=\"background-color:#3c235f;\">Virginia Woolf: The Voyage Out</span>, <span style=\"background-color:#3b4e20;\">Jane Austen: Pride and Prejudice</span>, <span style=\"background-color:#324745;\">Emily Brontë: Wuthering Heights</span>, <span style=\"background-color:#483a2f;\">Virginia Woolf: Mr. Bennett and Mrs. Brown</span></p></small>"
            ]
          },
          "metadata": {}
        },
        {
          "output_type": "stream",
          "name": "stdout",
          "text": [
            "---------------- T=0.8 ---------------\n"
          ]
        },
        {
          "output_type": "display_data",
          "data": {
            "text/plain": [
              "<IPython.core.display.HTML object>"
            ],
            "text/html": [
              "the<span style=\"background-color:#3c235f;\"> kill the </span>imme<span style=\"background-color:#3c235f;\">d, and<br>par</span><span style=\"background-color:#3d3b30;\">aid, and e</span>very who got i<span style=\"background-color:#3c235f;\">t too good </span>for dualth<span style=\"background-color:#3b4e20;\">ing a word</span>er to<br>une—A<span style=\"background-color:#3c235f;\">nd with in</span> Alarg<span style=\"background-color:#3d3b30;\">e, Mr. Knightley, </span>\" then much al<span style=\"background-color:#483a2f;\">ents in the </span>pel<span style=\"background-color:#3d3b30;\">s to his m</span><span style=\"background-color:#3c235f;\">ind, but i</span><span style=\"background-color:#3d3b30;\">n every<br>th</span>at s<span style=\"background-color:#3c235f;\">he daughters to</span> b<span style=\"background-color:#3b4e20;\">e remember</span><span style=\"background-color:#324745;\">t my brother h</span>e will _’ _saw you distance?”<br><br>“Hind<span style=\"background-color:#3c235f;\">aying you </span><span style=\"background-color:#324745;\">have a noti</span>c<span style=\"background-color:#324745;\">e you know </span>how you ad<span style=\"background-color:#324745;\">d as you w</span><span style=\"background-color:#3d3b30;\">ant to say </span><span style=\"background-color:#3b4e20;\">in, I shall </span>possible<br><span style=\"background-color:#483a2f;\">I could do </span><span style=\"background-color:#483a2f;\">done that </span>you ar<span style=\"background-color:#3b4e20;\">e I thought </span>a<br>for hi<span style=\"background-color:#3d3b30;\">s from him. </span>Day I <span style=\"background-color:#3b4e20;\">vent your </span><span style=\"background-color:#3b4e20;\">age to you</span><span style=\"background-color:#3c235f;\"> alone with a </span><span style=\"background-color:#3c235f;\">good on the</span>y<br>viting<span style=\"background-color:#324745;\"> see, all </span>this hourarl<span style=\"background-color:#2a3b48;\">y who has </span><span style=\"background-color:#3c235f;\">believe. In </span><span style=\"background-color:#3b4e20;\">known you </span><span style=\"background-color:#3d3b30;\">had not fa</span>rther—ac<span style=\"background-color:#3d3b30;\">qual to the m</span><span style=\"background-color:#3b4e20;\">easure to a</span>dman—Gibonvi<span style=\"background-color:#324745;\">ce thought </span>of<span style=\"background-color:#324745;\"> them else</span> tal<span style=\"background-color:#3d3b30;\"><br>attentive t</span>emband. Praw frops don’t ash<br>conversto _"
            ]
          },
          "metadata": {}
        },
        {
          "output_type": "display_data",
          "data": {
            "text/plain": [
              "<IPython.core.display.HTML object>"
            ],
            "text/html": [
              "<small><p style=\"text-align:right;\">Sources: <span style=\"background-color:#3c235f;\">Virginia Woolf: The Voyage Out</span>, <span style=\"background-color:#3d3b30;\">Jane Austen: Emma</span>, <span style=\"background-color:#3b4e20;\">Jane Austen: Pride and Prejudice</span>, <span style=\"background-color:#483a2f;\">Virginia Woolf: Mr. Bennett and Mrs. Brown</span>, <span style=\"background-color:#324745;\">Emily Brontë: Wuthering Heights</span>, <span style=\"background-color:#2a3b48;\">Jane Austen: Lady Susan</span></p></small>"
            ]
          },
          "metadata": {}
        },
        {
          "output_type": "stream",
          "name": "stdout",
          "text": [
            "--------------------------------------\n",
            "\b\b\b\b\b\b\b\b\b\b\b\b\b\b\b\b\b\b\b\b\b\b\b\b\b\b\b\b\b\b\b\b\b\b\b\b\b\b\b\b\b\b\b\b\b\b\b\b\b\b\b\b\b\b\b\b\b\b\b\b\b\b\b\b\b\b\b\b\b\b\b\b\b\b\b\b\b\b\b\b\b\b\b\b\r895/895 [==============================] - 1696s 2s/step - loss: 0.2773 - accuracy: 0.9393 - val_loss: 0.2861 - val_accuracy: 0.9376\n",
            "Epoch 18/50000\n",
            "895/895 [==============================] - ETA: 0s - loss: 0.2730 - accuracy: 0.9402\n",
            "prompt: with a clearness which had never blessed\n",
            "her before. How improperly had she been acting by Harriet! How\n",
            "inconsiderate, how indelicate, how irrational, how unfeeling had been\n",
            "her conduct! What blindness, what madness, had led her on! It struck\n",
            "her with dreadful for\n",
            "---------------- T=0.6 ---------------\n"
          ]
        },
        {
          "output_type": "display_data",
          "data": {
            "text/plain": [
              "<IPython.core.display.HTML object>"
            ],
            "text/html": [
              "<span style=\"background-color:#3d3b30;\">warding to </span><span style=\"background-color:#3b4e20;\">talk, and </span><span style=\"background-color:#3b4e20;\">more than r</span>uden<span style=\"background-color:#3b4e20;\">t as much<br></span><span style=\"background-color:#3c235f;\">his round </span><span style=\"background-color:#3b4e20;\">which had been so </span>much<span style=\"background-color:#3b4e20;\"> possible a</span><span style=\"background-color:#3c235f;\">nd wonder </span>tha<span style=\"background-color:#3d3b30;\">n you to d</span><span style=\"background-color:#3b4e20;\">ispose of her</span><br>to fai<span style=\"background-color:#3b4e20;\">r—and very </span>much crip<span style=\"background-color:#3b4e20;\">tion did not </span>sudden<br>own scenty. Fo<span style=\"background-color:#3b4e20;\">r daughter’s </span>s<span style=\"background-color:#3b4e20;\">ing his be</span><span style=\"background-color:#3d3b30;\">ing more i</span>n for seconvate<br><span style=\"background-color:#3b4e20;\">him would </span>b<span style=\"background-color:#3b4e20;\">e it in the </span>tempolved by proficiou<span style=\"background-color:#3d3b30;\">s disgusting</span><span style=\"background-color:#3b4e20;\"> a sort of p</span>upite making<br><span style=\"background-color:#483a2f;\">how little</span>’s<span style=\"background-color:#324745;\"> sudden th</span>inci<span style=\"background-color:#3d3b30;\">pain which </span>was but Is<br>on<span style=\"background-color:#3d3b30;\">ly happiness</span> was a<span style=\"background-color:#3b4e20;\">irable to </span>Harriet if<br>the stra<span style=\"background-color:#3c235f;\">vement, and </span>I<span style=\"background-color:#324745;\"> though his a</span>ftern<span style=\"background-color:#3d3b30;\">one of such</span><span style=\"background-color:#3b4e20;\"> ladies, Mrs.</span><span style=\"background-color:#3d3b30;\"> Weston, on</span>e partn<span style=\"background-color:#324745;\">er-evening</span><br><span style=\"background-color:#3c235f;\">other’s letter</span> of Gim’s very le<br>o<span style=\"background-color:#3b4e20;\">f you mean</span>. I fell<span style=\"background-color:#3b4e20;\"> proved her </span><span style=\"background-color:#3b4e20;\">eyes. How </span>to say be<span style=\"background-color:#3d3b30;\">side as much </span>to fic<span style=\"background-color:#3b4e20;\">e the house<br></span>a<span style=\"background-color:#3d3b30;\"> long grow</span>n in flic<span style=\"background-color:#3b4e20;\">t, they might</span><span style=\"background-color:#3d3b30;\"> have common</span><br>as gun<span style=\"background-color:#3b4e20;\">ity in the </span>milities "
            ]
          },
          "metadata": {}
        },
        {
          "output_type": "display_data",
          "data": {
            "text/plain": [
              "<IPython.core.display.HTML object>"
            ],
            "text/html": [
              "<small><p style=\"text-align:right;\">Sources: <span style=\"background-color:#3d3b30;\">Jane Austen: Emma</span>, <span style=\"background-color:#3b4e20;\">Jane Austen: Pride and Prejudice</span>, <span style=\"background-color:#3c235f;\">Virginia Woolf: The Voyage Out</span>, <span style=\"background-color:#483a2f;\">Virginia Woolf: Mr. Bennett and Mrs. Brown</span>, <span style=\"background-color:#324745;\">Emily Brontë: Wuthering Heights</span></p></small>"
            ]
          },
          "metadata": {}
        },
        {
          "output_type": "stream",
          "name": "stdout",
          "text": [
            "---------------- T=0.7 ---------------\n"
          ]
        },
        {
          "output_type": "display_data",
          "data": {
            "text/plain": [
              "<IPython.core.display.HTML object>"
            ],
            "text/html": [
              "<span style=\"background-color:#3b4e20;\">wardness w</span>as strue;<span style=\"background-color:#3d3b30;\"> and<br>very </span>probablemnesc<span style=\"background-color:#3d3b30;\">t her own do</span>.<span style=\"background-color:#324745;\"><br>The second</span>uc<span style=\"background-color:#3d3b30;\">ting certain</span> ideat<br>fo<span style=\"background-color:#3d3b30;\">r in love with </span>exac<span style=\"background-color:#3d3b30;\">tly would </span><span style=\"background-color:#3d3b30;\">much to be go</span>ing so<br>f<span style=\"background-color:#3b4e20;\">orrow for </span>the thrief any of<br>her sole<span style=\"background-color:#324745;\">ragging hi</span><span style=\"background-color:#3b4e20;\">ings; and </span>beau<span style=\"background-color:#3b4e20;\">nts of the </span>rooman by re;<span style=\"background-color:#3d3b30;\"> and little </span>thoseconfou<span style=\"background-color:#3d3b30;\">nd every p</span>ar<span style=\"background-color:#324745;\">ty of which </span><span style=\"background-color:#3b4e20;\">must be in </span>a desplicades<span style=\"background-color:#3d3b30;\">Woodhouse, al</span><span style=\"background-color:#3d3b30;\">lowed by the </span>whol<span style=\"background-color:#3b4e20;\">d as much </span>sofast day: who a<span style=\"background-color:#3c235f;\">re no more </span>than nex<span style=\"background-color:#3c235f;\">t Helen and</span><span style=\"background-color:#324745;\"> presently o</span>n in it a<span style=\"background-color:#3b4e20;\">lf at the </span>basin dogs, usan<br>was slaye<span style=\"background-color:#324745;\">llowed in the </span>doo<span style=\"background-color:#3c235f;\">r of life.</span>”<br><span style=\"background-color:#2a3b48;\"><br>I cannot </span>make her. “of your aulter door—“don’t ke<br><span style=\"background-color:#3b4e20;\">is nothing in </span><span style=\"background-color:#3b4e20;\">for the other.</span> O<span style=\"background-color:#324745;\">h.”<br><br>“I wa</span><span style=\"background-color:#3b4e20;\">s very much in </span>you<span style=\"background-color:#324745;\"> for other </span>will.<br><br>“WHe’<span style=\"background-color:#3b4e20;\">s,” replied</span><span style=\"background-color:#3c235f;\">, “which I m</span><span style=\"background-color:#3b4e20;\">ust think </span><span style=\"background-color:#3b4e20;\">that she had a </span>t<span style=\"background-color:#3b4e20;\">able. After </span>jealment,<br>“Smith "
            ]
          },
          "metadata": {}
        },
        {
          "output_type": "display_data",
          "data": {
            "text/plain": [
              "<IPython.core.display.HTML object>"
            ],
            "text/html": [
              "<small><p style=\"text-align:right;\">Sources: <span style=\"background-color:#3b4e20;\">Jane Austen: Pride and Prejudice</span>, <span style=\"background-color:#3d3b30;\">Jane Austen: Emma</span>, <span style=\"background-color:#324745;\">Emily Brontë: Wuthering Heights</span>, <span style=\"background-color:#3c235f;\">Virginia Woolf: The Voyage Out</span>, <span style=\"background-color:#2a3b48;\">Jane Austen: Lady Susan</span></p></small>"
            ]
          },
          "metadata": {}
        },
        {
          "output_type": "stream",
          "name": "stdout",
          "text": [
            "---------------- T=0.8 ---------------\n"
          ]
        },
        {
          "output_type": "display_data",
          "data": {
            "text/plain": [
              "<IPython.core.display.HTML object>"
            ],
            "text/html": [
              "ward bes<span style=\"background-color:#3d3b30;\">t them to be </span>elegar<span style=\"background-color:#3c235f;\">d as to ex</span><span style=\"background-color:#3c235f;\">action. She </span>though<span style=\"background-color:#3c235f;\"> old in th</span><span style=\"background-color:#3b4e20;\">e feelings as </span><span style=\"background-color:#3b4e20;\">the propos</span>i<span style=\"background-color:#324745;\">ting the<br>fo</span>und <span style=\"background-color:#3d3b30;\">missions, </span><span style=\"background-color:#3c235f;\">what was re</span><span style=\"background-color:#3c235f;\">plied. The</span>y<span style=\"background-color:#3d3b30;\"> would much </span><span style=\"background-color:#3d3b30;\">subject, “</span><span style=\"background-color:#324745;\">the idea that</span><span style=\"background-color:#3d3b30;\"><br>Mr. Elton,</span><span style=\"background-color:#3c235f;\">” said Rachel, a</span>s ext<span style=\"background-color:#3b4e20;\"> day that </span>se<span style=\"background-color:#3b4e20;\">ers when th</span>at do sk<span style=\"background-color:#324745;\"> than him </span>complaced<span style=\"background-color:#3b4e20;\">sed their </span>witched,<span style=\"background-color:#2a3b48;\"><br>I cannot </span><span style=\"background-color:#3b4e20;\">one of them, </span>is<span style=\"background-color:#3b4e20;\">looked on </span>his grown graspime, n<span style=\"background-color:#3b4e20;\">ation. His</span> fal<br>arripal; she s<span style=\"background-color:#483a2f;\">travelling, </span>and purscape<span style=\"background-color:#3c235f;\">, made it </span>sun<span style=\"background-color:#3d3b30;\">ments with the</span>ir pl<span style=\"background-color:#3d3b30;\">ain; and a</span>t first<br>with a secomi<span style=\"background-color:#3b4e20;\">ng man, and </span><span style=\"background-color:#3b4e20;\">called to </span>foured <span style=\"background-color:#3b4e20;\">on of being </span>pian<br>ra<span style=\"background-color:#3b4e20;\">ther books were </span>all<span style=\"background-color:#3c235f;\"> storm.<br><br>The </span>firming ports<span style=\"background-color:#324745;\">: I though</span><span style=\"background-color:#3b4e20;\"> he had do</span>wn her nex about<span style=\"background-color:#3b4e20;\">that he was </span>waiticiousnex<span style=\"background-color:#3b4e20;\"> his letter</span>; but Iarrive<span style=\"background-color:#3d3b30;\">ation was eve</span>n<span style=\"background-color:#324745;\">ing being re</span>ady ev<span style=\"background-color:#3c235f;\">en like th</span>i<span style=\"background-color:#3d3b30;\">s, she looked </span>time but boxceive<span style=\"background-color:#2a3b48;\">able of his </span>own "
            ]
          },
          "metadata": {}
        },
        {
          "output_type": "display_data",
          "data": {
            "text/plain": [
              "<IPython.core.display.HTML object>"
            ],
            "text/html": [
              "<small><p style=\"text-align:right;\">Sources: <span style=\"background-color:#3d3b30;\">Jane Austen: Emma</span>, <span style=\"background-color:#3c235f;\">Virginia Woolf: The Voyage Out</span>, <span style=\"background-color:#3b4e20;\">Jane Austen: Pride and Prejudice</span>, <span style=\"background-color:#324745;\">Emily Brontë: Wuthering Heights</span>, <span style=\"background-color:#2a3b48;\">Jane Austen: Lady Susan</span>, <span style=\"background-color:#483a2f;\">Virginia Woolf: Mr. Bennett and Mrs. Brown</span></p></small>"
            ]
          },
          "metadata": {}
        },
        {
          "output_type": "stream",
          "name": "stdout",
          "text": [
            "--------------------------------------\n",
            "\b\b\b\b\b\b\b\b\b\b\b\b\b\b\b\b\b\b\b\b\b\b\b\b\b\b\b\b\b\b\b\b\b\b\b\b\b\b\b\b\b\b\b\b\b\b\b\b\b\b\b\b\b\b\b\b\b\b\b\b\b\b\b\b\b\b\b\b\b\b\b\b\b\b\b\b\b\b\b\b\b\b\b\b\r895/895 [==============================] - 1698s 2s/step - loss: 0.2730 - accuracy: 0.9402 - val_loss: 0.2820 - val_accuracy: 0.9382\n",
            "Epoch 19/50000\n",
            "895/895 [==============================] - ETA: 0s - loss: 0.2691 - accuracy: 0.9409\n",
            "prompt: fectly new this\n",
            "circumstance was to her; but as without supposing it possible that she\n",
            "could be ignorant of any of the particulars of Mr. Frank Churchill’s\n",
            "going, she proceeded to give them all, it was of no consequence.\n",
            "\n",
            "What Mr. Elton had learned from the ostler on the subject, being the\n",
            "acc\n",
            "---------------- T=0.6 ---------------\n"
          ]
        },
        {
          "output_type": "display_data",
          "data": {
            "text/plain": [
              "<IPython.core.display.HTML object>"
            ],
            "text/html": [
              "<span style=\"background-color:#2a3b48;\">ount of her </span><span style=\"background-color:#3b4e20;\">affected by </span><span style=\"background-color:#3d3b30;\">Miss Woodhouse, and </span>re<span style=\"background-color:#3b4e20;\">garden at </span>vainar<span style=\"background-color:#3b4e20;\">y, without </span>up <span style=\"background-color:#3b4e20;\">at there is </span><span style=\"background-color:#3d3b30;\">Mr. Eltons</span>y—<span style=\"background-color:#3d3b30;\">Churchill’s ar</span>ms.<br><br>“<span style=\"background-color:#3d3b30;\">Mr. Churchill’s </span><span style=\"background-color:#324745;\">a few year</span> it <span style=\"background-color:#3c235f;\">ir. She was </span>so <span style=\"background-color:#3c235f;\">much change</span><br>to Pep<span style=\"background-color:#3d3b30;\">perhaps, had</span><span style=\"background-color:#3b4e20;\">, in the v</span><span style=\"background-color:#3c235f;\">ising from the </span>most ope. An<span style=\"background-color:#324745;\">d<br>children </span>Londer raph—noll<span style=\"background-color:#324745;\">ers of the famil</span>i<span style=\"background-color:#3b4e20;\">an usually </span><span style=\"background-color:#483a2f;\">about the w</span>holding and<br>g<span style=\"background-color:#2a3b48;\">aring and </span>Pepersu<span style=\"background-color:#3b4e20;\">ated by the </span>doo<span style=\"background-color:#3d3b30;\">r.<br><br>Mrs. Weston</span>’s d<span style=\"background-color:#3b4e20;\">especting </span><span style=\"background-color:#324745;\">about the e</span>arth i<span style=\"background-color:#324745;\">s regardin</span>nump<span style=\"background-color:#3d3b30;\">parting in </span>the<br><span style=\"background-color:#324745;\">severing s</span>o addle<span style=\"background-color:#3c235f;\"> of Arthur</span><span style=\"background-color:#3b4e20;\">ried her a</span><span style=\"background-color:#3d3b30;\">t all, and<br></span>Edgar’s to be hunger<span style=\"background-color:#324745;\">.<br><br>Hindley </span>was <span style=\"background-color:#3b4e20;\">wo young m</span><span style=\"background-color:#3b4e20;\">an, and the</span><span style=\"background-color:#3b4e20;\">re was some </span>reality in _ every<br>had<span style=\"background-color:#2a3b48;\">ged her to </span>_she_He’s<span style=\"background-color:#324745;\"> of Heathcliff</span>!<span style=\"background-color:#3c235f;\"> Terence sat</span>isfacto<span style=\"background-color:#3c235f;\">; the others, </span>suff"
            ]
          },
          "metadata": {}
        },
        {
          "output_type": "display_data",
          "data": {
            "text/plain": [
              "<IPython.core.display.HTML object>"
            ],
            "text/html": [
              "<small><p style=\"text-align:right;\">Sources: <span style=\"background-color:#2a3b48;\">Jane Austen: Lady Susan</span>, <span style=\"background-color:#3b4e20;\">Jane Austen: Pride and Prejudice</span>, <span style=\"background-color:#3d3b30;\">Jane Austen: Emma</span>, <span style=\"background-color:#324745;\">Emily Brontë: Wuthering Heights</span>, <span style=\"background-color:#3c235f;\">Virginia Woolf: The Voyage Out</span>, <span style=\"background-color:#483a2f;\">Virginia Woolf: Mr. Bennett and Mrs. Brown</span></p></small>"
            ]
          },
          "metadata": {}
        },
        {
          "output_type": "stream",
          "name": "stdout",
          "text": [
            "---------------- T=0.7 ---------------\n"
          ]
        },
        {
          "output_type": "display_data",
          "data": {
            "text/plain": [
              "<IPython.core.display.HTML object>"
            ],
            "text/html": [
              "<span style=\"background-color:#3d3b30;\">ount of her own </span>dispose<span style=\"background-color:#3b4e20;\"> to oppose </span><span style=\"background-color:#3d3b30;\">to Mrs. Weston, and </span>Emma’s deal begined<br>byequ<span style=\"background-color:#3c235f;\">almost of the</span><span style=\"background-color:#324745;\"> evening her</span><span style=\"background-color:#3d3b30;\">self, than</span> Home<br>and defes<span style=\"background-color:#3b4e20;\">sure of de</span>al. A<span style=\"background-color:#3b4e20;\">s a week, </span>hel<span style=\"background-color:#324745;\"><br>a letter </span>housesk the brummeding. Randanianiece<span style=\"background-color:#3c235f;\"> was<br>either </span>of holifts in disturbh, man<br>was man for chet, extress. Frank spot<span style=\"background-color:#2a3b48;\"><br>of her being </span><span style=\"background-color:#3b4e20;\">made up the </span>airrief; his sto<span style=\"background-color:#3b4e20;\">; the other</span><br>bro<span style=\"background-color:#3b4e20;\">lady and h</span><span style=\"background-color:#3b4e20;\">ours of pl</span>ayer’s stairs<br>up her cred, mank odge. The lacky lu<span style=\"background-color:#324745;\">ship, and<br></span>was<span style=\"background-color:#3b4e20;\"> dances of </span><span style=\"background-color:#3d3b30;\">Mr. Woodhouse sh</span>ar<br>as Dix Hiuds. Susancended or Evely’s deal<br>appl<span style=\"background-color:#3d3b30;\">e her hair</span>s mak<span style=\"background-color:#3d3b30;\">en Mrs. Weston</span>’s salush<span style=\"background-color:#3d3b30;\">ed by Mr. Woodhouse</span>? Fanns; or a<br><span style=\"background-color:#3d3b30;\">Harriet. He</span>’s bring he"
            ]
          },
          "metadata": {}
        },
        {
          "output_type": "display_data",
          "data": {
            "text/plain": [
              "<IPython.core.display.HTML object>"
            ],
            "text/html": [
              "<small><p style=\"text-align:right;\">Sources: <span style=\"background-color:#3d3b30;\">Jane Austen: Emma</span>, <span style=\"background-color:#3b4e20;\">Jane Austen: Pride and Prejudice</span>, <span style=\"background-color:#3c235f;\">Virginia Woolf: The Voyage Out</span>, <span style=\"background-color:#324745;\">Emily Brontë: Wuthering Heights</span>, <span style=\"background-color:#2a3b48;\">Jane Austen: Lady Susan</span></p></small>"
            ]
          },
          "metadata": {}
        },
        {
          "output_type": "stream",
          "name": "stdout",
          "text": [
            "---------------- T=0.8 ---------------\n"
          ]
        },
        {
          "output_type": "display_data",
          "data": {
            "text/plain": [
              "<IPython.core.display.HTML object>"
            ],
            "text/html": [
              "<span style=\"background-color:#2a3b48;\">ount of it</span>, Miss Col<span style=\"background-color:#3c235f;\">e.<br><br>After a</span>nxcessitting Gardiahire in Fays<br><span style=\"background-color:#2a3b48;\">great part</span><span style=\"background-color:#483a2f;\">s and the </span>walk si<span style=\"background-color:#3b4e20;\">delighted to </span>them;<br>and to<span style=\"background-color:#2a3b48;\">rness and </span>respectac<span style=\"background-color:#3b4e20;\">understanding and </span>fearn leeper, ersu<span style=\"background-color:#3b4e20;\">able of co</span>ndeblusicy the eshesien<span style=\"background-color:#3d3b30;\">tting to the </span><span style=\"background-color:#483a2f;\">satisfacto</span>’s of compliving-play_ame _c<span style=\"background-color:#324745;\">tes and in</span><span style=\"background-color:#3b4e20;\">terference </span><span style=\"background-color:#3c235f;\">room which </span>you no wo minutterforth nourate to any’d drink’s the wife’s furnion: the Poo<span style=\"background-color:#3b4e20;\">r. Though </span><span style=\"background-color:#3c235f;\">he looked at R</span>unda<span style=\"background-color:#3c235f;\">nce; he was </span><span style=\"background-color:#3b4e20;\">a little pr</span>iz<span style=\"background-color:#3d3b30;\">th, under </span>the inceg<span style=\"background-color:#324745;\">ying the d</span><span style=\"background-color:#3b4e20;\">isfaction.<br><br></span>At lea<span style=\"background-color:#483a2f;\">st carriage</span>;<span style=\"background-color:#3b4e20;\"> very day </span><span style=\"background-color:#3d3b30;\">to give her c</span><span style=\"background-color:#3b4e20;\">once more con</span>ven<br>and lo<span style=\"background-color:#324745;\">ve through</span>-li<span style=\"background-color:#3d3b30;\">ke a much </span><span style=\"background-color:#3c235f;\">read out a</span>ll the<br><span style=\"background-color:#324745;\">fied into </span><span style=\"background-color:#3b4e20;\">the first time </span>from contreat.<br>All<span style=\"background-color:#3d3b30;\">an<br>having h</span>er and<span style=\"background-color:#483a2f;\"> Not that </span>inder<span style=\"background-color:#3c235f;\">!”<br><br>They h</span>eart"
            ]
          },
          "metadata": {}
        },
        {
          "output_type": "display_data",
          "data": {
            "text/plain": [
              "<IPython.core.display.HTML object>"
            ],
            "text/html": [
              "<small><p style=\"text-align:right;\">Sources: <span style=\"background-color:#2a3b48;\">Jane Austen: Lady Susan</span>, <span style=\"background-color:#3c235f;\">Virginia Woolf: The Voyage Out</span>, <span style=\"background-color:#483a2f;\">Virginia Woolf: Mr. Bennett and Mrs. Brown</span>, <span style=\"background-color:#3b4e20;\">Jane Austen: Pride and Prejudice</span>, <span style=\"background-color:#3d3b30;\">Jane Austen: Emma</span>, <span style=\"background-color:#324745;\">Emily Brontë: Wuthering Heights</span></p></small>"
            ]
          },
          "metadata": {}
        },
        {
          "output_type": "stream",
          "name": "stdout",
          "text": [
            "--------------------------------------\n",
            "\b\b\b\b\b\b\b\b\b\b\b\b\b\b\b\b\b\b\b\b\b\b\b\b\b\b\b\b\b\b\b\b\b\b\b\b\b\b\b\b\b\b\b\b\b\b\b\b\b\b\b\b\b\b\b\b\b\b\b\b\b\b\b\b\b\b\b\b\b\b\b\b\b\b\b\b\b\b\b\b\b\b\b\b\r895/895 [==============================] - 1697s 2s/step - loss: 0.2691 - accuracy: 0.9409 - val_loss: 0.2793 - val_accuracy: 0.9389\n",
            "Epoch 20/50000\n",
            "895/895 [==============================] - ETA: 0s - loss: 0.2657 - accuracy: 0.9416\n",
            "prompt: ver\n",
            "given her a hint on the subject; but she felt completely guilty of\n",
            "having encouraged what she might have repressed. She might have\n",
            "prevented the indulgence and increase of such sentiments. Her influence\n",
            "would have been enough. And now she was very conscious that she ought\n",
            "to have prevented them.\n",
            "---------------- T=0.6 ---------------\n"
          ]
        },
        {
          "output_type": "display_data",
          "data": {
            "text/plain": [
              "<IPython.core.display.HTML object>"
            ],
            "text/html": [
              "—<span style=\"background-color:#3b4e20;\">which he s</span>aw it of vexce<span style=\"background-color:#324745;\">nest appea</span><span style=\"background-color:#3b4e20;\">red that a</span>bout,<br><span style=\"background-color:#324745;\">while, and s</span><span style=\"background-color:#3c235f;\">he looked at him, and </span><span style=\"background-color:#483a2f;\">there was no</span>w a compan<br>exi<span style=\"background-color:#3d3b30;\">on in love</span>s:<span style=\"background-color:#3b4e20;\"> she might think </span>if<span style=\"background-color:#3c235f;\"> one would be a</span>ll us<span style=\"background-color:#3c235f;\">e, that<br>was </span><span style=\"background-color:#3c235f;\">going to pa</span>pa. I hurchill <span style=\"background-color:#3b4e20;\">unate in hi</span>m an ac<br><span style=\"background-color:#3d3b30;\">of no more</span><span style=\"background-color:#324745;\"> young lady, a</span>t a fancucumanh<br>driv<span style=\"background-color:#3b4e20;\">er’s room.</span> . . . . . . . . . . . . uman<span style=\"background-color:#3d3b30;\"> of Willia</span>ns<span style=\"background-color:#3b4e20;\">, and Miss </span>Amirapi<span style=\"background-color:#3d3b30;\">l<br>not wish</span><span style=\"background-color:#2a3b48;\">ing to my </span>head, “What all go<span style=\"background-color:#3d3b30;\">t to put the</span>re<br>is that Church Windley a greathee<span style=\"background-color:#324745;\">—the only </span>sofanci<span style=\"background-color:#3c235f;\">es, rather</span> low of you feel<span style=\"background-color:#324745;\"><br>she knew wh</span><span style=\"background-color:#2a3b48;\">at you mean </span>o<span style=\"background-color:#3d3b30;\">n that sort</span>h<span style=\"background-color:#3b4e20;\">, and hope</span>ned oan<br>be<span style=\"background-color:#3d3b30;\">en she found t</span>o Highb<span style=\"background-color:#3b4e20;\">ound, and t</span>ellalivers<span style=\"background-color:#3d3b30;\"> had done his </span>from Goddam-band’s "
            ]
          },
          "metadata": {}
        },
        {
          "output_type": "display_data",
          "data": {
            "text/plain": [
              "<IPython.core.display.HTML object>"
            ],
            "text/html": [
              "<small><p style=\"text-align:right;\">Sources: <span style=\"background-color:#3b4e20;\">Jane Austen: Pride and Prejudice</span>, <span style=\"background-color:#324745;\">Emily Brontë: Wuthering Heights</span>, <span style=\"background-color:#3c235f;\">Virginia Woolf: The Voyage Out</span>, <span style=\"background-color:#483a2f;\">Virginia Woolf: Mr. Bennett and Mrs. Brown</span>, <span style=\"background-color:#3d3b30;\">Jane Austen: Emma</span>, <span style=\"background-color:#2a3b48;\">Jane Austen: Lady Susan</span></p></small>"
            ]
          },
          "metadata": {}
        },
        {
          "output_type": "stream",
          "name": "stdout",
          "text": [
            "---------------- T=0.7 ---------------\n"
          ]
        },
        {
          "output_type": "display_data",
          "data": {
            "text/plain": [
              "<IPython.core.display.HTML object>"
            ],
            "text/html": [
              "—Smith<span style=\"background-color:#3d3b30;\"> and<br>sorry</span> she<span style=\"background-color:#3d3b30;\"> was Mr. Knightley’s</span><span style=\"background-color:#3b4e20;\"> off, and </span><span style=\"background-color:#3b4e20;\">should not<br></span>make up<span style=\"background-color:#3d3b30;\"> suffer in </span>the self-roo<span style=\"background-color:#3b4e20;\">m of some </span>thing to<br><span style=\"background-color:#3b4e20;\">gone, and </span><span style=\"background-color:#324745;\">that I had the h</span>earth!—Willians<span style=\"background-color:#3d3b30;\">, I say th</span>e so<span style=\"background-color:#324745;\">me; I was </span><span style=\"background-color:#3b4e20;\">better pro</span><span style=\"background-color:#3b4e20;\">nough from </span>going in ruden<br>How I then—you be cred<span style=\"background-color:#3d3b30;\">ient there, </span>say many<span style=\"background-color:#3c235f;\"><br>kindness of </span><span style=\"background-color:#3b4e20;\">your answer</span><span style=\"background-color:#3b4e20;\">, and your </span>known to<span style=\"background-color:#2a3b48;\"> for<br>your </span><span style=\"background-color:#3c235f;\">reason, and there</span>’s handsma’v<span style=\"background-color:#3c235f;\">e you look</span>.”<br><br>“If—<span style=\"background-color:#3b4e20;\">you mean, </span>die—‘Ah—sorry—you’re le—<span style=\"background-color:#2a3b48;\">it is so, </span><span style=\"background-color:#324745;\">and people </span>go,’—about Space to<span style=\"background-color:#324745;\"> my son.”<br><br></span>All. Wat God, Chee<span style=\"background-color:#3d3b30;\">—what can </span><span style=\"background-color:#3d3b30;\">we do come </span>up to attish<br>all brup<br>an<span style=\"background-color:#3b4e20;\">d domestic</span>ic<span style=\"background-color:#3b4e20;\">al, there </span>are <span style=\"background-color:#3d3b30;\">or young man </span><span style=\"background-color:#324745;\">there with m</span>y hands _<span style=\"background-color:#3b4e20;\"> more than I </span><span style=\"background-color:#2a3b48;\">getting her </span>at Smourr<span style=\"background-color:#483a2f;\">ound of the </span>brans r"
            ]
          },
          "metadata": {}
        },
        {
          "output_type": "display_data",
          "data": {
            "text/plain": [
              "<IPython.core.display.HTML object>"
            ],
            "text/html": [
              "<small><p style=\"text-align:right;\">Sources: <span style=\"background-color:#3d3b30;\">Jane Austen: Emma</span>, <span style=\"background-color:#3b4e20;\">Jane Austen: Pride and Prejudice</span>, <span style=\"background-color:#324745;\">Emily Brontë: Wuthering Heights</span>, <span style=\"background-color:#3c235f;\">Virginia Woolf: The Voyage Out</span>, <span style=\"background-color:#2a3b48;\">Jane Austen: Lady Susan</span>, <span style=\"background-color:#483a2f;\">Virginia Woolf: Mr. Bennett and Mrs. Brown</span></p></small>"
            ]
          },
          "metadata": {}
        },
        {
          "output_type": "stream",
          "name": "stdout",
          "text": [
            "---------------- T=0.8 ---------------\n"
          ]
        },
        {
          "output_type": "display_data",
          "data": {
            "text/plain": [
              "<IPython.core.display.HTML object>"
            ],
            "text/html": [
              "—<span style=\"background-color:#3d3b30;\">yes were t</span><span style=\"background-color:#324745;\">hings; and </span><span style=\"background-color:#3b4e20;\">yes were d</span><span style=\"background-color:#3b4e20;\">uction, and<br></span>the flow s<span style=\"background-color:#3b4e20;\">mily again</span>ed<span style=\"background-color:#324745;\"> his brown </span>severed<br>from indow<span style=\"background-color:#324745;\">inguished a</span>t the homalles have<br>bless<span style=\"background-color:#3d3b30;\">; so much </span>to bridle, care dar-hababsoists, unjpugged days<span style=\"background-color:#324745;\">, the moment</span>, endence<span style=\"background-color:#3c235f;\">n,” he add</span>ress<span style=\"background-color:#3c235f;\"> grass, a </span><span style=\"background-color:#3d3b30;\">stranger th</span>e heav<span style=\"background-color:#324745;\">e what was </span><span style=\"background-color:#324745;\">going to co</span>rrowd<span style=\"background-color:#3b4e20;\">s they are </span>a<span style=\"background-color:#3d3b30;\">ll brought </span>by put<span style=\"background-color:#324745;\">s to me, and s</span>a<span style=\"background-color:#3c235f;\">uck by the c</span>ousinmagy. A<span style=\"background-color:#324745;\">ppeared that </span><span style=\"background-color:#2a3b48;\">certainly e</span>avelves, at Semp<span style=\"background-color:#3d3b30;\">er.”<br><br>But h</span>e was go d<span style=\"background-color:#3d3b30;\">own about </span>an i<span style=\"background-color:#2a3b48;\">nd. It is </span>absorb<span style=\"background-color:#3c235f;\">oming of the </span><span style=\"background-color:#3c235f;\">morning,<br>th</span>e ark. “<span style=\"background-color:#3d3b30;\">Every body </span>thought<span style=\"background-color:#3c235f;\"> Susan on </span>hat’s tivelying<span style=\"background-color:#324745;\"> union with his </span>pah, wift<span style=\"background-color:#3b4e20;\">ing if you </span>went on Kent<span style=\"background-color:#3d3b30;\">s. You are </span>not winter g<span style=\"background-color:#3c235f;\">rance upon</span> m<span style=\"background-color:#3d3b30;\">e out the </span><span style=\"background-color:#3b4e20;\">when you f</span>eel, do a nex. At l"
            ]
          },
          "metadata": {}
        },
        {
          "output_type": "display_data",
          "data": {
            "text/plain": [
              "<IPython.core.display.HTML object>"
            ],
            "text/html": [
              "<small><p style=\"text-align:right;\">Sources: <span style=\"background-color:#3d3b30;\">Jane Austen: Emma</span>, <span style=\"background-color:#324745;\">Emily Brontë: Wuthering Heights</span>, <span style=\"background-color:#3b4e20;\">Jane Austen: Pride and Prejudice</span>, <span style=\"background-color:#3c235f;\">Virginia Woolf: The Voyage Out</span>, <span style=\"background-color:#2a3b48;\">Jane Austen: Lady Susan</span></p></small>"
            ]
          },
          "metadata": {}
        },
        {
          "output_type": "stream",
          "name": "stdout",
          "text": [
            "--------------------------------------\n",
            "\b\b\b\b\b\b\b\b\b\b\b\b\b\b\b\b\b\b\b\b\b\b\b\b\b\b\b\b\b\b\b\b\b\b\b\b\b\b\b\b\b\b\b\b\b\b\b\b\b\b\b\b\b\b\b\b\b\b\b\b\b\b\b\b\b\b\b\b\b\b\b\b\b\b\b\b\b\b\b\b\b\b\b\b\r895/895 [==============================] - 1696s 2s/step - loss: 0.2657 - accuracy: 0.9416 - val_loss: 0.2775 - val_accuracy: 0.9392\n",
            "Epoch 21/50000\n",
            "895/895 [==============================] - ETA: 0s - loss: 0.2624 - accuracy: 0.9423\n",
            "prompt: r; for she lingered, viewing with troubled eyes the features of\n",
            "the speaker, too stern to express his inward deceit.\n",
            "\n",
            "He pushed his horse close, and, bending down, observed—\n",
            "\n",
            "“Miss Catherine, I’ll own to you that I have little patience with\n",
            "Linton; and Hareton and Joseph h\n",
            "---------------- T=0.6 ---------------\n"
          ]
        },
        {
          "output_type": "display_data",
          "data": {
            "text/plain": [
              "<IPython.core.display.HTML object>"
            ],
            "text/html": [
              "ad s<span style=\"background-color:#3b4e20;\">he detained</span><br><span style=\"background-color:#324745;\">his disgust </span><span style=\"background-color:#3d3b30;\">than she was </span>unate ind<br><span style=\"background-color:#483a2f;\">unable to </span>C<span style=\"background-color:#3d3b30;\">onsidered e</span>ver<span style=\"background-color:#3d3b30;\">? She is t</span>roubly<br><span style=\"background-color:#3b4e20;\">to uncommon</span>ably such d<span style=\"background-color:#3d3b30;\">e, and is a</span>l<span style=\"background-color:#3d3b30;\">s of<br>having </span><span style=\"background-color:#3d3b30;\">could not un</span>it<span style=\"background-color:#3d3b30;\">y more than my</span> right—Hartzy<span style=\"background-color:#3d3b30;\">, but seem</span><br>not decious<span style=\"background-color:#3b4e20;\">ly more than </span>_<span style=\"background-color:#3d3b30;\">, he would be </span>no great<br><span style=\"background-color:#3d3b30;\">read of her </span>like an eft. Tay-sixRandin’s _<span style=\"background-color:#3b4e20;\"> placed, th</span>an the<br><span style=\"background-color:#324745;\">fess, and </span><span style=\"background-color:#3d3b30;\">would not speak</span><span style=\"background-color:#3b4e20;\">ing any of </span>right<span style=\"background-color:#3d3b30;\">.<br><br>Mr. Knightley </span>was then Jane<span style=\"background-color:#3d3b30;\">, very well </span><span style=\"background-color:#2a3b48;\">as little<br>i</span><span style=\"background-color:#3b4e20;\">s not to be ha</span><span style=\"background-color:#3b4e20;\">ppy promise</span>d. She ford<span style=\"background-color:#3d3b30;\"><br>of Donwell a</span><span style=\"background-color:#3b4e20;\">s the other </span><span style=\"background-color:#3d3b30;\">friendly i</span>dead to<br>u<span style=\"background-color:#3b4e20;\">nning the </span>institat<span style=\"background-color:#3b4e20;\">ing did not </span><span style=\"background-color:#3b4e20;\">more than<br></span><span style=\"background-color:#3d3b30;\">pleasures of h</span><span style=\"background-color:#3b4e20;\">appiness. She </span><span style=\"background-color:#3c235f;\">was used to a</span> hand to<br><span style=\"background-color:#3d3b30;\">not wanted to </span><span style=\"background-color:#3d3b30;\">her being to</span>o lately tory<br>half<span style=\"background-color:#3b4e20;\"> made her m</span><span style=\"background-color:#3b4e20;\">arriage. He </span>ha<span style=\"background-color:#3b4e20;\">d a morning</span><span style=\"background-color:#3d3b30;\">;<br>and it w</span>as no<span style=\"background-color:#3b4e20;\">t unable t</span>han<span style=\"background-color:#3c235f;\"> any reason </span>for my "
            ]
          },
          "metadata": {}
        },
        {
          "output_type": "display_data",
          "data": {
            "text/plain": [
              "<IPython.core.display.HTML object>"
            ],
            "text/html": [
              "<small><p style=\"text-align:right;\">Sources: <span style=\"background-color:#3b4e20;\">Jane Austen: Pride and Prejudice</span>, <span style=\"background-color:#324745;\">Emily Brontë: Wuthering Heights</span>, <span style=\"background-color:#3d3b30;\">Jane Austen: Emma</span>, <span style=\"background-color:#483a2f;\">Virginia Woolf: Mr. Bennett and Mrs. Brown</span>, <span style=\"background-color:#2a3b48;\">Jane Austen: Lady Susan</span>, <span style=\"background-color:#3c235f;\">Virginia Woolf: The Voyage Out</span></p></small>"
            ]
          },
          "metadata": {}
        },
        {
          "output_type": "stream",
          "name": "stdout",
          "text": [
            "---------------- T=0.7 ---------------\n"
          ]
        },
        {
          "output_type": "display_data",
          "data": {
            "text/plain": [
              "<IPython.core.display.HTML object>"
            ],
            "text/html": [
              "<span style=\"background-color:#3b4e20;\">otion that </span>cousin on his<br>obody ch<span style=\"background-color:#3b4e20;\">ill sudden</span><span style=\"background-color:#483a2f;\"> thinking </span><span style=\"background-color:#3b4e20;\">up to her, </span><span style=\"background-color:#324745;\">dation in </span>the Paley<br>dest<span style=\"background-color:#3b4e20;\">ing all my </span>hat. Fran<span style=\"background-color:#3d3b30;\">k on him w</span>here my good--mi<span style=\"background-color:#324745;\">sing about </span>no answe<span style=\"background-color:#3d3b30;\">rs. It is i</span><span style=\"background-color:#3b4e20;\">t not that </span>she was<br>unce; <span style=\"background-color:#324745;\">revent them </span>to<span style=\"background-color:#3b4e20;\"> be in your</span>self<span style=\"background-color:#3c235f;\"> by each other </span>in the<br>Longing, by we<span style=\"background-color:#3b4e20;\">lling, for </span><span style=\"background-color:#3d3b30;\">being made </span>her u<span style=\"background-color:#3b4e20;\">n so very<br></span><span style=\"background-color:#483a2f;\">unable to </span>dedless<span style=\"background-color:#3d3b30;\">ly, I could </span>sa<span style=\"background-color:#3c235f;\">y what she wa</span>s <span style=\"background-color:#3d3b30;\">all young </span>of<br>dislikely de<span style=\"background-color:#3d3b30;\">ed, after a t</span>o mind of dem in a<br>com<span style=\"background-color:#3c235f;\">med into a</span>n into usa<span style=\"background-color:#3c235f;\">n love is </span>a<br>un<span style=\"background-color:#3b4e20;\">ited. She </span><span style=\"background-color:#324745;\">left with him</span><span style=\"background-color:#3b4e20;\"> happy, th</span>a<span style=\"background-color:#3d3b30;\">t even made </span>me, I<span style=\"background-color:#3d3b30;\"><br>not speak</span>ing;<span style=\"background-color:#3d3b30;\"> you. It was </span><span style=\"background-color:#3c235f;\">good of it</span>s h<span style=\"background-color:#3b4e20;\">e as either of</span><br>m<span style=\"background-color:#3b4e20;\">e of being </span>un<span style=\"background-color:#3b4e20;\">able than s</span>he carce. The<br>your means. Times overse ou<span style=\"background-color:#483a2f;\">th greater </span>to<span style=\"background-color:#3d3b30;\"><br>Mrs. Elton</span>’s<span style=\"background-color:#3d3b30;\"> proper attention t</span>han I<br>were spot "
            ]
          },
          "metadata": {}
        },
        {
          "output_type": "display_data",
          "data": {
            "text/plain": [
              "<IPython.core.display.HTML object>"
            ],
            "text/html": [
              "<small><p style=\"text-align:right;\">Sources: <span style=\"background-color:#3b4e20;\">Jane Austen: Pride and Prejudice</span>, <span style=\"background-color:#483a2f;\">Virginia Woolf: Mr. Bennett and Mrs. Brown</span>, <span style=\"background-color:#324745;\">Emily Brontë: Wuthering Heights</span>, <span style=\"background-color:#3d3b30;\">Jane Austen: Emma</span>, <span style=\"background-color:#3c235f;\">Virginia Woolf: The Voyage Out</span></p></small>"
            ]
          },
          "metadata": {}
        },
        {
          "output_type": "stream",
          "name": "stdout",
          "text": [
            "---------------- T=0.8 ---------------\n"
          ]
        },
        {
          "output_type": "display_data",
          "data": {
            "text/plain": [
              "<IPython.core.display.HTML object>"
            ],
            "text/html": [
              "ad ditious beyos wel.”<br><br>“May!”<br><br>“Com<span style=\"background-color:#324745;\">ing—don’t </span>kno<span style=\"background-color:#3d3b30;\">w Mrs. Weston</span>, use I<br><span style=\"background-color:#3b4e20;\">at all like </span>accou<span style=\"background-color:#3c235f;\">nt immediately</span><span style=\"background-color:#3c235f;\">. I don’t rea</span>dy and<span style=\"background-color:#3d3b30;\"><br>the very m</span>uch<span style=\"background-color:#3d3b30;\"> quite done </span>Mr. Per’s<span style=\"background-color:#3c235f;\"> except the f</span>ers<span style=\"background-color:#3b4e20;\">, who is mo</span>the<span style=\"background-color:#3c235f;\">r<br>distance </span><span style=\"background-color:#3c235f;\">or two at </span>all this cre<span style=\"background-color:#3d3b30;\">ding<br>about </span>a che?<span style=\"background-color:#3d3b30;\"> And he is </span>near me<br>to rec<span style=\"background-color:#324745;\">ine to her; </span><span style=\"background-color:#3d3b30;\">she knew her </span>let<span style=\"background-color:#3c235f;\">ter<br>of the </span>most <span style=\"background-color:#3c235f;\">one to fin</span><span style=\"background-color:#3b4e20;\">e<br>      mean</span>, and <span style=\"background-color:#3d3b30;\">unity of wh</span><span style=\"background-color:#324745;\">at was all </span>see. <span style=\"background-color:#324745;\">My little </span>fri<span style=\"background-color:#3b4e20;\">end?”<br><br>      </span>were m<span style=\"background-color:#3c235f;\">e? Mrs. Cha</span>ps<span style=\"background-color:#3b4e20;\"> do not<br>      </span>ha<span style=\"background-color:#3b4e20;\">ve comfort </span>as<span style=\"background-color:#3b4e20;\"> to either </span><span style=\"background-color:#3d3b30;\">for what was </span><span style=\"background-color:#483a2f;\">possible, and</span><span style=\"background-color:#3b4e20;\"><br>      Upon </span><span style=\"background-color:#3b4e20;\">my friend th</span><span style=\"background-color:#3d3b30;\">at pleased </span><span style=\"background-color:#3b4e20;\">with Mr. Bingley</span>, which<span style=\"background-color:#3b4e20;\"> said, with</span><span style=\"background-color:#3b4e20;\"><br>      replied, </span>“orwardly un<span style=\"background-color:#3b4e20;\">mediately wa</span>lk<span style=\"background-color:#3b4e20;\">s,<br>      i</span><span style=\"background-color:#3d3b30;\">mpatience. </span><span style=\"background-color:#483a2f;\">She would </span>do?” rather curing <span style=\"background-color:#3b4e20;\">rom<br>      </span>Hirst, Jane, Lady Long-ek<span style=\"background-color:#3b4e20;\"><br>      Mr. Bingley’s </span><span style=\"background-color:#3b4e20;\">observing </span>Chap"
            ]
          },
          "metadata": {}
        },
        {
          "output_type": "display_data",
          "data": {
            "text/plain": [
              "<IPython.core.display.HTML object>"
            ],
            "text/html": [
              "<small><p style=\"text-align:right;\">Sources: <span style=\"background-color:#324745;\">Emily Brontë: Wuthering Heights</span>, <span style=\"background-color:#3d3b30;\">Jane Austen: Emma</span>, <span style=\"background-color:#3b4e20;\">Jane Austen: Pride and Prejudice</span>, <span style=\"background-color:#3c235f;\">Virginia Woolf: The Voyage Out</span>, <span style=\"background-color:#483a2f;\">Virginia Woolf: Mr. Bennett and Mrs. Brown</span></p></small>"
            ]
          },
          "metadata": {}
        },
        {
          "output_type": "stream",
          "name": "stdout",
          "text": [
            "--------------------------------------\n",
            "\b\b\b\b\b\b\b\b\b\b\b\b\b\b\b\b\b\b\b\b\b\b\b\b\b\b\b\b\b\b\b\b\b\b\b\b\b\b\b\b\b\b\b\b\b\b\b\b\b\b\b\b\b\b\b\b\b\b\b\b\b\b\b\b\b\b\b\b\b\b\b\b\b\b\b\b\b\b\b\b\b\b\b\b\r895/895 [==============================] - 1697s 2s/step - loss: 0.2624 - accuracy: 0.9423 - val_loss: 0.2734 - val_accuracy: 0.9401\n",
            "Epoch 22/50000\n",
            "895/895 [==============================] - ETA: 0s - loss: 0.2595 - accuracy: 0.9428\n",
            "prompt: t, he was named after me, not after his father. John, the second,\n",
            "is named after his father. Some people are surprized, I believe, that\n",
            "the eldest was not, but Isabella would have him called Henry, which I\n",
            "thought very pretty of her. And he is a very clever boy, indeed. They\n",
            "are all remar\n",
            "---------------- T=0.6 ---------------\n"
          ]
        },
        {
          "output_type": "display_data",
          "data": {
            "text/plain": [
              "<IPython.core.display.HTML object>"
            ],
            "text/html": [
              "<span style=\"background-color:#3b4e20;\">kwardness </span>in<span style=\"background-color:#3c235f;\"> my right </span>fat<span style=\"background-color:#324745;\">her Linton</span><br><span style=\"background-color:#3b4e20;\">lication, </span>but I f<span style=\"background-color:#3d3b30;\">ess in my life</span> was<br>regard<span style=\"background-color:#3c235f;\">iament, and </span><span style=\"background-color:#3b4e20;\">reasonable; </span>it<br>the inte<span style=\"background-color:#324745;\">d, Isabella</span>’s miser<span style=\"background-color:#3d3b30;\">arls in the </span>door’s<span style=\"background-color:#324745;\"> daily; and </span>now the<br>pirit<span style=\"background-color:#324745;\">s. I heard </span>you<span style=\"background-color:#3d3b30;\"> to Miss Fairfax</span>ious<br>be<span style=\"background-color:#3d3b30;\">say, Miss </span>Au<span style=\"background-color:#3d3b30;\">nts about the </span>do<span style=\"background-color:#3d3b30;\">or of being in </span><span style=\"background-color:#483a2f;\">understand<br></span>Isak<span style=\"background-color:#3c235f;\">ees and the </span>damp<span style=\"background-color:#3b4e20;\">ired. She </span>le<span style=\"background-color:#3b4e20;\">ctually on </span>is<br><span style=\"background-color:#3b4e20;\">mind, and </span>had<span style=\"background-color:#3d3b30;\">ed the other </span><span style=\"background-color:#2a3b48;\">and three </span>many walk,<br>W<span style=\"background-color:#324745;\">alking about an</span>y mea<span style=\"background-color:#3d3b30;\">t in Mrs. </span>Arthur chai<span style=\"background-color:#3c235f;\">rs.<br><br>“They </span>tory, <span style=\"background-color:#3b4e20;\">unication of </span><span style=\"background-color:#3b4e20;\">every thing</span>ly finited<br>bou<span style=\"background-color:#3c235f;\">r in a long </span><span style=\"background-color:#3b4e20;\">interest of the </span>fair<span style=\"background-color:#3c235f;\"> mountain s</span>omehowerms,<br>alth<span style=\"background-color:#324745;\">m. Catherine </span><span style=\"background-color:#3b4e20;\">the weather s</span>ensure<span style=\"background-color:#324745;\"> yet, and </span>eas<span style=\"background-color:#3b4e20;\">ighted with<br></span>my mars, rem<span style=\"background-color:#324745;\">ar. It was </span>publ<span style=\"background-color:#324745;\">ack the res</span>ceivilit intin<span style=\"background-color:#3b4e20;\">ue, and a </span>deow"
            ]
          },
          "metadata": {}
        },
        {
          "output_type": "display_data",
          "data": {
            "text/plain": [
              "<IPython.core.display.HTML object>"
            ],
            "text/html": [
              "<small><p style=\"text-align:right;\">Sources: <span style=\"background-color:#3b4e20;\">Jane Austen: Pride and Prejudice</span>, <span style=\"background-color:#3c235f;\">Virginia Woolf: The Voyage Out</span>, <span style=\"background-color:#324745;\">Emily Brontë: Wuthering Heights</span>, <span style=\"background-color:#3d3b30;\">Jane Austen: Emma</span>, <span style=\"background-color:#483a2f;\">Virginia Woolf: Mr. Bennett and Mrs. Brown</span>, <span style=\"background-color:#2a3b48;\">Jane Austen: Lady Susan</span></p></small>"
            ]
          },
          "metadata": {}
        },
        {
          "output_type": "stream",
          "name": "stdout",
          "text": [
            "---------------- T=0.7 ---------------\n"
          ]
        },
        {
          "output_type": "display_data",
          "data": {
            "text/plain": [
              "<IPython.core.display.HTML object>"
            ],
            "text/html": [
              "<span style=\"background-color:#3b4e20;\">k to look </span>o<span style=\"background-color:#324745;\">n you might </span>be<span style=\"background-color:#324745;\">side.<br><br>“Mr. </span><span style=\"background-color:#324745;\">Heathcliff’s a</span><span style=\"background-color:#324745;\">ttempted to h</span><span style=\"background-color:#3b4e20;\">e was formed</span>iately; a wh!”<br><br>A<span style=\"background-color:#324745;\">nd never, </span>Mrs. Permany<span style=\"background-color:#3b4e20;\"> your fair </span>what Took<span style=\"background-color:#324745;\"> you come b</span><span style=\"background-color:#324745;\">y Heathcliff</span><span style=\"background-color:#2a3b48;\">; I know it </span>as you adden<br><span style=\"background-color:#3d3b30;\">always has </span><span style=\"background-color:#3d3b30;\">made her th</span><span style=\"background-color:#3d3b30;\">at he writ</span><span style=\"background-color:#3d3b30;\">ing to be t</span>he<br>alls hatty weak to the Under?”<br><br>“Welly your ood. And P<span style=\"background-color:#3b4e20;\">er’s right</span><span style=\"background-color:#3b4e20;\">, and said, in</span>deed, Ridley<span style=\"background-color:#3c235f;\"> of myself,</span> is me<span style=\"background-color:#3c235f;\"> at a great </span>tremor<span style=\"background-color:#3b4e20;\">ating some </span><span style=\"background-color:#3d3b30;\">use<br>to be </span>se<span style=\"background-color:#324745;\">nt for Edgar</span>dial, who<span style=\"background-color:#3b4e20;\">m of all th</span>e<br>killel<span style=\"background-color:#3b4e20;\">ining such</span><span style=\"background-color:#3d3b30;\">ing with Mrs. </span>Perry<span style=\"background-color:#324745;\">,<br>continually</span><span style=\"background-color:#324745;\"> of her sa</span>tisfactorm<span style=\"background-color:#3b4e20;\">though, wh</span><span style=\"background-color:#3c235f;\">ich were a</span><span style=\"background-color:#3b4e20;\">ll thought</span><span style=\"background-color:#3c235f;\">sking himself</span>. And<br>like sixuman<span style=\"background-color:#324745;\">ks at the </span>gitation—<span style=\"background-color:#3d3b30;\">she wanted, </span><span style=\"background-color:#3d3b30;\">Mr. Elton’s h</span>isperhaps—to Now done my evil<span style=\"background-color:#324745;\">?”<br><br>“What </span>a sempir<span style=\"background-color:#3d3b30;\">ed of every </span>"
            ]
          },
          "metadata": {}
        },
        {
          "output_type": "display_data",
          "data": {
            "text/plain": [
              "<IPython.core.display.HTML object>"
            ],
            "text/html": [
              "<small><p style=\"text-align:right;\">Sources: <span style=\"background-color:#3b4e20;\">Jane Austen: Pride and Prejudice</span>, <span style=\"background-color:#324745;\">Emily Brontë: Wuthering Heights</span>, <span style=\"background-color:#2a3b48;\">Jane Austen: Lady Susan</span>, <span style=\"background-color:#3d3b30;\">Jane Austen: Emma</span>, <span style=\"background-color:#3c235f;\">Virginia Woolf: The Voyage Out</span></p></small>"
            ]
          },
          "metadata": {}
        },
        {
          "output_type": "stream",
          "name": "stdout",
          "text": [
            "---------------- T=0.8 ---------------\n"
          ]
        },
        {
          "output_type": "display_data",
          "data": {
            "text/plain": [
              "<IPython.core.display.HTML object>"
            ],
            "text/html": [
              "ks as nows<span style=\"background-color:#3b4e20;\">e every ho</span><span style=\"background-color:#324745;\">osed, we s</span>i<span style=\"background-color:#483a2f;\">nce at the</span>r<span style=\"background-color:#3d3b30;\">e was<br>quite </span>among Mrs. Chillicaio<span style=\"background-color:#2a3b48;\">d a young man o</span><span style=\"background-color:#3c235f;\">ver her, as<br></span>and retsy'<span style=\"background-color:#3c235f;\">s good in </span>faxless that<br>more_he was lows the prive an oirly ac<span style=\"background-color:#3d3b30;\">ters, when</span>’s <span style=\"background-color:#3b4e20;\">inted, and </span>her day, must beautyle<span style=\"background-color:#3b4e20;\">isapprobation </span>at amusic<span style=\"background-color:#324745;\">ture she s</span>hould so on<span style=\"background-color:#3c235f;\">ly all that </span>such to atty laded as <span style=\"background-color:#3b4e20;\">our; and th</span>enfix<span style=\"background-color:#3b4e20;\">cendingly </span>assment, muche<span style=\"background-color:#3b4e20;\">d if I had </span>subsulty minute gardiar<span style=\"background-color:#3b4e20;\">s were yet </span>interrying a freed<span style=\"background-color:#483a2f;\">ed that<br>the </span><span style=\"background-color:#3c235f;\">addressing th</span>at<span style=\"background-color:#324745;\"> a chamber</span>, and haroce—I know, <span style=\"background-color:#3c235f;\">ats of the </span>moon—<span style=\"background-color:#324745;\">having her </span>gardenegarho<span style=\"background-color:#483a2f;\">ps and other</span> horitic<span style=\"background-color:#3c235f;\">iting with h</span>er fathers<br>andletit;<span style=\"background-color:#3c235f;\"> and Terence g</span><span style=\"background-color:#3b4e20;\">entleman e</span>yes oution<span style=\"background-color:#3b4e20;\">, in other </span><span style=\"background-color:#324745;\">trance. He</span>athclifflega<span style=\"background-color:#3b4e20;\">nt with Mr. </span>Ambrose c"
            ]
          },
          "metadata": {}
        },
        {
          "output_type": "display_data",
          "data": {
            "text/plain": [
              "<IPython.core.display.HTML object>"
            ],
            "text/html": [
              "<small><p style=\"text-align:right;\">Sources: <span style=\"background-color:#3b4e20;\">Jane Austen: Pride and Prejudice</span>, <span style=\"background-color:#324745;\">Emily Brontë: Wuthering Heights</span>, <span style=\"background-color:#483a2f;\">Virginia Woolf: Mr. Bennett and Mrs. Brown</span>, <span style=\"background-color:#3d3b30;\">Jane Austen: Emma</span>, <span style=\"background-color:#2a3b48;\">Jane Austen: Lady Susan</span>, <span style=\"background-color:#3c235f;\">Virginia Woolf: The Voyage Out</span></p></small>"
            ]
          },
          "metadata": {}
        },
        {
          "output_type": "stream",
          "name": "stdout",
          "text": [
            "--------------------------------------\n",
            "\b\b\b\b\b\b\b\b\b\b\b\b\b\b\b\b\b\b\b\b\b\b\b\b\b\b\b\b\b\b\b\b\b\b\b\b\b\b\b\b\b\b\b\b\b\b\b\b\b\b\b\b\b\b\b\b\b\b\b\b\b\b\b\b\b\b\b\b\b\b\b\b\b\b\b\b\b\b\b\b\b\b\b\b\r895/895 [==============================] - 1697s 2s/step - loss: 0.2595 - accuracy: 0.9428 - val_loss: 0.2708 - val_accuracy: 0.9407\n",
            "Epoch 23/50000\n",
            "895/895 [==============================] - ETA: 0s - loss: 0.2568 - accuracy: 0.9434\n",
            "prompt: umatic, always rheumatic, I fear,” he replied. “To some extent\n",
            "it depends on the weather, though not so much as people are apt to\n",
            "think.”\n",
            "\n",
            "“One does not die of it, at any rate,” said Helen.\n",
            "\n",
            "“As a general rule—no,” said Mr. Pepper.\n",
            "\n",
            "“Soup, Uncle Rid\n",
            "---------------- T=0.6 ---------------\n"
          ]
        },
        {
          "output_type": "display_data",
          "data": {
            "text/plain": [
              "<IPython.core.display.HTML object>"
            ],
            "text/html": [
              "ley?” Mrs. Per—<span style=\"background-color:#3c235f;\"><br><br>Rachel re</span>pl<span style=\"background-color:#3c235f;\">ied Rachel</span> w<span style=\"background-color:#3b4e20;\">ere after </span><span style=\"background-color:#324745;\">an answer. Sh</span><span style=\"background-color:#324745;\">e heard a </span>poor.<br><br>“Alla’<span style=\"background-color:#3b4e20;\">ll getting</span> a<span style=\"background-color:#3c235f;\"> mission to </span>He<span style=\"background-color:#324745;\">len,” said </span><span style=\"background-color:#3c235f;\">Rachel.<br><br>“It’s </span>don<span style=\"background-color:#3c235f;\">e,” Rachel</span>. “Aunt’s pus<span style=\"background-color:#3b4e20;\">ter, I am </span><span style=\"background-color:#3b4e20;\">I believe the</span>y<br><span style=\"background-color:#3c235f;\">playing it</span>, t<span style=\"background-color:#3d3b30;\">o you would </span>take Mr. Pept the well, uns’<span style=\"background-color:#3c235f;\">re<br>reading </span>anything—“T<span style=\"background-color:#3c235f;\">he laying </span>to you do you in _! _ _happ<span style=\"background-color:#324745;\">y<br>that you </span><span style=\"background-color:#3d3b30;\">must not f</span><span style=\"background-color:#3b4e20;\">ind it to </span>him, per,” Isabellay<span style=\"background-color:#324745;\"> “you have </span><span style=\"background-color:#324745;\">my young lad</span>ie<span style=\"background-color:#3d3b30;\">s in Mr. Knightley. </span>I am un<span style=\"background-color:#3c235f;\">der to take</span> <span style=\"background-color:#3d3b30;\">him all day</span>, I am, I<span style=\"background-color:#3b4e20;\"> wish for </span><span style=\"background-color:#3b4e20;\">my father,<br></span>I do. Fates <span style=\"background-color:#324745;\">me as you </span><span style=\"background-color:#3c235f;\">say to you </span><span style=\"background-color:#3b4e20;\">cannot think</span><span style=\"background-color:#3b4e20;\">, than it is </span>very in<span style=\"background-color:#3b4e20;\">d; but it </span>assured’<span style=\"background-color:#3b4e20;\">ll be quite </span>to<span style=\"background-color:#3b4e20;\"> you must have</span>,<span style=\"background-color:#324745;\"> I know how </span><span style=\"background-color:#3b4e20;\">you mean, </span><span style=\"background-color:#3d3b30;\">and you have b</span>e<span style=\"background-color:#3b4e20;\">en looked at</span><br>Dean___<span style=\"background-color:#3b4e20;\"> will be c</span>reditulat<span style=\"background-color:#3b4e20;\">e kindness of </span>the ol<span style=\"background-color:#3b4e20;\">d you must go</span>ing "
            ]
          },
          "metadata": {}
        },
        {
          "output_type": "display_data",
          "data": {
            "text/plain": [
              "<IPython.core.display.HTML object>"
            ],
            "text/html": [
              "<small><p style=\"text-align:right;\">Sources: <span style=\"background-color:#3c235f;\">Virginia Woolf: The Voyage Out</span>, <span style=\"background-color:#3b4e20;\">Jane Austen: Pride and Prejudice</span>, <span style=\"background-color:#324745;\">Emily Brontë: Wuthering Heights</span>, <span style=\"background-color:#3d3b30;\">Jane Austen: Emma</span></p></small>"
            ]
          },
          "metadata": {}
        },
        {
          "output_type": "stream",
          "name": "stdout",
          "text": [
            "---------------- T=0.7 ---------------\n"
          ]
        },
        {
          "output_type": "display_data",
          "data": {
            "text/plain": [
              "<IPython.core.display.HTML object>"
            ],
            "text/html": [
              "<span style=\"background-color:#3d3b30;\">ley and he</span>’s back on at Pray<br><span style=\"background-color:#3b4e20;\">fore, and paid</span><span style=\"background-color:#3d3b30;\">, this was </span>farth<span style=\"background-color:#3d3b30;\">ur before, </span><span style=\"background-color:#3d3b30;\">Mrs. Churchill</span><br>artued o<span style=\"background-color:#3c235f;\">n to Rachel</span> becaJo<span style=\"background-color:#3d3b30;\">ad; and she </span>felt<br>so<span style=\"background-color:#3b4e20;\"> and the g</span>uncla<span style=\"background-color:#324745;\">its of the </span><span style=\"background-color:#324745;\">violent wi</span>th her absurprie<span style=\"background-color:#3c235f;\">ts and mor</span>ning<br>onalu<span style=\"background-color:#3d3b30;\">e, she was t</span><span style=\"background-color:#3c235f;\">aking the us</span>an,<span style=\"background-color:#324745;\"><br>thoughts, h</span>last Hel<span style=\"background-color:#3b4e20;\">en began to </span><span style=\"background-color:#324745;\">give them to </span>Even<span style=\"background-color:#3d3b30;\">rational in</span><span style=\"background-color:#3b4e20;\"> which I cannot </span>consider<span style=\"background-color:#3c235f;\">al in the<br></span>gree of meri<span style=\"background-color:#324745;\">me wishing </span><span style=\"background-color:#324745;\">with him to h</span>i<span style=\"background-color:#3d3b30;\">s<br>would have </span>a<span style=\"background-color:#3b4e20;\"> very much, and </span>dog,<span style=\"background-color:#3d3b30;\"> must pron</span>exiety<br><span style=\"background-color:#3b4e20;\">hope. It is</span><span style=\"background-color:#3b4e20;\"> at any other</span>.—I w<span style=\"background-color:#3d3b30;\">o you think it </span>_d;<br>_, _that_”<br><br>“He tood Per’s all<span style=\"background-color:#324745;\">rother of th</span><span style=\"background-color:#483a2f;\">at houses, </span><span style=\"background-color:#3b4e20;\">not at all w</span>ith herv<span style=\"background-color:#324745;\">y, which she </span>proved offend—<span style=\"background-color:#483a2f;\">if he would </span><span style=\"background-color:#3b4e20;\">well as a </span>h<span style=\"background-color:#3b4e20;\">ired your </span>hand:<span style=\"background-color:#324745;\"> “and your</span> carelegate<span style=\"background-color:#324745;\"> all my ha</span>rp bread, a s<span style=\"background-color:#3b4e20;\">ame would </span>"
            ]
          },
          "metadata": {}
        },
        {
          "output_type": "display_data",
          "data": {
            "text/plain": [
              "<IPython.core.display.HTML object>"
            ],
            "text/html": [
              "<small><p style=\"text-align:right;\">Sources: <span style=\"background-color:#3d3b30;\">Jane Austen: Emma</span>, <span style=\"background-color:#3b4e20;\">Jane Austen: Pride and Prejudice</span>, <span style=\"background-color:#3c235f;\">Virginia Woolf: The Voyage Out</span>, <span style=\"background-color:#324745;\">Emily Brontë: Wuthering Heights</span>, <span style=\"background-color:#483a2f;\">Virginia Woolf: Mr. Bennett and Mrs. Brown</span></p></small>"
            ]
          },
          "metadata": {}
        },
        {
          "output_type": "stream",
          "name": "stdout",
          "text": [
            "---------------- T=0.8 ---------------\n"
          ]
        },
        {
          "output_type": "display_data",
          "data": {
            "text/plain": [
              "<IPython.core.display.HTML object>"
            ],
            "text/html": [
              "l<span style=\"background-color:#3b4e20;\">ey will th</span><span style=\"background-color:#3d3b30;\">is father o</span>ut of Cra<span style=\"background-color:#3d3b30;\">, like her </span><span style=\"background-color:#3c235f;\">before they k</span>now<span style=\"background-color:#3c235f;\"> Helen. She </span>is life’s<span style=\"background-color:#324745;\"> night.”<br><br>“</span>You mean’s<span style=\"background-color:#3d3b30;\"> word, Mr. </span>Camo<span style=\"background-color:#3c235f;\">ng. Don’t you </span>know<span style=\"background-color:#3b4e20;\">. She will </span><span style=\"background-color:#3c235f;\">casion at the </span><span style=\"background-color:#324745;\">carried to t</span>ake up all we.<br><br>“You <span style=\"background-color:#3b4e20;\">Indeed!” cried </span>it has <span style=\"background-color:#3b4e20;\">lence this</span> mount<span style=\"background-color:#3c235f;\">.<br><br>“I was e</span>nder<span style=\"background-color:#3d3b30;\">ling you e</span>v<span style=\"background-color:#2a3b48;\">er speaking </span><span style=\"background-color:#3c235f;\">upon Mr. P</span>la<span style=\"background-color:#3c235f;\">ce.”<br><br>The </span>s<span style=\"background-color:#3b4e20;\">ouring to </span>tw<span style=\"background-color:#3d3b30;\">elt that, t</span>h<span style=\"background-color:#3d3b30;\">ose they w</span>ear!”<span style=\"background-color:#3c235f;\"><br><br>“Suppose</span><span style=\"background-color:#3b4e20;\">d Catherine</span>?” she is gentea<span style=\"background-color:#3d3b30;\">les in the </span>world,<br>is cord<span style=\"background-color:#324745;\">er to no one el</span><span style=\"background-color:#3c235f;\">ise.<br><br>“You </span><span style=\"background-color:#483a2f;\">seem to me</span>!”<br><br>“wor<span style=\"background-color:#3b4e20;\">th either </span>w<span style=\"background-color:#3c235f;\">iter?” she </span><span style=\"background-color:#324745;\">daughter: </span>“have happy<br><span style=\"background-color:#324745;\">relish for </span><span style=\"background-color:#3b4e20;\">you must go </span>at port, that, la<span style=\"background-color:#3b4e20;\">y young man to </span><span style=\"background-color:#324745;\">regularly,</span>”<span style=\"background-color:#3b4e20;\"> before as </span><span style=\"background-color:#324745;\">replied.<br><br>“The</span>n I, n<span style=\"background-color:#3d3b30;\">o interesting a</span>bou<span style=\"background-color:#3d3b30;\">t to people </span><span style=\"background-color:#3d3b30;\">at home wh</span><span style=\"background-color:#483a2f;\">at they are o</span>ther.<span style=\"background-color:#3d3b30;\"><br>Mr. Elton’s</span><span style=\"background-color:#3d3b30;\">, I am going to d</span>evide,<br><span style=\"background-color:#3d3b30;\">but had been </span>i<span style=\"background-color:#3b4e20;\">n I suppose</span>, what uncloc"
            ]
          },
          "metadata": {}
        },
        {
          "output_type": "display_data",
          "data": {
            "text/plain": [
              "<IPython.core.display.HTML object>"
            ],
            "text/html": [
              "<small><p style=\"text-align:right;\">Sources: <span style=\"background-color:#3b4e20;\">Jane Austen: Pride and Prejudice</span>, <span style=\"background-color:#3d3b30;\">Jane Austen: Emma</span>, <span style=\"background-color:#3c235f;\">Virginia Woolf: The Voyage Out</span>, <span style=\"background-color:#324745;\">Emily Brontë: Wuthering Heights</span>, <span style=\"background-color:#2a3b48;\">Jane Austen: Lady Susan</span>, <span style=\"background-color:#483a2f;\">Virginia Woolf: Mr. Bennett and Mrs. Brown</span></p></small>"
            ]
          },
          "metadata": {}
        },
        {
          "output_type": "stream",
          "name": "stdout",
          "text": [
            "--------------------------------------\n",
            "\b\b\b\b\b\b\b\b\b\b\b\b\b\b\b\b\b\b\b\b\b\b\b\b\b\b\b\b\b\b\b\b\b\b\b\b\b\b\b\b\b\b\b\b\b\b\b\b\b\b\b\b\b\b\b\b\b\b\b\b\b\b\b\b\b\b\b\b\b\b\b\b\b\b\b\b\b\b\b\b\b\b\b\b\r895/895 [==============================] - 1696s 2s/step - loss: 0.2568 - accuracy: 0.9434 - val_loss: 0.2682 - val_accuracy: 0.9411\n",
            "Epoch 24/50000\n",
            "895/895 [==============================] - ETA: 0s - loss: 0.2542 - accuracy: 0.9439\n",
            "prompt:  from the surly owner; but his attitude at\n",
            "the door appeared to demand my speedy entrance, or complete departure,\n",
            "and I had no desire to aggravate his impatience previous to inspecting\n",
            "the penetralium.\n",
            "\n",
            "One step brought us into the family sitting-room, without any\n",
            "introd\n",
            "---------------- T=0.6 ---------------\n"
          ]
        },
        {
          "output_type": "display_data",
          "data": {
            "text/plain": [
              "<IPython.core.display.HTML object>"
            ],
            "text/html": [
              "uciacular stair<span style=\"background-color:#3d3b30;\">s a little s</span><span style=\"background-color:#3c235f;\">orted by h</span>is vitiou<span style=\"background-color:#3b4e20;\">spect of t</span>rue<br>his<span style=\"background-color:#3d3b30;\"> guide of </span><span style=\"background-color:#3c235f;\">must be very n</span>exllant<span style=\"background-color:#3c235f;\">est, and e</span>xquisituat<span style=\"background-color:#324745;\">ed his pers</span><span style=\"background-color:#3b4e20;\">uation for</span><span style=\"background-color:#324745;\">get another</span>; and <span style=\"background-color:#324745;\">at course </span><span style=\"background-color:#3b4e20;\">delightful i</span>s.”<br><br>“Allansociety<span style=\"background-color:#324745;\">’s your own </span>sense<span style=\"background-color:#3d3b30;\">, for me to </span>i<span style=\"background-color:#483a2f;\">t sort of </span>Isabella Oh<span style=\"background-color:#3b4e20;\">! nonsense</span>!<span style=\"background-color:#324745;\"> Because I</span><span style=\"background-color:#3d3b30;\"> must take his pa</span>g<span style=\"background-color:#2a3b48;\">es, without </span>gise push<span style=\"background-color:#324745;\">ed Mr. Linton’s s</span>et<span style=\"background-color:#483a2f;\">s with her m</span>an<br>on<span style=\"background-color:#3b4e20;\">e for about </span>Hous<span style=\"background-color:#3b4e20;\">e to dine at </span>Absurpride its; I now dom<span style=\"background-color:#3b4e20;\"> it almost </span>a pai<span style=\"background-color:#2a3b48;\">r whether she </span>woan, pray<span style=\"background-color:#3b4e20;\">a beautiful o</span>f your sever<span style=\"background-color:#3b4e20;\">ant informa</span>l<span style=\"background-color:#3b4e20;\">f course.”<br><br></span><span style=\"background-color:#324745;\">Hindley was </span>once painars,<br>Pr<span style=\"background-color:#324745;\">ay, a little </span><span style=\"background-color:#324745;\">rother of </span>what h<span style=\"background-color:#2a3b48;\">is<br>brought </span><span style=\"background-color:#2a3b48;\">by Lady Susan</span>i<span style=\"background-color:#3b4e20;\">m, rather </span>pro<span style=\"background-color:#3d3b30;\">of every body, and </span>which "
            ]
          },
          "metadata": {}
        },
        {
          "output_type": "display_data",
          "data": {
            "text/plain": [
              "<IPython.core.display.HTML object>"
            ],
            "text/html": [
              "<small><p style=\"text-align:right;\">Sources: <span style=\"background-color:#3d3b30;\">Jane Austen: Emma</span>, <span style=\"background-color:#3c235f;\">Virginia Woolf: The Voyage Out</span>, <span style=\"background-color:#3b4e20;\">Jane Austen: Pride and Prejudice</span>, <span style=\"background-color:#324745;\">Emily Brontë: Wuthering Heights</span>, <span style=\"background-color:#483a2f;\">Virginia Woolf: Mr. Bennett and Mrs. Brown</span>, <span style=\"background-color:#2a3b48;\">Jane Austen: Lady Susan</span></p></small>"
            ]
          },
          "metadata": {}
        },
        {
          "output_type": "stream",
          "name": "stdout",
          "text": [
            "---------------- T=0.7 ---------------\n"
          ]
        },
        {
          "output_type": "display_data",
          "data": {
            "text/plain": [
              "<IPython.core.display.HTML object>"
            ],
            "text/html": [
              "ed in doorrow on ha<span style=\"background-color:#3c235f;\">d of these </span><span style=\"background-color:#3b4e20;\">gentlemen s</span>eemed down unsudde<span style=\"background-color:#3d3b30;\">n would have us</span>ed to enname s<span style=\"background-color:#324745;\">embling in </span><span style=\"background-color:#3c235f;\">way.<br><br>She </span>was all excitevi<span style=\"background-color:#3b4e20;\">sible of the </span>insavate;<span style=\"background-color:#3d3b30;\"> even for th</span>e loved my Anneysi<span style=\"background-color:#3d3b30;\">of course, wh</span><span style=\"background-color:#3d3b30;\">en Harriet</span>ra<span style=\"background-color:#3b4e20;\">n watching </span><span style=\"background-color:#3b4e20;\">in the dis</span><span style=\"background-color:#3b4e20;\">ent which s</span>entimentshas<span style=\"background-color:#3b4e20;\">wardness of </span>proce; fo<span style=\"background-color:#3b4e20;\">r my father</span>--laph’s,<br>paddl<span style=\"background-color:#324745;\">e words were </span>tree--blings<span style=\"background-color:#3d3b30;\">, as what </span>him<br>must b<span style=\"background-color:#3b4e20;\">e knowledge</span>, and a<span style=\"background-color:#324745;\"> Heathcliff’s p</span><span style=\"background-color:#3d3b30;\">aintance to </span>t<span style=\"background-color:#3b4e20;\">he replied in </span>English<span style=\"background-color:#3c235f;\"> time. The</span><br>chilos mo<span style=\"background-color:#3d3b30;\">degree, and </span>fuse meetime, sincessorfast at<span style=\"background-color:#3c235f;\"> his pain, </span>heary cands cared it-lazed<span style=\"background-color:#3c235f;\">. Oh, and </span>near was armness’s <span style=\"background-color:#3d3b30;\">angement in the</span><span style=\"background-color:#2a3b48;\"><br>should be</span>aucy’s fair-future bevutdenc<span style=\"background-color:#3d3b30;\">e, Emma was</span> pilen; the<br>pla"
            ]
          },
          "metadata": {}
        },
        {
          "output_type": "display_data",
          "data": {
            "text/plain": [
              "<IPython.core.display.HTML object>"
            ],
            "text/html": [
              "<small><p style=\"text-align:right;\">Sources: <span style=\"background-color:#3c235f;\">Virginia Woolf: The Voyage Out</span>, <span style=\"background-color:#3b4e20;\">Jane Austen: Pride and Prejudice</span>, <span style=\"background-color:#3d3b30;\">Jane Austen: Emma</span>, <span style=\"background-color:#324745;\">Emily Brontë: Wuthering Heights</span>, <span style=\"background-color:#2a3b48;\">Jane Austen: Lady Susan</span></p></small>"
            ]
          },
          "metadata": {}
        },
        {
          "output_type": "stream",
          "name": "stdout",
          "text": [
            "---------------- T=0.8 ---------------\n"
          ]
        },
        {
          "output_type": "display_data",
          "data": {
            "text/plain": [
              "<IPython.core.display.HTML object>"
            ],
            "text/html": [
              "<span style=\"background-color:#483a2f;\">ing quite </span>hoped to guels, when buryed<br>her fa<span style=\"background-color:#3b4e20;\">tting her </span>nexation; in Randin<span style=\"background-color:#3b4e20;\">future to the</span><br>a<span style=\"background-color:#2a3b48;\">n happiness </span>trieFived b<span style=\"background-color:#3b4e20;\">lower and </span>January<br>towar<span style=\"background-color:#3d3b30;\">d, she was s</span><span style=\"background-color:#3c235f;\">till, the se</span>v<span style=\"background-color:#3b4e20;\">erty of a ma</span>uliam<br>dacunicateophical of Ambiositish boving fourolited in droom<span style=\"background-color:#3b4e20;\">icitations </span>and day be; ws<br>a<span style=\"background-color:#3b4e20;\"> wonder at his </span><span style=\"background-color:#3b4e20;\">a most inte</span>nc<span style=\"background-color:#3b4e20;\">y to every</span><span style=\"background-color:#3d3b30;\"> thing, but </span><span style=\"background-color:#3b4e20;\">the most a</span> footou<span style=\"background-color:#3d3b30;\">s. So much </span>repartous onely<br><span style=\"background-color:#3b4e20;\">sition of the </span>who<span style=\"background-color:#3b4e20;\">ld herself </span><span style=\"background-color:#3b4e20;\">on the fir</span>rick du<span style=\"background-color:#3b4e20;\">ctually and </span><span style=\"background-color:#3b4e20;\">attendance</span>alaterance pea<span style=\"background-color:#3c235f;\">k of all the </span>worl<span style=\"background-color:#3b4e20;\">dained, and </span>cried: I w<span style=\"background-color:#324745;\">on’t wish to </span>wi<span style=\"background-color:#3d3b30;\">nd you must a</span>smire,<span style=\"background-color:#3d3b30;\"> I come do</span>zedsy<br>mooth. Sups modwo aiments is, she severseli<span style=\"background-color:#3d3b30;\">es, of the </span>world colourvariou<span style=\"background-color:#3b4e20;\">s of love </span>with an Matelan"
            ]
          },
          "metadata": {}
        },
        {
          "output_type": "display_data",
          "data": {
            "text/plain": [
              "<IPython.core.display.HTML object>"
            ],
            "text/html": [
              "<small><p style=\"text-align:right;\">Sources: <span style=\"background-color:#483a2f;\">Virginia Woolf: Mr. Bennett and Mrs. Brown</span>, <span style=\"background-color:#3b4e20;\">Jane Austen: Pride and Prejudice</span>, <span style=\"background-color:#2a3b48;\">Jane Austen: Lady Susan</span>, <span style=\"background-color:#3d3b30;\">Jane Austen: Emma</span>, <span style=\"background-color:#3c235f;\">Virginia Woolf: The Voyage Out</span>, <span style=\"background-color:#324745;\">Emily Brontë: Wuthering Heights</span></p></small>"
            ]
          },
          "metadata": {}
        },
        {
          "output_type": "stream",
          "name": "stdout",
          "text": [
            "--------------------------------------\n",
            "\b\b\b\b\b\b\b\b\b\b\b\b\b\b\b\b\b\b\b\b\b\b\b\b\b\b\b\b\b\b\b\b\b\b\b\b\b\b\b\b\b\b\b\b\b\b\b\b\b\b\b\b\b\b\b\b\b\b\b\b\b\b\b\b\b\b\b\b\b\b\b\b\b\b\b\b\b\b\b\b\b\b\b\b\r895/895 [==============================] - 1696s 2s/step - loss: 0.2542 - accuracy: 0.9439 - val_loss: 0.2654 - val_accuracy: 0.9417\n",
            "Epoch 25/50000\n",
            "895/895 [==============================] - ETA: 0s - loss: 0.2518 - accuracy: 0.9444\n",
            "prompt: ility of\n",
            "their marrying is surely heightened! He is more securely hers than ever.\n",
            "When that wretched event takes place, Frederica must belong wholly to\n",
            "us. I am thankful that my last letter will precede this by so little, as\n",
            "every moment that you can be saved from feeling a joy which \n",
            "---------------- T=0.6 ---------------\n"
          ]
        },
        {
          "output_type": "display_data",
          "data": {
            "text/plain": [
              "<IPython.core.display.HTML object>"
            ],
            "text/html": [
              "<span style=\"background-color:#3c235f;\">more than a<br>p</span><span style=\"background-color:#324745;\">orting the</span> two<span style=\"background-color:#3b4e20;\"> man from </span>being of who<span style=\"background-color:#3c235f;\"><br>saw nothing </span>before<span style=\"background-color:#324745;\">, proved it </span>grow<br>Donve<span style=\"background-color:#3c235f;\">ly strange</span><span style=\"background-color:#3b4e20;\">d, but her </span>apa brothers,<br>on vo<span style=\"background-color:#324745;\">keeping it</span>ly <span style=\"background-color:#3d3b30;\">as returned as</span><span style=\"background-color:#3d3b30;\"><br>and then in </span>the saw<span style=\"background-color:#3c235f;\"> earthly s</span>till wer<span style=\"background-color:#324745;\">e pursued,</span><br>g<span style=\"background-color:#3c235f;\">ressure and </span>affai<span style=\"background-color:#483a2f;\">r from the </span>meriopp<span style=\"background-color:#324745;\">e.<br><br>“You s</span><span style=\"background-color:#3b4e20;\">hall not s</span>ubjec<span style=\"background-color:#3c235f;\">t,” she said </span>the wh<span style=\"background-color:#3c235f;\">old Rachel</span><span style=\"background-color:#3c235f;\">.<br><br>“Hirst?</span><span style=\"background-color:#3c235f;\">” asked Hirst</span> impating sai<span style=\"background-color:#3d3b30;\">d yourself at </span>comings, li<span style=\"background-color:#324745;\">ad!”<br><br>“And </span>f<span style=\"background-color:#3c235f;\">or are you</span><span style=\"background-color:#324745;\">,” she said, “</span>unclocably y<span style=\"background-color:#3d3b30;\">e, you know, must </span>so<span style=\"background-color:#324745;\">rry him, an</span><span style=\"background-color:#3d3b30;\">y thing ben</span>e<span style=\"background-color:#324745;\">you mean? </span><span style=\"background-color:#324745;\">What good </span>fire—thylot<span style=\"background-color:#324745;\">te turned </span>wi<span style=\"background-color:#3b4e20;\">th and Mrs.</span><br>gotte<span style=\"background-color:#3d3b30;\">nd to marr</span>i<span style=\"background-color:#3d3b30;\">ly very much </span><span style=\"background-color:#3b4e20;\">forget the</span><span style=\"background-color:#2a3b48;\">m with some</span><br><span style=\"background-color:#3b4e20;\">letter, by </span>heard to bekeep<span style=\"background-color:#3c235f;\">er chair b</span>road chool<span style=\"background-color:#3b4e20;\">; they are</span>ssing my siles, who starts of<br>ra"
            ]
          },
          "metadata": {}
        },
        {
          "output_type": "display_data",
          "data": {
            "text/plain": [
              "<IPython.core.display.HTML object>"
            ],
            "text/html": [
              "<small><p style=\"text-align:right;\">Sources: <span style=\"background-color:#3c235f;\">Virginia Woolf: The Voyage Out</span>, <span style=\"background-color:#324745;\">Emily Brontë: Wuthering Heights</span>, <span style=\"background-color:#3b4e20;\">Jane Austen: Pride and Prejudice</span>, <span style=\"background-color:#3d3b30;\">Jane Austen: Emma</span>, <span style=\"background-color:#483a2f;\">Virginia Woolf: Mr. Bennett and Mrs. Brown</span>, <span style=\"background-color:#2a3b48;\">Jane Austen: Lady Susan</span></p></small>"
            ]
          },
          "metadata": {}
        },
        {
          "output_type": "stream",
          "name": "stdout",
          "text": [
            "---------------- T=0.7 ---------------\n"
          ]
        },
        {
          "output_type": "display_data",
          "data": {
            "text/plain": [
              "<IPython.core.display.HTML object>"
            ],
            "text/html": [
              "<span style=\"background-color:#3b4e20;\">I have thi</span>nk<span style=\"background-color:#324745;\">y<br>young lady</span><span style=\"background-color:#3b4e20;\">s, I am sure </span><span style=\"background-color:#3b4e20;\">it is very </span><span style=\"background-color:#3b4e20;\">well; and<br></span>alw<span style=\"background-color:#3c235f;\">ays always </span><span style=\"background-color:#483a2f;\">you will be </span>keep <span style=\"background-color:#3b4e20;\">on you are</span> giv<span style=\"background-color:#3d3b30;\">e<br>will be as </span><span style=\"background-color:#3b4e20;\">you should be </span><span style=\"background-color:#3b4e20;\">object.”<br><br></span>“And you portunicatea—to mutch<span style=\"background-color:#324745;\">ing me of m</span>e offic<span style=\"background-color:#3d3b30;\">ity of it </span>me<span style=\"background-color:#3c235f;\">et.”<br><br>“And you </span>have lord<span style=\"background-color:#3b4e20;\"> to do with </span>ve<span style=\"background-color:#3b4e20;\">ment is in</span>stantly at<br>silent p<span style=\"background-color:#3b4e20;\">iarly and m</span>o<span style=\"background-color:#3c235f;\">re incompa</span>n, union;<br>and whom—<span style=\"background-color:#3c235f;\">going to be p</span>urs—cannot don’t seconductivel<span style=\"background-color:#324745;\">so, at the</span>ir<span style=\"background-color:#3b4e20;\"> way that </span>Emma’s subjected, assurcqualiterate mov<span style=\"background-color:#3d3b30;\">es, I will</span> be a trie<span style=\"background-color:#3d3b30;\">ce of it i</span>ll<br>sca<span style=\"background-color:#3d3b30;\">rds, that </span><span style=\"background-color:#324745;\">had been y</span>eary to<span style=\"background-color:#3d3b30;\"> a day with the </span>two<br>mortu<span style=\"background-color:#3b4e20;\">nion of Mr. </span><span style=\"background-color:#324745;\">Linton now, </span>on the vi<span style=\"background-color:#324745;\">ce to your</span> life<br>gratituall<span style=\"background-color:#3d3b30;\">y asked me</span>nal, po<span style=\"background-color:#3b4e20;\">ttled, and </span>lar-lip by t<span style=\"background-color:#3d3b30;\">he<br>certain</span><span style=\"background-color:#3b4e20;\">ed for the e</span>arth. . . . . . . . . . . "
            ]
          },
          "metadata": {}
        },
        {
          "output_type": "display_data",
          "data": {
            "text/plain": [
              "<IPython.core.display.HTML object>"
            ],
            "text/html": [
              "<small><p style=\"text-align:right;\">Sources: <span style=\"background-color:#3b4e20;\">Jane Austen: Pride and Prejudice</span>, <span style=\"background-color:#324745;\">Emily Brontë: Wuthering Heights</span>, <span style=\"background-color:#3c235f;\">Virginia Woolf: The Voyage Out</span>, <span style=\"background-color:#483a2f;\">Virginia Woolf: Mr. Bennett and Mrs. Brown</span>, <span style=\"background-color:#3d3b30;\">Jane Austen: Emma</span></p></small>"
            ]
          },
          "metadata": {}
        },
        {
          "output_type": "stream",
          "name": "stdout",
          "text": [
            "---------------- T=0.8 ---------------\n"
          ]
        },
        {
          "output_type": "display_data",
          "data": {
            "text/plain": [
              "<IPython.core.display.HTML object>"
            ],
            "text/html": [
              "is<span style=\"background-color:#3b4e20;\"> not, however, </span><span style=\"background-color:#324745;\">and<br>those </span>its migh<span style=\"background-color:#324745;\">t tell you, the</span> bly s<span style=\"background-color:#324745;\">little hand</span> on himgrown <span style=\"background-color:#3d3b30;\">glect that </span>intertai<span style=\"background-color:#3b4e20;\">n instantly </span>personsar<span style=\"background-color:#3c235f;\">y. He forg</span>et hermies a<span style=\"background-color:#3c235f;\">go a little</span>rouchea<span style=\"background-color:#3b4e20;\">t confessi</span>stance too, patroes thecanv<span style=\"background-color:#3c235f;\">e the town</span><br>co<span style=\"background-color:#3c235f;\">elegance or </span>oiged to rassurery—and <span style=\"background-color:#3c235f;\">illing up </span><span style=\"background-color:#3b4e20;\">and in the </span>eyellow<br>snew<span style=\"background-color:#324745;\">, and repa</span>mine, watch<span style=\"background-color:#2a3b48;\">urging a l</span>itter headbure, and Per<span style=\"background-color:#3b4e20;\">osition of the </span>chrase<span style=\"background-color:#3d3b30;\">s always com</span>e as fanch’s<br>quire. Rid<span style=\"background-color:#3d3b30;\">s.<br><br>There was no </span>folkes on Swise. Edday<br>acy came slast<span style=\"background-color:#3b4e20;\"> and could s</span>ettscertain a chank, sh<span style=\"background-color:#3b4e20;\">e fond of </span>besidend hals of blandiddly stac<span style=\"background-color:#3c235f;\">kness, the </span>Det, nal to<span style=\"background-color:#3b4e20;\">o extraord</span>enye<span style=\"background-color:#3d3b30;\">llowed with </span>extrations<br>was two bttle-mor<span style=\"background-color:#3d3b30;\">rown in hi</span><span style=\"background-color:#3b4e20;\">m from the<br></span>ho"
            ]
          },
          "metadata": {}
        },
        {
          "output_type": "display_data",
          "data": {
            "text/plain": [
              "<IPython.core.display.HTML object>"
            ],
            "text/html": [
              "<small><p style=\"text-align:right;\">Sources: <span style=\"background-color:#3b4e20;\">Jane Austen: Pride and Prejudice</span>, <span style=\"background-color:#324745;\">Emily Brontë: Wuthering Heights</span>, <span style=\"background-color:#3d3b30;\">Jane Austen: Emma</span>, <span style=\"background-color:#3c235f;\">Virginia Woolf: The Voyage Out</span>, <span style=\"background-color:#2a3b48;\">Jane Austen: Lady Susan</span></p></small>"
            ]
          },
          "metadata": {}
        },
        {
          "output_type": "stream",
          "name": "stdout",
          "text": [
            "--------------------------------------\n",
            "\b\b\b\b\b\b\b\b\b\b\b\b\b\b\b\b\b\b\b\b\b\b\b\b\b\b\b\b\b\b\b\b\b\b\b\b\b\b\b\b\b\b\b\b\b\b\b\b\b\b\b\b\b\b\b\b\b\b\b\b\b\b\b\b\b\b\b\b\b\b\b\b\b\b\b\b\b\b\b\b\b\b\b\b\r895/895 [==============================] - 1696s 2s/step - loss: 0.2518 - accuracy: 0.9444 - val_loss: 0.2638 - val_accuracy: 0.9420\n",
            "Epoch 26/50000\n",
            "895/895 [==============================] - ETA: 0s - loss: 0.2496 - accuracy: 0.9449\n",
            "prompt: you as soon as you\n",
            "arrive, and in particular tell me what you mean to do with Mainwaring.\n",
            "It is impossible to say when I shall be able to come to you; my\n",
            "confinement must be great. It is such an abominable trick to be ill here\n",
            "instead of at Bath that I can scarcely command myself at all. At B\n",
            "---------------- T=0.6 ---------------\n"
          ]
        },
        {
          "output_type": "display_data",
          "data": {
            "text/plain": [
              "<IPython.core.display.HTML object>"
            ],
            "text/html": [
              "ates, I<span style=\"background-color:#3b4e20;\"> relieved f</span>o<span style=\"background-color:#3b4e20;\">r my father</span><span style=\"background-color:#324745;\">: I know you </span><span style=\"background-color:#324745;\">cannot be di</span>fferent my<span style=\"background-color:#3c235f;\"><br>seem to me a</span><span style=\"background-color:#3b4e20;\">nd mother, and </span><span style=\"background-color:#3b4e20;\">I know my </span>a<span style=\"background-color:#3c235f;\">re allowed </span><span style=\"background-color:#324745;\">to make it no</span>utsid<span style=\"background-color:#324745;\">e; for her </span>sortunicalate rosty—a bl<span style=\"background-color:#3b4e20;\">ind of you</span><span style=\"background-color:#3b4e20;\">r sister,<br></span><span style=\"background-color:#3b4e20;\">if you can </span>be soblig<span style=\"background-color:#3c235f;\">e. Should h</span>ave offer<br>darivaluek—I saw.”<br><br>“Madmith—’ll still of Want’s nex<span style=\"background-color:#3b4e20;\">es were direct</span>ly. . . . . . . . . . . . . . . . . . . . . is per<span style=\"background-color:#3c235f;\"><br>looked at </span>Thanxt<span style=\"background-color:#3d3b30;\">o what would be </span>surprice so cl<span style=\"background-color:#324745;\">aiting in </span>every<br>enxisted<span style=\"background-color:#3b4e20;\">, was one </span>two. . . . . .<span style=\"background-color:#3c235f;\"> . . . and </span>Perry <span style=\"background-color:#324745;\">at usually </span>stano—<span style=\"background-color:#324745;\">with steal</span> and witu<span style=\"background-color:#3b4e20;\">d himself<br></span>and gra<span style=\"background-color:#3b4e20;\">tune, though</span>t off it worthfu<span style=\"background-color:#3d3b30;\">l very str</span>ically an<br>opendent in"
            ]
          },
          "metadata": {}
        },
        {
          "output_type": "display_data",
          "data": {
            "text/plain": [
              "<IPython.core.display.HTML object>"
            ],
            "text/html": [
              "<small><p style=\"text-align:right;\">Sources: <span style=\"background-color:#3b4e20;\">Jane Austen: Pride and Prejudice</span>, <span style=\"background-color:#324745;\">Emily Brontë: Wuthering Heights</span>, <span style=\"background-color:#3c235f;\">Virginia Woolf: The Voyage Out</span>, <span style=\"background-color:#3d3b30;\">Jane Austen: Emma</span></p></small>"
            ]
          },
          "metadata": {}
        },
        {
          "output_type": "stream",
          "name": "stdout",
          "text": [
            "---------------- T=0.7 ---------------\n"
          ]
        },
        {
          "output_type": "display_data",
          "data": {
            "text/plain": [
              "<IPython.core.display.HTML object>"
            ],
            "text/html": [
              "at<span style=\"background-color:#3d3b30;\">e, I am sure.</span><span style=\"background-color:#324745;\">”<br><br>“I think you </span>wil<span style=\"background-color:#3d3b30;\">l, is not </span><span style=\"background-color:#3d3b30;\">Miss Fairfax</span>ious by my eral use<span style=\"background-color:#324745;\">,<br>when my </span>int<span style=\"background-color:#3b4e20;\">ed a young </span>many was did me,<br><span style=\"background-color:#3d3b30;\">Dear Miss </span>Fairfa<span style=\"background-color:#3b4e20;\">xious for </span><span style=\"background-color:#3d3b30;\">Mr. Knightley for </span>Mr. Dixea<span style=\"background-color:#3d3b30;\">nt of every </span><span style=\"background-color:#3b4e20;\">wonderful </span>in;<span style=\"background-color:#483a2f;\"> you about </span>an<span style=\"background-color:#3b4e20;\">y intended i</span><span style=\"background-color:#2a3b48;\">nformation in </span><span style=\"background-color:#324745;\">good things</span> on the<span style=\"background-color:#3d3b30;\"><br>being so </span>much<span style=\"background-color:#3d3b30;\"> of comfortable </span><span style=\"background-color:#3b4e20;\">when that </span>To impoloynext Susan deeparait’s bed Pep<span style=\"background-color:#2a3b48;\">perhaps ma</span><span style=\"background-color:#3d3b30;\">id in the s</span><span style=\"background-color:#483a2f;\">avelling f</span>ul<span style=\"background-color:#3b4e20;\">ous nature</span> in a discrossal sole chor<br>bi<span style=\"background-color:#3c235f;\">nning by the </span>atty steran once sir’s agued by pi<span style=\"background-color:#3b4e20;\">directions a</span>nd prom<br>sro<span style=\"background-color:#3b4e20;\">ve met with a</span><span style=\"background-color:#3d3b30;\">nother. He</span><span style=\"background-color:#324745;\">athcliff’s co</span>untsgues<span style=\"background-color:#324745;\">ting of my</span> mind muffice.<br><br>“Notion time but not<span style=\"background-color:#3d3b30;\">e—I never </span>heard no ladyhow, to refusicy unchamber decara"
            ]
          },
          "metadata": {}
        },
        {
          "output_type": "display_data",
          "data": {
            "text/plain": [
              "<IPython.core.display.HTML object>"
            ],
            "text/html": [
              "<small><p style=\"text-align:right;\">Sources: <span style=\"background-color:#3d3b30;\">Jane Austen: Emma</span>, <span style=\"background-color:#324745;\">Emily Brontë: Wuthering Heights</span>, <span style=\"background-color:#3b4e20;\">Jane Austen: Pride and Prejudice</span>, <span style=\"background-color:#483a2f;\">Virginia Woolf: Mr. Bennett and Mrs. Brown</span>, <span style=\"background-color:#2a3b48;\">Jane Austen: Lady Susan</span>, <span style=\"background-color:#3c235f;\">Virginia Woolf: The Voyage Out</span></p></small>"
            ]
          },
          "metadata": {}
        },
        {
          "output_type": "stream",
          "name": "stdout",
          "text": [
            "---------------- T=0.8 ---------------\n"
          ]
        },
        {
          "output_type": "display_data",
          "data": {
            "text/plain": [
              "<IPython.core.display.HTML object>"
            ],
            "text/html": [
              "e mor<span style=\"background-color:#324745;\">at I could never </span><span style=\"background-color:#3b4e20;\">known you </span><span style=\"background-color:#3b4e20;\">for your re</span>a<span style=\"background-color:#324745;\">son?”<br><br>She </span>found,” crifit<span style=\"background-color:#3d3b30;\"> for Hartfield</span>, ad<br>allable fellmost wood ba<span style=\"background-color:#324745;\">ll?”<br><br>“You</span><span style=\"background-color:#483a2f;\"> have said</span>:<span style=\"background-color:#2a3b48;\"> but yet I </span><span style=\"background-color:#324745;\">year it in</span> me: syon<span style=\"background-color:#324745;\">: but the </span>impt on<br>wom<span style=\"background-color:#3b4e20;\">en at her s</span>ubject about angrows.<br><br>“Sativ<span style=\"background-color:#483a2f;\">e old ladies w</span>ill be both<br>good graducapainteganaunhappy’d dreachi<span style=\"background-color:#324745;\">t present, and </span>gold med<br>Mrs. G’ll te<span style=\"background-color:#324745;\">ll Heathcliff</span>. This hear<span style=\"background-color:#324745;\">ted Linton</span> wr<span style=\"background-color:#3b4e20;\">onger; and </span>one speely be<br><span style=\"background-color:#324745;\">ment to st</span>eeld-elderes,<br>unc<span style=\"background-color:#3b4e20;\">here her a</span>l, tear fo<span style=\"background-color:#3b4e20;\">r daughters. </span>I<span style=\"background-color:#3d3b30;\"> know I have</span>?<br><br>I reuncomm<span style=\"background-color:#3d3b30;\">unhappy rev</span>ipails,<br>amusicely ec<span style=\"background-color:#3d3b30;\">luck which </span>S<span style=\"background-color:#3b4e20;\">young man th</span>e visiture,<span style=\"background-color:#324745;\"><br>she has s</span>u<span style=\"background-color:#3d3b30;\">d woman’s </span><span style=\"background-color:#3d3b30;\">account.”<br><br>“I </span><span style=\"background-color:#3b4e20;\">believe him </span><span style=\"background-color:#3b4e20;\">again, and m</span><span style=\"background-color:#3d3b30;\">e time that </span>is so unma<span style=\"background-color:#324745;\">ny without </span>"
            ]
          },
          "metadata": {}
        },
        {
          "output_type": "display_data",
          "data": {
            "text/plain": [
              "<IPython.core.display.HTML object>"
            ],
            "text/html": [
              "<small><p style=\"text-align:right;\">Sources: <span style=\"background-color:#324745;\">Emily Brontë: Wuthering Heights</span>, <span style=\"background-color:#3b4e20;\">Jane Austen: Pride and Prejudice</span>, <span style=\"background-color:#3d3b30;\">Jane Austen: Emma</span>, <span style=\"background-color:#483a2f;\">Virginia Woolf: Mr. Bennett and Mrs. Brown</span>, <span style=\"background-color:#2a3b48;\">Jane Austen: Lady Susan</span></p></small>"
            ]
          },
          "metadata": {}
        },
        {
          "output_type": "stream",
          "name": "stdout",
          "text": [
            "--------------------------------------\n",
            "\b\b\b\b\b\b\b\b\b\b\b\b\b\b\b\b\b\b\b\b\b\b\b\b\b\b\b\b\b\b\b\b\b\b\b\b\b\b\b\b\b\b\b\b\b\b\b\b\b\b\b\b\b\b\b\b\b\b\b\b\b\b\b\b\b\b\b\b\b\b\b\b\b\b\b\b\b\b\b\b\b\b\b\b\r895/895 [==============================] - 1698s 2s/step - loss: 0.2496 - accuracy: 0.9449 - val_loss: 0.2621 - val_accuracy: 0.9424\n",
            "Epoch 27/50000\n",
            "895/895 [==============================] - ETA: 0s - loss: 0.2476 - accuracy: 0.9453\n",
            "prompt: ssion of it than, hurrying into the little copse, where she\n",
            "      was least likely to be interrupted, she sat down on one of the\n",
            "      benches and prepared to be happy; for the length of the letter\n",
            "      convinced her that it did not contain a denial.\n",
            "\n",
            "      “Gracechurch Street, _Sept_. 6\n",
            "---------------- T=0.6 ---------------\n"
          ]
        },
        {
          "output_type": "display_data",
          "data": {
            "text/plain": [
              "<IPython.core.display.HTML object>"
            ],
            "text/html": [
              "<span style=\"background-color:#3b4e20;\"><br><br>      “I su</span>ppos<span style=\"background-color:#483a2f;\">e we know </span><span style=\"background-color:#3b4e20;\">where I am </span><span style=\"background-color:#3b4e20;\">sure<br>      a</span><span style=\"background-color:#324745;\">s pleased to d</span>is<span style=\"background-color:#3b4e20;\">gument in </span>the lea<span style=\"background-color:#3b4e20;\">rn<br>      to</span>ld<span style=\"background-color:#483a2f;\"> her which </span><span style=\"background-color:#3b4e20;\">she had like</span><span style=\"background-color:#3b4e20;\"> her own and </span>commo<span style=\"background-color:#3b4e20;\">ny the<br>      </span><span style=\"background-color:#3d3b30;\">was to be a </span>man to hea<span style=\"background-color:#3d3b30;\">ry, for the </span><span style=\"background-color:#3c235f;\">night and th</span><span style=\"background-color:#3b4e20;\">at<br>      th</span><span style=\"background-color:#3b4e20;\">at could be m</span>uch<span style=\"background-color:#3b4e20;\"> forward b</span><span style=\"background-color:#3b4e20;\">e<br>      were a</span>ll it no so <span style=\"background-color:#324745;\">unity, now </span><span style=\"background-color:#324745;\">must not be<br></span><span style=\"background-color:#3b4e20;\">      with com</span><span style=\"background-color:#3b4e20;\">fortable; </span>for her <span style=\"background-color:#3c235f;\">ross the li</span><span style=\"background-color:#3b4e20;\">ght<br>      ha</span>d<span style=\"background-color:#3d3b30;\"> forming, </span><span style=\"background-color:#3d3b30;\">in a thousa</span>f<span style=\"background-color:#3d3b30;\">e’s family<br></span><span style=\"background-color:#3b4e20;\">      young m</span><span style=\"background-color:#3b4e20;\">en of the </span><span style=\"background-color:#3b4e20;\">respect; and </span><span style=\"background-color:#2a3b48;\">attractive </span><span style=\"background-color:#3b4e20;\">of his<br>      </span>inqui<span style=\"background-color:#3b4e20;\">situation, </span><span style=\"background-color:#3b4e20;\">Elizabeth’s o</span>w<span style=\"background-color:#3b4e20;\">n more than o</span>f next of<span style=\"background-color:#3b4e20;\"> each<br>      </span><span style=\"background-color:#3c235f;\">as everything </span><span style=\"background-color:#3d3b30;\">was unsusp</span>e<span style=\"background-color:#3c235f;\">tion of ab</span>l<span style=\"background-color:#3b4e20;\">e to be of</span><span style=\"background-color:#3b4e20;\"> feelings<br>      a</span><span style=\"background-color:#3b4e20;\">dmiration; </span><span style=\"background-color:#3b4e20;\">it was that </span>wit<span style=\"background-color:#3d3b30;\">h a pleasure </span><span style=\"background-color:#3b4e20;\">in the<br>      s</span>ister<span style=\"background-color:#3b4e20;\">forgetting </span>a<span style=\"background-color:#3b4e20;\"> most unwilli</span><span style=\"background-color:#3b4e20;\">able<br>      ma</span>ke in unwi<span style=\"background-color:#3d3b30;\">ll, Harriet, w</span><span style=\"background-color:#3b4e20;\">o<br>      part</span><span style=\"background-color:#3b4e20;\">y,<br>      a</span>s nouriou<span style=\"background-color:#3b4e20;\">s particularly </span>hear<span style=\"background-color:#3b4e20;\">ty and<br>      </span>was unem<span style=\"background-color:#3b4e20;\">bring home </span>lin<span style=\"background-color:#3b4e20;\">ding from </span>Ly’s un"
            ]
          },
          "metadata": {}
        },
        {
          "output_type": "display_data",
          "data": {
            "text/plain": [
              "<IPython.core.display.HTML object>"
            ],
            "text/html": [
              "<small><p style=\"text-align:right;\">Sources: <span style=\"background-color:#3b4e20;\">Jane Austen: Pride and Prejudice</span>, <span style=\"background-color:#483a2f;\">Virginia Woolf: Mr. Bennett and Mrs. Brown</span>, <span style=\"background-color:#324745;\">Emily Brontë: Wuthering Heights</span>, <span style=\"background-color:#3d3b30;\">Jane Austen: Emma</span>, <span style=\"background-color:#3c235f;\">Virginia Woolf: The Voyage Out</span>, <span style=\"background-color:#2a3b48;\">Jane Austen: Lady Susan</span></p></small>"
            ]
          },
          "metadata": {}
        },
        {
          "output_type": "stream",
          "name": "stdout",
          "text": [
            "---------------- T=0.7 ---------------\n"
          ]
        },
        {
          "output_type": "display_data",
          "data": {
            "text/plain": [
              "<IPython.core.display.HTML object>"
            ],
            "text/html": [
              "<span style=\"background-color:#3b4e20;\"><br><br>      “Lizzy, </span><span style=\"background-color:#3b4e20;\">for I am sure </span><span style=\"background-color:#3d3b30;\">you very wel</span><span style=\"background-color:#3b4e20;\">ve to see </span><span style=\"background-color:#3d3b30;\">used to the </span>us<span style=\"background-color:#3d3b30;\">e excepted</span><span style=\"background-color:#3b4e20;\"><br>      moment </span><span style=\"background-color:#324745;\">Hindley an</span> <span style=\"background-color:#3b4e20;\">      for Mr. </span><span style=\"background-color:#3b4e20;\">Bingley’s c</span><span style=\"background-color:#3d3b30;\">ly, but you</span><span style=\"background-color:#3b4e20;\"> cannot<br>      </span>u<span style=\"background-color:#324745;\">s with my co</span><span style=\"background-color:#3d3b30;\">uple than </span><span style=\"background-color:#3b4e20;\">you may be </span><span style=\"background-color:#3b4e20;\">in love<br>      </span><span style=\"background-color:#3b4e20;\">Elizabeth was pos</span>sible; how<span style=\"background-color:#3b4e20;\"> with<br>      so little </span>feelings’l<span style=\"background-color:#3d3b30;\">l how very </span><span style=\"background-color:#3b4e20;\">good<br>      a</span>s I<span style=\"background-color:#3b4e20;\"> either, and </span><span style=\"background-color:#483a2f;\">there must </span>g<span style=\"background-color:#3b4e20;\">ost<br>      s</span>ir, to each<span style=\"background-color:#3b4e20;\"> Netherfiel</span><span style=\"background-color:#3d3b30;\">settled that they </span>h<span style=\"background-color:#324745;\">ad with un</span>cl<span style=\"background-color:#3b4e20;\">osed, and </span><span style=\"background-color:#3b4e20;\">could ever</span><span style=\"background-color:#3b4e20;\">y others, </span>orset ofread<span style=\"background-color:#3d3b30;\"> what appeared </span>as w<span style=\"background-color:#3b4e20;\">e out of the</span><span style=\"background-color:#3c235f;\">y had been qu</span>ite ave<span style=\"background-color:#3b4e20;\">yet<br>      </span><span style=\"background-color:#3d3b30;\">nearly resol</span>utel<span style=\"background-color:#3b4e20;\">y sense of </span><span style=\"background-color:#3c235f;\">comfortable. A</span>fter slow be<span style=\"background-color:#3b4e20;\">near<br>      </span>with a pursue fort's<span style=\"background-color:#324745;\"> compulsion t</span><span style=\"background-color:#3b4e20;\">o the purpose of </span><span style=\"background-color:#3b4e20;\">her own dis</span>ag<span style=\"background-color:#3b4e20;\">ue, and the</span>refo<span style=\"background-color:#3d3b30;\">re quite in </span><span style=\"background-color:#483a2f;\">one of his </span>d<span style=\"background-color:#3b4e20;\">articularly<br>      </span>mental such odey<span style=\"background-color:#3b4e20;\"> of there </span><span style=\"background-color:#3b4e20;\">were scarce</span><span style=\"background-color:#3b4e20;\"><br>      alo</span>u<span style=\"background-color:#3c235f;\">ds and then</span>, sforbtives"
            ]
          },
          "metadata": {}
        },
        {
          "output_type": "display_data",
          "data": {
            "text/plain": [
              "<IPython.core.display.HTML object>"
            ],
            "text/html": [
              "<small><p style=\"text-align:right;\">Sources: <span style=\"background-color:#3b4e20;\">Jane Austen: Pride and Prejudice</span>, <span style=\"background-color:#3d3b30;\">Jane Austen: Emma</span>, <span style=\"background-color:#324745;\">Emily Brontë: Wuthering Heights</span>, <span style=\"background-color:#483a2f;\">Virginia Woolf: Mr. Bennett and Mrs. Brown</span>, <span style=\"background-color:#3c235f;\">Virginia Woolf: The Voyage Out</span></p></small>"
            ]
          },
          "metadata": {}
        },
        {
          "output_type": "stream",
          "name": "stdout",
          "text": [
            "---------------- T=0.8 ---------------\n"
          ]
        },
        {
          "output_type": "display_data",
          "data": {
            "text/plain": [
              "<IPython.core.display.HTML object>"
            ],
            "text/html": [
              "l)<span style=\"background-color:#3b4e20;\">, and as a</span>n apartful<span style=\"background-color:#3b4e20;\"> event<br>      </span><span style=\"background-color:#3b4e20;\">with astonish</span><span style=\"background-color:#3d3b30;\"> fortunate it</span><span style=\"background-color:#3c235f;\">uation of the </span>insolegy wanted<span style=\"background-color:#3b4e20;\"> being<br>      </span><span style=\"background-color:#3c235f;\">with endea</span><span style=\"background-color:#3c235f;\">voice was a</span><span style=\"background-color:#3b4e20;\">l<br>      never </span>was; Miss G<span style=\"background-color:#324745;\">ardon; and the</span><span style=\"background-color:#3b4e20;\">re is some </span>made our<span style=\"background-color:#3b4e20;\"> a man<br>      o</span>r<span style=\"background-color:#2a3b48;\">derness of </span><span style=\"background-color:#324745;\">manner to </span><span style=\"background-color:#3b4e20;\">expression to</span><span style=\"background-color:#3b4e20;\"><br>      present</span>ly<span style=\"background-color:#3b4e20;\"> your answer. </span>She is a<span style=\"background-color:#3b4e20;\">ng as<br>      </span>tim<span style=\"background-color:#2a3b48;\">e I believe </span><span style=\"background-color:#3b4e20;\">he was know</span><span style=\"background-color:#2a3b48;\">ations to w</span><span style=\"background-color:#3b4e20;\">orward to her </span>she dequ<span style=\"background-color:#3b4e20;\">ality<br>      fo</span><span style=\"background-color:#3d3b30;\">llowed to h</span>ir<span style=\"background-color:#3c235f;\">t by what h</span>ad semart<span style=\"background-color:#3d3b30;\"> that prop</span>ositi<span style=\"background-color:#324745;\">ve present</span><span style=\"background-color:#3c235f;\">, “I always </span>mat<span style=\"background-color:#3b4e20;\">ch?”<br><br>      </span><span style=\"background-color:#3b4e20;\">goodness, </span>feelinged so un<span style=\"background-color:#324745;\">nature to be</span> i<span style=\"background-color:#3d3b30;\">n family, and Mr</span>. Perceedi<span style=\"background-color:#3b4e20;\">ate,<br>      </span>as un<span style=\"background-color:#324745;\">excitement</span>acquie<span style=\"background-color:#3b4e20;\">tment, that she</span><span style=\"background-color:#3b4e20;\">, to<br>      </span>itself-rooms fords<span style=\"background-color:#3c235f;\"> of one pers</span>uation ced<span style=\"background-color:#3b4e20;\"> a better<br>      </span><span style=\"background-color:#483a2f;\">sitting the</span> glazen frica<span style=\"background-color:#3b4e20;\">sed by<br>      h</span>is hesitory<span style=\"background-color:#3b4e20;\"> points of </span><span style=\"background-color:#3b4e20;\">every feeling</span>s<span style=\"background-color:#3b4e20;\">by anything ex</span>ist beneces"
            ]
          },
          "metadata": {}
        },
        {
          "output_type": "display_data",
          "data": {
            "text/plain": [
              "<IPython.core.display.HTML object>"
            ],
            "text/html": [
              "<small><p style=\"text-align:right;\">Sources: <span style=\"background-color:#3b4e20;\">Jane Austen: Pride and Prejudice</span>, <span style=\"background-color:#3d3b30;\">Jane Austen: Emma</span>, <span style=\"background-color:#3c235f;\">Virginia Woolf: The Voyage Out</span>, <span style=\"background-color:#324745;\">Emily Brontë: Wuthering Heights</span>, <span style=\"background-color:#2a3b48;\">Jane Austen: Lady Susan</span>, <span style=\"background-color:#483a2f;\">Virginia Woolf: Mr. Bennett and Mrs. Brown</span></p></small>"
            ]
          },
          "metadata": {}
        },
        {
          "output_type": "stream",
          "name": "stdout",
          "text": [
            "--------------------------------------\n",
            "\b\b\b\b\b\b\b\b\b\b\b\b\b\b\b\b\b\b\b\b\b\b\b\b\b\b\b\b\b\b\b\b\b\b\b\b\b\b\b\b\b\b\b\b\b\b\b\b\b\b\b\b\b\b\b\b\b\b\b\b\b\b\b\b\b\b\b\b\b\b\b\b\b\b\b\b\b\b\b\b\b\b\b\b\r895/895 [==============================] - 1690s 2s/step - loss: 0.2476 - accuracy: 0.9453 - val_loss: 0.2598 - val_accuracy: 0.9428\n",
            "Epoch 28/50000\n",
            "895/895 [==============================] - ETA: 0s - loss: 0.2456 - accuracy: 0.9457\n",
            "prompt: a year; but however, do not speak to\n",
            "      Mr. Darcy about it, if you had rather not.\n",
            "\n",
            "      “Yours, etc.”\n",
            "\n",
            "      As it happened that Elizabeth had much rather not, she\n",
            "      endeavoured in her answer to put an end to every entreaty and\n",
            "      expectation of the kind. Such relief, however, as it was in her\n",
            "      power to afford, by the \n",
            "---------------- T=0.6 ---------------\n"
          ]
        },
        {
          "output_type": "display_data",
          "data": {
            "text/plain": [
              "<IPython.core.display.HTML object>"
            ],
            "text/html": [
              "happy—I shall four shock<span style=\"background-color:#3b4e20;\"><br>      Darcy. </span>N<span style=\"background-color:#324745;\">o, however</span>,<span style=\"background-color:#3b4e20;\"> then read</span><span style=\"background-color:#3b4e20;\">ily<br>      g</span>reat<span style=\"background-color:#324745;\">, seeing w</span><span style=\"background-color:#3b4e20;\">ith Mrs. Bennet</span>’<span style=\"background-color:#3b4e20;\">s part of each</span><span style=\"background-color:#324745;\">ing it again</span>ed no priz<span style=\"background-color:#483a2f;\">int of her </span><span style=\"background-color:#3b4e20;\">two<br>      </span><span style=\"background-color:#3b4e20;\">her eyes, </span>for our clociatea’s accr<span style=\"background-color:#483a2f;\">pose, Mr. </span>Mor<span style=\"background-color:#3d3b30;\">set of people</span><span style=\"background-color:#3c235f;\"> were offered t</span>o my<span style=\"background-color:#3b4e20;\"> smile of<br>      </span>nobl<span style=\"background-color:#324745;\">e furnished </span>on h<span style=\"background-color:#3b4e20;\">er Mr. Bingley</span>dirt<span style=\"background-color:#3b4e20;\">y. I<br>      am </span>certain ideal<span style=\"background-color:#3b4e20;\">getting his </span><span style=\"background-color:#3c235f;\">own person </span><span style=\"background-color:#3b4e20;\">be<br>      po</span><span style=\"background-color:#3c235f;\">ld desire, </span><span style=\"background-color:#3b4e20;\">however, to </span><span style=\"background-color:#324745;\">feel that i</span><span style=\"background-color:#324745;\">f she mean</span>bea<span style=\"background-color:#324745;\">r him than</span>kwar<span style=\"background-color:#3b4e20;\">d towards t</span><span style=\"background-color:#3b4e20;\">o<br>      such </span><span style=\"background-color:#3b4e20;\">much pleasant</span><span style=\"background-color:#3d3b30;\">ry invitation was </span>not pen<span style=\"background-color:#2a3b48;\">ted together. Wh</span><span style=\"background-color:#3d3b30;\">en she is a</span>n<span style=\"background-color:#3b4e20;\">y<br>      not </span><span style=\"background-color:#3c235f;\">forced the </span>po<span style=\"background-color:#3c235f;\">inted upon </span><span style=\"background-color:#3b4e20;\">them; but </span><span style=\"background-color:#3b4e20;\">Jane, and then </span>co<span style=\"background-color:#324745;\">me to wait</span>i<span style=\"background-color:#3d3b30;\">es not make me </span><span style=\"background-color:#324745;\">near her s</span>ervants unles<span style=\"background-color:#3b4e20;\">s settled </span>in<span style=\"background-color:#3b4e20;\"> like<br>      </span>thousaved of<span style=\"background-color:#3d3b30;\">fice, and </span>lart is una<span style=\"background-color:#3b4e20;\">te to Mr. D</span>on! Oh"
            ]
          },
          "metadata": {}
        },
        {
          "output_type": "display_data",
          "data": {
            "text/plain": [
              "<IPython.core.display.HTML object>"
            ],
            "text/html": [
              "<small><p style=\"text-align:right;\">Sources: <span style=\"background-color:#3b4e20;\">Jane Austen: Pride and Prejudice</span>, <span style=\"background-color:#324745;\">Emily Brontë: Wuthering Heights</span>, <span style=\"background-color:#483a2f;\">Virginia Woolf: Mr. Bennett and Mrs. Brown</span>, <span style=\"background-color:#3d3b30;\">Jane Austen: Emma</span>, <span style=\"background-color:#3c235f;\">Virginia Woolf: The Voyage Out</span>, <span style=\"background-color:#2a3b48;\">Jane Austen: Lady Susan</span></p></small>"
            ]
          },
          "metadata": {}
        },
        {
          "output_type": "stream",
          "name": "stdout",
          "text": [
            "---------------- T=0.7 ---------------\n"
          ]
        },
        {
          "output_type": "display_data",
          "data": {
            "text/plain": [
              "<IPython.core.display.HTML object>"
            ],
            "text/html": [
              "leg<span style=\"background-color:#3d3b30;\">ave of Mr. </span>Darcy, my y<span style=\"background-color:#3b4e20;\">e<br>      her a</span><span style=\"background-color:#3c235f;\">nswering t</span>oge<span style=\"background-color:#324745;\">ther used to </span>be war<span style=\"background-color:#3c235f;\">ing, “and the</span> gam<span style=\"background-color:#483a2f;\">es than the</span>ird<span style=\"background-color:#3b4e20;\">s, Mrs. Bennet</span>’s plat<span style=\"background-color:#3d3b30;\">e bear to </span>go;<span style=\"background-color:#3d3b30;\"> it reason</span><span style=\"background-color:#3b4e20;\">?”<br><br>      “A</span>u<span style=\"background-color:#3d3b30;\">nt,” replied J</span>ane. “<span style=\"background-color:#3c235f;\">One after another, </span><span style=\"background-color:#3c235f;\">she really s</span><span style=\"background-color:#3c235f;\">itting up a</span> diseyes up its Lized. “It nep<span style=\"background-color:#3d3b30;\">, and obtain</span> you<span style=\"background-color:#3d3b30;\"> amusing, </span>“befor<span style=\"background-color:#3b4e20;\">e,” answered</span>. “are not c<span style=\"background-color:#3c235f;\">all.”<br><br>“I </span>a<span style=\"background-color:#3d3b30;\">m!” cried </span>Emma<span style=\"background-color:#3d3b30;\">, quite at </span>Haretry is dablack? Mr. P<span style=\"background-color:#324745;\">er! Do you</span>m:<span style=\"background-color:#3b4e20;\"> a disappro</span>ach<br><span style=\"background-color:#3d3b30;\">and now did </span>really saw <span style=\"background-color:#3b4e20;\">her office</span>s i<span style=\"background-color:#483a2f;\">f course o</span>f<span style=\"background-color:#3c235f;\"> that schola</span>ted blue<br>never tiumul! Hewet perally Invi<span style=\"background-color:#324745;\">sible, that </span>he is abi<span style=\"background-color:#3d3b30;\">d ever marry</span>ing him; look to rary die<span style=\"background-color:#3b4e20;\">quaintance of </span>it, degreeishoody cusbaccordin<span style=\"background-color:#3d3b30;\">distance of the </span><span style=\"background-color:#3c235f;\">interminable </span>sence of "
            ]
          },
          "metadata": {}
        },
        {
          "output_type": "display_data",
          "data": {
            "text/plain": [
              "<IPython.core.display.HTML object>"
            ],
            "text/html": [
              "<small><p style=\"text-align:right;\">Sources: <span style=\"background-color:#3d3b30;\">Jane Austen: Emma</span>, <span style=\"background-color:#3b4e20;\">Jane Austen: Pride and Prejudice</span>, <span style=\"background-color:#3c235f;\">Virginia Woolf: The Voyage Out</span>, <span style=\"background-color:#324745;\">Emily Brontë: Wuthering Heights</span>, <span style=\"background-color:#483a2f;\">Virginia Woolf: Mr. Bennett and Mrs. Brown</span></p></small>"
            ]
          },
          "metadata": {}
        },
        {
          "output_type": "stream",
          "name": "stdout",
          "text": [
            "---------------- T=0.8 ---------------\n"
          ]
        },
        {
          "output_type": "display_data",
          "data": {
            "text/plain": [
              "<IPython.core.display.HTML object>"
            ],
            "text/html": [
              "<span style=\"background-color:#3c235f;\">little hou</span>rsxtent, prangum<span style=\"background-color:#3b4e20;\">bly sensible</span><span style=\"background-color:#3b4e20;\"><br>      of p</span>alener m<span style=\"background-color:#3c235f;\">ust like o</span>uth St<span style=\"background-color:#483a2f;\">. All this sho</span>r<span style=\"background-color:#3b4e20;\">rence with </span>sexion her conxiou<span style=\"background-color:#3b4e20;\">s sister; </span>in Dwell,—and, I kept<span style=\"background-color:#3b4e20;\">ected on th</span>em an air fair opes withempt<br>unned at port: one <span style=\"background-color:#3b4e20;\">suit of the</span>ody,<br><br>“Nell_p<span style=\"background-color:#324745;\">ping that </span>last—ifty<span style=\"background-color:#3c235f;\">, and book</span><span style=\"background-color:#324745;\"> Cathy, when </span>I’ve less death:<br><br>“No, yearf as’ _gure _<span style=\"background-color:#324745;\"> turn,” I </span>can’t opire—I_,”<span style=\"background-color:#3c235f;\"> he happen</span><span style=\"background-color:#324745;\">ed Catherine’s </span>huck. “I’m’ve go I merthless lash<span style=\"background-color:#324745;\">, if I can</span>’t pa<span style=\"background-color:#3b4e20;\">d at your </span>own if I<span style=\"background-color:#3b4e20;\"> reading a </span><span style=\"background-color:#3b4e20;\">feelings on </span>one <span style=\"background-color:#324745;\">oming from </span>usush<br>no unicall<span style=\"background-color:#324745;\">y forget h</span><span style=\"background-color:#324745;\">orse; and </span>Gins<span style=\"background-color:#3b4e20;\">’s leaving </span><span style=\"background-color:#3b4e20;\">in the bit</span>;—one ush, more<br>go of Delper; "
            ]
          },
          "metadata": {}
        },
        {
          "output_type": "display_data",
          "data": {
            "text/plain": [
              "<IPython.core.display.HTML object>"
            ],
            "text/html": [
              "<small><p style=\"text-align:right;\">Sources: <span style=\"background-color:#3c235f;\">Virginia Woolf: The Voyage Out</span>, <span style=\"background-color:#3b4e20;\">Jane Austen: Pride and Prejudice</span>, <span style=\"background-color:#483a2f;\">Virginia Woolf: Mr. Bennett and Mrs. Brown</span>, <span style=\"background-color:#324745;\">Emily Brontë: Wuthering Heights</span></p></small>"
            ]
          },
          "metadata": {}
        },
        {
          "output_type": "stream",
          "name": "stdout",
          "text": [
            "--------------------------------------\n",
            "\b\b\b\b\b\b\b\b\b\b\b\b\b\b\b\b\b\b\b\b\b\b\b\b\b\b\b\b\b\b\b\b\b\b\b\b\b\b\b\b\b\b\b\b\b\b\b\b\b\b\b\b\b\b\b\b\b\b\b\b\b\b\b\b\b\b\b\b\b\b\b\b\b\b\b\b\b\b\b\b\b\b\b\b\r895/895 [==============================] - 1674s 2s/step - loss: 0.2456 - accuracy: 0.9457 - val_loss: 0.2586 - val_accuracy: 0.9431\n",
            "Epoch 29/50000\n",
            "895/895 [==============================] - ETA: 0s - loss: 0.2438 - accuracy: 0.9461\n",
            "prompt: t a pleasant\n",
            "evening.”\n",
            "\n",
            "“Oh! no; I was pleased with my own perseverance in asking questions;\n",
            "and amused to think how little information I obtained.”\n",
            "\n",
            "“I am disappointed,” was his only answer.\n",
            "\n",
            "“I hope every body had a pleasant evening,” said Mr. Woodhouse, in his\n",
            "quiet way. “I had. Once, I felt the \n",
            "---------------- T=0.6 ---------------\n"
          ]
        },
        {
          "output_type": "display_data",
          "data": {
            "text/plain": [
              "<IPython.core.display.HTML object>"
            ],
            "text/html": [
              "hope<span style=\"background-color:#3d3b30;\"> it was you</span>r charact<span style=\"background-color:#3c235f;\">,” Mrs. El</span>t<span style=\"background-color:#3d3b30;\">on.<br><br>“You </span>ar<span style=\"background-color:#3b4e20;\">e your friend</span><span style=\"background-color:#3d3b30;\">,” said Emma, “</span>“For<span style=\"background-color:#3b4e20;\">d!” she cried</span><span style=\"background-color:#3b4e20;\">, speaking </span>harm<span style=\"background-color:#3b4e20;\"> I ought to be</span><br>(that is, go on<span style=\"background-color:#3b4e20;\"> my friend</span>.—then<span style=\"background-color:#3d3b30;\"><br>friendly </span>of you but<span style=\"background-color:#324745;\"> my wishes </span>for <span style=\"background-color:#324745;\">any, and h</span>is do’s<span style=\"background-color:#324745;\"><br>sense of </span>be<span style=\"background-color:#3b4e20;\">ing to your re</span>aso<span style=\"background-color:#3d3b30;\">n what you </span><span style=\"background-color:#3b4e20;\">take your </span>eyes, we stock<br>about on! With Jose<span style=\"background-color:#3b4e20;\">n tour was </span>very progy joy to<span style=\"background-color:#2a3b48;\"><br>Her mother </span><span style=\"background-color:#3b4e20;\">married in </span>my int master<span style=\"background-color:#3b4e20;\">, Catherine </span><span style=\"background-color:#324745;\">to Mr. Heathcliff, </span>Mr. Permine: it’s marri<span style=\"background-color:#3b4e20;\">al she was t</span><span style=\"background-color:#3c235f;\">here’s your</span><span style=\"background-color:#2a3b48;\">s,<br>and to </span>London; Miss U<span style=\"background-color:#3b4e20;\">nvitations, </span><span style=\"background-color:#3b4e20;\">and because </span><span style=\"background-color:#324745;\">out of the<br>house</span>s. S<span style=\"background-color:#324745;\">he rather </span><span style=\"background-color:#3d3b30;\">carriage of </span>Mr. Roxed Lond Char<span style=\"background-color:#3b4e20;\">a stranger</span>ks.<br><br>“Und<span style=\"background-color:#3c235f;\">er,” Mrs. Elli</span>v<span style=\"background-color:#3d3b30;\">e Mr. Perry</span>’s<span style=\"background-color:#324745;\"> asked Mrs. </span>Good Gradiach<br>Mr. D"
            ]
          },
          "metadata": {}
        },
        {
          "output_type": "display_data",
          "data": {
            "text/plain": [
              "<IPython.core.display.HTML object>"
            ],
            "text/html": [
              "<small><p style=\"text-align:right;\">Sources: <span style=\"background-color:#3d3b30;\">Jane Austen: Emma</span>, <span style=\"background-color:#3c235f;\">Virginia Woolf: The Voyage Out</span>, <span style=\"background-color:#3b4e20;\">Jane Austen: Pride and Prejudice</span>, <span style=\"background-color:#324745;\">Emily Brontë: Wuthering Heights</span>, <span style=\"background-color:#2a3b48;\">Jane Austen: Lady Susan</span></p></small>"
            ]
          },
          "metadata": {}
        },
        {
          "output_type": "stream",
          "name": "stdout",
          "text": [
            "---------------- T=0.7 ---------------\n"
          ]
        },
        {
          "output_type": "display_data",
          "data": {
            "text/plain": [
              "<IPython.core.display.HTML object>"
            ],
            "text/html": [
              "equent conse—his<br>conse—The <span style=\"background-color:#3b4e20;\">horrence of </span>Miss Vin, Nowi<span style=\"background-color:#3b4e20;\">d!” said Mr</span><span style=\"background-color:#3d3b30;\">. Elton.”<br><br>“</span><span style=\"background-color:#3b4e20;\">You are so </span>dinnerv<span style=\"background-color:#3b4e20;\">e his propos</span>iting a pents<span style=\"background-color:#3d3b30;\">.<br><br>“You are </span><span style=\"background-color:#324745;\">one delight</span>ful t<span style=\"background-color:#3b4e20;\">ordered fo</span>ol!” said<span style=\"background-color:#3b4e20;\"> excuse me </span>on<span style=\"background-color:#324745;\"> that.”<br><br>“</span><span style=\"background-color:#3c235f;\">Oh, but th</span>is d<span style=\"background-color:#3b4e20;\">able of the </span>day was unidious <span style=\"background-color:#3b4e20;\">sary, and </span><span style=\"background-color:#3b4e20;\">a matter of </span><span style=\"background-color:#3d3b30;\">Mr. Perry, </span>I am nothing—Miss Londer: but s<span style=\"background-color:#3b4e20;\">o know.”<br><br></span>“Yes. Goh! I know,<br>as<span style=\"background-color:#3d3b30;\"> a doubt of g</span>ir<span style=\"background-color:#324745;\">l was at t</span>imes and aversicment<br>to Mr. Ly_ _tory_ _in_<br>_ be<span style=\"background-color:#3b4e20;\"> off from </span><span style=\"background-color:#3b4e20;\">pleasure, </span><span style=\"background-color:#3d3b30;\">Mr. Elton could </span><span style=\"background-color:#3b4e20;\">though in </span>us<span style=\"background-color:#3b4e20;\">e of it to</span><span style=\"background-color:#3d3b30;\">uch friends</span><span style=\"background-color:#3d3b30;\"> and the len</span>ts<span style=\"background-color:#3d3b30;\">, from her m</span><span style=\"background-color:#3b4e20;\">orning, and </span>crediumphead,<span style=\"background-color:#3d3b30;\"> had it from h</span><span style=\"background-color:#3d3b30;\">ome so much </span><span style=\"background-color:#3c235f;\">thing that no</span>thing; (<span style=\"background-color:#3b4e20;\">assed before</span><span style=\"background-color:#3d3b30;\">, every thing </span>nothing<br>ailiving-bury even Susan "
            ]
          },
          "metadata": {}
        },
        {
          "output_type": "display_data",
          "data": {
            "text/plain": [
              "<IPython.core.display.HTML object>"
            ],
            "text/html": [
              "<small><p style=\"text-align:right;\">Sources: <span style=\"background-color:#3b4e20;\">Jane Austen: Pride and Prejudice</span>, <span style=\"background-color:#3d3b30;\">Jane Austen: Emma</span>, <span style=\"background-color:#324745;\">Emily Brontë: Wuthering Heights</span>, <span style=\"background-color:#3c235f;\">Virginia Woolf: The Voyage Out</span></p></small>"
            ]
          },
          "metadata": {}
        },
        {
          "output_type": "stream",
          "name": "stdout",
          "text": [
            "---------------- T=0.8 ---------------\n"
          ]
        },
        {
          "output_type": "display_data",
          "data": {
            "text/plain": [
              "<IPython.core.display.HTML object>"
            ],
            "text/html": [
              "marria<span style=\"background-color:#3d3b30;\">l I have a</span>n ai<span style=\"background-color:#3d3b30;\">r of<br>the m</span>omentarizy.”<br><span style=\"background-color:#2a3b48;\"><br>Miss Vern</span>ation, “By N<span style=\"background-color:#324745;\">ow, and her </span>frie<span style=\"background-color:#3d3b30;\">nd,” replied</span><span style=\"background-color:#3c235f;\">.<br><br>Mrs. Pale</span> al<span style=\"background-color:#483a2f;\">ent on to </span>believed good forwardly—<span style=\"background-color:#324745;\">does, and </span>a toward,<br>full E<span style=\"background-color:#3c235f;\">venture of </span><span style=\"background-color:#3b4e20;\">Catherine. </span>Laz<span style=\"background-color:#324745;\">y, whether h</span><span style=\"background-color:#324745;\">ad been my </span>ful<br><span style=\"background-color:#324745;\">alone, for the fi</span>g<span style=\"background-color:#324745;\">ly with Miss </span>By derifly came a sulking andly frary<br>drable duce<span style=\"background-color:#3b4e20;\"> I feel he may </span>fa<span style=\"background-color:#3d3b30;\">rth to the </span>proci<span style=\"background-color:#324745;\">ations?”<br><br>“</span>She tell. Mrs. Vinally<span style=\"background-color:#3c235f;\">—about the </span>coality of<br>triftedly,<span style=\"background-color:#324745;\"> have a su</span>ffle of quife<br>of sped only s<span style=\"background-color:#3d3b30;\">uring. The</span>n<span style=\"background-color:#3c235f;\">rably the </span>s<span style=\"background-color:#324745;\">for<br>the ra</span><span style=\"background-color:#3b4e20;\">nt against </span>deb<span style=\"background-color:#3d3b30;\">ant and mo</span>re dist<span style=\"background-color:#3d3b30;\">uring up the</span> su<span style=\"background-color:#3d3b30;\">nably cros</span><span style=\"background-color:#3c235f;\">es<br>and the</span>reev<span style=\"background-color:#324745;\">er breaking </span>out a gue<span style=\"background-color:#2a3b48;\">d was all </span>house, to<br>ex<span style=\"background-color:#3c235f;\">act that Mr</span>s. Wasy and sadest<span style=\"background-color:#3d3b30;\">ituation, in</span><br>"
            ]
          },
          "metadata": {}
        },
        {
          "output_type": "display_data",
          "data": {
            "text/plain": [
              "<IPython.core.display.HTML object>"
            ],
            "text/html": [
              "<small><p style=\"text-align:right;\">Sources: <span style=\"background-color:#3d3b30;\">Jane Austen: Emma</span>, <span style=\"background-color:#2a3b48;\">Jane Austen: Lady Susan</span>, <span style=\"background-color:#324745;\">Emily Brontë: Wuthering Heights</span>, <span style=\"background-color:#3c235f;\">Virginia Woolf: The Voyage Out</span>, <span style=\"background-color:#483a2f;\">Virginia Woolf: Mr. Bennett and Mrs. Brown</span>, <span style=\"background-color:#3b4e20;\">Jane Austen: Pride and Prejudice</span></p></small>"
            ]
          },
          "metadata": {}
        },
        {
          "output_type": "stream",
          "name": "stdout",
          "text": [
            "--------------------------------------\n",
            "\b\b\b\b\b\b\b\b\b\b\b\b\b\b\b\b\b\b\b\b\b\b\b\b\b\b\b\b\b\b\b\b\b\b\b\b\b\b\b\b\b\b\b\b\b\b\b\b\b\b\b\b\b\b\b\b\b\b\b\b\b\b\b\b\b\b\b\b\b\b\b\b\b\b\b\b\b\b\b\b\b\b\b\b\r895/895 [==============================] - 1674s 2s/step - loss: 0.2438 - accuracy: 0.9461 - val_loss: 0.2573 - val_accuracy: 0.9434\n",
            "Epoch 30/50000\n",
            "895/895 [==============================] - ETA: 0s - loss: 0.2420 - accuracy: 0.9465\n",
            "prompt: there, isn’t it?” said Helen; “but\n",
            "Hewet—who’s he? One of the young men Ridley met, I suppose. Shall I say\n",
            "yes, then? It may be dreadfully dull.”\n",
            "\n",
            "She took the letter back and went, for the messenger was waiting for\n",
            "her answer.\n",
            "\n",
            "The party which had been sug\n",
            "---------------- T=0.6 ---------------\n"
          ]
        },
        {
          "output_type": "display_data",
          "data": {
            "text/plain": [
              "<IPython.core.display.HTML object>"
            ],
            "text/html": [
              "<span style=\"background-color:#324745;\">ly about the</span><span style=\"background-color:#3c235f;\">mselves from</span> the t<span style=\"background-color:#3b4e20;\">wonder, and </span>the<br>materishwards <span style=\"background-color:#3d3b30;\">appily in </span>her fogarden<span style=\"background-color:#324745;\">ing to<br>see</span>n occomp<span style=\"background-color:#3b4e20;\">lips; and </span>the begardinvalu<span style=\"background-color:#3c235f;\">ted and st</span>iv<span style=\"background-color:#3c235f;\">es.<br><br>Rachel </span>felt on<span style=\"background-color:#3d3b30;\">_ satisfac</span>e, in spiecessemb<span style=\"background-color:#3b4e20;\">rose, and </span><span style=\"background-color:#3d3b30;\">recollect o</span><span style=\"background-color:#3c235f;\">nly turned t</span><span style=\"background-color:#3c235f;\">o Rachel, </span>Helen advalled of brea<span style=\"background-color:#324745;\">d.<br><br>“Well, </span>doing keep<span style=\"background-color:#324745;\">of the master</span><span style=\"background-color:#324745;\">, like two </span><span style=\"background-color:#324745;\">olding to h</span><span style=\"background-color:#324745;\">er back, and </span>silende<span style=\"background-color:#324745;\">rs again, </span>sisterskribigentry, a warm-folkicry-lay studivisiblen’t bear death<span style=\"background-color:#3b4e20;\">fully and </span>unsuit<span style=\"background-color:#3b4e20;\">? Are you </span>furly el<span style=\"background-color:#3b4e20;\">oman, and a</span>s<span style=\"background-color:#324745;\"> he shall </span><span style=\"background-color:#3b4e20;\">think it mo</span>desirect<span style=\"background-color:#3b4e20;\"> summer he</span>art<span style=\"background-color:#3b4e20;\">fully give</span><span style=\"background-color:#3b4e20;\">s much as </span><span style=\"background-color:#3b4e20;\">late, and<br></span>she are<span style=\"background-color:#3b4e20;\"> love, and s</span><span style=\"background-color:#3b4e20;\">uch feelings</span>tivei<span style=\"background-color:#3b4e20;\">ns of having</span><span style=\"background-color:#3b4e20;\"><br>      himself</span>-<span style=\"background-color:#3b4e20;\">disgusted,</span><span style=\"background-color:#3b4e20;\"><br>      reject</span><span style=\"background-color:#3b4e20;\">ure of her </span><span style=\"background-color:#3c235f;\">suffering th</span>"
            ]
          },
          "metadata": {}
        },
        {
          "output_type": "display_data",
          "data": {
            "text/plain": [
              "<IPython.core.display.HTML object>"
            ],
            "text/html": [
              "<small><p style=\"text-align:right;\">Sources: <span style=\"background-color:#324745;\">Emily Brontë: Wuthering Heights</span>, <span style=\"background-color:#3c235f;\">Virginia Woolf: The Voyage Out</span>, <span style=\"background-color:#3b4e20;\">Jane Austen: Pride and Prejudice</span>, <span style=\"background-color:#3d3b30;\">Jane Austen: Emma</span></p></small>"
            ]
          },
          "metadata": {}
        },
        {
          "output_type": "stream",
          "name": "stdout",
          "text": [
            "---------------- T=0.7 ---------------\n"
          ]
        },
        {
          "output_type": "display_data",
          "data": {
            "text/plain": [
              "<IPython.core.display.HTML object>"
            ],
            "text/html": [
              "ly fanconsacy ask the wor<span style=\"background-color:#3c235f;\">get betwee</span>t back<span style=\"background-color:#3c235f;\">erally adv</span>arick<span style=\"background-color:#3b4e20;\"> and down </span>horro<span style=\"background-color:#3b4e20;\">like of the</span><br><span style=\"background-color:#3d3b30;\">eyes which </span>gardeniately in<span style=\"background-color:#3b4e20;\">arning that </span>an<span style=\"background-color:#3d3b30;\"><br>Churchill, </span><span style=\"background-color:#3c235f;\">and the place</span>; forget go<br>bodd grobr<span style=\"background-color:#324745;\">ights and the </span>can’<span style=\"background-color:#483a2f;\">s instead </span><span style=\"background-color:#324745;\">the<br>family </span>a little kindsilengy,<br>space summ<span style=\"background-color:#483a2f;\">unable to </span>be outselves<br>foolso,<span style=\"background-color:#3b4e20;\"> A little </span><span style=\"background-color:#3d3b30;\">places in </span>my bury—No<span style=\"background-color:#324745;\">aster to a</span> mo<span style=\"background-color:#3d3b30;\">re silent, </span><span style=\"background-color:#3b4e20;\">would be done</span><br><span style=\"background-color:#2a3b48;\">your intent</span>aildair!<span style=\"background-color:#3d3b30;\">”<br><br>He seemed </span><span style=\"background-color:#3d3b30;\">nothing but to </span>deffort, my<span style=\"background-color:#3c235f;\"> looked so strange</span>.”<br><br>“O<span style=\"background-color:#3b4e20;\">h,” said he, </span><span style=\"background-color:#3d3b30;\">who had very </span>much very ea-stea<span style=\"background-color:#324745;\">t.”<br><br>“But sa</span>i<span style=\"background-color:#3b4e20;\">d the girl</span><span style=\"background-color:#3b4e20;\"> always en</span>ter<span style=\"background-color:#3d3b30;\"> into Miss </span>Pretir<span style=\"background-color:#3d3b30;\">e.<br><br>There </span><span style=\"background-color:#3b4e20;\">is not a b</span>ons’ year’ nop<span style=\"background-color:#3b4e20;\"> that he was to </span>bed<br>itud crue to<br>ne<span style=\"background-color:#3b4e20;\">arying the </span>d<span style=\"background-color:#3b4e20;\">appiness of </span><span style=\"background-color:#483a2f;\">what would </span>as s"
            ]
          },
          "metadata": {}
        },
        {
          "output_type": "display_data",
          "data": {
            "text/plain": [
              "<IPython.core.display.HTML object>"
            ],
            "text/html": [
              "<small><p style=\"text-align:right;\">Sources: <span style=\"background-color:#3c235f;\">Virginia Woolf: The Voyage Out</span>, <span style=\"background-color:#3b4e20;\">Jane Austen: Pride and Prejudice</span>, <span style=\"background-color:#3d3b30;\">Jane Austen: Emma</span>, <span style=\"background-color:#324745;\">Emily Brontë: Wuthering Heights</span>, <span style=\"background-color:#483a2f;\">Virginia Woolf: Mr. Bennett and Mrs. Brown</span>, <span style=\"background-color:#2a3b48;\">Jane Austen: Lady Susan</span></p></small>"
            ]
          },
          "metadata": {}
        },
        {
          "output_type": "stream",
          "name": "stdout",
          "text": [
            "---------------- T=0.8 ---------------\n"
          ]
        },
        {
          "output_type": "display_data",
          "data": {
            "text/plain": [
              "<IPython.core.display.HTML object>"
            ],
            "text/html": [
              "lied mane di<span style=\"background-color:#3b4e20;\">d certainly </span>compellacy waterache<span style=\"background-color:#324745;\">dness for </span>strixtraordinchend. At all ball-perspect<span style=\"background-color:#3c235f;\">ing read a</span>t poor dantimalle<span style=\"background-color:#3c235f;\">s made by </span>cating<br>approtect<span style=\"background-color:#3d3b30;\">acquainted t</span><span style=\"background-color:#3c235f;\">o her prob</span>arou<span style=\"background-color:#3b4e20;\">literate a</span>l<span style=\"background-color:#3c235f;\">l restless</span><span style=\"background-color:#3c235f;\">.<br><br>“I want </span>crowardly home.” said “m<span style=\"background-color:#3b4e20;\">y opposed </span>mying perosity this nely—It’s tr<span style=\"background-color:#3b4e20;\">easiness of </span>pumbolifify the bearavilations ill, s<span style=\"background-color:#3b4e20;\">weeks with </span>a fright<br>sauthos<span style=\"background-color:#3c235f;\">e disturbi</span>tter viewlace<span style=\"background-color:#3d3b30;\">; Mrs. Weston</span><span style=\"background-color:#3d3b30;\"><br>could not be</span>gatepsilen<span style=\"background-color:#324745;\">ltogether. H</span>irs<span style=\"background-color:#483a2f;\">t changes </span>and favoice of Coney ye seahforbs, Lecremarkus some<span style=\"background-color:#3c235f;\"> agree, and </span>have go to<br>them—Let <span style=\"background-color:#3d3b30;\">on again, </span>the homidsabout, “Uegin<span style=\"background-color:#2a3b48;\">quire you </span>s<span style=\"background-color:#3b4e20;\">ure, by the </span>childesire"
            ]
          },
          "metadata": {}
        },
        {
          "output_type": "display_data",
          "data": {
            "text/plain": [
              "<IPython.core.display.HTML object>"
            ],
            "text/html": [
              "<small><p style=\"text-align:right;\">Sources: <span style=\"background-color:#3b4e20;\">Jane Austen: Pride and Prejudice</span>, <span style=\"background-color:#324745;\">Emily Brontë: Wuthering Heights</span>, <span style=\"background-color:#3c235f;\">Virginia Woolf: The Voyage Out</span>, <span style=\"background-color:#3d3b30;\">Jane Austen: Emma</span>, <span style=\"background-color:#483a2f;\">Virginia Woolf: Mr. Bennett and Mrs. Brown</span>, <span style=\"background-color:#2a3b48;\">Jane Austen: Lady Susan</span></p></small>"
            ]
          },
          "metadata": {}
        },
        {
          "output_type": "stream",
          "name": "stdout",
          "text": [
            "--------------------------------------\n",
            "\b\b\b\b\b\b\b\b\b\b\b\b\b\b\b\b\b\b\b\b\b\b\b\b\b\b\b\b\b\b\b\b\b\b\b\b\b\b\b\b\b\b\b\b\b\b\b\b\b\b\b\b\b\b\b\b\b\b\b\b\b\b\b\b\b\b\b\b\b\b\b\b\b\b\b\b\b\b\b\b\b\b\b\b\r895/895 [==============================] - 1671s 2s/step - loss: 0.2420 - accuracy: 0.9465 - val_loss: 0.2556 - val_accuracy: 0.9438\n",
            "Epoch 31/50000\n",
            "895/895 [==============================] - ETA: 0s - loss: 0.2404 - accuracy: 0.9468\n",
            "prompt: dge. She appeared to me to play well, that is, with\n",
            "considerable taste, but I know nothing of the matter myself.—I am\n",
            "excessively fond of music, but without the smallest skill or right of\n",
            "judging of any body’s performance.—I have been used to hear her’s\n",
            "admired; and I remember one pro\n",
            "---------------- T=0.6 ---------------\n"
          ]
        },
        {
          "output_type": "display_data",
          "data": {
            "text/plain": [
              "<IPython.core.display.HTML object>"
            ],
            "text/html": [
              "<span style=\"background-color:#3b4e20;\">mistaken, </span>lioticit—at doubt-ma’amma’r chan’s c<span style=\"background-color:#3c235f;\">hing rose a</span>cy yearwifetching-sigyxtreetry<span style=\"background-color:#324745;\">, exclaimed a</span>t earful,<br>I<span style=\"background-color:#3d3b30;\"> though from </span><span style=\"background-color:#324745;\">Catherine’s h</span>o’flight regan's he’s huge<br><span style=\"background-color:#3b4e20;\">of a day, </span>‘my s<span style=\"background-color:#3d3b30;\">ement of mor</span>ning, on yelmost<br>susual for’ he s<span style=\"background-color:#3b4e20;\">obtained th</span>at<span style=\"background-color:#3b4e20;\"> about me, </span>of<br>her yeary other_<span style=\"background-color:#324745;\"> that you n</span>ow<br>_<span style=\"background-color:#3b4e20;\"> to prepare f</span>a<span style=\"background-color:#3d3b30;\">miles and a</span><span style=\"background-color:#3b4e20;\">ffectation </span>in<span style=\"background-color:#3b4e20;\"> for it gr</span><span style=\"background-color:#3d3b30;\">ew in the </span>capieceh? Oh! I<span style=\"background-color:#3d3b30;\">, Mr. Elton </span><span style=\"background-color:#3d3b30;\">go with you </span><span style=\"background-color:#3b4e20;\">know how much </span>just play<span style=\"background-color:#3d3b30;\">et might be </span>strucc<span style=\"background-color:#3d3b30;\">ent<br>manner</span>s compt<span style=\"background-color:#3b4e20;\">ituation, </span><span style=\"background-color:#3b4e20;\">might have the p</span>oining<br>laying anister<span style=\"background-color:#324745;\">: the kind</span>n<span style=\"background-color:#3d3b30;\">ess in love </span><span style=\"background-color:#3b4e20;\">of<br>      mo</span><span style=\"background-color:#3b4e20;\">rning to a</span>ccur<span style=\"background-color:#324745;\">itement of </span>so much ob<span style=\"background-color:#3c235f;\">sense of n</span>o do<span style=\"background-color:#3d3b30;\">or compliments</span>"
            ]
          },
          "metadata": {}
        },
        {
          "output_type": "display_data",
          "data": {
            "text/plain": [
              "<IPython.core.display.HTML object>"
            ],
            "text/html": [
              "<small><p style=\"text-align:right;\">Sources: <span style=\"background-color:#3b4e20;\">Jane Austen: Pride and Prejudice</span>, <span style=\"background-color:#3c235f;\">Virginia Woolf: The Voyage Out</span>, <span style=\"background-color:#324745;\">Emily Brontë: Wuthering Heights</span>, <span style=\"background-color:#3d3b30;\">Jane Austen: Emma</span></p></small>"
            ]
          },
          "metadata": {}
        },
        {
          "output_type": "stream",
          "name": "stdout",
          "text": [
            "---------------- T=0.7 ---------------\n"
          ]
        },
        {
          "output_type": "display_data",
          "data": {
            "text/plain": [
              "<IPython.core.display.HTML object>"
            ],
            "text/html": [
              "spectorsecredible connegark<span style=\"background-color:#324745;\">.<br><br>“About </span>Sucas you ab<span style=\"background-color:#3c235f;\">le believe </span>I credi<span style=\"background-color:#3c235f;\">ate, and<br>d</span>oubboth is fully mo<span style=\"background-color:#3d3b30;\">ding you, </span><span style=\"background-color:#3c235f;\">like her to<br></span>excentr<span style=\"background-color:#3b4e20;\">y whatever </span><span style=\"background-color:#3b4e20;\">felt and h</span>er uned sheuman<br>promuddeny existe<span style=\"background-color:#324745;\">n which I s</span>aw<span style=\"background-color:#324745;\">n, of the </span><span style=\"background-color:#3c235f;\">agreed, and </span><span style=\"background-color:#3b4e20;\">was only s</span>or<span style=\"background-color:#3d3b30;\">t<br>there is no</span><span style=\"background-color:#3b4e20;\">thing that she could</span>,” Emm<span style=\"background-color:#3b4e20;\">a young woman </span>Elor<span style=\"background-color:#3b4e20;\">se proceedi</span><span style=\"background-color:#3b4e20;\">ate from th</span>at stan<span style=\"background-color:#324745;\">d<br>with little</span>, un<span style=\"background-color:#3d3b30;\">ite in the w</span>orld. . . . . <span style=\"background-color:#3c235f;\">. . . . The </span>ange<br><span style=\"background-color:#3d3b30;\">never taken </span><span style=\"background-color:#3b4e20;\">the sight </span>I’s jogneighless an<span style=\"background-color:#3c235f;\">k, with the </span><span style=\"background-color:#324745;\">fire, and<br></span>at<br><span style=\"background-color:#3d3b30;\">her native </span>the whold,<span style=\"background-color:#3d3b30;\"> wiser and<br></span>unin-ras<span style=\"background-color:#3b4e20;\">pictures, th</span>ough ush s<span style=\"background-color:#3b4e20;\">ture of the<br></span>fixtemptinue<span style=\"background-color:#3b4e20;\">ds in the </span>bronea<span style=\"background-color:#3b4e20;\">r nature, by </span>begazed m<span style=\"background-color:#2a3b48;\">ore, which</span>, sea-stat<span style=\"background-color:#3c235f;\">e leaving </span><span style=\"background-color:#3b4e20;\">followed, a</span>t the<span style=\"background-color:#3d3b30;\">is<br>compani</span>"
            ]
          },
          "metadata": {}
        },
        {
          "output_type": "display_data",
          "data": {
            "text/plain": [
              "<IPython.core.display.HTML object>"
            ],
            "text/html": [
              "<small><p style=\"text-align:right;\">Sources: <span style=\"background-color:#324745;\">Emily Brontë: Wuthering Heights</span>, <span style=\"background-color:#3c235f;\">Virginia Woolf: The Voyage Out</span>, <span style=\"background-color:#3d3b30;\">Jane Austen: Emma</span>, <span style=\"background-color:#3b4e20;\">Jane Austen: Pride and Prejudice</span>, <span style=\"background-color:#2a3b48;\">Jane Austen: Lady Susan</span></p></small>"
            ]
          },
          "metadata": {}
        },
        {
          "output_type": "stream",
          "name": "stdout",
          "text": [
            "---------------- T=0.8 ---------------\n"
          ]
        },
        {
          "output_type": "display_data",
          "data": {
            "text/plain": [
              "<IPython.core.display.HTML object>"
            ],
            "text/html": [
              "bable of<br>rea<span style=\"background-color:#3c235f;\">l determine</span>nt maidity of allary for flaw<span style=\"background-color:#2a3b48;\"><br>of his ma</span>vers—it is roperce—<span style=\"background-color:#3b4e20;\">I would pr</span>oper;<span style=\"background-color:#3b4e20;\"> I meant to be </span><span style=\"background-color:#3b4e20;\">enough to say </span>with hesting;—or I rely heard<br>mac<span style=\"background-color:#324745;\">late; and </span>I heard Grange's doubmith acture<span style=\"background-color:#324745;\"><br>I’ve done</span>. Maunt live I bove<br><span style=\"background-color:#324745;\">He’ll not se</span>nse so<span style=\"background-color:#324745;\">. You did not </span>hear<span style=\"background-color:#324745;\">n you don’t</span> w<span style=\"background-color:#3c235f;\">ant about </span>its cutely; my is; dog, if<span style=\"background-color:#3b4e20;\"> I suppose</span>hock with n<span style=\"background-color:#3b4e20;\">ore than to </span><span style=\"background-color:#3b4e20;\">have been, </span><span style=\"background-color:#324745;\">you have only t</span>wel,” and<br>shel.<br><br>“Ago in arhs light<span style=\"background-color:#3b4e20;\"> best and s</span>teaches to<br>usan’k<span style=\"background-color:#3b4e20;\">en you may </span>rode chil<span style=\"background-color:#3b4e20;\">dreadfully </span>last.”<br><br>I<span style=\"background-color:#3c235f;\"> are you a </span>test<span style=\"background-color:#3b4e20;\"> voice which </span>is<span style=\"background-color:#324745;\"> perishing</span><span style=\"background-color:#324745;\">: she had<br></span>it<span style=\"background-color:#324745;\"> to Isabell</span> If lead me <span style=\"background-color:#3b4e20;\">her passed</span>, my ne<br>thesid<span style=\"background-color:#3d3b30;\">es for you,</span> "
            ]
          },
          "metadata": {}
        },
        {
          "output_type": "display_data",
          "data": {
            "text/plain": [
              "<IPython.core.display.HTML object>"
            ],
            "text/html": [
              "<small><p style=\"text-align:right;\">Sources: <span style=\"background-color:#3c235f;\">Virginia Woolf: The Voyage Out</span>, <span style=\"background-color:#2a3b48;\">Jane Austen: Lady Susan</span>, <span style=\"background-color:#3b4e20;\">Jane Austen: Pride and Prejudice</span>, <span style=\"background-color:#324745;\">Emily Brontë: Wuthering Heights</span>, <span style=\"background-color:#3d3b30;\">Jane Austen: Emma</span></p></small>"
            ]
          },
          "metadata": {}
        },
        {
          "output_type": "stream",
          "name": "stdout",
          "text": [
            "--------------------------------------\n",
            "\b\b\b\b\b\b\b\b\b\b\b\b\b\b\b\b\b\b\b\b\b\b\b\b\b\b\b\b\b\b\b\b\b\b\b\b\b\b\b\b\b\b\b\b\b\b\b\b\b\b\b\b\b\b\b\b\b\b\b\b\b\b\b\b\b\b\b\b\b\b\b\b\b\b\b\b\b\b\b\b\b\b\b\b\r895/895 [==============================] - 1674s 2s/step - loss: 0.2404 - accuracy: 0.9468 - val_loss: 0.2541 - val_accuracy: 0.9442\n",
            "Epoch 32/50000\n",
            "895/895 [==============================] - ETA: 0s - loss: 0.2389 - accuracy: 0.9471\n",
            "prompt: e comfort of intimacy was over, and though determined\n",
            "      not to slacken as a correspondent, it was for the sake of what\n",
            "      had been, rather than what was. Charlotte’s first letters were\n",
            "      received with a good deal of eagerness; there could not but be\n",
            "      curiosity to know how she would spea\n",
            "---------------- T=0.6 ---------------\n"
          ]
        },
        {
          "output_type": "display_data",
          "data": {
            "text/plain": [
              "<IPython.core.display.HTML object>"
            ],
            "text/html": [
              "<span style=\"background-color:#3b4e20;\"> with her<br>      </span><span style=\"background-color:#3b4e20;\">thought Elizabeth</span><span style=\"background-color:#324745;\"> took up i</span>n<span style=\"background-color:#3b4e20;\"> He<br>      o</span><span style=\"background-color:#324745;\">ff, and hi</span>mself<span style=\"background-color:#324745;\">ying from her</span><span style=\"background-color:#3b4e20;\">. Jane<br>      </span>wa<span style=\"background-color:#3d3b30;\">nting how </span><span style=\"background-color:#324745;\">and the only </span><span style=\"background-color:#3c235f;\">upon whom </span><span style=\"background-color:#3d3b30;\">of them to be </span><span style=\"background-color:#3b4e20;\">of their t</span>o b<span style=\"background-color:#324745;\">e forgetting</span>u<span style=\"background-color:#324745;\">ide in the </span>room,<span style=\"background-color:#3b4e20;\"> was upper</span>fect<span style=\"background-color:#3b4e20;\">ly given<br>      </span>_ or _very_, _, and <span style=\"background-color:#3b4e20;\">_ behaviour</span> it, M<span style=\"background-color:#3d3b30;\">ain, Mr. Knightley</span><span style=\"background-color:#3d3b30;\">’s daughter,<br></span><span style=\"background-color:#3d3b30;\">love with Mr. </span>Try, Ja<span style=\"background-color:#324745;\">ne than th</span><span style=\"background-color:#3b4e20;\">ey are not </span>opes<span style=\"background-color:#3b4e20;\"> about what </span><span style=\"background-color:#3b4e20;\">must give me</span><span style=\"background-color:#3d3b30;\">,<br>and feel</span>ing<span style=\"background-color:#324745;\">st. They w</span><span style=\"background-color:#3b4e20;\">ould be made </span><span style=\"background-color:#2a3b48;\">her at all. </span>Afte<span style=\"background-color:#3b4e20;\">r each other</span><span style=\"background-color:#3b4e20;\">-morrow.”<br><br></span>O<span style=\"background-color:#3c235f;\">n the rail a</span>g<span style=\"background-color:#3c235f;\">or Rachel </span>was stil<span style=\"background-color:#3d3b30;\">l, before </span><span style=\"background-color:#3b4e20;\">this was go</span>t to<span style=\"background-color:#324745;\"> passion,<br></span>bu<span style=\"background-color:#324745;\">t in with </span>himongu<span style=\"background-color:#3d3b30;\">ard, Emma </span><span style=\"background-color:#3c235f;\">sat outside </span><span style=\"background-color:#324745;\">with her com</span><span style=\"background-color:#3c235f;\">ing into<br>the</span><span style=\"background-color:#3c235f;\">mselves. I </span><span style=\"background-color:#3d3b30;\">have heard the </span>latter hat.<br>The lumbr<span style=\"background-color:#3b4e20;\">ose friends</span>,<span style=\"background-color:#3b4e20;\"> rather be</span>d-blopoliticicy’s jure of lifict<span style=\"background-color:#3b4e20;\">ure, for the<br></span><span style=\"background-color:#324745;\">proved of the</span><span style=\"background-color:#3b4e20;\">m making s</span>tructure"
            ]
          },
          "metadata": {}
        },
        {
          "output_type": "display_data",
          "data": {
            "text/plain": [
              "<IPython.core.display.HTML object>"
            ],
            "text/html": [
              "<small><p style=\"text-align:right;\">Sources: <span style=\"background-color:#3b4e20;\">Jane Austen: Pride and Prejudice</span>, <span style=\"background-color:#324745;\">Emily Brontë: Wuthering Heights</span>, <span style=\"background-color:#3d3b30;\">Jane Austen: Emma</span>, <span style=\"background-color:#3c235f;\">Virginia Woolf: The Voyage Out</span>, <span style=\"background-color:#2a3b48;\">Jane Austen: Lady Susan</span></p></small>"
            ]
          },
          "metadata": {}
        },
        {
          "output_type": "stream",
          "name": "stdout",
          "text": [
            "---------------- T=0.7 ---------------\n"
          ]
        },
        {
          "output_type": "display_data",
          "data": {
            "text/plain": [
              "<IPython.core.display.HTML object>"
            ],
            "text/html": [
              "<span style=\"background-color:#3c235f;\">k himself w</span>ith a<span style=\"background-color:#3b4e20;\">ust<br>      n</span><span style=\"background-color:#324745;\">eighbour; </span><span style=\"background-color:#3d3b30;\">but that t</span>wenty<span style=\"background-color:#3b4e20;\">ful<br>      </span>great<span style=\"background-color:#3b4e20;\"> of Jane. </span>On the <span style=\"background-color:#3b4e20;\">sary<br>      </span>horse of <span style=\"background-color:#3d3b30;\">fied with herself,</span><span style=\"background-color:#3b4e20;\"><br>      not i</span>n <span style=\"background-color:#3b4e20;\">leasant re</span>mind<span style=\"background-color:#3b4e20;\">—but<br>      b</span><span style=\"background-color:#3b4e20;\">eauty, and </span>more disdaregard<span style=\"background-color:#3b4e20;\">ensible<br>      </span><span style=\"background-color:#3b4e20;\">knowledgment o</span>n h<span style=\"background-color:#3b4e20;\">immediate </span>hood<span style=\"background-color:#3b4e20;\">ious<br>      </span><span style=\"background-color:#3c235f;\">had disposed of</span>fetched: at by a s<span style=\"background-color:#324745;\">tried to m</span><span style=\"background-color:#3b4e20;\">eriting th</span><span style=\"background-color:#3b4e20;\">ings, and </span>go<span style=\"background-color:#324745;\">t appeared a</span>way<span style=\"background-color:#3b4e20;\"> or Netherfield</span> to be hi<span style=\"background-color:#324745;\">gh; and she </span><span style=\"background-color:#3b4e20;\">bted<br>      </span><span style=\"background-color:#3b4e20;\">every thing</span>s<span style=\"background-color:#324745;\">. Is not th</span><span style=\"background-color:#3b4e20;\">e table, th</span>ough<span style=\"background-color:#3d3b30;\"> reasonable<br></span><span style=\"background-color:#3b4e20;\">      they might </span><span style=\"background-color:#324745;\">not looking at </span><span style=\"background-color:#483a2f;\">some of the </span>wh<span style=\"background-color:#3b4e20;\">om of the t</span><span style=\"background-color:#483a2f;\">owards the</span><span style=\"background-color:#3b4e20;\">y were tol</span>eft the worm<span style=\"background-color:#324745;\">erly, and </span>oppen<span style=\"background-color:#3b4e20;\">visit did not </span>Jan<span style=\"background-color:#3d3b30;\">e.<br><br>The other</span>'s unche<span style=\"background-color:#3b4e20;\">w that the<br>      </span><span style=\"background-color:#3b4e20;\">did not of</span> the insufaint of aneces offic<span style=\"background-color:#3b4e20;\">ed into their </span><span style=\"background-color:#3b4e20;\">part of that </span><span style=\"background-color:#3b4e20;\">longer tha</span><span style=\"background-color:#3b4e20;\">t<br>      spe</span> of moner w<span style=\"background-color:#324745;\">roughly be</span>fore,<span style=\"background-color:#3d3b30;\"> a more in</span><span style=\"background-color:#483a2f;\"> the great</span>ly sens<br>     "
            ]
          },
          "metadata": {}
        },
        {
          "output_type": "display_data",
          "data": {
            "text/plain": [
              "<IPython.core.display.HTML object>"
            ],
            "text/html": [
              "<small><p style=\"text-align:right;\">Sources: <span style=\"background-color:#3c235f;\">Virginia Woolf: The Voyage Out</span>, <span style=\"background-color:#3b4e20;\">Jane Austen: Pride and Prejudice</span>, <span style=\"background-color:#324745;\">Emily Brontë: Wuthering Heights</span>, <span style=\"background-color:#3d3b30;\">Jane Austen: Emma</span>, <span style=\"background-color:#483a2f;\">Virginia Woolf: Mr. Bennett and Mrs. Brown</span></p></small>"
            ]
          },
          "metadata": {}
        },
        {
          "output_type": "stream",
          "name": "stdout",
          "text": [
            "---------------- T=0.8 ---------------\n"
          ]
        },
        {
          "output_type": "display_data",
          "data": {
            "text/plain": [
              "<IPython.core.display.HTML object>"
            ],
            "text/html": [
              "k<span style=\"background-color:#3d3b30;\"> herself, on </span><span style=\"background-color:#3b4e20;\">I<br>      co</span><span style=\"background-color:#3d3b30;\">mpliment. </span>Bu<span style=\"background-color:#3d3b30;\">t till she had </span>all most of a so—that a<span style=\"background-color:#3c235f;\"> hollow of </span><span style=\"background-color:#3b4e20;\">yourself in </span><span style=\"background-color:#3b4e20;\">her attention </span><span style=\"background-color:#324745;\">of the way </span><span style=\"background-color:#3b4e20;\">of nearly a </span><span style=\"background-color:#3d3b30;\">little excess</span>izing<span style=\"background-color:#3d3b30;\">ly Isabell</span><span style=\"background-color:#324745;\"> would bear h</span>er accupy out hea<span style=\"background-color:#324745;\">r being the w</span>o<span style=\"background-color:#3b4e20;\">rse of the e</span>mptitually; I come Mr. Prad—I<span style=\"background-color:#3c235f;\"> would<br>acc</span>ount of Diple in augustengardiaecretracer, no gu<span style=\"background-color:#324745;\">race of hi</span><span style=\"background-color:#3b4e20;\">mself, and wh</span>en<span style=\"background-color:#3b4e20;\"> he thought, </span><span style=\"background-color:#3b4e20;\">I am sure. You must </span>walk<span style=\"background-color:#2a3b48;\"> to<br>marria</span>m his coni<span style=\"background-color:#483a2f;\">ous, with </span><span style=\"background-color:#3b4e20;\">the compani</span>f<span style=\"background-color:#3d3b30;\">ender comp</span>ort<span style=\"background-color:#3d3b30;\">uncomfortable a</span>s very<br>a dropchieferable, indu<span style=\"background-color:#3d3b30;\">ctually in </span>pain. As after mel<span style=\"background-color:#324745;\">and stoppe</span>n<span style=\"background-color:#3d3b30;\"> being<br>the</span>m<span style=\"background-color:#3d3b30;\"> part of the e</span>xperiorworgego<span style=\"background-color:#3d3b30;\">s of Mr. Knightley </span><span style=\"background-color:#324745;\">was less o</span>wledg<span style=\"background-color:#3d3b30;\">e who had<br></span>an good-sc<span style=\"background-color:#324745;\">observed to the </span>stall, it<br><span style=\"background-color:#3b4e20;\">change as </span>a<span style=\"background-color:#3b4e20;\"> moments a</span><span style=\"background-color:#3b4e20;\">nd the house</span>d, "
            ]
          },
          "metadata": {}
        },
        {
          "output_type": "display_data",
          "data": {
            "text/plain": [
              "<IPython.core.display.HTML object>"
            ],
            "text/html": [
              "<small><p style=\"text-align:right;\">Sources: <span style=\"background-color:#3d3b30;\">Jane Austen: Emma</span>, <span style=\"background-color:#3b4e20;\">Jane Austen: Pride and Prejudice</span>, <span style=\"background-color:#3c235f;\">Virginia Woolf: The Voyage Out</span>, <span style=\"background-color:#324745;\">Emily Brontë: Wuthering Heights</span>, <span style=\"background-color:#2a3b48;\">Jane Austen: Lady Susan</span>, <span style=\"background-color:#483a2f;\">Virginia Woolf: Mr. Bennett and Mrs. Brown</span></p></small>"
            ]
          },
          "metadata": {}
        },
        {
          "output_type": "stream",
          "name": "stdout",
          "text": [
            "--------------------------------------\n",
            "\b\b\b\b\b\b\b\b\b\b\b\b\b\b\b\b\b\b\b\b\b\b\b\b\b\b\b\b\b\b\b\b\b\b\b\b\b\b\b\b\b\b\b\b\b\b\b\b\b\b\b\b\b\b\b\b\b\b\b\b\b\b\b\b\b\b\b\b\b\b\b\b\b\b\b\b\b\b\b\b\b\b\b\b\r895/895 [==============================] - 1696s 2s/step - loss: 0.2389 - accuracy: 0.9471 - val_loss: 0.2525 - val_accuracy: 0.9446\n",
            "Epoch 33/50000\n",
            "895/895 [==============================] - ETA: 0s - loss: 0.2373 - accuracy: 0.9475\n",
            "prompt: rom Maple Grove. Jane will be only four miles from Maple Grove.”\n",
            "\n",
            "“Mrs. Elton, I suppose, has been the person to whom Miss Fairfax owes—”\n",
            "\n",
            "“Yes, our good Mrs. Elton. The most indefatigable, true friend. She\n",
            "would not take a denial. She would not let Jane say, ‘No\n",
            "---------------- T=0.6 ---------------\n"
          ]
        },
        {
          "output_type": "display_data",
          "data": {
            "text/plain": [
              "<IPython.core.display.HTML object>"
            ],
            "text/html": [
              "<span style=\"background-color:#324745;\">—it will be </span>strong<br>day—“<span style=\"background-color:#2a3b48;\">Lady Susan was </span><span style=\"background-color:#3b4e20;\">very little o</span>r Ridley<br>dear Mularly at<span style=\"background-color:#483a2f;\">e and that</span> these<span style=\"background-color:#3d3b30;\"> life with </span><span style=\"background-color:#3d3b30;\">much that </span>is agoor<span style=\"background-color:#3c235f;\">k, you know</span><span style=\"background-color:#3c235f;\">ing myself. </span><span style=\"background-color:#483a2f;\">There was </span>f<span style=\"background-color:#2a3b48;\">actually g</span>ettinguilmost<br>terci<span style=\"background-color:#3c235f;\">ps with a </span>complips, mo<span style=\"background-color:#3c235f;\">re frightened </span><span style=\"background-color:#3d3b30;\">to her ass</span>ure meetero<span style=\"background-color:#3c235f;\">sity of vision</span>. In days great baroubl<span style=\"background-color:#3b4e20;\">understanding the </span>devent-crary, E<span style=\"background-color:#3c235f;\">achment in</span><span style=\"background-color:#3b4e20;\"> which her d</span>eciph<span style=\"background-color:#3d3b30;\"> propositi</span>cious desolialit<span style=\"background-color:#3b4e20;\">erable spir</span>roadially;<span style=\"background-color:#3b4e20;\"> a very good </span>deadaught<span style=\"background-color:#3d3b30;\">er very pr</span>eferior. W<span style=\"background-color:#2a3b48;\">as the same w</span>as more cheme on<br>true. He faintim<span style=\"background-color:#3b4e20;\">agreeable, </span>procenc<span style=\"background-color:#324745;\">e<br>expectation</span><span style=\"background-color:#324745;\">s of your c</span>u<span style=\"background-color:#324745;\">red more than</span>k<span style=\"background-color:#3b4e20;\"> to my dear</span>. A doublege<span style=\"background-color:#3b4e20;\">ments after</span><br>b<span style=\"background-color:#3d3b30;\">y Isabella</span>y own oboddareven"
            ]
          },
          "metadata": {}
        },
        {
          "output_type": "display_data",
          "data": {
            "text/plain": [
              "<IPython.core.display.HTML object>"
            ],
            "text/html": [
              "<small><p style=\"text-align:right;\">Sources: <span style=\"background-color:#324745;\">Emily Brontë: Wuthering Heights</span>, <span style=\"background-color:#2a3b48;\">Jane Austen: Lady Susan</span>, <span style=\"background-color:#3b4e20;\">Jane Austen: Pride and Prejudice</span>, <span style=\"background-color:#483a2f;\">Virginia Woolf: Mr. Bennett and Mrs. Brown</span>, <span style=\"background-color:#3d3b30;\">Jane Austen: Emma</span>, <span style=\"background-color:#3c235f;\">Virginia Woolf: The Voyage Out</span></p></small>"
            ]
          },
          "metadata": {}
        },
        {
          "output_type": "stream",
          "name": "stdout",
          "text": [
            "---------------- T=0.7 ---------------\n"
          ]
        },
        {
          "output_type": "display_data",
          "data": {
            "text/plain": [
              "<IPython.core.display.HTML object>"
            ],
            "text/html": [
              "<span style=\"background-color:#3d3b30;\">.”<br><br>“Well, well, </span>dear sixio<span style=\"background-color:#324745;\">n considerabl</span>ing<br>the bo—RE. ROh!”<br><br>“Hars t<span style=\"background-color:#3b4e20;\">here, Mr. </span>Pepperples sang.—<span style=\"background-color:#3b4e20;\">all the pa</span>d!”<br><br>“He stowing use<span style=\"background-color:#3d3b30;\">s just return</span>ing to’veacat<span style=\"background-color:#3d3b30;\">es—what sh</span>e was _that?<span style=\"background-color:#2a3b48;\"> I<br>believe</span><span style=\"background-color:#3c235f;\">d me about h</span>e wanted<span style=\"background-color:#2a3b48;\"> good to a</span>nother,<br>“Wregardial<span style=\"background-color:#324745;\">!”<br><br>“It is </span>sigy.<span style=\"background-color:#3b4e20;\">” continued</span>, pur<span style=\"background-color:#3c235f;\">pose you m</span><span style=\"background-color:#324745;\">eaning on </span><span style=\"background-color:#3b4e20;\">yourself un</span>cludic<span style=\"background-color:#3b4e20;\">ions about </span>a very<br>kil<span style=\"background-color:#324745;\">lers were </span>worklet Dixton to Eage. . . . . .<span style=\"background-color:#3c235f;\"> which any e</span>izie, to<br>smoved, Marticious life to spong<span style=\"background-color:#3b4e20;\"> struck her </span>arm!—Ear<br>yea<span style=\"background-color:#2a3b48;\">r comes to </span>encoyear—one eyes sitalf a<br>digence<span style=\"background-color:#3d3b30;\">—Mrs. Elton</span>’s st<span style=\"background-color:#3d3b30;\">en, she<br>th</span>en threeing hourt?—His to Bra"
            ]
          },
          "metadata": {}
        },
        {
          "output_type": "display_data",
          "data": {
            "text/plain": [
              "<IPython.core.display.HTML object>"
            ],
            "text/html": [
              "<small><p style=\"text-align:right;\">Sources: <span style=\"background-color:#3d3b30;\">Jane Austen: Emma</span>, <span style=\"background-color:#324745;\">Emily Brontë: Wuthering Heights</span>, <span style=\"background-color:#3b4e20;\">Jane Austen: Pride and Prejudice</span>, <span style=\"background-color:#2a3b48;\">Jane Austen: Lady Susan</span>, <span style=\"background-color:#3c235f;\">Virginia Woolf: The Voyage Out</span></p></small>"
            ]
          },
          "metadata": {}
        },
        {
          "output_type": "stream",
          "name": "stdout",
          "text": [
            "---------------- T=0.8 ---------------\n"
          ]
        },
        {
          "output_type": "display_data",
          "data": {
            "text/plain": [
              "<IPython.core.display.HTML object>"
            ],
            "text/html": [
              "<span style=\"background-color:#324745;\">.”<br><br>“You think </span>women ye—“<span style=\"background-color:#3b4e20;\">who had le</span><br><span style=\"background-color:#3b4e20;\">nothing ne</span>x<span style=\"background-color:#324745;\">es with Mr.</span> Pepper? He<span style=\"background-color:#3c235f;\"> sat perfect</span><span style=\"background-color:#3b4e20;\">ion between him</span>. Londonygues<span style=\"background-color:#324745;\">s to get s</span>aid its, and<br>fall-<span style=\"background-color:#3c235f;\">replied. A</span>nd his <span style=\"background-color:#3c235f;\">neering, in</span>ste<span style=\"background-color:#324745;\">pted Catherine</span>, sfaulit<span style=\"background-color:#3c235f;\">y.<br><br>“Your </span>wased kerie. Som<span style=\"background-color:#3d3b30;\">e coming in </span><span style=\"background-color:#2a3b48;\">her<br>natura</span><span style=\"background-color:#324745;\">nce with her f</span><span style=\"background-color:#3d3b30;\">ather’s<br>comfort</span>unkdr<span style=\"background-color:#3b4e20;\">ad she seen </span>and towed to.”<br><br>Hirst, deficietsquion twent coppro<span style=\"background-color:#2a3b48;\">achment with the</span>m, an half-stroptimal ne<span style=\"background-color:#3c235f;\">families, and</span><br>i<span style=\"background-color:#3d3b30;\">t moment in </span>at once;<span style=\"background-color:#3d3b30;\"> her own g</span>rewing<span style=\"background-color:#3d3b30;\"><br>nature of </span>gligin<br>els and chak<span style=\"background-color:#3b4e20;\">en first w</span><span style=\"background-color:#3b4e20;\">as now bro</span>ther’s-bonnevaried, all grow—noveark<span style=\"background-color:#3c235f;\">’s like co</span>ncers avoltain<br>wandid,<span style=\"background-color:#3b4e20;\"> a gentlem</span>en of intoleres<span style=\"background-color:#3d3b30;\">h<br>other, a</span>re you him"
            ]
          },
          "metadata": {}
        },
        {
          "output_type": "display_data",
          "data": {
            "text/plain": [
              "<IPython.core.display.HTML object>"
            ],
            "text/html": [
              "<small><p style=\"text-align:right;\">Sources: <span style=\"background-color:#324745;\">Emily Brontë: Wuthering Heights</span>, <span style=\"background-color:#3b4e20;\">Jane Austen: Pride and Prejudice</span>, <span style=\"background-color:#3c235f;\">Virginia Woolf: The Voyage Out</span>, <span style=\"background-color:#3d3b30;\">Jane Austen: Emma</span>, <span style=\"background-color:#2a3b48;\">Jane Austen: Lady Susan</span></p></small>"
            ]
          },
          "metadata": {}
        },
        {
          "output_type": "stream",
          "name": "stdout",
          "text": [
            "--------------------------------------\n",
            "\b\b\b\b\b\b\b\b\b\b\b\b\b\b\b\b\b\b\b\b\b\b\b\b\b\b\b\b\b\b\b\b\b\b\b\b\b\b\b\b\b\b\b\b\b\b\b\b\b\b\b\b\b\b\b\b\b\b\b\b\b\b\b\b\b\b\b\b\b\b\b\b\b\b\b\b\b\b\b\b\b\b\b\b\r895/895 [==============================] - 1697s 2s/step - loss: 0.2373 - accuracy: 0.9475 - val_loss: 0.2527 - val_accuracy: 0.9445\n",
            "Epoch 34/50000\n",
            "895/895 [==============================] - ETA: 0s - loss: 0.2360 - accuracy: 0.9477\n",
            "prompt:  feelings besides those of the heart to be detailed; and he was\n",
            "      not more eloquent on the subject of tenderness than of pride. His\n",
            "      sense of her inferiority—of its being a degradation—of the family\n",
            "      obstacles which had always opposed to inclination, were dwelt on\n",
            "      with a warmth which seemed d\n",
            "---------------- T=0.6 ---------------\n"
          ]
        },
        {
          "output_type": "display_data",
          "data": {
            "text/plain": [
              "<IPython.core.display.HTML object>"
            ],
            "text/html": [
              "ular to elessur<span style=\"background-color:#3c235f;\">ing much b</span><span style=\"background-color:#3b4e20;\">e.<br><br>      Elizabeth</span><span style=\"background-color:#3b4e20;\">’s persever</span><span style=\"background-color:#3b4e20;\"><br>      nothing b</span><span style=\"background-color:#3c235f;\">efore. As upon </span><span style=\"background-color:#3b4e20;\">her<br>      Mr. </span><span style=\"background-color:#3b4e20;\">Darcy was not </span>so hav<span style=\"background-color:#3d3b30;\">ers; and the</span> fors<span style=\"background-color:#3b4e20;\">e be<br>      </span>complret<span style=\"background-color:#3b4e20;\">cheering, </span><span style=\"background-color:#3c235f;\">having to g</span><span style=\"background-color:#3c235f;\">ive them, and </span>because Chap<span style=\"background-color:#3b4e20;\">s your mother</span><span style=\"background-color:#3b4e20;\"><br>      persuasion</span><span style=\"background-color:#2a3b48;\">, but whose </span><span style=\"background-color:#324745;\">really must</span><span style=\"background-color:#3b4e20;\"><br>      many things.</span> Fordinner caproce<span style=\"background-color:#3d3b30;\">ful; but s</span>h<span style=\"background-color:#3b4e20;\">e were<br>      s</span><span style=\"background-color:#3b4e20;\">aid her father </span><span style=\"background-color:#3b4e20;\">pleased with </span><span style=\"background-color:#2a3b48;\">fortunately, </span>“Ordumility, myself<span style=\"background-color:#3b4e20;\">—and certainly </span>be leep<span style=\"background-color:#3b4e20;\">ham<br>      s</span>ta<span style=\"background-color:#3b4e20;\">y!”<br><br>      </span>H<span style=\"background-color:#483a2f;\">is something </span><span style=\"background-color:#3d3b30;\">was the letter</span><span style=\"background-color:#483a2f;\">, but the<br></span><span style=\"background-color:#3b4e20;\">      perfecti</span><span style=\"background-color:#3b4e20;\">ved in a m</span>is<span style=\"background-color:#3b4e20;\">ts to his </span>comp<span style=\"background-color:#3b4e20;\">an<br>      s</span><span style=\"background-color:#3b4e20;\">ettled in </span>succently; “garde<span style=\"background-color:#3b4e20;\">r them of </span>got <span style=\"background-color:#3d3b30;\">to my wish</span><br>      D<span style=\"background-color:#3c235f;\">o as she s</span><span style=\"background-color:#324745;\">hould never lo</span>oked _ marr<span style=\"background-color:#3b4e20;\">ial<br>      a</span>ston? Per! sorry<span style=\"background-color:#3c235f;\"> me what he </span>year<span style=\"background-color:#3b4e20;\">n your sister</span><span style=\"background-color:#3b4e20;\"><br>      advis</span>itting if<span style=\"background-color:#324745;\"> sorry for it, </span>and theng"
            ]
          },
          "metadata": {}
        },
        {
          "output_type": "display_data",
          "data": {
            "text/plain": [
              "<IPython.core.display.HTML object>"
            ],
            "text/html": [
              "<small><p style=\"text-align:right;\">Sources: <span style=\"background-color:#3c235f;\">Virginia Woolf: The Voyage Out</span>, <span style=\"background-color:#3b4e20;\">Jane Austen: Pride and Prejudice</span>, <span style=\"background-color:#3d3b30;\">Jane Austen: Emma</span>, <span style=\"background-color:#2a3b48;\">Jane Austen: Lady Susan</span>, <span style=\"background-color:#324745;\">Emily Brontë: Wuthering Heights</span>, <span style=\"background-color:#483a2f;\">Virginia Woolf: Mr. Bennett and Mrs. Brown</span></p></small>"
            ]
          },
          "metadata": {}
        },
        {
          "output_type": "stream",
          "name": "stdout",
          "text": [
            "---------------- T=0.7 ---------------\n"
          ]
        },
        {
          "output_type": "display_data",
          "data": {
            "text/plain": [
              "<IPython.core.display.HTML object>"
            ],
            "text/html": [
              "ues<span style=\"background-color:#3b4e20;\">s his sister</span><span style=\"background-color:#3b4e20;\"> and the<br>      re</span>gar<span style=\"background-color:#3b4e20;\"> been but </span><span style=\"background-color:#3b4e20;\">Elizabeth’s p</span>rese<span style=\"background-color:#3b4e20;\">nce her<br>      </span><span style=\"background-color:#3b4e20;\">her nature </span><span style=\"background-color:#3b4e20;\">in the kin</span>d<span style=\"background-color:#483a2f;\"> of life, </span><span style=\"background-color:#3b4e20;\">he<br>      he</span><span style=\"background-color:#3b4e20;\">r, and see</span>c<span style=\"background-color:#3b4e20;\">e she is a</span>ng-port<span style=\"background-color:#3b4e20;\">, when<br>      </span>fell pro<span style=\"background-color:#3b4e20;\">ceive such a l</span><span style=\"background-color:#3d3b30;\">ittle carr</span>ying in<span style=\"background-color:#3b4e20;\"> Lydia sho</span>ok him, cietmoney Choodly or ci<span style=\"background-color:#3d3b30;\">vision, and </span><span style=\"background-color:#3d3b30;\">every thing<br></span><span style=\"background-color:#3b4e20;\">      too much </span>to<span style=\"background-color:#2a3b48;\"> being with m</span>any workfull<span style=\"background-color:#3b4e20;\">y disposit</span><span style=\"background-color:#3b4e20;\">e<br>      son</span><span style=\"background-color:#3b4e20;\">, she had s</span>oul, the wo rooms n<span style=\"background-color:#3b4e20;\">oon<br>      </span>full<span style=\"background-color:#324745;\">vering, and </span>whis<span style=\"background-color:#3b4e20;\">idently<br>      </span>w<span style=\"background-color:#3b4e20;\">ere had be</span>two, itcinatured no fire, it<span style=\"background-color:#3b4e20;\">ished to c</span><span style=\"background-color:#3b4e20;\">ompliment of the </span>d<span style=\"background-color:#3b4e20;\">oor<br>      </span><span style=\"background-color:#3b4e20;\">intimate a</span>si<span style=\"background-color:#3c235f;\">ly seeing </span>any by inmis<span style=\"background-color:#3b4e20;\">giving her </span><span style=\"background-color:#3b4e20;\">should come to </span>be put as a<span style=\"background-color:#3b4e20;\"> books in </span><span style=\"background-color:#3b4e20;\">him; but he </span>fo<span style=\"background-color:#3b4e20;\">re, theref</span><span style=\"background-color:#3b4e20;\">erence and </span>very un<span style=\"background-color:#3d3b30;\">ning that s</span>’<span style=\"background-color:#483a2f;\">go back and </span><span style=\"background-color:#3c235f;\">women, who had</span> some precarf one soer<br>shor<span style=\"background-color:#3b4e20;\">t when her </span>shab<span style=\"background-color:#2a3b48;\">surprised i</span>t from t"
            ]
          },
          "metadata": {}
        },
        {
          "output_type": "display_data",
          "data": {
            "text/plain": [
              "<IPython.core.display.HTML object>"
            ],
            "text/html": [
              "<small><p style=\"text-align:right;\">Sources: <span style=\"background-color:#3b4e20;\">Jane Austen: Pride and Prejudice</span>, <span style=\"background-color:#483a2f;\">Virginia Woolf: Mr. Bennett and Mrs. Brown</span>, <span style=\"background-color:#3d3b30;\">Jane Austen: Emma</span>, <span style=\"background-color:#2a3b48;\">Jane Austen: Lady Susan</span>, <span style=\"background-color:#324745;\">Emily Brontë: Wuthering Heights</span>, <span style=\"background-color:#3c235f;\">Virginia Woolf: The Voyage Out</span></p></small>"
            ]
          },
          "metadata": {}
        },
        {
          "output_type": "stream",
          "name": "stdout",
          "text": [
            "---------------- T=0.8 ---------------\n"
          ]
        },
        {
          "output_type": "display_data",
          "data": {
            "text/plain": [
              "<IPython.core.display.HTML object>"
            ],
            "text/html": [
              "<span style=\"background-color:#3c235f;\">ult of the s</span>mil<span style=\"background-color:#483a2f;\">ing anything</span>, the dece<span style=\"background-color:#2a3b48;\">s of conse</span>nsel<span style=\"background-color:#3b4e20;\"> of particular </span><span style=\"background-color:#3b4e20;\">pleasure. </span>books of gr<span style=\"background-color:#3c235f;\">owers in the</span> face id vicandless at elve of blan, whode abieanity<span style=\"background-color:#3d3b30;\"><br>and quite i</span>n<span style=\"background-color:#3b4e20;\"> his character</span>; but below, <br>“<span style=\"background-color:#324745;\">that will m</span>ore afish<span style=\"background-color:#3b4e20;\">ed, very much </span>hand, by are n<span style=\"background-color:#3d3b30;\">o<br>have been </span>els<span style=\"background-color:#3d3b30;\">. I am very much </span><span style=\"background-color:#3b4e20;\">better mot</span>her. The<br>chosen. My perush and so amonths. I,<span style=\"background-color:#3b4e20;\"> love her </span>nay time,’I<span style=\"background-color:#3b4e20;\"> dress, and </span>thdered Was he viviceased, wha<span style=\"background-color:#3b4e20;\">t been man</span>n<span style=\"background-color:#2a3b48;\">er to make s</span>o ir<br>graduton putiv<span style=\"background-color:#3b4e20;\">es in her </span>a mind and<span style=\"background-color:#483a2f;\"><br>intend to dis</span><span style=\"background-color:#2a3b48;\">my particul</span>ing-me? Aw_ me_ does of Le<span style=\"background-color:#3b4e20;\">t morning to</span><br>hard<span style=\"background-color:#3b4e20;\"> find that </span>Mrs. Paly chilixcease_V<span style=\"background-color:#3d3b30;\">erry, that </span>the S. Oh Mr. Puntharcides civil<br>regirl, a"
            ]
          },
          "metadata": {}
        },
        {
          "output_type": "display_data",
          "data": {
            "text/plain": [
              "<IPython.core.display.HTML object>"
            ],
            "text/html": [
              "<small><p style=\"text-align:right;\">Sources: <span style=\"background-color:#3c235f;\">Virginia Woolf: The Voyage Out</span>, <span style=\"background-color:#483a2f;\">Virginia Woolf: Mr. Bennett and Mrs. Brown</span>, <span style=\"background-color:#2a3b48;\">Jane Austen: Lady Susan</span>, <span style=\"background-color:#3b4e20;\">Jane Austen: Pride and Prejudice</span>, <span style=\"background-color:#3d3b30;\">Jane Austen: Emma</span>, <span style=\"background-color:#324745;\">Emily Brontë: Wuthering Heights</span></p></small>"
            ]
          },
          "metadata": {}
        },
        {
          "output_type": "stream",
          "name": "stdout",
          "text": [
            "--------------------------------------\n",
            "\b\b\b\b\b\b\b\b\b\b\b\b\b\b\b\b\b\b\b\b\b\b\b\b\b\b\b\b\b\b\b\b\b\b\b\b\b\b\b\b\b\b\b\b\b\b\b\b\b\b\b\b\b\b\b\b\b\b\b\b\b\b\b\b\b\b\b\b\b\b\b\b\b\b\b\b\b\b\b\b\b\b\b\b\r895/895 [==============================] - 1696s 2s/step - loss: 0.2360 - accuracy: 0.9477 - val_loss: 0.2500 - val_accuracy: 0.9449\n",
            "Epoch 35/50000\n",
            "713/895 [======================>.......] - ETA: 5:37 - loss: 0.2345 - accuracy: 0.9481"
          ]
        }
      ],
      "source": [
        "if ml_env.is_tpu is True:\n",
        "    steps_per_epoch=restricted_batches//params['batch_size']\n",
        "    if steps_per_epoch < 1:\n",
        "        steps_per_epoch = 1\n",
        "    history = model.fit(dataset, epochs=EPOCHS, initial_epoch=initial_epoch, steps_per_epoch=steps_per_epoch, callbacks=[service_callback]) # for TPU we need to role our own checkpointer since we need to transfer the weights\n",
        "else:\n",
        "    history = model.fit(dataset, validation_data=validation_dataset, epochs=EPOCHS, initial_epoch=initial_epoch, callbacks=[checkpoint_callback, tensorboard_callback, service_callback])"
      ]
    },
    {
      "cell_type": "markdown",
      "metadata": {
        "id": "WW6LPdlhQtgF"
      },
      "source": [
        "## A dialog with the trained model"
      ]
    },
    {
      "cell_type": "code",
      "execution_count": null,
      "metadata": {
        "id": "a81LdPyY2dyo"
      },
      "outputs": [],
      "source": [
        "model_cpu.set_weights(model.get_weights())"
      ]
    },
    {
      "cell_type": "code",
      "execution_count": null,
      "metadata": {
        "id": "uxDNYZiEQtgF"
      },
      "outputs": [],
      "source": [
        "# Do a dialog with the recursive neural net trained above:\n",
        "# def genDialogAnswer(prompt, g_state=None, endPrompt='.', maxEndPrompts=2,\n",
        "# maxAnswerSize=512, temperature=1.0):\n",
        "\n",
        "def doDialog(model):\n",
        "    temperature = 0.6\n",
        "    endPrompt = '.'  # the endPrompt character is the end-mark in answers.\n",
        "    # look for number of maxEndPrompts until answer is finished.\n",
        "    maxEndPrompts = 4\n",
        "    maxAnswerSize = 2048  # Maximum length of the answer\n",
        "    minAnswerSize = 64  # Minimum length of the answer\n",
        "    print(\"Please enter some dialog.\")\n",
        "    print(\"The net will answer according to your input.\")\n",
        "    print(\"'bye' for end,\")\n",
        "    print(\"'reset' to reset the conversation context,\")\n",
        "    print(\"'temperature=<float>' [0.1(frozen)-1.0(creative)]\")\n",
        "    print(\"    to change character of the dialog.\")\n",
        "    print(\"    Current temperature={}.\".format(temperature))\n",
        "    print()\n",
        "    xso = None\n",
        "    bye = False\n",
        "    doini = True\n",
        "    bye = False\n",
        "    while not bye:\n",
        "        print(\"> \", end=\"\")\n",
        "        prompt = input()\n",
        "        if prompt == 'bye':\n",
        "            bye = True\n",
        "            print(\"Good bye!\")\n",
        "            continue\n",
        "        if prompt[:len(\"temperature=\")] == \"temperature=\":\n",
        "            t = float(prompt[len(\"temperature=\"):])\n",
        "            if t > 0.05 and t < 1.4:\n",
        "                temperature = t\n",
        "                print(\"(generator temperature now {})\".format(t))\n",
        "                print()\n",
        "                continue\n",
        "            print(\"Invalid temperature-value ignored! [0.1-1.0]\")\n",
        "            continue\n",
        "        reply=mhsa_generate(model, prompt, gen_len=256, temperature=temperature, verbose=True)\n",
        "        td.source_highlight(reply, min_quote_size=13, dark_mode=use_dark_mode)"
      ]
    },
    {
      "cell_type": "code",
      "execution_count": null,
      "metadata": {
        "id": "0JEPK2WIQtgI"
      },
      "outputs": [],
      "source": [
        "# Talk to the net!\n",
        "doDialog(model_cpu)"
      ]
    },
    {
      "cell_type": "code",
      "execution_count": null,
      "metadata": {
        "id": "QnMCWf5AZn1-"
      },
      "outputs": [],
      "source": []
    }
  ],
  "metadata": {
    "@webio": {
      "lastCommId": "ec3a4d2d-8063-4bfd-a4a2-ee070d3272f7",
      "lastKernelId": "1acc2b74-f51e-477b-910a-a5519dad53b9"
    },
    "accelerator": "GPU",
    "colab": {
      "collapsed_sections": [
        "VmWbteSFQtfq",
        "yWE_ZZMKEARV"
      ],
      "machine_shape": "hm",
      "name": "transformer_poet.ipynb",
      "provenance": [],
      "include_colab_link": true
    },
    "gpuClass": "standard",
    "kernelspec": {
      "display_name": "Python 3 (ipykernel)",
      "language": "python",
      "name": "python3"
    },
    "language_info": {
      "codemirror_mode": {
        "name": "ipython",
        "version": 3
      },
      "file_extension": ".py",
      "mimetype": "text/x-python",
      "name": "python",
      "nbconvert_exporter": "python",
      "pygments_lexer": "ipython3",
      "version": "3.10.6"
    }
  },
  "nbformat": 4,
  "nbformat_minor": 0
}